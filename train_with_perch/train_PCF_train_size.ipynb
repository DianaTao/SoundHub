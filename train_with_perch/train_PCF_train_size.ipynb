{
 "cells": [
  {
   "cell_type": "code",
   "execution_count": 1,
   "metadata": {},
   "outputs": [
    {
     "name": "stderr",
     "output_type": "stream",
     "text": [
      "/var/folders/v4/chwhws6x79ncg51bwr5778b00000gn/T/ipykernel_4790/3533495058.py:10: TqdmExperimentalWarning: Using `tqdm.autonotebook.tqdm` in notebook mode. Use `tqdm.tqdm` instead to force console mode (e.g. in jupyter console)\n",
      "  from tqdm.autonotebook import tqdm\n"
     ]
    }
   ],
   "source": [
    "import torch\n",
    "import pandas as pd\n",
    "from pathlib import Path\n",
    "import numpy as np\n",
    "import pandas as pd\n",
    "import random \n",
    "from glob import glob\n",
    "import sklearn\n",
    "\n",
    "from tqdm.autonotebook import tqdm\n",
    "from sklearn.metrics import average_precision_score, roc_auc_score\n",
    "from pathlib import Path\n",
    "\n",
    "#set up plotting\n",
    "from matplotlib import pyplot as plt\n",
    "plt.rcParams['figure.figsize']=[15,5] #for large visuals\n",
    "%config InlineBackend.figure_format = 'retina'\n",
    "\n",
    "# opensoundscape transfer learning tools\n",
    "from opensoundscape.ml.shallow_classifier import MLPClassifier, quick_fit, fit_classifier_on_embeddings\n",
    "import os\n",
    "from pathlib import Path\n",
    "from pydub import AudioSegment"
   ]
  },
  {
   "cell_type": "code",
   "execution_count": 2,
   "metadata": {},
   "outputs": [],
   "source": [
    "torch.manual_seed(0)\n",
    "random.seed(0)\n",
    "np.random.seed(0)"
   ]
  },
  {
   "cell_type": "code",
   "execution_count": 3,
   "metadata": {},
   "outputs": [
    {
     "name": "stdout",
     "output_type": "stream",
     "text": [
      "DataFrame saved for training size train_size_150: /Users/yifeitao/Desktop/SoundHub/SoundHub/train_with_perch/pacific_chorus_frog_5sec/labels_trains_train_size_150.csv\n",
      "DataFrame saved for training size train_size_25: /Users/yifeitao/Desktop/SoundHub/SoundHub/train_with_perch/pacific_chorus_frog_5sec/labels_trains_train_size_25.csv\n",
      "DataFrame saved for training size train_size_300: /Users/yifeitao/Desktop/SoundHub/SoundHub/train_with_perch/pacific_chorus_frog_5sec/labels_trains_train_size_300.csv\n",
      "DataFrame saved for training size train_size_275: /Users/yifeitao/Desktop/SoundHub/SoundHub/train_with_perch/pacific_chorus_frog_5sec/labels_trains_train_size_275.csv\n",
      "DataFrame saved for training size train_size_250: /Users/yifeitao/Desktop/SoundHub/SoundHub/train_with_perch/pacific_chorus_frog_5sec/labels_trains_train_size_250.csv\n",
      "DataFrame saved for training size train_size_175: /Users/yifeitao/Desktop/SoundHub/SoundHub/train_with_perch/pacific_chorus_frog_5sec/labels_trains_train_size_175.csv\n",
      "DataFrame saved for training size train_size_75: /Users/yifeitao/Desktop/SoundHub/SoundHub/train_with_perch/pacific_chorus_frog_5sec/labels_trains_train_size_75.csv\n",
      "DataFrame saved for training size train_size_100: /Users/yifeitao/Desktop/SoundHub/SoundHub/train_with_perch/pacific_chorus_frog_5sec/labels_trains_train_size_100.csv\n",
      "DataFrame saved for training size train_size_225: /Users/yifeitao/Desktop/SoundHub/SoundHub/train_with_perch/pacific_chorus_frog_5sec/labels_trains_train_size_225.csv\n",
      "DataFrame saved for training size train_size_200: /Users/yifeitao/Desktop/SoundHub/SoundHub/train_with_perch/pacific_chorus_frog_5sec/labels_trains_train_size_200.csv\n",
      "DataFrame saved for training size train_size_50: /Users/yifeitao/Desktop/SoundHub/SoundHub/train_with_perch/pacific_chorus_frog_5sec/labels_trains_train_size_50.csv\n",
      "DataFrame saved for training size train_size_125: /Users/yifeitao/Desktop/SoundHub/SoundHub/train_with_perch/pacific_chorus_frog_5sec/labels_trains_train_size_125.csv\n",
      "\n",
      "DataFrame for training size train_size_150:\n",
      "                                                                        A\n",
      "file                                               start_time end_time   \n",
      "/Users/yifeitao/Desktop/SoundHub/SoundHub/train... 0.0        5.0       1\n",
      "/Users/yifeitao/Desktop/SoundHub/SoundHub/train... 0.0        5.0       1\n",
      "/Users/yifeitao/Desktop/SoundHub/SoundHub/train... 0.0        5.0       1\n",
      "/Users/yifeitao/Desktop/SoundHub/SoundHub/train... 0.0        5.0       1\n",
      "/Users/yifeitao/Desktop/SoundHub/SoundHub/train... 0.0        5.0       1\n",
      "\n",
      "DataFrame for training size train_size_25:\n",
      "                                                                        A\n",
      "file                                               start_time end_time   \n",
      "/Users/yifeitao/Desktop/SoundHub/SoundHub/train... 0.0        5.0       1\n",
      "/Users/yifeitao/Desktop/SoundHub/SoundHub/train... 0.0        5.0       1\n",
      "/Users/yifeitao/Desktop/SoundHub/SoundHub/train... 0.0        5.0       1\n",
      "/Users/yifeitao/Desktop/SoundHub/SoundHub/train... 0.0        5.0       1\n",
      "/Users/yifeitao/Desktop/SoundHub/SoundHub/train... 0.0        5.0       1\n",
      "\n",
      "DataFrame for training size train_size_300:\n",
      "                                                                        A\n",
      "file                                               start_time end_time   \n",
      "/Users/yifeitao/Desktop/SoundHub/SoundHub/train... 0.0        5.0       1\n",
      "/Users/yifeitao/Desktop/SoundHub/SoundHub/train... 0.0        5.0       1\n",
      "/Users/yifeitao/Desktop/SoundHub/SoundHub/train... 0.0        5.0       1\n",
      "/Users/yifeitao/Desktop/SoundHub/SoundHub/train... 0.0        5.0       1\n",
      "/Users/yifeitao/Desktop/SoundHub/SoundHub/train... 0.0        5.0       1\n",
      "\n",
      "DataFrame for training size train_size_275:\n",
      "                                                                        A\n",
      "file                                               start_time end_time   \n",
      "/Users/yifeitao/Desktop/SoundHub/SoundHub/train... 0.0        5.0       1\n",
      "/Users/yifeitao/Desktop/SoundHub/SoundHub/train... 0.0        5.0       1\n",
      "/Users/yifeitao/Desktop/SoundHub/SoundHub/train... 0.0        5.0       1\n",
      "/Users/yifeitao/Desktop/SoundHub/SoundHub/train... 0.0        5.0       1\n",
      "/Users/yifeitao/Desktop/SoundHub/SoundHub/train... 0.0        5.0       1\n",
      "\n",
      "DataFrame for training size train_size_250:\n",
      "                                                                        A\n",
      "file                                               start_time end_time   \n",
      "/Users/yifeitao/Desktop/SoundHub/SoundHub/train... 0.0        5.0       1\n",
      "/Users/yifeitao/Desktop/SoundHub/SoundHub/train... 0.0        5.0       1\n",
      "/Users/yifeitao/Desktop/SoundHub/SoundHub/train... 0.0        5.0       1\n",
      "/Users/yifeitao/Desktop/SoundHub/SoundHub/train... 0.0        5.0       1\n",
      "/Users/yifeitao/Desktop/SoundHub/SoundHub/train... 0.0        5.0       1\n",
      "\n",
      "DataFrame for training size train_size_175:\n",
      "                                                                        A\n",
      "file                                               start_time end_time   \n",
      "/Users/yifeitao/Desktop/SoundHub/SoundHub/train... 0.0        5.0       1\n",
      "/Users/yifeitao/Desktop/SoundHub/SoundHub/train... 0.0        5.0       1\n",
      "/Users/yifeitao/Desktop/SoundHub/SoundHub/train... 0.0        5.0       1\n",
      "/Users/yifeitao/Desktop/SoundHub/SoundHub/train... 0.0        5.0       1\n",
      "/Users/yifeitao/Desktop/SoundHub/SoundHub/train... 0.0        5.0       1\n",
      "\n",
      "DataFrame for training size train_size_75:\n",
      "                                                                        A\n",
      "file                                               start_time end_time   \n",
      "/Users/yifeitao/Desktop/SoundHub/SoundHub/train... 0.0        5.0       1\n",
      "/Users/yifeitao/Desktop/SoundHub/SoundHub/train... 0.0        5.0       1\n",
      "/Users/yifeitao/Desktop/SoundHub/SoundHub/train... 0.0        5.0       1\n",
      "/Users/yifeitao/Desktop/SoundHub/SoundHub/train... 0.0        5.0       1\n",
      "/Users/yifeitao/Desktop/SoundHub/SoundHub/train... 0.0        5.0       1\n",
      "\n",
      "DataFrame for training size train_size_100:\n",
      "                                                                        A\n",
      "file                                               start_time end_time   \n",
      "/Users/yifeitao/Desktop/SoundHub/SoundHub/train... 0.0        5.0       1\n",
      "/Users/yifeitao/Desktop/SoundHub/SoundHub/train... 0.0        5.0       1\n",
      "/Users/yifeitao/Desktop/SoundHub/SoundHub/train... 0.0        5.0       1\n",
      "/Users/yifeitao/Desktop/SoundHub/SoundHub/train... 0.0        5.0       1\n",
      "/Users/yifeitao/Desktop/SoundHub/SoundHub/train... 0.0        5.0       1\n",
      "\n",
      "DataFrame for training size train_size_225:\n",
      "                                                                        A\n",
      "file                                               start_time end_time   \n",
      "/Users/yifeitao/Desktop/SoundHub/SoundHub/train... 0.0        5.0       1\n",
      "/Users/yifeitao/Desktop/SoundHub/SoundHub/train... 0.0        5.0       1\n",
      "/Users/yifeitao/Desktop/SoundHub/SoundHub/train... 0.0        5.0       1\n",
      "/Users/yifeitao/Desktop/SoundHub/SoundHub/train... 0.0        5.0       1\n",
      "/Users/yifeitao/Desktop/SoundHub/SoundHub/train... 0.0        5.0       1\n",
      "\n",
      "DataFrame for training size train_size_200:\n",
      "                                                                        A\n",
      "file                                               start_time end_time   \n",
      "/Users/yifeitao/Desktop/SoundHub/SoundHub/train... 0.0        5.0       1\n",
      "/Users/yifeitao/Desktop/SoundHub/SoundHub/train... 0.0        5.0       1\n",
      "/Users/yifeitao/Desktop/SoundHub/SoundHub/train... 0.0        5.0       1\n",
      "/Users/yifeitao/Desktop/SoundHub/SoundHub/train... 0.0        5.0       1\n",
      "/Users/yifeitao/Desktop/SoundHub/SoundHub/train... 0.0        5.0       1\n",
      "\n",
      "DataFrame for training size train_size_50:\n",
      "                                                                        A\n",
      "file                                               start_time end_time   \n",
      "/Users/yifeitao/Desktop/SoundHub/SoundHub/train... 0.0        5.0       1\n",
      "/Users/yifeitao/Desktop/SoundHub/SoundHub/train... 0.0        5.0       1\n",
      "/Users/yifeitao/Desktop/SoundHub/SoundHub/train... 0.0        5.0       1\n",
      "/Users/yifeitao/Desktop/SoundHub/SoundHub/train... 0.0        5.0       1\n",
      "/Users/yifeitao/Desktop/SoundHub/SoundHub/train... 0.0        5.0       1\n",
      "\n",
      "DataFrame for training size train_size_125:\n",
      "                                                                        A\n",
      "file                                               start_time end_time   \n",
      "/Users/yifeitao/Desktop/SoundHub/SoundHub/train... 0.0        5.0       1\n",
      "/Users/yifeitao/Desktop/SoundHub/SoundHub/train... 0.0        5.0       1\n",
      "/Users/yifeitao/Desktop/SoundHub/SoundHub/train... 0.0        5.0       1\n",
      "/Users/yifeitao/Desktop/SoundHub/SoundHub/train... 0.0        5.0       1\n",
      "/Users/yifeitao/Desktop/SoundHub/SoundHub/train... 0.0        5.0       1\n"
     ]
    }
   ],
   "source": [
    "import os\n",
    "from pathlib import Path\n",
    "import pandas as pd\n",
    "\n",
    "# Define dataset path\n",
    "dataset_path = Path(\"/Users/yifeitao/Desktop/SoundHub/SoundHub/train_with_perch/pacific_chorus_frog_5sec/\")\n",
    "train_path = dataset_path / \"train_5sec\"\n",
    "\n",
    "# Function to traverse directories and map file information to labels\n",
    "def traverse_and_map(directory, label):\n",
    "    audio_files = []\n",
    "    labels = []\n",
    "    start_times = []\n",
    "    end_times = []\n",
    "    \n",
    "    if not directory.exists():\n",
    "        print(f\"Directory does not exist: {directory}\")\n",
    "        return pd.DataFrame()  # Return empty DataFrame if directory doesn't exist\n",
    "    \n",
    "    for root, _, files in os.walk(directory):\n",
    "        for file in files:\n",
    "            if file.endswith(\".wav\"):\n",
    "                # Prepend full dataset path to the file path\n",
    "                audio_path = dataset_path / Path(root).relative_to(dataset_path) / file\n",
    "                audio_files.append(str(audio_path))\n",
    "                labels.append(label)\n",
    "                start_times.append(0.0)  # Fixed start time\n",
    "                end_times.append(5.0)   # Fixed end time\n",
    "\n",
    "    # Create DataFrame for the current directory\n",
    "    data = {\n",
    "        \"file\": audio_files,\n",
    "        \"start_time\": start_times,\n",
    "        \"end_time\": end_times,\n",
    "        \"A\": labels\n",
    "    }\n",
    "    return pd.DataFrame(data)\n",
    "\n",
    "# Initialize a dictionary to hold DataFrames for each training size\n",
    "labels_trains = {}\n",
    "\n",
    "# Iterate over each train size folder\n",
    "if train_path.exists():\n",
    "    for train_size_dir in train_path.iterdir():\n",
    "        if train_size_dir.is_dir():  # Ensure it's a directory\n",
    "            training_size = train_size_dir.name  # Get the name of the training size directory\n",
    "\n",
    "            # Process `pos` and `neg` subdirectories\n",
    "            pos_dir = train_size_dir / \"pos\"\n",
    "            neg_dir = train_size_dir / \"neg\"\n",
    "            df_pos = traverse_and_map(pos_dir, 1)  # 1 for \"pos\" files\n",
    "            df_neg = traverse_and_map(neg_dir, 0)  # 0 for \"negative\" files\n",
    "\n",
    "            # Combine the DataFrames for `pos` and `neg`\n",
    "            combined_df = pd.concat([df_pos, df_neg], ignore_index=True)\n",
    "\n",
    "            # Set MultiIndex with 'file', 'start_time', and 'end_time'\n",
    "            combined_df.set_index([\"file\", \"start_time\", \"end_time\"], inplace=True)\n",
    "\n",
    "            # Rename the only column to \"A\"\n",
    "            combined_df.columns = ['A']\n",
    "\n",
    "            # Store the DataFrame in the dictionary\n",
    "            labels_trains[training_size] = combined_df\n",
    "\n",
    "            # Optionally, save each DataFrame to a CSV file\n",
    "            output_path = dataset_path / f\"labels_trains_{training_size}.csv\"\n",
    "            combined_df.to_csv(output_path)\n",
    "            print(f\"DataFrame saved for training size {training_size}: {output_path}\")\n",
    "else:\n",
    "    print(f\"Train path does not exist: {train_path}\")\n",
    "\n",
    "# Display the DataFrames for verification\n",
    "for training_size, df in labels_trains.items():\n",
    "    print(f\"\\nDataFrame for training size {training_size}:\")\n",
    "    print(df.head())\n"
   ]
  },
  {
   "cell_type": "markdown",
   "metadata": {},
   "source": [
    "Processing data for training set"
   ]
  },
  {
   "cell_type": "code",
   "execution_count": 4,
   "metadata": {},
   "outputs": [
    {
     "data": {
      "text/html": [
       "<div>\n",
       "<style scoped>\n",
       "    .dataframe tbody tr th:only-of-type {\n",
       "        vertical-align: middle;\n",
       "    }\n",
       "\n",
       "    .dataframe tbody tr th {\n",
       "        vertical-align: top;\n",
       "    }\n",
       "\n",
       "    .dataframe thead th {\n",
       "        text-align: right;\n",
       "    }\n",
       "</style>\n",
       "<table border=\"1\" class=\"dataframe\">\n",
       "  <thead>\n",
       "    <tr style=\"text-align: right;\">\n",
       "      <th></th>\n",
       "      <th></th>\n",
       "      <th></th>\n",
       "      <th>A</th>\n",
       "    </tr>\n",
       "    <tr>\n",
       "      <th>file</th>\n",
       "      <th>start_time</th>\n",
       "      <th>end_time</th>\n",
       "      <th></th>\n",
       "    </tr>\n",
       "  </thead>\n",
       "  <tbody>\n",
       "    <tr>\n",
       "      <th>/Users/yifeitao/Desktop/SoundHub/SoundHub/train_with_perch/pacific_chorus_frog_5sec/train_5sec/train_size_150/pos/t-11127057_285.wav</th>\n",
       "      <th>0.0</th>\n",
       "      <th>5.0</th>\n",
       "      <td>1</td>\n",
       "    </tr>\n",
       "    <tr>\n",
       "      <th>/Users/yifeitao/Desktop/SoundHub/SoundHub/train_with_perch/pacific_chorus_frog_5sec/train_5sec/train_size_150/pos/t-11127057_520.wav</th>\n",
       "      <th>0.0</th>\n",
       "      <th>5.0</th>\n",
       "      <td>1</td>\n",
       "    </tr>\n",
       "    <tr>\n",
       "      <th>/Users/yifeitao/Desktop/SoundHub/SoundHub/train_with_perch/pacific_chorus_frog_5sec/train_5sec/train_size_150/pos/t-11127057_65.wav</th>\n",
       "      <th>0.0</th>\n",
       "      <th>5.0</th>\n",
       "      <td>1</td>\n",
       "    </tr>\n",
       "    <tr>\n",
       "      <th>/Users/yifeitao/Desktop/SoundHub/SoundHub/train_with_perch/pacific_chorus_frog_5sec/train_5sec/train_size_150/pos/t-11127057_71.wav</th>\n",
       "      <th>0.0</th>\n",
       "      <th>5.0</th>\n",
       "      <td>1</td>\n",
       "    </tr>\n",
       "    <tr>\n",
       "      <th>/Users/yifeitao/Desktop/SoundHub/SoundHub/train_with_perch/pacific_chorus_frog_5sec/train_5sec/train_size_150/pos/t-11127057_722.wav</th>\n",
       "      <th>0.0</th>\n",
       "      <th>5.0</th>\n",
       "      <td>1</td>\n",
       "    </tr>\n",
       "    <tr>\n",
       "      <th>/Users/yifeitao/Desktop/SoundHub/SoundHub/train_with_perch/pacific_chorus_frog_5sec/train_5sec/train_size_150/pos/t-11127057_656.wav</th>\n",
       "      <th>0.0</th>\n",
       "      <th>5.0</th>\n",
       "      <td>1</td>\n",
       "    </tr>\n",
       "    <tr>\n",
       "      <th>/Users/yifeitao/Desktop/SoundHub/SoundHub/train_with_perch/pacific_chorus_frog_5sec/train_5sec/train_size_150/pos/t-11127057_118.wav</th>\n",
       "      <th>0.0</th>\n",
       "      <th>5.0</th>\n",
       "      <td>1</td>\n",
       "    </tr>\n",
       "    <tr>\n",
       "      <th>/Users/yifeitao/Desktop/SoundHub/SoundHub/train_with_perch/pacific_chorus_frog_5sec/train_5sec/train_size_150/pos/t-11127057_497.wav</th>\n",
       "      <th>0.0</th>\n",
       "      <th>5.0</th>\n",
       "      <td>1</td>\n",
       "    </tr>\n",
       "    <tr>\n",
       "      <th>/Users/yifeitao/Desktop/SoundHub/SoundHub/train_with_perch/pacific_chorus_frog_5sec/train_5sec/train_size_150/pos/t-11127057_440.wav</th>\n",
       "      <th>0.0</th>\n",
       "      <th>5.0</th>\n",
       "      <td>1</td>\n",
       "    </tr>\n",
       "    <tr>\n",
       "      <th>/Users/yifeitao/Desktop/SoundHub/SoundHub/train_with_perch/pacific_chorus_frog_5sec/train_5sec/train_size_150/pos/t-11127057_247.wav</th>\n",
       "      <th>0.0</th>\n",
       "      <th>5.0</th>\n",
       "      <td>1</td>\n",
       "    </tr>\n",
       "    <tr>\n",
       "      <th>/Users/yifeitao/Desktop/SoundHub/SoundHub/train_with_perch/pacific_chorus_frog_5sec/train_5sec/train_size_150/pos/t-11127057_521.wav</th>\n",
       "      <th>0.0</th>\n",
       "      <th>5.0</th>\n",
       "      <td>1</td>\n",
       "    </tr>\n",
       "    <tr>\n",
       "      <th>/Users/yifeitao/Desktop/SoundHub/SoundHub/train_with_perch/pacific_chorus_frog_5sec/train_5sec/train_size_150/pos/t-11127057_286.wav</th>\n",
       "      <th>0.0</th>\n",
       "      <th>5.0</th>\n",
       "      <td>1</td>\n",
       "    </tr>\n",
       "    <tr>\n",
       "      <th>/Users/yifeitao/Desktop/SoundHub/SoundHub/train_with_perch/pacific_chorus_frog_5sec/train_5sec/train_size_150/pos/t-11127057_251.wav</th>\n",
       "      <th>0.0</th>\n",
       "      <th>5.0</th>\n",
       "      <td>1</td>\n",
       "    </tr>\n",
       "    <tr>\n",
       "      <th>/Users/yifeitao/Desktop/SoundHub/SoundHub/train_with_perch/pacific_chorus_frog_5sec/train_5sec/train_size_150/pos/t-11127057_669.wav</th>\n",
       "      <th>0.0</th>\n",
       "      <th>5.0</th>\n",
       "      <td>1</td>\n",
       "    </tr>\n",
       "    <tr>\n",
       "      <th>/Users/yifeitao/Desktop/SoundHub/SoundHub/train_with_perch/pacific_chorus_frog_5sec/train_5sec/train_size_150/pos/t-11127057_494.wav</th>\n",
       "      <th>0.0</th>\n",
       "      <th>5.0</th>\n",
       "      <td>1</td>\n",
       "    </tr>\n",
       "    <tr>\n",
       "      <th>/Users/yifeitao/Desktop/SoundHub/SoundHub/train_with_perch/pacific_chorus_frog_5sec/train_5sec/train_size_150/pos/t-11127057_443.wav</th>\n",
       "      <th>0.0</th>\n",
       "      <th>5.0</th>\n",
       "      <td>1</td>\n",
       "    </tr>\n",
       "    <tr>\n",
       "      <th>/Users/yifeitao/Desktop/SoundHub/SoundHub/train_with_perch/pacific_chorus_frog_5sec/train_5sec/train_size_150/pos/t-11127057_319.wav</th>\n",
       "      <th>0.0</th>\n",
       "      <th>5.0</th>\n",
       "      <td>1</td>\n",
       "    </tr>\n",
       "    <tr>\n",
       "      <th>/Users/yifeitao/Desktop/SoundHub/SoundHub/train_with_perch/pacific_chorus_frog_5sec/train_5sec/train_size_150/pos/t-11127057_7.wav</th>\n",
       "      <th>0.0</th>\n",
       "      <th>5.0</th>\n",
       "      <td>1</td>\n",
       "    </tr>\n",
       "    <tr>\n",
       "      <th>/Users/yifeitao/Desktop/SoundHub/SoundHub/train_with_perch/pacific_chorus_frog_5sec/train_5sec/train_size_150/pos/t-11127057_683.wav</th>\n",
       "      <th>0.0</th>\n",
       "      <th>5.0</th>\n",
       "      <td>1</td>\n",
       "    </tr>\n",
       "    <tr>\n",
       "      <th>/Users/yifeitao/Desktop/SoundHub/SoundHub/train_with_perch/pacific_chorus_frog_5sec/train_5sec/train_size_150/pos/t-11127057_697.wav</th>\n",
       "      <th>0.0</th>\n",
       "      <th>5.0</th>\n",
       "      <td>1</td>\n",
       "    </tr>\n",
       "  </tbody>\n",
       "</table>\n",
       "</div>"
      ],
      "text/plain": [
       "                                                                        A\n",
       "file                                               start_time end_time   \n",
       "/Users/yifeitao/Desktop/SoundHub/SoundHub/train... 0.0        5.0       1\n",
       "/Users/yifeitao/Desktop/SoundHub/SoundHub/train... 0.0        5.0       1\n",
       "/Users/yifeitao/Desktop/SoundHub/SoundHub/train... 0.0        5.0       1\n",
       "/Users/yifeitao/Desktop/SoundHub/SoundHub/train... 0.0        5.0       1\n",
       "/Users/yifeitao/Desktop/SoundHub/SoundHub/train... 0.0        5.0       1\n",
       "/Users/yifeitao/Desktop/SoundHub/SoundHub/train... 0.0        5.0       1\n",
       "/Users/yifeitao/Desktop/SoundHub/SoundHub/train... 0.0        5.0       1\n",
       "/Users/yifeitao/Desktop/SoundHub/SoundHub/train... 0.0        5.0       1\n",
       "/Users/yifeitao/Desktop/SoundHub/SoundHub/train... 0.0        5.0       1\n",
       "/Users/yifeitao/Desktop/SoundHub/SoundHub/train... 0.0        5.0       1\n",
       "/Users/yifeitao/Desktop/SoundHub/SoundHub/train... 0.0        5.0       1\n",
       "/Users/yifeitao/Desktop/SoundHub/SoundHub/train... 0.0        5.0       1\n",
       "/Users/yifeitao/Desktop/SoundHub/SoundHub/train... 0.0        5.0       1\n",
       "/Users/yifeitao/Desktop/SoundHub/SoundHub/train... 0.0        5.0       1\n",
       "/Users/yifeitao/Desktop/SoundHub/SoundHub/train... 0.0        5.0       1\n",
       "/Users/yifeitao/Desktop/SoundHub/SoundHub/train... 0.0        5.0       1\n",
       "/Users/yifeitao/Desktop/SoundHub/SoundHub/train... 0.0        5.0       1\n",
       "/Users/yifeitao/Desktop/SoundHub/SoundHub/train... 0.0        5.0       1\n",
       "/Users/yifeitao/Desktop/SoundHub/SoundHub/train... 0.0        5.0       1\n",
       "/Users/yifeitao/Desktop/SoundHub/SoundHub/train... 0.0        5.0       1"
      ]
     },
     "execution_count": 4,
     "metadata": {},
     "output_type": "execute_result"
    }
   ],
   "source": [
    "labels_trains['train_size_150'].head(20)"
   ]
  },
  {
   "cell_type": "markdown",
   "metadata": {},
   "source": [
    "Prepare audio Data"
   ]
  },
  {
   "cell_type": "markdown",
   "metadata": {},
   "source": [
    "Step 1: Train shallow classifier on Perch embeddings"
   ]
  },
  {
   "cell_type": "code",
   "execution_count": 5,
   "metadata": {},
   "outputs": [
    {
     "name": "stderr",
     "output_type": "stream",
     "text": [
      "Using cache found in /Users/yifeitao/.cache/torch/hub/kitzeslab_bioacoustics-model-zoo_main\n"
     ]
    }
   ],
   "source": [
    "model = torch.hub.load('kitzeslab/bioacoustics-model-zoo','rana_sierrae_cnn',trust_repo=True)"
   ]
  },
  {
   "cell_type": "markdown",
   "metadata": {},
   "source": [
    "Step 2: Generate embeddings on the training and validation data"
   ]
  },
  {
   "cell_type": "markdown",
   "metadata": {},
   "source": [
    "Training size 25"
   ]
  },
  {
   "cell_type": "code",
   "execution_count": 6,
   "metadata": {},
   "outputs": [
    {
     "data": {
      "application/vnd.jupyter.widget-view+json": {
       "model_id": "063fc5c75fd041499e8b7a712b05e93d",
       "version_major": 2,
       "version_minor": 0
      },
      "text/plain": [
       "  0%|          | 0/2 [00:00<?, ?it/s]"
      ]
     },
     "metadata": {},
     "output_type": "display_data"
    },
    {
     "name": "stderr",
     "output_type": "stream",
     "text": [
      "/opt/anaconda3/envs/opensoundscape_env/lib/python3.9/site-packages/opensoundscape/audio.py:1725: UserWarning: Audio object is shorter than requested duration: 4.999833333333333 sec instead of 5.0 sec\n",
      "  warnings.warn(error_msg)\n",
      "/opt/anaconda3/envs/opensoundscape_env/lib/python3.9/site-packages/opensoundscape/audio.py:1725: UserWarning: Audio object is shorter than requested duration: 4.999833333333333 sec instead of 5.0 sec\n",
      "  warnings.warn(error_msg)\n",
      "/opt/anaconda3/envs/opensoundscape_env/lib/python3.9/site-packages/opensoundscape/audio.py:1725: UserWarning: Audio object is shorter than requested duration: 4.999833333333333 sec instead of 5.0 sec\n",
      "  warnings.warn(error_msg)\n",
      "/opt/anaconda3/envs/opensoundscape_env/lib/python3.9/site-packages/opensoundscape/audio.py:1725: UserWarning: Audio object is shorter than requested duration: 4.999833333333333 sec instead of 5.0 sec\n",
      "  warnings.warn(error_msg)\n",
      "/opt/anaconda3/envs/opensoundscape_env/lib/python3.9/site-packages/opensoundscape/audio.py:1725: UserWarning: Audio object is shorter than requested duration: 4.999833333333333 sec instead of 5.0 sec\n",
      "  warnings.warn(error_msg)\n",
      "/opt/anaconda3/envs/opensoundscape_env/lib/python3.9/site-packages/opensoundscape/audio.py:1725: UserWarning: Audio object is shorter than requested duration: 4.999833333333333 sec instead of 5.0 sec\n",
      "  warnings.warn(error_msg)\n",
      "/opt/anaconda3/envs/opensoundscape_env/lib/python3.9/site-packages/opensoundscape/audio.py:1725: UserWarning: Audio object is shorter than requested duration: 4.999833333333333 sec instead of 5.0 sec\n",
      "  warnings.warn(error_msg)\n",
      "/opt/anaconda3/envs/opensoundscape_env/lib/python3.9/site-packages/opensoundscape/audio.py:1725: UserWarning: Audio object is shorter than requested duration: 4.999833333333333 sec instead of 5.0 sec\n",
      "  warnings.warn(error_msg)\n",
      "/opt/anaconda3/envs/opensoundscape_env/lib/python3.9/site-packages/opensoundscape/audio.py:1725: UserWarning: Audio object is shorter than requested duration: 4.999833333333333 sec instead of 5.0 sec\n",
      "  warnings.warn(error_msg)\n",
      "/opt/anaconda3/envs/opensoundscape_env/lib/python3.9/site-packages/opensoundscape/audio.py:1725: UserWarning: Audio object is shorter than requested duration: 4.999833333333333 sec instead of 5.0 sec\n",
      "  warnings.warn(error_msg)\n",
      "/opt/anaconda3/envs/opensoundscape_env/lib/python3.9/site-packages/opensoundscape/audio.py:1725: UserWarning: Audio object is shorter than requested duration: 4.999833333333333 sec instead of 5.0 sec\n",
      "  warnings.warn(error_msg)\n",
      "/opt/anaconda3/envs/opensoundscape_env/lib/python3.9/site-packages/opensoundscape/audio.py:1725: UserWarning: Audio object is shorter than requested duration: 4.999833333333333 sec instead of 5.0 sec\n",
      "  warnings.warn(error_msg)\n",
      "/opt/anaconda3/envs/opensoundscape_env/lib/python3.9/site-packages/opensoundscape/audio.py:1725: UserWarning: Audio object is shorter than requested duration: 4.999833333333333 sec instead of 5.0 sec\n",
      "  warnings.warn(error_msg)\n",
      "/opt/anaconda3/envs/opensoundscape_env/lib/python3.9/site-packages/opensoundscape/audio.py:1725: UserWarning: Audio object is shorter than requested duration: 4.999833333333333 sec instead of 5.0 sec\n",
      "  warnings.warn(error_msg)\n",
      "/opt/anaconda3/envs/opensoundscape_env/lib/python3.9/site-packages/opensoundscape/audio.py:1725: UserWarning: Audio object is shorter than requested duration: 4.999833333333333 sec instead of 5.0 sec\n",
      "  warnings.warn(error_msg)\n",
      "/opt/anaconda3/envs/opensoundscape_env/lib/python3.9/site-packages/opensoundscape/audio.py:1725: UserWarning: Audio object is shorter than requested duration: 4.999833333333333 sec instead of 5.0 sec\n",
      "  warnings.warn(error_msg)\n",
      "/opt/anaconda3/envs/opensoundscape_env/lib/python3.9/site-packages/opensoundscape/audio.py:1725: UserWarning: Audio object is shorter than requested duration: 4.999833333333333 sec instead of 5.0 sec\n",
      "  warnings.warn(error_msg)\n",
      "/opt/anaconda3/envs/opensoundscape_env/lib/python3.9/site-packages/opensoundscape/audio.py:1725: UserWarning: Audio object is shorter than requested duration: 4.999833333333333 sec instead of 5.0 sec\n",
      "  warnings.warn(error_msg)\n",
      "/opt/anaconda3/envs/opensoundscape_env/lib/python3.9/site-packages/opensoundscape/audio.py:1725: UserWarning: Audio object is shorter than requested duration: 4.999833333333333 sec instead of 5.0 sec\n",
      "  warnings.warn(error_msg)\n",
      "/opt/anaconda3/envs/opensoundscape_env/lib/python3.9/site-packages/opensoundscape/audio.py:1725: UserWarning: Audio object is shorter than requested duration: 4.999833333333333 sec instead of 5.0 sec\n",
      "  warnings.warn(error_msg)\n",
      "/opt/anaconda3/envs/opensoundscape_env/lib/python3.9/site-packages/opensoundscape/audio.py:1725: UserWarning: Audio object is shorter than requested duration: 4.999833333333333 sec instead of 5.0 sec\n",
      "  warnings.warn(error_msg)\n",
      "/opt/anaconda3/envs/opensoundscape_env/lib/python3.9/site-packages/opensoundscape/audio.py:1725: UserWarning: Audio object is shorter than requested duration: 4.999833333333333 sec instead of 5.0 sec\n",
      "  warnings.warn(error_msg)\n",
      "/opt/anaconda3/envs/opensoundscape_env/lib/python3.9/site-packages/opensoundscape/audio.py:1725: UserWarning: Audio object is shorter than requested duration: 4.999833333333333 sec instead of 5.0 sec\n",
      "  warnings.warn(error_msg)\n",
      "/opt/anaconda3/envs/opensoundscape_env/lib/python3.9/site-packages/opensoundscape/audio.py:1725: UserWarning: Audio object is shorter than requested duration: 4.999833333333333 sec instead of 5.0 sec\n",
      "  warnings.warn(error_msg)\n",
      "/opt/anaconda3/envs/opensoundscape_env/lib/python3.9/site-packages/opensoundscape/audio.py:1725: UserWarning: Audio object is shorter than requested duration: 4.999833333333333 sec instead of 5.0 sec\n",
      "  warnings.warn(error_msg)\n",
      "/opt/anaconda3/envs/opensoundscape_env/lib/python3.9/site-packages/opensoundscape/audio.py:1725: UserWarning: Audio object is shorter than requested duration: 4.999833333333333 sec instead of 5.0 sec\n",
      "  warnings.warn(error_msg)\n",
      "/opt/anaconda3/envs/opensoundscape_env/lib/python3.9/site-packages/opensoundscape/audio.py:1725: UserWarning: Audio object is shorter than requested duration: 4.999833333333333 sec instead of 5.0 sec\n",
      "  warnings.warn(error_msg)\n",
      "/opt/anaconda3/envs/opensoundscape_env/lib/python3.9/site-packages/opensoundscape/audio.py:1725: UserWarning: Audio object is shorter than requested duration: 4.999833333333333 sec instead of 5.0 sec\n",
      "  warnings.warn(error_msg)\n",
      "/opt/anaconda3/envs/opensoundscape_env/lib/python3.9/site-packages/opensoundscape/audio.py:1725: UserWarning: Audio object is shorter than requested duration: 4.999833333333333 sec instead of 5.0 sec\n",
      "  warnings.warn(error_msg)\n",
      "/opt/anaconda3/envs/opensoundscape_env/lib/python3.9/site-packages/opensoundscape/audio.py:1725: UserWarning: Audio object is shorter than requested duration: 4.999833333333333 sec instead of 5.0 sec\n",
      "  warnings.warn(error_msg)\n",
      "/opt/anaconda3/envs/opensoundscape_env/lib/python3.9/site-packages/opensoundscape/audio.py:1725: UserWarning: Audio object is shorter than requested duration: 4.999833333333333 sec instead of 5.0 sec\n",
      "  warnings.warn(error_msg)\n",
      "/opt/anaconda3/envs/opensoundscape_env/lib/python3.9/site-packages/opensoundscape/audio.py:1725: UserWarning: Audio object is shorter than requested duration: 4.999833333333333 sec instead of 5.0 sec\n",
      "  warnings.warn(error_msg)\n",
      "/opt/anaconda3/envs/opensoundscape_env/lib/python3.9/site-packages/opensoundscape/audio.py:1725: UserWarning: Audio object is shorter than requested duration: 4.999833333333333 sec instead of 5.0 sec\n",
      "  warnings.warn(error_msg)\n",
      "/opt/anaconda3/envs/opensoundscape_env/lib/python3.9/site-packages/opensoundscape/audio.py:1725: UserWarning: Audio object is shorter than requested duration: 4.999833333333333 sec instead of 5.0 sec\n",
      "  warnings.warn(error_msg)\n",
      "/opt/anaconda3/envs/opensoundscape_env/lib/python3.9/site-packages/opensoundscape/audio.py:1725: UserWarning: Audio object is shorter than requested duration: 4.999833333333333 sec instead of 5.0 sec\n",
      "  warnings.warn(error_msg)\n",
      "/opt/anaconda3/envs/opensoundscape_env/lib/python3.9/site-packages/opensoundscape/audio.py:1725: UserWarning: Audio object is shorter than requested duration: 4.999833333333333 sec instead of 5.0 sec\n",
      "  warnings.warn(error_msg)\n",
      "/opt/anaconda3/envs/opensoundscape_env/lib/python3.9/site-packages/opensoundscape/audio.py:1725: UserWarning: Audio object is shorter than requested duration: 4.999833333333333 sec instead of 5.0 sec\n",
      "  warnings.warn(error_msg)\n",
      "/opt/anaconda3/envs/opensoundscape_env/lib/python3.9/site-packages/opensoundscape/audio.py:1725: UserWarning: Audio object is shorter than requested duration: 4.999833333333333 sec instead of 5.0 sec\n",
      "  warnings.warn(error_msg)\n",
      "/opt/anaconda3/envs/opensoundscape_env/lib/python3.9/site-packages/opensoundscape/audio.py:1725: UserWarning: Audio object is shorter than requested duration: 4.999833333333333 sec instead of 5.0 sec\n",
      "  warnings.warn(error_msg)\n",
      "/opt/anaconda3/envs/opensoundscape_env/lib/python3.9/site-packages/opensoundscape/audio.py:1725: UserWarning: Audio object is shorter than requested duration: 4.999833333333333 sec instead of 5.0 sec\n",
      "  warnings.warn(error_msg)\n",
      "/opt/anaconda3/envs/opensoundscape_env/lib/python3.9/site-packages/opensoundscape/audio.py:1725: UserWarning: Audio object is shorter than requested duration: 4.999833333333333 sec instead of 5.0 sec\n",
      "  warnings.warn(error_msg)\n",
      "/opt/anaconda3/envs/opensoundscape_env/lib/python3.9/site-packages/opensoundscape/audio.py:1725: UserWarning: Audio object is shorter than requested duration: 4.999833333333333 sec instead of 5.0 sec\n",
      "  warnings.warn(error_msg)\n",
      "/opt/anaconda3/envs/opensoundscape_env/lib/python3.9/site-packages/opensoundscape/audio.py:1725: UserWarning: Audio object is shorter than requested duration: 4.999833333333333 sec instead of 5.0 sec\n",
      "  warnings.warn(error_msg)\n",
      "/opt/anaconda3/envs/opensoundscape_env/lib/python3.9/site-packages/opensoundscape/audio.py:1725: UserWarning: Audio object is shorter than requested duration: 4.999833333333333 sec instead of 5.0 sec\n",
      "  warnings.warn(error_msg)\n",
      "/opt/anaconda3/envs/opensoundscape_env/lib/python3.9/site-packages/opensoundscape/audio.py:1725: UserWarning: Audio object is shorter than requested duration: 4.999833333333333 sec instead of 5.0 sec\n",
      "  warnings.warn(error_msg)\n",
      "/opt/anaconda3/envs/opensoundscape_env/lib/python3.9/site-packages/opensoundscape/audio.py:1725: UserWarning: Audio object is shorter than requested duration: 4.999833333333333 sec instead of 5.0 sec\n",
      "  warnings.warn(error_msg)\n",
      "/opt/anaconda3/envs/opensoundscape_env/lib/python3.9/site-packages/opensoundscape/audio.py:1725: UserWarning: Audio object is shorter than requested duration: 4.999833333333333 sec instead of 5.0 sec\n",
      "  warnings.warn(error_msg)\n",
      "/opt/anaconda3/envs/opensoundscape_env/lib/python3.9/site-packages/opensoundscape/audio.py:1725: UserWarning: Audio object is shorter than requested duration: 4.999833333333333 sec instead of 5.0 sec\n",
      "  warnings.warn(error_msg)\n",
      "/opt/anaconda3/envs/opensoundscape_env/lib/python3.9/site-packages/opensoundscape/audio.py:1725: UserWarning: Audio object is shorter than requested duration: 4.999833333333333 sec instead of 5.0 sec\n",
      "  warnings.warn(error_msg)\n",
      "/opt/anaconda3/envs/opensoundscape_env/lib/python3.9/site-packages/opensoundscape/audio.py:1725: UserWarning: Audio object is shorter than requested duration: 4.999833333333333 sec instead of 5.0 sec\n",
      "  warnings.warn(error_msg)\n"
     ]
    }
   ],
   "source": [
    "emb_train_25 = model.embed(labels_trains['train_size_25'], return_dfs=False, batch_size=32, num_workers=0)"
   ]
  },
  {
   "cell_type": "code",
   "execution_count": 7,
   "metadata": {},
   "outputs": [
    {
     "name": "stderr",
     "output_type": "stream",
     "text": [
      "/var/folders/v4/chwhws6x79ncg51bwr5778b00000gn/T/ipykernel_4790/873706465.py:20: ResourceWarning: unclosed file <_io.BufferedReader name='/Users/yifeitao/Desktop/SoundHub/SoundHub/train_with_perch/pacific_chorus_frog_5sec/test_5sec/test_dataset_5sec.wav'>\n",
      "  audio = AudioSegment.from_file(audio_file_path)\n",
      "/var/folders/v4/chwhws6x79ncg51bwr5778b00000gn/T/ipykernel_4790/873706465.py:40: ResourceWarning: unclosed file <_io.BufferedRandom name='/Users/yifeitao/Desktop/SoundHub/SoundHub/train_with_perch/pacific_chorus_frog_5sec/test_5sec/clips/t-11127057_34.wav'>\n",
      "  clip.export(clip_path, format=\"wav\")\n",
      "/var/folders/v4/chwhws6x79ncg51bwr5778b00000gn/T/ipykernel_4790/873706465.py:40: ResourceWarning: unclosed file <_io.BufferedRandom name='/Users/yifeitao/Desktop/SoundHub/SoundHub/train_with_perch/pacific_chorus_frog_5sec/test_5sec/clips/t-11127057_755.wav'>\n",
      "  clip.export(clip_path, format=\"wav\")\n",
      "/var/folders/v4/chwhws6x79ncg51bwr5778b00000gn/T/ipykernel_4790/873706465.py:40: ResourceWarning: unclosed file <_io.BufferedRandom name='/Users/yifeitao/Desktop/SoundHub/SoundHub/train_with_perch/pacific_chorus_frog_5sec/test_5sec/clips/t-11113588_399.wav'>\n",
      "  clip.export(clip_path, format=\"wav\")\n",
      "/var/folders/v4/chwhws6x79ncg51bwr5778b00000gn/T/ipykernel_4790/873706465.py:40: ResourceWarning: unclosed file <_io.BufferedRandom name='/Users/yifeitao/Desktop/SoundHub/SoundHub/train_with_perch/pacific_chorus_frog_5sec/test_5sec/clips/t-11113588_513.wav'>\n",
      "  clip.export(clip_path, format=\"wav\")\n",
      "/var/folders/v4/chwhws6x79ncg51bwr5778b00000gn/T/ipykernel_4790/873706465.py:40: ResourceWarning: unclosed file <_io.BufferedRandom name='/Users/yifeitao/Desktop/SoundHub/SoundHub/train_with_perch/pacific_chorus_frog_5sec/test_5sec/clips/t-11113588_90.wav'>\n",
      "  clip.export(clip_path, format=\"wav\")\n",
      "/var/folders/v4/chwhws6x79ncg51bwr5778b00000gn/T/ipykernel_4790/873706465.py:40: ResourceWarning: unclosed file <_io.BufferedRandom name='/Users/yifeitao/Desktop/SoundHub/SoundHub/train_with_perch/pacific_chorus_frog_5sec/test_5sec/clips/t-11127057_79.wav'>\n",
      "  clip.export(clip_path, format=\"wav\")\n",
      "/var/folders/v4/chwhws6x79ncg51bwr5778b00000gn/T/ipykernel_4790/873706465.py:40: ResourceWarning: unclosed file <_io.BufferedRandom name='/Users/yifeitao/Desktop/SoundHub/SoundHub/train_with_perch/pacific_chorus_frog_5sec/test_5sec/clips/t-11127057_233.wav'>\n",
      "  clip.export(clip_path, format=\"wav\")\n",
      "/var/folders/v4/chwhws6x79ncg51bwr5778b00000gn/T/ipykernel_4790/873706465.py:40: ResourceWarning: unclosed file <_io.BufferedRandom name='/Users/yifeitao/Desktop/SoundHub/SoundHub/train_with_perch/pacific_chorus_frog_5sec/test_5sec/clips/t-11113588_78.wav'>\n",
      "  clip.export(clip_path, format=\"wav\")\n",
      "/var/folders/v4/chwhws6x79ncg51bwr5778b00000gn/T/ipykernel_4790/873706465.py:40: ResourceWarning: unclosed file <_io.BufferedRandom name='/Users/yifeitao/Desktop/SoundHub/SoundHub/train_with_perch/pacific_chorus_frog_5sec/test_5sec/clips/t-11127057_358.wav'>\n",
      "  clip.export(clip_path, format=\"wav\")\n",
      "/var/folders/v4/chwhws6x79ncg51bwr5778b00000gn/T/ipykernel_4790/873706465.py:40: ResourceWarning: unclosed file <_io.BufferedRandom name='/Users/yifeitao/Desktop/SoundHub/SoundHub/train_with_perch/pacific_chorus_frog_5sec/test_5sec/clips/t-11113588_441.wav'>\n",
      "  clip.export(clip_path, format=\"wav\")\n",
      "/var/folders/v4/chwhws6x79ncg51bwr5778b00000gn/T/ipykernel_4790/873706465.py:40: ResourceWarning: unclosed file <_io.BufferedRandom name='/Users/yifeitao/Desktop/SoundHub/SoundHub/train_with_perch/pacific_chorus_frog_5sec/test_5sec/clips/t-11113588_17.wav'>\n",
      "  clip.export(clip_path, format=\"wav\")\n",
      "/var/folders/v4/chwhws6x79ncg51bwr5778b00000gn/T/ipykernel_4790/873706465.py:40: ResourceWarning: unclosed file <_io.BufferedRandom name='/Users/yifeitao/Desktop/SoundHub/SoundHub/train_with_perch/pacific_chorus_frog_5sec/test_5sec/clips/t-11127057_645.wav'>\n",
      "  clip.export(clip_path, format=\"wav\")\n",
      "/var/folders/v4/chwhws6x79ncg51bwr5778b00000gn/T/ipykernel_4790/873706465.py:40: ResourceWarning: unclosed file <_io.BufferedRandom name='/Users/yifeitao/Desktop/SoundHub/SoundHub/train_with_perch/pacific_chorus_frog_5sec/test_5sec/clips/t-11127057_671.wav'>\n",
      "  clip.export(clip_path, format=\"wav\")\n",
      "/var/folders/v4/chwhws6x79ncg51bwr5778b00000gn/T/ipykernel_4790/873706465.py:40: ResourceWarning: unclosed file <_io.BufferedRandom name='/Users/yifeitao/Desktop/SoundHub/SoundHub/train_with_perch/pacific_chorus_frog_5sec/test_5sec/clips/t-11127057_636.wav'>\n",
      "  clip.export(clip_path, format=\"wav\")\n",
      "/var/folders/v4/chwhws6x79ncg51bwr5778b00000gn/T/ipykernel_4790/873706465.py:40: ResourceWarning: unclosed file <_io.BufferedRandom name='/Users/yifeitao/Desktop/SoundHub/SoundHub/train_with_perch/pacific_chorus_frog_5sec/test_5sec/clips/t-11127057_660.wav'>\n",
      "  clip.export(clip_path, format=\"wav\")\n",
      "/var/folders/v4/chwhws6x79ncg51bwr5778b00000gn/T/ipykernel_4790/873706465.py:40: ResourceWarning: unclosed file <_io.BufferedRandom name='/Users/yifeitao/Desktop/SoundHub/SoundHub/train_with_perch/pacific_chorus_frog_5sec/test_5sec/clips/t-11127057_316.wav'>\n",
      "  clip.export(clip_path, format=\"wav\")\n",
      "/var/folders/v4/chwhws6x79ncg51bwr5778b00000gn/T/ipykernel_4790/873706465.py:40: ResourceWarning: unclosed file <_io.BufferedRandom name='/Users/yifeitao/Desktop/SoundHub/SoundHub/train_with_perch/pacific_chorus_frog_5sec/test_5sec/clips/t-11113588_480.wav'>\n",
      "  clip.export(clip_path, format=\"wav\")\n",
      "/var/folders/v4/chwhws6x79ncg51bwr5778b00000gn/T/ipykernel_4790/873706465.py:40: ResourceWarning: unclosed file <_io.BufferedRandom name='/Users/yifeitao/Desktop/SoundHub/SoundHub/train_with_perch/pacific_chorus_frog_5sec/test_5sec/clips/t-11127057_88.wav'>\n",
      "  clip.export(clip_path, format=\"wav\")\n",
      "/var/folders/v4/chwhws6x79ncg51bwr5778b00000gn/T/ipykernel_4790/873706465.py:40: ResourceWarning: unclosed file <_io.BufferedRandom name='/Users/yifeitao/Desktop/SoundHub/SoundHub/train_with_perch/pacific_chorus_frog_5sec/test_5sec/clips/t-11127057_369.wav'>\n",
      "  clip.export(clip_path, format=\"wav\")\n",
      "/var/folders/v4/chwhws6x79ncg51bwr5778b00000gn/T/ipykernel_4790/873706465.py:40: ResourceWarning: unclosed file <_io.BufferedRandom name='/Users/yifeitao/Desktop/SoundHub/SoundHub/train_with_perch/pacific_chorus_frog_5sec/test_5sec/clips/t-11031961_289_9sec_1_a.wav'>\n",
      "  clip.export(clip_path, format=\"wav\")\n",
      "/var/folders/v4/chwhws6x79ncg51bwr5778b00000gn/T/ipykernel_4790/873706465.py:40: ResourceWarning: unclosed file <_io.BufferedRandom name='/Users/yifeitao/Desktop/SoundHub/SoundHub/train_with_perch/pacific_chorus_frog_5sec/test_5sec/clips/t-11127057_783.wav'>\n",
      "  clip.export(clip_path, format=\"wav\")\n",
      "/var/folders/v4/chwhws6x79ncg51bwr5778b00000gn/T/ipykernel_4790/873706465.py:40: ResourceWarning: unclosed file <_io.BufferedRandom name='/Users/yifeitao/Desktop/SoundHub/SoundHub/train_with_perch/pacific_chorus_frog_5sec/test_5sec/clips/t-11031961_331_9sec_1_a.wav'>\n",
      "  clip.export(clip_path, format=\"wav\")\n",
      "/var/folders/v4/chwhws6x79ncg51bwr5778b00000gn/T/ipykernel_4790/873706465.py:40: ResourceWarning: unclosed file <_io.BufferedRandom name='/Users/yifeitao/Desktop/SoundHub/SoundHub/train_with_perch/pacific_chorus_frog_5sec/test_5sec/clips/t-11127057_262.wav'>\n",
      "  clip.export(clip_path, format=\"wav\")\n",
      "/var/folders/v4/chwhws6x79ncg51bwr5778b00000gn/T/ipykernel_4790/873706465.py:40: ResourceWarning: unclosed file <_io.BufferedRandom name='/Users/yifeitao/Desktop/SoundHub/SoundHub/train_with_perch/pacific_chorus_frog_5sec/test_5sec/clips/t-11031961_100_9sec_1_a.wav'>\n",
      "  clip.export(clip_path, format=\"wav\")\n",
      "/var/folders/v4/chwhws6x79ncg51bwr5778b00000gn/T/ipykernel_4790/873706465.py:40: ResourceWarning: unclosed file <_io.BufferedRandom name='/Users/yifeitao/Desktop/SoundHub/SoundHub/train_with_perch/pacific_chorus_frog_5sec/test_5sec/clips/t-11113588_258.wav'>\n",
      "  clip.export(clip_path, format=\"wav\")\n",
      "/var/folders/v4/chwhws6x79ncg51bwr5778b00000gn/T/ipykernel_4790/873706465.py:40: ResourceWarning: unclosed file <_io.BufferedRandom name='/Users/yifeitao/Desktop/SoundHub/SoundHub/train_with_perch/pacific_chorus_frog_5sec/test_5sec/clips/t-11113588_388.wav'>\n",
      "  clip.export(clip_path, format=\"wav\")\n",
      "/var/folders/v4/chwhws6x79ncg51bwr5778b00000gn/T/ipykernel_4790/873706465.py:40: ResourceWarning: unclosed file <_io.BufferedRandom name='/Users/yifeitao/Desktop/SoundHub/SoundHub/train_with_perch/pacific_chorus_frog_5sec/test_5sec/clips/t-11113588_23.wav'>\n",
      "  clip.export(clip_path, format=\"wav\")\n",
      "/var/folders/v4/chwhws6x79ncg51bwr5778b00000gn/T/ipykernel_4790/873706465.py:40: ResourceWarning: unclosed file <_io.BufferedRandom name='/Users/yifeitao/Desktop/SoundHub/SoundHub/train_with_perch/pacific_chorus_frog_5sec/test_5sec/clips/t-11113588_757.wav'>\n",
      "  clip.export(clip_path, format=\"wav\")\n",
      "/var/folders/v4/chwhws6x79ncg51bwr5778b00000gn/T/ipykernel_4790/873706465.py:40: ResourceWarning: unclosed file <_io.BufferedRandom name='/Users/yifeitao/Desktop/SoundHub/SoundHub/train_with_perch/pacific_chorus_frog_5sec/test_5sec/clips/t-11127057_525.wav'>\n",
      "  clip.export(clip_path, format=\"wav\")\n",
      "/var/folders/v4/chwhws6x79ncg51bwr5778b00000gn/T/ipykernel_4790/873706465.py:40: ResourceWarning: unclosed file <_io.BufferedRandom name='/Users/yifeitao/Desktop/SoundHub/SoundHub/train_with_perch/pacific_chorus_frog_5sec/test_5sec/clips/t-11127057_217.wav'>\n",
      "  clip.export(clip_path, format=\"wav\")\n",
      "/var/folders/v4/chwhws6x79ncg51bwr5778b00000gn/T/ipykernel_4790/873706465.py:40: ResourceWarning: unclosed file <_io.BufferedRandom name='/Users/yifeitao/Desktop/SoundHub/SoundHub/train_with_perch/pacific_chorus_frog_5sec/test_5sec/clips/t-11127057_632.wav'>\n",
      "  clip.export(clip_path, format=\"wav\")\n",
      "/var/folders/v4/chwhws6x79ncg51bwr5778b00000gn/T/ipykernel_4790/873706465.py:40: ResourceWarning: unclosed file <_io.BufferedRandom name='/Users/yifeitao/Desktop/SoundHub/SoundHub/train_with_perch/pacific_chorus_frog_5sec/test_5sec/clips/t-11127057_396.wav'>\n",
      "  clip.export(clip_path, format=\"wav\")\n",
      "/var/folders/v4/chwhws6x79ncg51bwr5778b00000gn/T/ipykernel_4790/873706465.py:40: ResourceWarning: unclosed file <_io.BufferedRandom name='/Users/yifeitao/Desktop/SoundHub/SoundHub/train_with_perch/pacific_chorus_frog_5sec/test_5sec/clips/t-11127057_549.wav'>\n",
      "  clip.export(clip_path, format=\"wav\")\n",
      "/var/folders/v4/chwhws6x79ncg51bwr5778b00000gn/T/ipykernel_4790/873706465.py:40: ResourceWarning: unclosed file <_io.BufferedRandom name='/Users/yifeitao/Desktop/SoundHub/SoundHub/train_with_perch/pacific_chorus_frog_5sec/test_5sec/clips/t-11127057_287.wav'>\n",
      "  clip.export(clip_path, format=\"wav\")\n",
      "/var/folders/v4/chwhws6x79ncg51bwr5778b00000gn/T/ipykernel_4790/873706465.py:40: ResourceWarning: unclosed file <_io.BufferedRandom name='/Users/yifeitao/Desktop/SoundHub/SoundHub/train_with_perch/pacific_chorus_frog_5sec/test_5sec/clips/t-11127057_176.wav'>\n",
      "  clip.export(clip_path, format=\"wav\")\n",
      "/var/folders/v4/chwhws6x79ncg51bwr5778b00000gn/T/ipykernel_4790/873706465.py:40: ResourceWarning: unclosed file <_io.BufferedRandom name='/Users/yifeitao/Desktop/SoundHub/SoundHub/train_with_perch/pacific_chorus_frog_5sec/test_5sec/clips/t-11113588_781.wav'>\n",
      "  clip.export(clip_path, format=\"wav\")\n",
      "/var/folders/v4/chwhws6x79ncg51bwr5778b00000gn/T/ipykernel_4790/873706465.py:40: ResourceWarning: unclosed file <_io.BufferedRandom name='/Users/yifeitao/Desktop/SoundHub/SoundHub/train_with_perch/pacific_chorus_frog_5sec/test_5sec/clips/t-11127057_111.wav'>\n",
      "  clip.export(clip_path, format=\"wav\")\n",
      "/var/folders/v4/chwhws6x79ncg51bwr5778b00000gn/T/ipykernel_4790/873706465.py:40: ResourceWarning: unclosed file <_io.BufferedRandom name='/Users/yifeitao/Desktop/SoundHub/SoundHub/train_with_perch/pacific_chorus_frog_5sec/test_5sec/clips/t-11127057_348.wav'>\n",
      "  clip.export(clip_path, format=\"wav\")\n",
      "/var/folders/v4/chwhws6x79ncg51bwr5778b00000gn/T/ipykernel_4790/873706465.py:40: ResourceWarning: unclosed file <_io.BufferedRandom name='/Users/yifeitao/Desktop/SoundHub/SoundHub/train_with_perch/pacific_chorus_frog_5sec/test_5sec/clips/t-11127057_67.wav'>\n",
      "  clip.export(clip_path, format=\"wav\")\n",
      "/var/folders/v4/chwhws6x79ncg51bwr5778b00000gn/T/ipykernel_4790/873706465.py:40: ResourceWarning: unclosed file <_io.BufferedRandom name='/Users/yifeitao/Desktop/SoundHub/SoundHub/train_with_perch/pacific_chorus_frog_5sec/test_5sec/clips/t-11127057_544.wav'>\n",
      "  clip.export(clip_path, format=\"wav\")\n",
      "/var/folders/v4/chwhws6x79ncg51bwr5778b00000gn/T/ipykernel_4790/873706465.py:40: ResourceWarning: unclosed file <_io.BufferedRandom name='/Users/yifeitao/Desktop/SoundHub/SoundHub/train_with_perch/pacific_chorus_frog_5sec/test_5sec/clips/t-11113588_443.wav'>\n",
      "  clip.export(clip_path, format=\"wav\")\n",
      "/var/folders/v4/chwhws6x79ncg51bwr5778b00000gn/T/ipykernel_4790/873706465.py:40: ResourceWarning: unclosed file <_io.BufferedRandom name='/Users/yifeitao/Desktop/SoundHub/SoundHub/train_with_perch/pacific_chorus_frog_5sec/test_5sec/clips/t-11031961_272_9sec_1_a.wav'>\n",
      "  clip.export(clip_path, format=\"wav\")\n",
      "/var/folders/v4/chwhws6x79ncg51bwr5778b00000gn/T/ipykernel_4790/873706465.py:40: ResourceWarning: unclosed file <_io.BufferedRandom name='/Users/yifeitao/Desktop/SoundHub/SoundHub/train_with_perch/pacific_chorus_frog_5sec/test_5sec/clips/t-11113588_60.wav'>\n",
      "  clip.export(clip_path, format=\"wav\")\n",
      "/var/folders/v4/chwhws6x79ncg51bwr5778b00000gn/T/ipykernel_4790/873706465.py:40: ResourceWarning: unclosed file <_io.BufferedRandom name='/Users/yifeitao/Desktop/SoundHub/SoundHub/train_with_perch/pacific_chorus_frog_5sec/test_5sec/clips/t-11127057_246.wav'>\n",
      "  clip.export(clip_path, format=\"wav\")\n",
      "/var/folders/v4/chwhws6x79ncg51bwr5778b00000gn/T/ipykernel_4790/873706465.py:40: ResourceWarning: unclosed file <_io.BufferedRandom name='/Users/yifeitao/Desktop/SoundHub/SoundHub/train_with_perch/pacific_chorus_frog_5sec/test_5sec/clips/t-11127057_66.wav'>\n",
      "  clip.export(clip_path, format=\"wav\")\n",
      "/var/folders/v4/chwhws6x79ncg51bwr5778b00000gn/T/ipykernel_4790/873706465.py:40: ResourceWarning: unclosed file <_io.BufferedRandom name='/Users/yifeitao/Desktop/SoundHub/SoundHub/train_with_perch/pacific_chorus_frog_5sec/test_5sec/clips/t-11031961_288_9sec_1_a.wav'>\n",
      "  clip.export(clip_path, format=\"wav\")\n",
      "/var/folders/v4/chwhws6x79ncg51bwr5778b00000gn/T/ipykernel_4790/873706465.py:40: ResourceWarning: unclosed file <_io.BufferedRandom name='/Users/yifeitao/Desktop/SoundHub/SoundHub/train_with_perch/pacific_chorus_frog_5sec/test_5sec/clips/t-11113588_398.wav'>\n",
      "  clip.export(clip_path, format=\"wav\")\n",
      "/var/folders/v4/chwhws6x79ncg51bwr5778b00000gn/T/ipykernel_4790/873706465.py:40: ResourceWarning: unclosed file <_io.BufferedRandom name='/Users/yifeitao/Desktop/SoundHub/SoundHub/train_with_perch/pacific_chorus_frog_5sec/test_5sec/clips/t-11031961_280_9sec_1_a.wav'>\n",
      "  clip.export(clip_path, format=\"wav\")\n",
      "/var/folders/v4/chwhws6x79ncg51bwr5778b00000gn/T/ipykernel_4790/873706465.py:40: ResourceWarning: unclosed file <_io.BufferedRandom name='/Users/yifeitao/Desktop/SoundHub/SoundHub/train_with_perch/pacific_chorus_frog_5sec/test_5sec/clips/t-11113588_97.wav'>\n",
      "  clip.export(clip_path, format=\"wav\")\n",
      "/var/folders/v4/chwhws6x79ncg51bwr5778b00000gn/T/ipykernel_4790/873706465.py:40: ResourceWarning: unclosed file <_io.BufferedRandom name='/Users/yifeitao/Desktop/SoundHub/SoundHub/train_with_perch/pacific_chorus_frog_5sec/test_5sec/clips/t-11113588_42.wav'>\n",
      "  clip.export(clip_path, format=\"wav\")\n",
      "/var/folders/v4/chwhws6x79ncg51bwr5778b00000gn/T/ipykernel_4790/873706465.py:40: ResourceWarning: unclosed file <_io.BufferedRandom name='/Users/yifeitao/Desktop/SoundHub/SoundHub/train_with_perch/pacific_chorus_frog_5sec/test_5sec/clips/t-11113588_509.wav'>\n",
      "  clip.export(clip_path, format=\"wav\")\n",
      "/var/folders/v4/chwhws6x79ncg51bwr5778b00000gn/T/ipykernel_4790/873706465.py:40: ResourceWarning: unclosed file <_io.BufferedRandom name='/Users/yifeitao/Desktop/SoundHub/SoundHub/train_with_perch/pacific_chorus_frog_5sec/test_5sec/clips/t-11113588_779.wav'>\n",
      "  clip.export(clip_path, format=\"wav\")\n",
      "/var/folders/v4/chwhws6x79ncg51bwr5778b00000gn/T/ipykernel_4790/873706465.py:40: ResourceWarning: unclosed file <_io.BufferedRandom name='/Users/yifeitao/Desktop/SoundHub/SoundHub/train_with_perch/pacific_chorus_frog_5sec/test_5sec/clips/t-11127057_50.wav'>\n",
      "  clip.export(clip_path, format=\"wav\")\n",
      "/var/folders/v4/chwhws6x79ncg51bwr5778b00000gn/T/ipykernel_4790/873706465.py:40: ResourceWarning: unclosed file <_io.BufferedRandom name='/Users/yifeitao/Desktop/SoundHub/SoundHub/train_with_perch/pacific_chorus_frog_5sec/test_5sec/clips/t-11127057_703.wav'>\n",
      "  clip.export(clip_path, format=\"wav\")\n",
      "/var/folders/v4/chwhws6x79ncg51bwr5778b00000gn/T/ipykernel_4790/873706465.py:40: ResourceWarning: unclosed file <_io.BufferedRandom name='/Users/yifeitao/Desktop/SoundHub/SoundHub/train_with_perch/pacific_chorus_frog_5sec/test_5sec/clips/t-11113588_380.wav'>\n",
      "  clip.export(clip_path, format=\"wav\")\n",
      "/var/folders/v4/chwhws6x79ncg51bwr5778b00000gn/T/ipykernel_4790/873706465.py:40: ResourceWarning: unclosed file <_io.BufferedRandom name='/Users/yifeitao/Desktop/SoundHub/SoundHub/train_with_perch/pacific_chorus_frog_5sec/test_5sec/clips/t-11127057_569.wav'>\n",
      "  clip.export(clip_path, format=\"wav\")\n",
      "/var/folders/v4/chwhws6x79ncg51bwr5778b00000gn/T/ipykernel_4790/873706465.py:40: ResourceWarning: unclosed file <_io.BufferedRandom name='/Users/yifeitao/Desktop/SoundHub/SoundHub/train_with_perch/pacific_chorus_frog_5sec/test_5sec/clips/t-11127057_600.wav'>\n",
      "  clip.export(clip_path, format=\"wav\")\n",
      "/var/folders/v4/chwhws6x79ncg51bwr5778b00000gn/T/ipykernel_4790/873706465.py:40: ResourceWarning: unclosed file <_io.BufferedRandom name='/Users/yifeitao/Desktop/SoundHub/SoundHub/train_with_perch/pacific_chorus_frog_5sec/test_5sec/clips/t-11127057_141.wav'>\n",
      "  clip.export(clip_path, format=\"wav\")\n",
      "/var/folders/v4/chwhws6x79ncg51bwr5778b00000gn/T/ipykernel_4790/873706465.py:40: ResourceWarning: unclosed file <_io.BufferedRandom name='/Users/yifeitao/Desktop/SoundHub/SoundHub/train_with_perch/pacific_chorus_frog_5sec/test_5sec/clips/t-11127057_595.wav'>\n",
      "  clip.export(clip_path, format=\"wav\")\n",
      "/var/folders/v4/chwhws6x79ncg51bwr5778b00000gn/T/ipykernel_4790/873706465.py:40: ResourceWarning: unclosed file <_io.BufferedRandom name='/Users/yifeitao/Desktop/SoundHub/SoundHub/train_with_perch/pacific_chorus_frog_5sec/test_5sec/clips/t-11127057_492.wav'>\n",
      "  clip.export(clip_path, format=\"wav\")\n",
      "/var/folders/v4/chwhws6x79ncg51bwr5778b00000gn/T/ipykernel_4790/873706465.py:40: ResourceWarning: unclosed file <_io.BufferedRandom name='/Users/yifeitao/Desktop/SoundHub/SoundHub/train_with_perch/pacific_chorus_frog_5sec/test_5sec/clips/t-11031961_270_9sec_1_a.wav'>\n",
      "  clip.export(clip_path, format=\"wav\")\n",
      "/var/folders/v4/chwhws6x79ncg51bwr5778b00000gn/T/ipykernel_4790/873706465.py:40: ResourceWarning: unclosed file <_io.BufferedRandom name='/Users/yifeitao/Desktop/SoundHub/SoundHub/train_with_perch/pacific_chorus_frog_5sec/test_5sec/clips/t-11127057_647.wav'>\n",
      "  clip.export(clip_path, format=\"wav\")\n",
      "/var/folders/v4/chwhws6x79ncg51bwr5778b00000gn/T/ipykernel_4790/873706465.py:40: ResourceWarning: unclosed file <_io.BufferedRandom name='/Users/yifeitao/Desktop/SoundHub/SoundHub/train_with_perch/pacific_chorus_frog_5sec/test_5sec/clips/t-11127057_31.wav'>\n",
      "  clip.export(clip_path, format=\"wav\")\n",
      "/var/folders/v4/chwhws6x79ncg51bwr5778b00000gn/T/ipykernel_4790/873706465.py:40: ResourceWarning: unclosed file <_io.BufferedRandom name='/Users/yifeitao/Desktop/SoundHub/SoundHub/train_with_perch/pacific_chorus_frog_5sec/test_5sec/clips/t-11127057_728.wav'>\n",
      "  clip.export(clip_path, format=\"wav\")\n",
      "/var/folders/v4/chwhws6x79ncg51bwr5778b00000gn/T/ipykernel_4790/873706465.py:40: ResourceWarning: unclosed file <_io.BufferedRandom name='/Users/yifeitao/Desktop/SoundHub/SoundHub/train_with_perch/pacific_chorus_frog_5sec/test_5sec/clips/t-11113588_472.wav'>\n",
      "  clip.export(clip_path, format=\"wav\")\n",
      "/var/folders/v4/chwhws6x79ncg51bwr5778b00000gn/T/ipykernel_4790/873706465.py:40: ResourceWarning: unclosed file <_io.BufferedRandom name='/Users/yifeitao/Desktop/SoundHub/SoundHub/train_with_perch/pacific_chorus_frog_5sec/test_5sec/clips/t-11127057_304.wav'>\n",
      "  clip.export(clip_path, format=\"wav\")\n",
      "/var/folders/v4/chwhws6x79ncg51bwr5778b00000gn/T/ipykernel_4790/873706465.py:40: ResourceWarning: unclosed file <_io.BufferedRandom name='/Users/yifeitao/Desktop/SoundHub/SoundHub/train_with_perch/pacific_chorus_frog_5sec/test_5sec/clips/t-11113588_113.wav'>\n",
      "  clip.export(clip_path, format=\"wav\")\n",
      "/var/folders/v4/chwhws6x79ncg51bwr5778b00000gn/T/ipykernel_4790/873706465.py:40: ResourceWarning: unclosed file <_io.BufferedRandom name='/Users/yifeitao/Desktop/SoundHub/SoundHub/train_with_perch/pacific_chorus_frog_5sec/test_5sec/clips/t-11113588_133.wav'>\n",
      "  clip.export(clip_path, format=\"wav\")\n",
      "/var/folders/v4/chwhws6x79ncg51bwr5778b00000gn/T/ipykernel_4790/873706465.py:40: ResourceWarning: unclosed file <_io.BufferedRandom name='/Users/yifeitao/Desktop/SoundHub/SoundHub/train_with_perch/pacific_chorus_frog_5sec/test_5sec/clips/t-11127057_434.wav'>\n",
      "  clip.export(clip_path, format=\"wav\")\n",
      "/var/folders/v4/chwhws6x79ncg51bwr5778b00000gn/T/ipykernel_4790/873706465.py:40: ResourceWarning: unclosed file <_io.BufferedRandom name='/Users/yifeitao/Desktop/SoundHub/SoundHub/train_with_perch/pacific_chorus_frog_5sec/test_5sec/clips/t-11113588_543.wav'>\n",
      "  clip.export(clip_path, format=\"wav\")\n",
      "/var/folders/v4/chwhws6x79ncg51bwr5778b00000gn/T/ipykernel_4790/873706465.py:40: ResourceWarning: unclosed file <_io.BufferedRandom name='/Users/yifeitao/Desktop/SoundHub/SoundHub/train_with_perch/pacific_chorus_frog_5sec/test_5sec/clips/t-11113588_468.wav'>\n",
      "  clip.export(clip_path, format=\"wav\")\n",
      "/var/folders/v4/chwhws6x79ncg51bwr5778b00000gn/T/ipykernel_4790/873706465.py:40: ResourceWarning: unclosed file <_io.BufferedRandom name='/Users/yifeitao/Desktop/SoundHub/SoundHub/train_with_perch/pacific_chorus_frog_5sec/test_5sec/clips/t-11127057_650.wav'>\n",
      "  clip.export(clip_path, format=\"wav\")\n",
      "/var/folders/v4/chwhws6x79ncg51bwr5778b00000gn/T/ipykernel_4790/873706465.py:40: ResourceWarning: unclosed file <_io.BufferedRandom name='/Users/yifeitao/Desktop/SoundHub/SoundHub/train_with_perch/pacific_chorus_frog_5sec/test_5sec/clips/t-11113588_769.wav'>\n",
      "  clip.export(clip_path, format=\"wav\")\n",
      "/var/folders/v4/chwhws6x79ncg51bwr5778b00000gn/T/ipykernel_4790/873706465.py:40: ResourceWarning: unclosed file <_io.BufferedRandom name='/Users/yifeitao/Desktop/SoundHub/SoundHub/train_with_perch/pacific_chorus_frog_5sec/test_5sec/clips/t-11113588_125.wav'>\n",
      "  clip.export(clip_path, format=\"wav\")\n",
      "/var/folders/v4/chwhws6x79ncg51bwr5778b00000gn/T/ipykernel_4790/873706465.py:40: ResourceWarning: unclosed file <_io.BufferedRandom name='/Users/yifeitao/Desktop/SoundHub/SoundHub/train_with_perch/pacific_chorus_frog_5sec/test_5sec/clips/t-11127057_663.wav'>\n",
      "  clip.export(clip_path, format=\"wav\")\n",
      "/var/folders/v4/chwhws6x79ncg51bwr5778b00000gn/T/ipykernel_4790/873706465.py:40: ResourceWarning: unclosed file <_io.BufferedRandom name='/Users/yifeitao/Desktop/SoundHub/SoundHub/train_with_perch/pacific_chorus_frog_5sec/test_5sec/clips/t-11113588_516.wav'>\n",
      "  clip.export(clip_path, format=\"wav\")\n",
      "/var/folders/v4/chwhws6x79ncg51bwr5778b00000gn/T/ipykernel_4790/873706465.py:40: ResourceWarning: unclosed file <_io.BufferedRandom name='/Users/yifeitao/Desktop/SoundHub/SoundHub/train_with_perch/pacific_chorus_frog_5sec/test_5sec/clips/t-11031961_325_9sec_1_a.wav'>\n",
      "  clip.export(clip_path, format=\"wav\")\n",
      "/var/folders/v4/chwhws6x79ncg51bwr5778b00000gn/T/ipykernel_4790/873706465.py:40: ResourceWarning: unclosed file <_io.BufferedRandom name='/Users/yifeitao/Desktop/SoundHub/SoundHub/train_with_perch/pacific_chorus_frog_5sec/test_5sec/clips/t-11127057_591.wav'>\n",
      "  clip.export(clip_path, format=\"wav\")\n",
      "/var/folders/v4/chwhws6x79ncg51bwr5778b00000gn/T/ipykernel_4790/873706465.py:40: ResourceWarning: unclosed file <_io.BufferedRandom name='/Users/yifeitao/Desktop/SoundHub/SoundHub/train_with_perch/pacific_chorus_frog_5sec/test_5sec/clips/t-11127057_761.wav'>\n",
      "  clip.export(clip_path, format=\"wav\")\n",
      "/var/folders/v4/chwhws6x79ncg51bwr5778b00000gn/T/ipykernel_4790/873706465.py:40: ResourceWarning: unclosed file <_io.BufferedRandom name='/Users/yifeitao/Desktop/SoundHub/SoundHub/train_with_perch/pacific_chorus_frog_5sec/test_5sec/clips/t-11031961_321_9sec_1_a.wav'>\n",
      "  clip.export(clip_path, format=\"wav\")\n",
      "/var/folders/v4/chwhws6x79ncg51bwr5778b00000gn/T/ipykernel_4790/873706465.py:40: ResourceWarning: unclosed file <_io.BufferedRandom name='/Users/yifeitao/Desktop/SoundHub/SoundHub/train_with_perch/pacific_chorus_frog_5sec/test_5sec/clips/t-11113588_28.wav'>\n",
      "  clip.export(clip_path, format=\"wav\")\n",
      "/var/folders/v4/chwhws6x79ncg51bwr5778b00000gn/T/ipykernel_4790/873706465.py:40: ResourceWarning: unclosed file <_io.BufferedRandom name='/Users/yifeitao/Desktop/SoundHub/SoundHub/train_with_perch/pacific_chorus_frog_5sec/test_5sec/clips/t-11127057_446.wav'>\n",
      "  clip.export(clip_path, format=\"wav\")\n",
      "/var/folders/v4/chwhws6x79ncg51bwr5778b00000gn/T/ipykernel_4790/873706465.py:40: ResourceWarning: unclosed file <_io.BufferedRandom name='/Users/yifeitao/Desktop/SoundHub/SoundHub/train_with_perch/pacific_chorus_frog_5sec/test_5sec/clips/t-11127057_24.wav'>\n",
      "  clip.export(clip_path, format=\"wav\")\n",
      "/var/folders/v4/chwhws6x79ncg51bwr5778b00000gn/T/ipykernel_4790/873706465.py:40: ResourceWarning: unclosed file <_io.BufferedRandom name='/Users/yifeitao/Desktop/SoundHub/SoundHub/train_with_perch/pacific_chorus_frog_5sec/test_5sec/clips/t-11113588_454.wav'>\n",
      "  clip.export(clip_path, format=\"wav\")\n",
      "/var/folders/v4/chwhws6x79ncg51bwr5778b00000gn/T/ipykernel_4790/873706465.py:40: ResourceWarning: unclosed file <_io.BufferedRandom name='/Users/yifeitao/Desktop/SoundHub/SoundHub/train_with_perch/pacific_chorus_frog_5sec/test_5sec/clips/t-11031961_306_9sec_1_a.wav'>\n",
      "  clip.export(clip_path, format=\"wav\")\n",
      "/var/folders/v4/chwhws6x79ncg51bwr5778b00000gn/T/ipykernel_4790/873706465.py:40: ResourceWarning: unclosed file <_io.BufferedRandom name='/Users/yifeitao/Desktop/SoundHub/SoundHub/train_with_perch/pacific_chorus_frog_5sec/test_5sec/clips/t-11127057_40.wav'>\n",
      "  clip.export(clip_path, format=\"wav\")\n",
      "/var/folders/v4/chwhws6x79ncg51bwr5778b00000gn/T/ipykernel_4790/873706465.py:40: ResourceWarning: unclosed file <_io.BufferedRandom name='/Users/yifeitao/Desktop/SoundHub/SoundHub/train_with_perch/pacific_chorus_frog_5sec/test_5sec/clips/t-11113588_489.wav'>\n",
      "  clip.export(clip_path, format=\"wav\")\n",
      "/var/folders/v4/chwhws6x79ncg51bwr5778b00000gn/T/ipykernel_4790/873706465.py:40: ResourceWarning: unclosed file <_io.BufferedRandom name='/Users/yifeitao/Desktop/SoundHub/SoundHub/train_with_perch/pacific_chorus_frog_5sec/test_5sec/clips/t-11127057_695.wav'>\n",
      "  clip.export(clip_path, format=\"wav\")\n",
      "/var/folders/v4/chwhws6x79ncg51bwr5778b00000gn/T/ipykernel_4790/873706465.py:40: ResourceWarning: unclosed file <_io.BufferedRandom name='/Users/yifeitao/Desktop/SoundHub/SoundHub/train_with_perch/pacific_chorus_frog_5sec/test_5sec/clips/t-11127057_696.wav'>\n",
      "  clip.export(clip_path, format=\"wav\")\n",
      "/var/folders/v4/chwhws6x79ncg51bwr5778b00000gn/T/ipykernel_4790/873706465.py:40: ResourceWarning: unclosed file <_io.BufferedRandom name='/Users/yifeitao/Desktop/SoundHub/SoundHub/train_with_perch/pacific_chorus_frog_5sec/test_5sec/clips/t-11127057_545.wav'>\n",
      "  clip.export(clip_path, format=\"wav\")\n",
      "/var/folders/v4/chwhws6x79ncg51bwr5778b00000gn/T/ipykernel_4790/873706465.py:40: ResourceWarning: unclosed file <_io.BufferedRandom name='/Users/yifeitao/Desktop/SoundHub/SoundHub/train_with_perch/pacific_chorus_frog_5sec/test_5sec/clips/t-11127057_602.wav'>\n",
      "  clip.export(clip_path, format=\"wav\")\n",
      "/var/folders/v4/chwhws6x79ncg51bwr5778b00000gn/T/ipykernel_4790/873706465.py:40: ResourceWarning: unclosed file <_io.BufferedRandom name='/Users/yifeitao/Desktop/SoundHub/SoundHub/train_with_perch/pacific_chorus_frog_5sec/test_5sec/clips/t-11113588_406.wav'>\n",
      "  clip.export(clip_path, format=\"wav\")\n",
      "/var/folders/v4/chwhws6x79ncg51bwr5778b00000gn/T/ipykernel_4790/873706465.py:40: ResourceWarning: unclosed file <_io.BufferedRandom name='/Users/yifeitao/Desktop/SoundHub/SoundHub/train_with_perch/pacific_chorus_frog_5sec/test_5sec/clips/t-11031961_263_9sec_1_a.wav'>\n",
      "  clip.export(clip_path, format=\"wav\")\n",
      "/var/folders/v4/chwhws6x79ncg51bwr5778b00000gn/T/ipykernel_4790/873706465.py:40: ResourceWarning: unclosed file <_io.BufferedRandom name='/Users/yifeitao/Desktop/SoundHub/SoundHub/train_with_perch/pacific_chorus_frog_5sec/test_5sec/clips/t-11113588_479.wav'>\n",
      "  clip.export(clip_path, format=\"wav\")\n",
      "/var/folders/v4/chwhws6x79ncg51bwr5778b00000gn/T/ipykernel_4790/873706465.py:40: ResourceWarning: unclosed file <_io.BufferedRandom name='/Users/yifeitao/Desktop/SoundHub/SoundHub/train_with_perch/pacific_chorus_frog_5sec/test_5sec/clips/t-11113588_8.wav'>\n",
      "  clip.export(clip_path, format=\"wav\")\n",
      "/var/folders/v4/chwhws6x79ncg51bwr5778b00000gn/T/ipykernel_4790/873706465.py:40: ResourceWarning: unclosed file <_io.BufferedRandom name='/Users/yifeitao/Desktop/SoundHub/SoundHub/train_with_perch/pacific_chorus_frog_5sec/test_5sec/clips/t-11031961_262_9sec_1_a.wav'>\n",
      "  clip.export(clip_path, format=\"wav\")\n",
      "/var/folders/v4/chwhws6x79ncg51bwr5778b00000gn/T/ipykernel_4790/873706465.py:40: ResourceWarning: unclosed file <_io.BufferedRandom name='/Users/yifeitao/Desktop/SoundHub/SoundHub/train_with_perch/pacific_chorus_frog_5sec/test_5sec/clips/t-11127057_556.wav'>\n",
      "  clip.export(clip_path, format=\"wav\")\n",
      "/var/folders/v4/chwhws6x79ncg51bwr5778b00000gn/T/ipykernel_4790/873706465.py:40: ResourceWarning: unclosed file <_io.BufferedRandom name='/Users/yifeitao/Desktop/SoundHub/SoundHub/train_with_perch/pacific_chorus_frog_5sec/test_5sec/clips/t-11127057_68.wav'>\n",
      "  clip.export(clip_path, format=\"wav\")\n",
      "/var/folders/v4/chwhws6x79ncg51bwr5778b00000gn/T/ipykernel_4790/873706465.py:40: ResourceWarning: unclosed file <_io.BufferedRandom name='/Users/yifeitao/Desktop/SoundHub/SoundHub/train_with_perch/pacific_chorus_frog_5sec/test_5sec/clips/t-11113588_767.wav'>\n",
      "  clip.export(clip_path, format=\"wav\")\n",
      "/var/folders/v4/chwhws6x79ncg51bwr5778b00000gn/T/ipykernel_4790/873706465.py:40: ResourceWarning: unclosed file <_io.BufferedRandom name='/Users/yifeitao/Desktop/SoundHub/SoundHub/train_with_perch/pacific_chorus_frog_5sec/test_5sec/clips/t-11113588_482.wav'>\n",
      "  clip.export(clip_path, format=\"wav\")\n",
      "/var/folders/v4/chwhws6x79ncg51bwr5778b00000gn/T/ipykernel_4790/873706465.py:40: ResourceWarning: unclosed file <_io.BufferedRandom name='/Users/yifeitao/Desktop/SoundHub/SoundHub/train_with_perch/pacific_chorus_frog_5sec/test_5sec/clips/t-11127057_533.wav'>\n",
      "  clip.export(clip_path, format=\"wav\")\n",
      "/var/folders/v4/chwhws6x79ncg51bwr5778b00000gn/T/ipykernel_4790/873706465.py:40: ResourceWarning: unclosed file <_io.BufferedRandom name='/Users/yifeitao/Desktop/SoundHub/SoundHub/train_with_perch/pacific_chorus_frog_5sec/test_5sec/clips/t-11127057_641.wav'>\n",
      "  clip.export(clip_path, format=\"wav\")\n",
      "/var/folders/v4/chwhws6x79ncg51bwr5778b00000gn/T/ipykernel_4790/873706465.py:40: ResourceWarning: unclosed file <_io.BufferedRandom name='/Users/yifeitao/Desktop/SoundHub/SoundHub/train_with_perch/pacific_chorus_frog_5sec/test_5sec/clips/t-11127057_804.wav'>\n",
      "  clip.export(clip_path, format=\"wav\")\n",
      "/var/folders/v4/chwhws6x79ncg51bwr5778b00000gn/T/ipykernel_4790/873706465.py:40: ResourceWarning: unclosed file <_io.BufferedRandom name='/Users/yifeitao/Desktop/SoundHub/SoundHub/train_with_perch/pacific_chorus_frog_5sec/test_5sec/clips/t-11127057_803.wav'>\n",
      "  clip.export(clip_path, format=\"wav\")\n",
      "/var/folders/v4/chwhws6x79ncg51bwr5778b00000gn/T/ipykernel_4790/873706465.py:40: ResourceWarning: unclosed file <_io.BufferedRandom name='/Users/yifeitao/Desktop/SoundHub/SoundHub/train_with_perch/pacific_chorus_frog_5sec/test_5sec/clips/t-11113588_548.wav'>\n",
      "  clip.export(clip_path, format=\"wav\")\n",
      "/var/folders/v4/chwhws6x79ncg51bwr5778b00000gn/T/ipykernel_4790/873706465.py:40: ResourceWarning: unclosed file <_io.BufferedRandom name='/Users/yifeitao/Desktop/SoundHub/SoundHub/train_with_perch/pacific_chorus_frog_5sec/test_5sec/clips/t-11127057_384.wav'>\n",
      "  clip.export(clip_path, format=\"wav\")\n",
      "/var/folders/v4/chwhws6x79ncg51bwr5778b00000gn/T/ipykernel_4790/873706465.py:40: ResourceWarning: unclosed file <_io.BufferedRandom name='/Users/yifeitao/Desktop/SoundHub/SoundHub/train_with_perch/pacific_chorus_frog_5sec/test_5sec/clips/t-11031961_254_9sec_1_a.wav'>\n",
      "  clip.export(clip_path, format=\"wav\")\n",
      "/var/folders/v4/chwhws6x79ncg51bwr5778b00000gn/T/ipykernel_4790/873706465.py:40: ResourceWarning: unclosed file <_io.BufferedRandom name='/Users/yifeitao/Desktop/SoundHub/SoundHub/train_with_perch/pacific_chorus_frog_5sec/test_5sec/clips/t-11113588_57.wav'>\n",
      "  clip.export(clip_path, format=\"wav\")\n",
      "/var/folders/v4/chwhws6x79ncg51bwr5778b00000gn/T/ipykernel_4790/873706465.py:40: ResourceWarning: unclosed file <_io.BufferedRandom name='/Users/yifeitao/Desktop/SoundHub/SoundHub/train_with_perch/pacific_chorus_frog_5sec/test_5sec/clips/t-11127057_64.wav'>\n",
      "  clip.export(clip_path, format=\"wav\")\n",
      "/var/folders/v4/chwhws6x79ncg51bwr5778b00000gn/T/ipykernel_4790/873706465.py:40: ResourceWarning: unclosed file <_io.BufferedRandom name='/Users/yifeitao/Desktop/SoundHub/SoundHub/train_with_perch/pacific_chorus_frog_5sec/test_5sec/clips/t-11127057_467.wav'>\n",
      "  clip.export(clip_path, format=\"wav\")\n",
      "/var/folders/v4/chwhws6x79ncg51bwr5778b00000gn/T/ipykernel_4790/873706465.py:40: ResourceWarning: unclosed file <_io.BufferedRandom name='/Users/yifeitao/Desktop/SoundHub/SoundHub/train_with_perch/pacific_chorus_frog_5sec/test_5sec/clips/t-11127057_337.wav'>\n",
      "  clip.export(clip_path, format=\"wav\")\n",
      "/var/folders/v4/chwhws6x79ncg51bwr5778b00000gn/T/ipykernel_4790/873706465.py:40: ResourceWarning: unclosed file <_io.BufferedRandom name='/Users/yifeitao/Desktop/SoundHub/SoundHub/train_with_perch/pacific_chorus_frog_5sec/test_5sec/clips/t-11031961_269_9sec_1_a.wav'>\n",
      "  clip.export(clip_path, format=\"wav\")\n",
      "/var/folders/v4/chwhws6x79ncg51bwr5778b00000gn/T/ipykernel_4790/873706465.py:40: ResourceWarning: unclosed file <_io.BufferedRandom name='/Users/yifeitao/Desktop/SoundHub/SoundHub/train_with_perch/pacific_chorus_frog_5sec/test_5sec/clips/t-11127057_267.wav'>\n",
      "  clip.export(clip_path, format=\"wav\")\n",
      "/var/folders/v4/chwhws6x79ncg51bwr5778b00000gn/T/ipykernel_4790/873706465.py:40: ResourceWarning: unclosed file <_io.BufferedRandom name='/Users/yifeitao/Desktop/SoundHub/SoundHub/train_with_perch/pacific_chorus_frog_5sec/test_5sec/clips/t-11113588_762.wav'>\n",
      "  clip.export(clip_path, format=\"wav\")\n",
      "/var/folders/v4/chwhws6x79ncg51bwr5778b00000gn/T/ipykernel_4790/873706465.py:40: ResourceWarning: unclosed file <_io.BufferedRandom name='/Users/yifeitao/Desktop/SoundHub/SoundHub/train_with_perch/pacific_chorus_frog_5sec/test_5sec/clips/t-11127057_424.wav'>\n",
      "  clip.export(clip_path, format=\"wav\")\n",
      "/var/folders/v4/chwhws6x79ncg51bwr5778b00000gn/T/ipykernel_4790/873706465.py:40: ResourceWarning: unclosed file <_io.BufferedRandom name='/Users/yifeitao/Desktop/SoundHub/SoundHub/train_with_perch/pacific_chorus_frog_5sec/test_5sec/clips/t-11113588_567.wav'>\n",
      "  clip.export(clip_path, format=\"wav\")\n",
      "/var/folders/v4/chwhws6x79ncg51bwr5778b00000gn/T/ipykernel_4790/873706465.py:40: ResourceWarning: unclosed file <_io.BufferedRandom name='/Users/yifeitao/Desktop/SoundHub/SoundHub/train_with_perch/pacific_chorus_frog_5sec/test_5sec/clips/t-11127057_475.wav'>\n",
      "  clip.export(clip_path, format=\"wav\")\n",
      "/var/folders/v4/chwhws6x79ncg51bwr5778b00000gn/T/ipykernel_4790/873706465.py:40: ResourceWarning: unclosed file <_io.BufferedRandom name='/Users/yifeitao/Desktop/SoundHub/SoundHub/train_with_perch/pacific_chorus_frog_5sec/test_5sec/clips/t-11113588_556.wav'>\n",
      "  clip.export(clip_path, format=\"wav\")\n",
      "/var/folders/v4/chwhws6x79ncg51bwr5778b00000gn/T/ipykernel_4790/873706465.py:40: ResourceWarning: unclosed file <_io.BufferedRandom name='/Users/yifeitao/Desktop/SoundHub/SoundHub/train_with_perch/pacific_chorus_frog_5sec/test_5sec/clips/t-11113588_38.wav'>\n",
      "  clip.export(clip_path, format=\"wav\")\n",
      "/var/folders/v4/chwhws6x79ncg51bwr5778b00000gn/T/ipykernel_4790/873706465.py:40: ResourceWarning: unclosed file <_io.BufferedRandom name='/Users/yifeitao/Desktop/SoundHub/SoundHub/train_with_perch/pacific_chorus_frog_5sec/test_5sec/clips/t-11127057_170.wav'>\n",
      "  clip.export(clip_path, format=\"wav\")\n",
      "/var/folders/v4/chwhws6x79ncg51bwr5778b00000gn/T/ipykernel_4790/873706465.py:40: ResourceWarning: unclosed file <_io.BufferedRandom name='/Users/yifeitao/Desktop/SoundHub/SoundHub/train_with_perch/pacific_chorus_frog_5sec/test_5sec/clips/t-11031961_298_9sec_1_a.wav'>\n",
      "  clip.export(clip_path, format=\"wav\")\n",
      "/var/folders/v4/chwhws6x79ncg51bwr5778b00000gn/T/ipykernel_4790/873706465.py:40: ResourceWarning: unclosed file <_io.BufferedRandom name='/Users/yifeitao/Desktop/SoundHub/SoundHub/train_with_perch/pacific_chorus_frog_5sec/test_5sec/clips/t-11127057_252.wav'>\n",
      "  clip.export(clip_path, format=\"wav\")\n",
      "/var/folders/v4/chwhws6x79ncg51bwr5778b00000gn/T/ipykernel_4790/873706465.py:40: ResourceWarning: unclosed file <_io.BufferedRandom name='/Users/yifeitao/Desktop/SoundHub/SoundHub/train_with_perch/pacific_chorus_frog_5sec/test_5sec/clips/t-11127057_200.wav'>\n",
      "  clip.export(clip_path, format=\"wav\")\n",
      "/var/folders/v4/chwhws6x79ncg51bwr5778b00000gn/T/ipykernel_4790/873706465.py:40: ResourceWarning: unclosed file <_io.BufferedRandom name='/Users/yifeitao/Desktop/SoundHub/SoundHub/train_with_perch/pacific_chorus_frog_5sec/test_5sec/clips/t-11031961_329_9sec_1_a.wav'>\n",
      "  clip.export(clip_path, format=\"wav\")\n",
      "/var/folders/v4/chwhws6x79ncg51bwr5778b00000gn/T/ipykernel_4790/873706465.py:40: ResourceWarning: unclosed file <_io.BufferedRandom name='/Users/yifeitao/Desktop/SoundHub/SoundHub/train_with_perch/pacific_chorus_frog_5sec/test_5sec/clips/t-11127057_682.wav'>\n",
      "  clip.export(clip_path, format=\"wav\")\n",
      "/var/folders/v4/chwhws6x79ncg51bwr5778b00000gn/T/ipykernel_4790/873706465.py:40: ResourceWarning: unclosed file <_io.BufferedRandom name='/Users/yifeitao/Desktop/SoundHub/SoundHub/train_with_perch/pacific_chorus_frog_5sec/test_5sec/clips/t-11113588_451.wav'>\n",
      "  clip.export(clip_path, format=\"wav\")\n",
      "/var/folders/v4/chwhws6x79ncg51bwr5778b00000gn/T/ipykernel_4790/873706465.py:40: ResourceWarning: unclosed file <_io.BufferedRandom name='/Users/yifeitao/Desktop/SoundHub/SoundHub/train_with_perch/pacific_chorus_frog_5sec/test_5sec/clips/t-11031961_316_9sec_1_a.wav'>\n",
      "  clip.export(clip_path, format=\"wav\")\n",
      "/var/folders/v4/chwhws6x79ncg51bwr5778b00000gn/T/ipykernel_4790/873706465.py:40: ResourceWarning: unclosed file <_io.BufferedRandom name='/Users/yifeitao/Desktop/SoundHub/SoundHub/train_with_perch/pacific_chorus_frog_5sec/test_5sec/clips/t-11113588_382.wav'>\n",
      "  clip.export(clip_path, format=\"wav\")\n",
      "/var/folders/v4/chwhws6x79ncg51bwr5778b00000gn/T/ipykernel_4790/873706465.py:40: ResourceWarning: unclosed file <_io.BufferedRandom name='/Users/yifeitao/Desktop/SoundHub/SoundHub/train_with_perch/pacific_chorus_frog_5sec/test_5sec/clips/t-11127057_534.wav'>\n",
      "  clip.export(clip_path, format=\"wav\")\n",
      "/var/folders/v4/chwhws6x79ncg51bwr5778b00000gn/T/ipykernel_4790/873706465.py:40: ResourceWarning: unclosed file <_io.BufferedRandom name='/Users/yifeitao/Desktop/SoundHub/SoundHub/train_with_perch/pacific_chorus_frog_5sec/test_5sec/clips/t-11127057_765.wav'>\n",
      "  clip.export(clip_path, format=\"wav\")\n",
      "/var/folders/v4/chwhws6x79ncg51bwr5778b00000gn/T/ipykernel_4790/873706465.py:40: ResourceWarning: unclosed file <_io.BufferedRandom name='/Users/yifeitao/Desktop/SoundHub/SoundHub/train_with_perch/pacific_chorus_frog_5sec/test_5sec/clips/t-11113588_530.wav'>\n",
      "  clip.export(clip_path, format=\"wav\")\n",
      "/var/folders/v4/chwhws6x79ncg51bwr5778b00000gn/T/ipykernel_4790/873706465.py:40: ResourceWarning: unclosed file <_io.BufferedRandom name='/Users/yifeitao/Desktop/SoundHub/SoundHub/train_with_perch/pacific_chorus_frog_5sec/test_5sec/clips/t-11113588_100.wav'>\n",
      "  clip.export(clip_path, format=\"wav\")\n",
      "/var/folders/v4/chwhws6x79ncg51bwr5778b00000gn/T/ipykernel_4790/873706465.py:40: ResourceWarning: unclosed file <_io.BufferedRandom name='/Users/yifeitao/Desktop/SoundHub/SoundHub/train_with_perch/pacific_chorus_frog_5sec/test_5sec/clips/t-11127057_311.wav'>\n",
      "  clip.export(clip_path, format=\"wav\")\n",
      "/var/folders/v4/chwhws6x79ncg51bwr5778b00000gn/T/ipykernel_4790/873706465.py:40: ResourceWarning: unclosed file <_io.BufferedRandom name='/Users/yifeitao/Desktop/SoundHub/SoundHub/train_with_perch/pacific_chorus_frog_5sec/test_5sec/clips/t-11127057_807.wav'>\n",
      "  clip.export(clip_path, format=\"wav\")\n",
      "/var/folders/v4/chwhws6x79ncg51bwr5778b00000gn/T/ipykernel_4790/873706465.py:40: ResourceWarning: unclosed file <_io.BufferedRandom name='/Users/yifeitao/Desktop/SoundHub/SoundHub/train_with_perch/pacific_chorus_frog_5sec/test_5sec/clips/t-11127057_674.wav'>\n",
      "  clip.export(clip_path, format=\"wav\")\n",
      "/var/folders/v4/chwhws6x79ncg51bwr5778b00000gn/T/ipykernel_4790/873706465.py:40: ResourceWarning: unclosed file <_io.BufferedRandom name='/Users/yifeitao/Desktop/SoundHub/SoundHub/train_with_perch/pacific_chorus_frog_5sec/test_5sec/clips/t-11127057_788.wav'>\n",
      "  clip.export(clip_path, format=\"wav\")\n",
      "/var/folders/v4/chwhws6x79ncg51bwr5778b00000gn/T/ipykernel_4790/873706465.py:40: ResourceWarning: unclosed file <_io.BufferedRandom name='/Users/yifeitao/Desktop/SoundHub/SoundHub/train_with_perch/pacific_chorus_frog_5sec/test_5sec/clips/t-11113588_542.wav'>\n",
      "  clip.export(clip_path, format=\"wav\")\n",
      "/var/folders/v4/chwhws6x79ncg51bwr5778b00000gn/T/ipykernel_4790/873706465.py:40: ResourceWarning: unclosed file <_io.BufferedRandom name='/Users/yifeitao/Desktop/SoundHub/SoundHub/train_with_perch/pacific_chorus_frog_5sec/test_5sec/clips/t-11113588_106.wav'>\n",
      "  clip.export(clip_path, format=\"wav\")\n",
      "/var/folders/v4/chwhws6x79ncg51bwr5778b00000gn/T/ipykernel_4790/873706465.py:40: ResourceWarning: unclosed file <_io.BufferedRandom name='/Users/yifeitao/Desktop/SoundHub/SoundHub/train_with_perch/pacific_chorus_frog_5sec/test_5sec/clips/t-11113588_404.wav'>\n",
      "  clip.export(clip_path, format=\"wav\")\n",
      "/var/folders/v4/chwhws6x79ncg51bwr5778b00000gn/T/ipykernel_4790/873706465.py:40: ResourceWarning: unclosed file <_io.BufferedRandom name='/Users/yifeitao/Desktop/SoundHub/SoundHub/train_with_perch/pacific_chorus_frog_5sec/test_5sec/clips/t-11113588_122.wav'>\n",
      "  clip.export(clip_path, format=\"wav\")\n",
      "/var/folders/v4/chwhws6x79ncg51bwr5778b00000gn/T/ipykernel_4790/873706465.py:40: ResourceWarning: unclosed file <_io.BufferedRandom name='/Users/yifeitao/Desktop/SoundHub/SoundHub/train_with_perch/pacific_chorus_frog_5sec/test_5sec/clips/t-11113588_136.wav'>\n",
      "  clip.export(clip_path, format=\"wav\")\n",
      "/var/folders/v4/chwhws6x79ncg51bwr5778b00000gn/T/ipykernel_4790/873706465.py:40: ResourceWarning: unclosed file <_io.BufferedRandom name='/Users/yifeitao/Desktop/SoundHub/SoundHub/train_with_perch/pacific_chorus_frog_5sec/test_5sec/clips/t-11127057_32.wav'>\n",
      "  clip.export(clip_path, format=\"wav\")\n",
      "/var/folders/v4/chwhws6x79ncg51bwr5778b00000gn/T/ipykernel_4790/873706465.py:40: ResourceWarning: unclosed file <_io.BufferedRandom name='/Users/yifeitao/Desktop/SoundHub/SoundHub/train_with_perch/pacific_chorus_frog_5sec/test_5sec/clips/t-11113588_132.wav'>\n",
      "  clip.export(clip_path, format=\"wav\")\n",
      "/var/folders/v4/chwhws6x79ncg51bwr5778b00000gn/T/ipykernel_4790/873706465.py:40: ResourceWarning: unclosed file <_io.BufferedRandom name='/Users/yifeitao/Desktop/SoundHub/SoundHub/train_with_perch/pacific_chorus_frog_5sec/test_5sec/clips/t-11113588_474.wav'>\n",
      "  clip.export(clip_path, format=\"wav\")\n",
      "/var/folders/v4/chwhws6x79ncg51bwr5778b00000gn/T/ipykernel_4790/873706465.py:40: ResourceWarning: unclosed file <_io.BufferedRandom name='/Users/yifeitao/Desktop/SoundHub/SoundHub/train_with_perch/pacific_chorus_frog_5sec/test_5sec/clips/t-11127057_407.wav'>\n",
      "  clip.export(clip_path, format=\"wav\")\n",
      "/var/folders/v4/chwhws6x79ncg51bwr5778b00000gn/T/ipykernel_4790/873706465.py:40: ResourceWarning: unclosed file <_io.BufferedRandom name='/Users/yifeitao/Desktop/SoundHub/SoundHub/train_with_perch/pacific_chorus_frog_5sec/test_5sec/clips/t-11127057_194.wav'>\n",
      "  clip.export(clip_path, format=\"wav\")\n",
      "/var/folders/v4/chwhws6x79ncg51bwr5778b00000gn/T/ipykernel_4790/873706465.py:40: ResourceWarning: unclosed file <_io.BufferedRandom name='/Users/yifeitao/Desktop/SoundHub/SoundHub/train_with_perch/pacific_chorus_frog_5sec/test_5sec/clips/t-11113588_507.wav'>\n",
      "  clip.export(clip_path, format=\"wav\")\n",
      "/var/folders/v4/chwhws6x79ncg51bwr5778b00000gn/T/ipykernel_4790/873706465.py:40: ResourceWarning: unclosed file <_io.BufferedRandom name='/Users/yifeitao/Desktop/SoundHub/SoundHub/train_with_perch/pacific_chorus_frog_5sec/test_5sec/clips/t-11127057_328.wav'>\n",
      "  clip.export(clip_path, format=\"wav\")\n",
      "/var/folders/v4/chwhws6x79ncg51bwr5778b00000gn/T/ipykernel_4790/873706465.py:40: ResourceWarning: unclosed file <_io.BufferedRandom name='/Users/yifeitao/Desktop/SoundHub/SoundHub/train_with_perch/pacific_chorus_frog_5sec/test_5sec/clips/t-11113588_478.wav'>\n",
      "  clip.export(clip_path, format=\"wav\")\n",
      "/var/folders/v4/chwhws6x79ncg51bwr5778b00000gn/T/ipykernel_4790/873706465.py:40: ResourceWarning: unclosed file <_io.BufferedRandom name='/Users/yifeitao/Desktop/SoundHub/SoundHub/train_with_perch/pacific_chorus_frog_5sec/test_5sec/clips/t-11031961_268_9sec_1_a.wav'>\n",
      "  clip.export(clip_path, format=\"wav\")\n"
     ]
    }
   ],
   "source": [
    "csv_path = Path(\"/Users/yifeitao/Desktop/SoundHub/SoundHub/train_with_perch/pacific_chorus_frog_5sec/test_5sec/test_dataset_5sec.csv\")\n",
    "audio_file_path = Path(\"/Users/yifeitao/Desktop/SoundHub/SoundHub/train_with_perch/pacific_chorus_frog_5sec/test_5sec/test_dataset_5sec.wav\")\n",
    "output_folder = Path(\"/Users/yifeitao/Desktop/SoundHub/SoundHub/train_with_perch/pacific_chorus_frog_5sec/test_5sec/clips\")\n",
    "output_csv_dir = Path(\"/Users/yifeitao/Desktop/SoundHub/SoundHub/train_with_perch/pacific_chorus_frog_5sec/test_5sec/\")\n",
    "output_csv = output_csv_dir / \"processed_test_dataset_5sec.csv\"\n",
    "\n",
    "# Ensure the output directories exist\n",
    "output_folder.mkdir(parents=True, exist_ok=True)\n",
    "output_csv_dir.mkdir(parents=True, exist_ok=True)\n",
    "\n",
    "# Read the CSV file\n",
    "df_csv = pd.read_csv(csv_path)\n",
    "\n",
    "# Determine label based on conditions\n",
    "df_csv[\"A\"] = df_csv.apply(\n",
    "    lambda row: 1 if row[\"label\"] == 1 and row[\"Annotation\"] == \"PCF\" else 0, axis=1\n",
    ")\n",
    "\n",
    "# Load the audio file\n",
    "audio = AudioSegment.from_file(audio_file_path)\n",
    "\n",
    "# Initialize lists for DataFrame creation\n",
    "file_paths = []\n",
    "start_times = []\n",
    "end_times = []\n",
    "labels = []\n",
    "\n",
    "# Partition the audio file into 5-second clips based on CSV\n",
    "for index, row in df_csv.iterrows():\n",
    "    start_time = index * 5 * 1000  # in milliseconds\n",
    "    end_time = start_time + 5 * 1000  # 5 seconds later\n",
    "\n",
    "    # Extract clip\n",
    "    clip = audio[start_time:end_time]\n",
    "\n",
    "    # Save clip to the output folder\n",
    "    #WT does not have unique row identifier filename column\n",
    "    filename = row[\"filename\"]\n",
    "    clip_path = output_folder / filename\n",
    "    clip.export(clip_path, format=\"wav\")\n",
    "\n",
    "    # Add details to lists\n",
    "    file_paths.append(str(clip_path))\n",
    "    start_times.append(0.0)  \n",
    "    end_times.append(5.0)  \n",
    "    labels.append(row[\"A\"])\n",
    "\n",
    "# Create the DataFrame\n",
    "df_processed = pd.DataFrame({\n",
    "    \"file\": file_paths,\n",
    "    \"start_time\": start_times,\n",
    "    \"end_time\": end_times,\n",
    "    \"A\": labels\n",
    "})\n",
    "df_processed.set_index([\"file\", \"start_time\", \"end_time\"], inplace=True)\n",
    "df_processed.columns = ['A']\n",
    "# Save the DataFrame to a CSV file\n",
    "df_processed.to_csv(output_csv, index=False)"
   ]
  },
  {
   "cell_type": "code",
   "execution_count": 8,
   "metadata": {},
   "outputs": [],
   "source": [
    "labels_val = df_processed"
   ]
  },
  {
   "cell_type": "code",
   "execution_count": 9,
   "metadata": {},
   "outputs": [
    {
     "data": {
      "application/vnd.jupyter.widget-view+json": {
       "model_id": "4d7fa906c8374419a167d0c56abca319",
       "version_major": 2,
       "version_minor": 0
      },
      "text/plain": [
       "  0%|          | 0/5 [00:00<?, ?it/s]"
      ]
     },
     "metadata": {},
     "output_type": "display_data"
    },
    {
     "name": "stderr",
     "output_type": "stream",
     "text": [
      "/opt/anaconda3/envs/opensoundscape_env/lib/python3.9/site-packages/opensoundscape/audio.py:1725: UserWarning: Audio object is shorter than requested duration: 4.975 sec instead of 5.0 sec\n",
      "  warnings.warn(error_msg)\n",
      "/opt/anaconda3/envs/opensoundscape_env/lib/python3.9/site-packages/opensoundscape/audio.py:1713: UserWarning: audio object has zero samples\n",
      "  warnings.warn(error_msg)\n"
     ]
    }
   ],
   "source": [
    "emb_val = model.embed(labels_val, return_dfs=False, batch_size=32, num_workers=0)"
   ]
  },
  {
   "cell_type": "code",
   "execution_count": 10,
   "metadata": {},
   "outputs": [
    {
     "name": "stdout",
     "output_type": "stream",
     "text": [
      "Original shape of emb_train: torch.Size([50, 512])\n",
      "Reshaped emb_train_25: torch.Size([50, 1, 32, 16])\n",
      "Reshaped emb_val: torch.Size([150, 1, 32, 16])\n"
     ]
    }
   ],
   "source": [
    "emb_train_25 = torch.tensor(emb_train_25, dtype=torch.float32)\n",
    "emb_val = torch.tensor(emb_val, dtype=torch.float32)\n",
    "\n",
    "# Check the shape of the embeddings\n",
    "print(f\"Original shape of emb_train: {emb_train_25.shape}\")\n",
    "\n",
    "# Reshape embeddings to [batch_size, channels, height, width]\n",
    "height, width = 32, 16  # Ensure height * width = 512\n",
    "emb_train_25 = emb_train_25.view(emb_train_25.shape[0], 1, height, width)\n",
    "emb_val = emb_val.view(emb_val.shape[0], 1, height, width)\n",
    "\n",
    "# Verify the reshaped embeddings\n",
    "print(f\"Reshaped emb_train_25: {emb_train_25.shape}\")\n",
    "print(f\"Reshaped emb_val: {emb_val.shape}\")"
   ]
  },
  {
   "cell_type": "code",
   "execution_count": 11,
   "metadata": {},
   "outputs": [],
   "source": [
    "import torch.nn as nn\n",
    "\n",
    "if isinstance(model.network, nn.Sequential):\n",
    "    first_layer = model.network[0]\n",
    "    if isinstance(first_layer, nn.Conv2d):\n",
    "        model.network[0] = nn.Conv2d(\n",
    "            in_channels=1,\n",
    "            out_channels=first_layer.out_channels,\n",
    "            kernel_size=first_layer.kernel_size,\n",
    "            stride=first_layer.stride,\n",
    "            padding=first_layer.padding\n",
    "        )"
   ]
  },
  {
   "cell_type": "code",
   "execution_count": 12,
   "metadata": {},
   "outputs": [],
   "source": [
    "emb_train_25 = emb_train_25.repeat(1, 3, 1, 1)  # Duplicate to 3 channels\n",
    "emb_val = emb_val.repeat(1, 3, 1, 1)"
   ]
  },
  {
   "cell_type": "code",
   "execution_count": 13,
   "metadata": {},
   "outputs": [],
   "source": [
    "import torch.nn as nn\n",
    "\n",
    "model.network.fc = nn.Linear(in_features=model.network.fc.in_features, out_features=1)"
   ]
  },
  {
   "cell_type": "code",
   "execution_count": 16,
   "metadata": {},
   "outputs": [],
   "source": [
    "# Create a mask for NaN values\n",
    "nan_mask = torch.isnan(emb_val)\n",
    "\n",
    "# Replace NaN values with 0\n",
    "emb_val[nan_mask] = 0.0"
   ]
  },
  {
   "cell_type": "code",
   "execution_count": 17,
   "metadata": {},
   "outputs": [
    {
     "name": "stderr",
     "output_type": "stream",
     "text": [
      "/opt/anaconda3/envs/opensoundscape_env/lib/python3.9/site-packages/opensoundscape/ml/shallow_classifier.py:110: UserWarning: To copy construct from a tensor, it is recommended to use sourceTensor.clone().detach() or sourceTensor.clone().detach().requires_grad_(True), rather than torch.tensor(sourceTensor).\n",
      "  train_features = torch.tensor(train_features, dtype=torch.float32, device=device)\n",
      "/opt/anaconda3/envs/opensoundscape_env/lib/python3.9/site-packages/opensoundscape/ml/shallow_classifier.py:115: UserWarning: To copy construct from a tensor, it is recommended to use sourceTensor.clone().detach() or sourceTensor.clone().detach().requires_grad_(True), rather than torch.tensor(sourceTensor).\n",
      "  validation_features = torch.tensor(\n"
     ]
    },
    {
     "name": "stdout",
     "output_type": "stream",
     "text": [
      "Epoch 100/1000, Loss: 3.117222877335735e-05, Val Loss: nan\n",
      "val AU ROC: nan\n",
      "val MAP: nan\n"
     ]
    },
    {
     "ename": "KeyboardInterrupt",
     "evalue": "",
     "output_type": "error",
     "traceback": [
      "\u001b[0;31m---------------------------------------------------------------------------\u001b[0m",
      "\u001b[0;31mKeyboardInterrupt\u001b[0m                         Traceback (most recent call last)",
      "Cell \u001b[0;32mIn[17], line 1\u001b[0m\n\u001b[0;32m----> 1\u001b[0m \u001b[43mquick_fit\u001b[49m\u001b[43m(\u001b[49m\u001b[43mmodel\u001b[49m\u001b[38;5;241;43m.\u001b[39;49m\u001b[43mnetwork\u001b[49m\u001b[43m,\u001b[49m\u001b[43m \u001b[49m\u001b[43memb_train_25\u001b[49m\u001b[43m,\u001b[49m\u001b[43m \u001b[49m\u001b[43mlabels_trains\u001b[49m\u001b[43m[\u001b[49m\u001b[38;5;124;43m'\u001b[39;49m\u001b[38;5;124;43mtrain_size_25\u001b[39;49m\u001b[38;5;124;43m'\u001b[39;49m\u001b[43m]\u001b[49m\u001b[38;5;241;43m.\u001b[39;49m\u001b[43mvalues\u001b[49m\u001b[43m,\u001b[49m\u001b[43m \u001b[49m\u001b[43memb_val\u001b[49m\u001b[43m,\u001b[49m\u001b[43m \u001b[49m\u001b[43mlabels_val\u001b[49m\u001b[38;5;241;43m.\u001b[39;49m\u001b[43mvalues\u001b[49m\u001b[43m,\u001b[49m\u001b[43m \u001b[49m\u001b[43msteps\u001b[49m\u001b[38;5;241;43m=\u001b[39;49m\u001b[38;5;241;43m1000\u001b[39;49m\u001b[43m)\u001b[49m\n",
      "File \u001b[0;32m/opt/anaconda3/envs/opensoundscape_env/lib/python3.9/site-packages/opensoundscape/ml/shallow_classifier.py:126\u001b[0m, in \u001b[0;36mquick_fit\u001b[0;34m(model, train_features, train_labels, validation_features, validation_labels, steps, optimizer, criterion, device)\u001b[0m\n\u001b[1;32m    123\u001b[0m model\u001b[38;5;241m.\u001b[39mtrain()\n\u001b[1;32m    124\u001b[0m optimizer\u001b[38;5;241m.\u001b[39mzero_grad()\n\u001b[0;32m--> 126\u001b[0m outputs \u001b[38;5;241m=\u001b[39m \u001b[43mmodel\u001b[49m\u001b[43m(\u001b[49m\u001b[43mtrain_features\u001b[49m\u001b[43m)\u001b[49m\n\u001b[1;32m    127\u001b[0m loss \u001b[38;5;241m=\u001b[39m criterion(outputs, train_labels)\n\u001b[1;32m    129\u001b[0m loss\u001b[38;5;241m.\u001b[39mbackward()\n",
      "File \u001b[0;32m/opt/anaconda3/envs/opensoundscape_env/lib/python3.9/site-packages/torch/nn/modules/module.py:1736\u001b[0m, in \u001b[0;36mModule._wrapped_call_impl\u001b[0;34m(self, *args, **kwargs)\u001b[0m\n\u001b[1;32m   1734\u001b[0m     \u001b[38;5;28;01mreturn\u001b[39;00m \u001b[38;5;28mself\u001b[39m\u001b[38;5;241m.\u001b[39m_compiled_call_impl(\u001b[38;5;241m*\u001b[39margs, \u001b[38;5;241m*\u001b[39m\u001b[38;5;241m*\u001b[39mkwargs)  \u001b[38;5;66;03m# type: ignore[misc]\u001b[39;00m\n\u001b[1;32m   1735\u001b[0m \u001b[38;5;28;01melse\u001b[39;00m:\n\u001b[0;32m-> 1736\u001b[0m     \u001b[38;5;28;01mreturn\u001b[39;00m \u001b[38;5;28;43mself\u001b[39;49m\u001b[38;5;241;43m.\u001b[39;49m\u001b[43m_call_impl\u001b[49m\u001b[43m(\u001b[49m\u001b[38;5;241;43m*\u001b[39;49m\u001b[43margs\u001b[49m\u001b[43m,\u001b[49m\u001b[43m \u001b[49m\u001b[38;5;241;43m*\u001b[39;49m\u001b[38;5;241;43m*\u001b[39;49m\u001b[43mkwargs\u001b[49m\u001b[43m)\u001b[49m\n",
      "File \u001b[0;32m/opt/anaconda3/envs/opensoundscape_env/lib/python3.9/site-packages/torch/nn/modules/module.py:1747\u001b[0m, in \u001b[0;36mModule._call_impl\u001b[0;34m(self, *args, **kwargs)\u001b[0m\n\u001b[1;32m   1742\u001b[0m \u001b[38;5;66;03m# If we don't have any hooks, we want to skip the rest of the logic in\u001b[39;00m\n\u001b[1;32m   1743\u001b[0m \u001b[38;5;66;03m# this function, and just call forward.\u001b[39;00m\n\u001b[1;32m   1744\u001b[0m \u001b[38;5;28;01mif\u001b[39;00m \u001b[38;5;129;01mnot\u001b[39;00m (\u001b[38;5;28mself\u001b[39m\u001b[38;5;241m.\u001b[39m_backward_hooks \u001b[38;5;129;01mor\u001b[39;00m \u001b[38;5;28mself\u001b[39m\u001b[38;5;241m.\u001b[39m_backward_pre_hooks \u001b[38;5;129;01mor\u001b[39;00m \u001b[38;5;28mself\u001b[39m\u001b[38;5;241m.\u001b[39m_forward_hooks \u001b[38;5;129;01mor\u001b[39;00m \u001b[38;5;28mself\u001b[39m\u001b[38;5;241m.\u001b[39m_forward_pre_hooks\n\u001b[1;32m   1745\u001b[0m         \u001b[38;5;129;01mor\u001b[39;00m _global_backward_pre_hooks \u001b[38;5;129;01mor\u001b[39;00m _global_backward_hooks\n\u001b[1;32m   1746\u001b[0m         \u001b[38;5;129;01mor\u001b[39;00m _global_forward_hooks \u001b[38;5;129;01mor\u001b[39;00m _global_forward_pre_hooks):\n\u001b[0;32m-> 1747\u001b[0m     \u001b[38;5;28;01mreturn\u001b[39;00m \u001b[43mforward_call\u001b[49m\u001b[43m(\u001b[49m\u001b[38;5;241;43m*\u001b[39;49m\u001b[43margs\u001b[49m\u001b[43m,\u001b[49m\u001b[43m \u001b[49m\u001b[38;5;241;43m*\u001b[39;49m\u001b[38;5;241;43m*\u001b[39;49m\u001b[43mkwargs\u001b[49m\u001b[43m)\u001b[49m\n\u001b[1;32m   1749\u001b[0m result \u001b[38;5;241m=\u001b[39m \u001b[38;5;28;01mNone\u001b[39;00m\n\u001b[1;32m   1750\u001b[0m called_always_called_hooks \u001b[38;5;241m=\u001b[39m \u001b[38;5;28mset\u001b[39m()\n",
      "File \u001b[0;32m/opt/anaconda3/envs/opensoundscape_env/lib/python3.9/site-packages/torchvision/models/resnet.py:285\u001b[0m, in \u001b[0;36mResNet.forward\u001b[0;34m(self, x)\u001b[0m\n\u001b[1;32m    284\u001b[0m \u001b[38;5;28;01mdef\u001b[39;00m \u001b[38;5;21mforward\u001b[39m(\u001b[38;5;28mself\u001b[39m, x: Tensor) \u001b[38;5;241m-\u001b[39m\u001b[38;5;241m>\u001b[39m Tensor:\n\u001b[0;32m--> 285\u001b[0m     \u001b[38;5;28;01mreturn\u001b[39;00m \u001b[38;5;28;43mself\u001b[39;49m\u001b[38;5;241;43m.\u001b[39;49m\u001b[43m_forward_impl\u001b[49m\u001b[43m(\u001b[49m\u001b[43mx\u001b[49m\u001b[43m)\u001b[49m\n",
      "File \u001b[0;32m/opt/anaconda3/envs/opensoundscape_env/lib/python3.9/site-packages/torchvision/models/resnet.py:268\u001b[0m, in \u001b[0;36mResNet._forward_impl\u001b[0;34m(self, x)\u001b[0m\n\u001b[1;32m    266\u001b[0m \u001b[38;5;28;01mdef\u001b[39;00m \u001b[38;5;21m_forward_impl\u001b[39m(\u001b[38;5;28mself\u001b[39m, x: Tensor) \u001b[38;5;241m-\u001b[39m\u001b[38;5;241m>\u001b[39m Tensor:\n\u001b[1;32m    267\u001b[0m     \u001b[38;5;66;03m# See note [TorchScript super()]\u001b[39;00m\n\u001b[0;32m--> 268\u001b[0m     x \u001b[38;5;241m=\u001b[39m \u001b[38;5;28;43mself\u001b[39;49m\u001b[38;5;241;43m.\u001b[39;49m\u001b[43mconv1\u001b[49m\u001b[43m(\u001b[49m\u001b[43mx\u001b[49m\u001b[43m)\u001b[49m\n\u001b[1;32m    269\u001b[0m     x \u001b[38;5;241m=\u001b[39m \u001b[38;5;28mself\u001b[39m\u001b[38;5;241m.\u001b[39mbn1(x)\n\u001b[1;32m    270\u001b[0m     x \u001b[38;5;241m=\u001b[39m \u001b[38;5;28mself\u001b[39m\u001b[38;5;241m.\u001b[39mrelu(x)\n",
      "File \u001b[0;32m/opt/anaconda3/envs/opensoundscape_env/lib/python3.9/site-packages/torch/nn/modules/module.py:1736\u001b[0m, in \u001b[0;36mModule._wrapped_call_impl\u001b[0;34m(self, *args, **kwargs)\u001b[0m\n\u001b[1;32m   1734\u001b[0m     \u001b[38;5;28;01mreturn\u001b[39;00m \u001b[38;5;28mself\u001b[39m\u001b[38;5;241m.\u001b[39m_compiled_call_impl(\u001b[38;5;241m*\u001b[39margs, \u001b[38;5;241m*\u001b[39m\u001b[38;5;241m*\u001b[39mkwargs)  \u001b[38;5;66;03m# type: ignore[misc]\u001b[39;00m\n\u001b[1;32m   1735\u001b[0m \u001b[38;5;28;01melse\u001b[39;00m:\n\u001b[0;32m-> 1736\u001b[0m     \u001b[38;5;28;01mreturn\u001b[39;00m \u001b[38;5;28;43mself\u001b[39;49m\u001b[38;5;241;43m.\u001b[39;49m\u001b[43m_call_impl\u001b[49m\u001b[43m(\u001b[49m\u001b[38;5;241;43m*\u001b[39;49m\u001b[43margs\u001b[49m\u001b[43m,\u001b[49m\u001b[43m \u001b[49m\u001b[38;5;241;43m*\u001b[39;49m\u001b[38;5;241;43m*\u001b[39;49m\u001b[43mkwargs\u001b[49m\u001b[43m)\u001b[49m\n",
      "File \u001b[0;32m/opt/anaconda3/envs/opensoundscape_env/lib/python3.9/site-packages/torch/nn/modules/module.py:1747\u001b[0m, in \u001b[0;36mModule._call_impl\u001b[0;34m(self, *args, **kwargs)\u001b[0m\n\u001b[1;32m   1742\u001b[0m \u001b[38;5;66;03m# If we don't have any hooks, we want to skip the rest of the logic in\u001b[39;00m\n\u001b[1;32m   1743\u001b[0m \u001b[38;5;66;03m# this function, and just call forward.\u001b[39;00m\n\u001b[1;32m   1744\u001b[0m \u001b[38;5;28;01mif\u001b[39;00m \u001b[38;5;129;01mnot\u001b[39;00m (\u001b[38;5;28mself\u001b[39m\u001b[38;5;241m.\u001b[39m_backward_hooks \u001b[38;5;129;01mor\u001b[39;00m \u001b[38;5;28mself\u001b[39m\u001b[38;5;241m.\u001b[39m_backward_pre_hooks \u001b[38;5;129;01mor\u001b[39;00m \u001b[38;5;28mself\u001b[39m\u001b[38;5;241m.\u001b[39m_forward_hooks \u001b[38;5;129;01mor\u001b[39;00m \u001b[38;5;28mself\u001b[39m\u001b[38;5;241m.\u001b[39m_forward_pre_hooks\n\u001b[1;32m   1745\u001b[0m         \u001b[38;5;129;01mor\u001b[39;00m _global_backward_pre_hooks \u001b[38;5;129;01mor\u001b[39;00m _global_backward_hooks\n\u001b[1;32m   1746\u001b[0m         \u001b[38;5;129;01mor\u001b[39;00m _global_forward_hooks \u001b[38;5;129;01mor\u001b[39;00m _global_forward_pre_hooks):\n\u001b[0;32m-> 1747\u001b[0m     \u001b[38;5;28;01mreturn\u001b[39;00m \u001b[43mforward_call\u001b[49m\u001b[43m(\u001b[49m\u001b[38;5;241;43m*\u001b[39;49m\u001b[43margs\u001b[49m\u001b[43m,\u001b[49m\u001b[43m \u001b[49m\u001b[38;5;241;43m*\u001b[39;49m\u001b[38;5;241;43m*\u001b[39;49m\u001b[43mkwargs\u001b[49m\u001b[43m)\u001b[49m\n\u001b[1;32m   1749\u001b[0m result \u001b[38;5;241m=\u001b[39m \u001b[38;5;28;01mNone\u001b[39;00m\n\u001b[1;32m   1750\u001b[0m called_always_called_hooks \u001b[38;5;241m=\u001b[39m \u001b[38;5;28mset\u001b[39m()\n",
      "File \u001b[0;32m/opt/anaconda3/envs/opensoundscape_env/lib/python3.9/site-packages/torch/nn/modules/conv.py:554\u001b[0m, in \u001b[0;36mConv2d.forward\u001b[0;34m(self, input)\u001b[0m\n\u001b[1;32m    553\u001b[0m \u001b[38;5;28;01mdef\u001b[39;00m \u001b[38;5;21mforward\u001b[39m(\u001b[38;5;28mself\u001b[39m, \u001b[38;5;28minput\u001b[39m: Tensor) \u001b[38;5;241m-\u001b[39m\u001b[38;5;241m>\u001b[39m Tensor:\n\u001b[0;32m--> 554\u001b[0m     \u001b[38;5;28;01mreturn\u001b[39;00m \u001b[38;5;28;43mself\u001b[39;49m\u001b[38;5;241;43m.\u001b[39;49m\u001b[43m_conv_forward\u001b[49m\u001b[43m(\u001b[49m\u001b[38;5;28;43minput\u001b[39;49m\u001b[43m,\u001b[49m\u001b[43m \u001b[49m\u001b[38;5;28;43mself\u001b[39;49m\u001b[38;5;241;43m.\u001b[39;49m\u001b[43mweight\u001b[49m\u001b[43m,\u001b[49m\u001b[43m \u001b[49m\u001b[38;5;28;43mself\u001b[39;49m\u001b[38;5;241;43m.\u001b[39;49m\u001b[43mbias\u001b[49m\u001b[43m)\u001b[49m\n",
      "File \u001b[0;32m/opt/anaconda3/envs/opensoundscape_env/lib/python3.9/site-packages/torch/nn/modules/conv.py:549\u001b[0m, in \u001b[0;36mConv2d._conv_forward\u001b[0;34m(self, input, weight, bias)\u001b[0m\n\u001b[1;32m    537\u001b[0m \u001b[38;5;28;01mif\u001b[39;00m \u001b[38;5;28mself\u001b[39m\u001b[38;5;241m.\u001b[39mpadding_mode \u001b[38;5;241m!=\u001b[39m \u001b[38;5;124m\"\u001b[39m\u001b[38;5;124mzeros\u001b[39m\u001b[38;5;124m\"\u001b[39m:\n\u001b[1;32m    538\u001b[0m     \u001b[38;5;28;01mreturn\u001b[39;00m F\u001b[38;5;241m.\u001b[39mconv2d(\n\u001b[1;32m    539\u001b[0m         F\u001b[38;5;241m.\u001b[39mpad(\n\u001b[1;32m    540\u001b[0m             \u001b[38;5;28minput\u001b[39m, \u001b[38;5;28mself\u001b[39m\u001b[38;5;241m.\u001b[39m_reversed_padding_repeated_twice, mode\u001b[38;5;241m=\u001b[39m\u001b[38;5;28mself\u001b[39m\u001b[38;5;241m.\u001b[39mpadding_mode\n\u001b[0;32m   (...)\u001b[0m\n\u001b[1;32m    547\u001b[0m         \u001b[38;5;28mself\u001b[39m\u001b[38;5;241m.\u001b[39mgroups,\n\u001b[1;32m    548\u001b[0m     )\n\u001b[0;32m--> 549\u001b[0m \u001b[38;5;28;01mreturn\u001b[39;00m \u001b[43mF\u001b[49m\u001b[38;5;241;43m.\u001b[39;49m\u001b[43mconv2d\u001b[49m\u001b[43m(\u001b[49m\n\u001b[1;32m    550\u001b[0m \u001b[43m    \u001b[49m\u001b[38;5;28;43minput\u001b[39;49m\u001b[43m,\u001b[49m\u001b[43m \u001b[49m\u001b[43mweight\u001b[49m\u001b[43m,\u001b[49m\u001b[43m \u001b[49m\u001b[43mbias\u001b[49m\u001b[43m,\u001b[49m\u001b[43m \u001b[49m\u001b[38;5;28;43mself\u001b[39;49m\u001b[38;5;241;43m.\u001b[39;49m\u001b[43mstride\u001b[49m\u001b[43m,\u001b[49m\u001b[43m \u001b[49m\u001b[38;5;28;43mself\u001b[39;49m\u001b[38;5;241;43m.\u001b[39;49m\u001b[43mpadding\u001b[49m\u001b[43m,\u001b[49m\u001b[43m \u001b[49m\u001b[38;5;28;43mself\u001b[39;49m\u001b[38;5;241;43m.\u001b[39;49m\u001b[43mdilation\u001b[49m\u001b[43m,\u001b[49m\u001b[43m \u001b[49m\u001b[38;5;28;43mself\u001b[39;49m\u001b[38;5;241;43m.\u001b[39;49m\u001b[43mgroups\u001b[49m\n\u001b[1;32m    551\u001b[0m \u001b[43m\u001b[49m\u001b[43m)\u001b[49m\n",
      "\u001b[0;31mKeyboardInterrupt\u001b[0m: "
     ]
    }
   ],
   "source": [
    "quick_fit(model.network, emb_train_25, labels_trains['train_size_25'].values, emb_val, labels_val.values, steps=1000)"
   ]
  },
  {
   "cell_type": "code",
   "execution_count": 18,
   "metadata": {},
   "outputs": [
    {
     "name": "stderr",
     "output_type": "stream",
     "text": [
      "/var/folders/v4/chwhws6x79ncg51bwr5778b00000gn/T/ipykernel_4790/1842857064.py:2: UserWarning: To copy construct from a tensor, it is recommended to use sourceTensor.clone().detach() or sourceTensor.clone().detach().requires_grad_(True), rather than torch.tensor(sourceTensor).\n",
      "  preds = model.network(torch.tensor(emb_val).float()).detach().numpy()\n"
     ]
    },
    {
     "data": {
      "text/plain": [
       "0.5640888888888889"
      ]
     },
     "execution_count": 18,
     "metadata": {},
     "output_type": "execute_result"
    },
    {
     "data": {
      "image/png": "[encoded data removed]",
      "text/plain": [
       "<Figure size 1500x500 with 1 Axes>"
      ]
     },
     "metadata": {
      "image/png": {
       "height": 428,
       "width": 1209
      }
     },
     "output_type": "display_data"
    }
   ],
   "source": [
    "# make predictions by passing the embeddings through the classifier\n",
    "preds = model.network(torch.tensor(emb_val).float()).detach().numpy()\n",
    "\n",
    "# plot histogram of scores for positive and negative clips\n",
    "plt.hist(preds[labels_val==True],bins=20,alpha=0.5,label='positives')\n",
    "plt.hist(preds[labels_val==False],bins=20,alpha=0.5,label='negatives')\n",
    "plt.legend()\n",
    "\n",
    "# calculate the area under the ROC score\n",
    "roc_auc_score_25 = roc_auc_score(labels_val.values,preds,average=None)\n",
    "roc_auc_score_25"
   ]
  },
  {
   "cell_type": "markdown",
   "metadata": {},
   "source": [
    "Training size 50"
   ]
  },
  {
   "cell_type": "code",
   "execution_count": 19,
   "metadata": {},
   "outputs": [
    {
     "name": "stderr",
     "output_type": "stream",
     "text": [
      "Using cache found in /Users/yifeitao/.cache/torch/hub/kitzeslab_bioacoustics-model-zoo_main\n"
     ]
    }
   ],
   "source": [
    "model = torch.hub.load('kitzeslab/bioacoustics-model-zoo','rana_sierrae_cnn',trust_repo=True)"
   ]
  },
  {
   "cell_type": "code",
   "execution_count": 20,
   "metadata": {},
   "outputs": [
    {
     "data": {
      "application/vnd.jupyter.widget-view+json": {
       "model_id": "f7878fe5e76049329c6245b3e183dd19",
       "version_major": 2,
       "version_minor": 0
      },
      "text/plain": [
       "  0%|          | 0/4 [00:00<?, ?it/s]"
      ]
     },
     "metadata": {},
     "output_type": "display_data"
    },
    {
     "name": "stderr",
     "output_type": "stream",
     "text": [
      "/opt/anaconda3/envs/opensoundscape_env/lib/python3.9/site-packages/opensoundscape/audio.py:1725: UserWarning: Audio object is shorter than requested duration: 4.999833333333333 sec instead of 5.0 sec\n",
      "  warnings.warn(error_msg)\n",
      "/opt/anaconda3/envs/opensoundscape_env/lib/python3.9/site-packages/opensoundscape/audio.py:1725: UserWarning: Audio object is shorter than requested duration: 4.999833333333333 sec instead of 5.0 sec\n",
      "  warnings.warn(error_msg)\n",
      "/opt/anaconda3/envs/opensoundscape_env/lib/python3.9/site-packages/opensoundscape/audio.py:1725: UserWarning: Audio object is shorter than requested duration: 4.999833333333333 sec instead of 5.0 sec\n",
      "  warnings.warn(error_msg)\n",
      "/opt/anaconda3/envs/opensoundscape_env/lib/python3.9/site-packages/opensoundscape/audio.py:1725: UserWarning: Audio object is shorter than requested duration: 4.999833333333333 sec instead of 5.0 sec\n",
      "  warnings.warn(error_msg)\n",
      "/opt/anaconda3/envs/opensoundscape_env/lib/python3.9/site-packages/opensoundscape/audio.py:1725: UserWarning: Audio object is shorter than requested duration: 4.999833333333333 sec instead of 5.0 sec\n",
      "  warnings.warn(error_msg)\n",
      "/opt/anaconda3/envs/opensoundscape_env/lib/python3.9/site-packages/opensoundscape/audio.py:1725: UserWarning: Audio object is shorter than requested duration: 4.999833333333333 sec instead of 5.0 sec\n",
      "  warnings.warn(error_msg)\n",
      "/opt/anaconda3/envs/opensoundscape_env/lib/python3.9/site-packages/opensoundscape/audio.py:1725: UserWarning: Audio object is shorter than requested duration: 4.999833333333333 sec instead of 5.0 sec\n",
      "  warnings.warn(error_msg)\n",
      "/opt/anaconda3/envs/opensoundscape_env/lib/python3.9/site-packages/opensoundscape/audio.py:1725: UserWarning: Audio object is shorter than requested duration: 4.999833333333333 sec instead of 5.0 sec\n",
      "  warnings.warn(error_msg)\n",
      "/opt/anaconda3/envs/opensoundscape_env/lib/python3.9/site-packages/opensoundscape/audio.py:1725: UserWarning: Audio object is shorter than requested duration: 4.999833333333333 sec instead of 5.0 sec\n",
      "  warnings.warn(error_msg)\n",
      "/opt/anaconda3/envs/opensoundscape_env/lib/python3.9/site-packages/opensoundscape/audio.py:1725: UserWarning: Audio object is shorter than requested duration: 4.999833333333333 sec instead of 5.0 sec\n",
      "  warnings.warn(error_msg)\n",
      "/opt/anaconda3/envs/opensoundscape_env/lib/python3.9/site-packages/opensoundscape/audio.py:1725: UserWarning: Audio object is shorter than requested duration: 4.999833333333333 sec instead of 5.0 sec\n",
      "  warnings.warn(error_msg)\n",
      "/opt/anaconda3/envs/opensoundscape_env/lib/python3.9/site-packages/opensoundscape/audio.py:1725: UserWarning: Audio object is shorter than requested duration: 4.999833333333333 sec instead of 5.0 sec\n",
      "  warnings.warn(error_msg)\n",
      "/opt/anaconda3/envs/opensoundscape_env/lib/python3.9/site-packages/opensoundscape/audio.py:1725: UserWarning: Audio object is shorter than requested duration: 4.999833333333333 sec instead of 5.0 sec\n",
      "  warnings.warn(error_msg)\n",
      "/opt/anaconda3/envs/opensoundscape_env/lib/python3.9/site-packages/opensoundscape/audio.py:1725: UserWarning: Audio object is shorter than requested duration: 4.999833333333333 sec instead of 5.0 sec\n",
      "  warnings.warn(error_msg)\n",
      "/opt/anaconda3/envs/opensoundscape_env/lib/python3.9/site-packages/opensoundscape/audio.py:1725: UserWarning: Audio object is shorter than requested duration: 4.999833333333333 sec instead of 5.0 sec\n",
      "  warnings.warn(error_msg)\n",
      "/opt/anaconda3/envs/opensoundscape_env/lib/python3.9/site-packages/opensoundscape/audio.py:1725: UserWarning: Audio object is shorter than requested duration: 4.999833333333333 sec instead of 5.0 sec\n",
      "  warnings.warn(error_msg)\n",
      "/opt/anaconda3/envs/opensoundscape_env/lib/python3.9/site-packages/opensoundscape/audio.py:1725: UserWarning: Audio object is shorter than requested duration: 4.999833333333333 sec instead of 5.0 sec\n",
      "  warnings.warn(error_msg)\n",
      "/opt/anaconda3/envs/opensoundscape_env/lib/python3.9/site-packages/opensoundscape/audio.py:1725: UserWarning: Audio object is shorter than requested duration: 4.999833333333333 sec instead of 5.0 sec\n",
      "  warnings.warn(error_msg)\n",
      "/opt/anaconda3/envs/opensoundscape_env/lib/python3.9/site-packages/opensoundscape/audio.py:1725: UserWarning: Audio object is shorter than requested duration: 4.999833333333333 sec instead of 5.0 sec\n",
      "  warnings.warn(error_msg)\n",
      "/opt/anaconda3/envs/opensoundscape_env/lib/python3.9/site-packages/opensoundscape/audio.py:1725: UserWarning: Audio object is shorter than requested duration: 4.999833333333333 sec instead of 5.0 sec\n",
      "  warnings.warn(error_msg)\n",
      "/opt/anaconda3/envs/opensoundscape_env/lib/python3.9/site-packages/opensoundscape/audio.py:1725: UserWarning: Audio object is shorter than requested duration: 4.999833333333333 sec instead of 5.0 sec\n",
      "  warnings.warn(error_msg)\n",
      "/opt/anaconda3/envs/opensoundscape_env/lib/python3.9/site-packages/opensoundscape/audio.py:1725: UserWarning: Audio object is shorter than requested duration: 4.999833333333333 sec instead of 5.0 sec\n",
      "  warnings.warn(error_msg)\n",
      "/opt/anaconda3/envs/opensoundscape_env/lib/python3.9/site-packages/opensoundscape/audio.py:1725: UserWarning: Audio object is shorter than requested duration: 4.999833333333333 sec instead of 5.0 sec\n",
      "  warnings.warn(error_msg)\n",
      "/opt/anaconda3/envs/opensoundscape_env/lib/python3.9/site-packages/opensoundscape/audio.py:1725: UserWarning: Audio object is shorter than requested duration: 4.999833333333333 sec instead of 5.0 sec\n",
      "  warnings.warn(error_msg)\n",
      "/opt/anaconda3/envs/opensoundscape_env/lib/python3.9/site-packages/opensoundscape/audio.py:1725: UserWarning: Audio object is shorter than requested duration: 4.999833333333333 sec instead of 5.0 sec\n",
      "  warnings.warn(error_msg)\n",
      "/opt/anaconda3/envs/opensoundscape_env/lib/python3.9/site-packages/opensoundscape/audio.py:1725: UserWarning: Audio object is shorter than requested duration: 4.999833333333333 sec instead of 5.0 sec\n",
      "  warnings.warn(error_msg)\n",
      "/opt/anaconda3/envs/opensoundscape_env/lib/python3.9/site-packages/opensoundscape/audio.py:1725: UserWarning: Audio object is shorter than requested duration: 4.999833333333333 sec instead of 5.0 sec\n",
      "  warnings.warn(error_msg)\n",
      "/opt/anaconda3/envs/opensoundscape_env/lib/python3.9/site-packages/opensoundscape/audio.py:1725: UserWarning: Audio object is shorter than requested duration: 4.999833333333333 sec instead of 5.0 sec\n",
      "  warnings.warn(error_msg)\n",
      "/opt/anaconda3/envs/opensoundscape_env/lib/python3.9/site-packages/opensoundscape/audio.py:1725: UserWarning: Audio object is shorter than requested duration: 4.999833333333333 sec instead of 5.0 sec\n",
      "  warnings.warn(error_msg)\n",
      "/opt/anaconda3/envs/opensoundscape_env/lib/python3.9/site-packages/opensoundscape/audio.py:1725: UserWarning: Audio object is shorter than requested duration: 4.999833333333333 sec instead of 5.0 sec\n",
      "  warnings.warn(error_msg)\n",
      "/opt/anaconda3/envs/opensoundscape_env/lib/python3.9/site-packages/opensoundscape/audio.py:1725: UserWarning: Audio object is shorter than requested duration: 4.999833333333333 sec instead of 5.0 sec\n",
      "  warnings.warn(error_msg)\n",
      "/opt/anaconda3/envs/opensoundscape_env/lib/python3.9/site-packages/opensoundscape/audio.py:1725: UserWarning: Audio object is shorter than requested duration: 4.999833333333333 sec instead of 5.0 sec\n",
      "  warnings.warn(error_msg)\n",
      "/opt/anaconda3/envs/opensoundscape_env/lib/python3.9/site-packages/opensoundscape/audio.py:1725: UserWarning: Audio object is shorter than requested duration: 4.999833333333333 sec instead of 5.0 sec\n",
      "  warnings.warn(error_msg)\n",
      "/opt/anaconda3/envs/opensoundscape_env/lib/python3.9/site-packages/opensoundscape/audio.py:1725: UserWarning: Audio object is shorter than requested duration: 4.999833333333333 sec instead of 5.0 sec\n",
      "  warnings.warn(error_msg)\n",
      "/opt/anaconda3/envs/opensoundscape_env/lib/python3.9/site-packages/opensoundscape/audio.py:1725: UserWarning: Audio object is shorter than requested duration: 4.999833333333333 sec instead of 5.0 sec\n",
      "  warnings.warn(error_msg)\n",
      "/opt/anaconda3/envs/opensoundscape_env/lib/python3.9/site-packages/opensoundscape/audio.py:1725: UserWarning: Audio object is shorter than requested duration: 4.999833333333333 sec instead of 5.0 sec\n",
      "  warnings.warn(error_msg)\n",
      "/opt/anaconda3/envs/opensoundscape_env/lib/python3.9/site-packages/opensoundscape/audio.py:1725: UserWarning: Audio object is shorter than requested duration: 4.999833333333333 sec instead of 5.0 sec\n",
      "  warnings.warn(error_msg)\n",
      "/opt/anaconda3/envs/opensoundscape_env/lib/python3.9/site-packages/opensoundscape/audio.py:1725: UserWarning: Audio object is shorter than requested duration: 4.999833333333333 sec instead of 5.0 sec\n",
      "  warnings.warn(error_msg)\n",
      "/opt/anaconda3/envs/opensoundscape_env/lib/python3.9/site-packages/opensoundscape/audio.py:1725: UserWarning: Audio object is shorter than requested duration: 4.999833333333333 sec instead of 5.0 sec\n",
      "  warnings.warn(error_msg)\n",
      "/opt/anaconda3/envs/opensoundscape_env/lib/python3.9/site-packages/opensoundscape/audio.py:1725: UserWarning: Audio object is shorter than requested duration: 4.999833333333333 sec instead of 5.0 sec\n",
      "  warnings.warn(error_msg)\n",
      "/opt/anaconda3/envs/opensoundscape_env/lib/python3.9/site-packages/opensoundscape/audio.py:1725: UserWarning: Audio object is shorter than requested duration: 4.999833333333333 sec instead of 5.0 sec\n",
      "  warnings.warn(error_msg)\n",
      "/opt/anaconda3/envs/opensoundscape_env/lib/python3.9/site-packages/opensoundscape/audio.py:1725: UserWarning: Audio object is shorter than requested duration: 4.999833333333333 sec instead of 5.0 sec\n",
      "  warnings.warn(error_msg)\n",
      "/opt/anaconda3/envs/opensoundscape_env/lib/python3.9/site-packages/opensoundscape/audio.py:1725: UserWarning: Audio object is shorter than requested duration: 4.999833333333333 sec instead of 5.0 sec\n",
      "  warnings.warn(error_msg)\n",
      "/opt/anaconda3/envs/opensoundscape_env/lib/python3.9/site-packages/opensoundscape/audio.py:1725: UserWarning: Audio object is shorter than requested duration: 4.999833333333333 sec instead of 5.0 sec\n",
      "  warnings.warn(error_msg)\n",
      "/opt/anaconda3/envs/opensoundscape_env/lib/python3.9/site-packages/opensoundscape/audio.py:1725: UserWarning: Audio object is shorter than requested duration: 4.999833333333333 sec instead of 5.0 sec\n",
      "  warnings.warn(error_msg)\n",
      "/opt/anaconda3/envs/opensoundscape_env/lib/python3.9/site-packages/opensoundscape/audio.py:1725: UserWarning: Audio object is shorter than requested duration: 4.999833333333333 sec instead of 5.0 sec\n",
      "  warnings.warn(error_msg)\n",
      "/opt/anaconda3/envs/opensoundscape_env/lib/python3.9/site-packages/opensoundscape/audio.py:1725: UserWarning: Audio object is shorter than requested duration: 4.999833333333333 sec instead of 5.0 sec\n",
      "  warnings.warn(error_msg)\n",
      "/opt/anaconda3/envs/opensoundscape_env/lib/python3.9/site-packages/opensoundscape/audio.py:1725: UserWarning: Audio object is shorter than requested duration: 4.999833333333333 sec instead of 5.0 sec\n",
      "  warnings.warn(error_msg)\n",
      "/opt/anaconda3/envs/opensoundscape_env/lib/python3.9/site-packages/opensoundscape/audio.py:1725: UserWarning: Audio object is shorter than requested duration: 4.999833333333333 sec instead of 5.0 sec\n",
      "  warnings.warn(error_msg)\n",
      "/opt/anaconda3/envs/opensoundscape_env/lib/python3.9/site-packages/opensoundscape/audio.py:1725: UserWarning: Audio object is shorter than requested duration: 4.999833333333333 sec instead of 5.0 sec\n",
      "  warnings.warn(error_msg)\n",
      "/opt/anaconda3/envs/opensoundscape_env/lib/python3.9/site-packages/opensoundscape/audio.py:1725: UserWarning: Audio object is shorter than requested duration: 4.999833333333333 sec instead of 5.0 sec\n",
      "  warnings.warn(error_msg)\n",
      "/opt/anaconda3/envs/opensoundscape_env/lib/python3.9/site-packages/opensoundscape/audio.py:1725: UserWarning: Audio object is shorter than requested duration: 4.999833333333333 sec instead of 5.0 sec\n",
      "  warnings.warn(error_msg)\n",
      "/opt/anaconda3/envs/opensoundscape_env/lib/python3.9/site-packages/opensoundscape/audio.py:1725: UserWarning: Audio object is shorter than requested duration: 4.999833333333333 sec instead of 5.0 sec\n",
      "  warnings.warn(error_msg)\n",
      "/opt/anaconda3/envs/opensoundscape_env/lib/python3.9/site-packages/opensoundscape/audio.py:1725: UserWarning: Audio object is shorter than requested duration: 4.999833333333333 sec instead of 5.0 sec\n",
      "  warnings.warn(error_msg)\n",
      "/opt/anaconda3/envs/opensoundscape_env/lib/python3.9/site-packages/opensoundscape/audio.py:1725: UserWarning: Audio object is shorter than requested duration: 4.999833333333333 sec instead of 5.0 sec\n",
      "  warnings.warn(error_msg)\n",
      "/opt/anaconda3/envs/opensoundscape_env/lib/python3.9/site-packages/opensoundscape/audio.py:1725: UserWarning: Audio object is shorter than requested duration: 4.999833333333333 sec instead of 5.0 sec\n",
      "  warnings.warn(error_msg)\n",
      "/opt/anaconda3/envs/opensoundscape_env/lib/python3.9/site-packages/opensoundscape/audio.py:1725: UserWarning: Audio object is shorter than requested duration: 4.999833333333333 sec instead of 5.0 sec\n",
      "  warnings.warn(error_msg)\n",
      "/opt/anaconda3/envs/opensoundscape_env/lib/python3.9/site-packages/opensoundscape/audio.py:1725: UserWarning: Audio object is shorter than requested duration: 4.999833333333333 sec instead of 5.0 sec\n",
      "  warnings.warn(error_msg)\n",
      "/opt/anaconda3/envs/opensoundscape_env/lib/python3.9/site-packages/opensoundscape/audio.py:1725: UserWarning: Audio object is shorter than requested duration: 4.999833333333333 sec instead of 5.0 sec\n",
      "  warnings.warn(error_msg)\n",
      "/opt/anaconda3/envs/opensoundscape_env/lib/python3.9/site-packages/opensoundscape/audio.py:1725: UserWarning: Audio object is shorter than requested duration: 4.999833333333333 sec instead of 5.0 sec\n",
      "  warnings.warn(error_msg)\n",
      "/opt/anaconda3/envs/opensoundscape_env/lib/python3.9/site-packages/opensoundscape/audio.py:1725: UserWarning: Audio object is shorter than requested duration: 4.999833333333333 sec instead of 5.0 sec\n",
      "  warnings.warn(error_msg)\n",
      "/opt/anaconda3/envs/opensoundscape_env/lib/python3.9/site-packages/opensoundscape/audio.py:1725: UserWarning: Audio object is shorter than requested duration: 4.999833333333333 sec instead of 5.0 sec\n",
      "  warnings.warn(error_msg)\n",
      "/opt/anaconda3/envs/opensoundscape_env/lib/python3.9/site-packages/opensoundscape/audio.py:1725: UserWarning: Audio object is shorter than requested duration: 4.999833333333333 sec instead of 5.0 sec\n",
      "  warnings.warn(error_msg)\n",
      "/opt/anaconda3/envs/opensoundscape_env/lib/python3.9/site-packages/opensoundscape/audio.py:1725: UserWarning: Audio object is shorter than requested duration: 4.999833333333333 sec instead of 5.0 sec\n",
      "  warnings.warn(error_msg)\n",
      "/opt/anaconda3/envs/opensoundscape_env/lib/python3.9/site-packages/opensoundscape/audio.py:1725: UserWarning: Audio object is shorter than requested duration: 4.999833333333333 sec instead of 5.0 sec\n",
      "  warnings.warn(error_msg)\n",
      "/opt/anaconda3/envs/opensoundscape_env/lib/python3.9/site-packages/opensoundscape/audio.py:1725: UserWarning: Audio object is shorter than requested duration: 4.999833333333333 sec instead of 5.0 sec\n",
      "  warnings.warn(error_msg)\n",
      "/opt/anaconda3/envs/opensoundscape_env/lib/python3.9/site-packages/opensoundscape/audio.py:1725: UserWarning: Audio object is shorter than requested duration: 4.999833333333333 sec instead of 5.0 sec\n",
      "  warnings.warn(error_msg)\n",
      "/opt/anaconda3/envs/opensoundscape_env/lib/python3.9/site-packages/opensoundscape/audio.py:1725: UserWarning: Audio object is shorter than requested duration: 4.999833333333333 sec instead of 5.0 sec\n",
      "  warnings.warn(error_msg)\n",
      "/opt/anaconda3/envs/opensoundscape_env/lib/python3.9/site-packages/opensoundscape/audio.py:1725: UserWarning: Audio object is shorter than requested duration: 4.999833333333333 sec instead of 5.0 sec\n",
      "  warnings.warn(error_msg)\n",
      "/opt/anaconda3/envs/opensoundscape_env/lib/python3.9/site-packages/opensoundscape/audio.py:1725: UserWarning: Audio object is shorter than requested duration: 4.999833333333333 sec instead of 5.0 sec\n",
      "  warnings.warn(error_msg)\n",
      "/opt/anaconda3/envs/opensoundscape_env/lib/python3.9/site-packages/opensoundscape/audio.py:1725: UserWarning: Audio object is shorter than requested duration: 4.999833333333333 sec instead of 5.0 sec\n",
      "  warnings.warn(error_msg)\n",
      "/opt/anaconda3/envs/opensoundscape_env/lib/python3.9/site-packages/opensoundscape/audio.py:1725: UserWarning: Audio object is shorter than requested duration: 4.999833333333333 sec instead of 5.0 sec\n",
      "  warnings.warn(error_msg)\n",
      "/opt/anaconda3/envs/opensoundscape_env/lib/python3.9/site-packages/opensoundscape/audio.py:1725: UserWarning: Audio object is shorter than requested duration: 4.999833333333333 sec instead of 5.0 sec\n",
      "  warnings.warn(error_msg)\n",
      "/opt/anaconda3/envs/opensoundscape_env/lib/python3.9/site-packages/opensoundscape/audio.py:1725: UserWarning: Audio object is shorter than requested duration: 4.999833333333333 sec instead of 5.0 sec\n",
      "  warnings.warn(error_msg)\n",
      "/opt/anaconda3/envs/opensoundscape_env/lib/python3.9/site-packages/opensoundscape/audio.py:1725: UserWarning: Audio object is shorter than requested duration: 4.999833333333333 sec instead of 5.0 sec\n",
      "  warnings.warn(error_msg)\n",
      "/opt/anaconda3/envs/opensoundscape_env/lib/python3.9/site-packages/opensoundscape/audio.py:1725: UserWarning: Audio object is shorter than requested duration: 4.999833333333333 sec instead of 5.0 sec\n",
      "  warnings.warn(error_msg)\n",
      "/opt/anaconda3/envs/opensoundscape_env/lib/python3.9/site-packages/opensoundscape/audio.py:1725: UserWarning: Audio object is shorter than requested duration: 4.999833333333333 sec instead of 5.0 sec\n",
      "  warnings.warn(error_msg)\n",
      "/opt/anaconda3/envs/opensoundscape_env/lib/python3.9/site-packages/opensoundscape/audio.py:1725: UserWarning: Audio object is shorter than requested duration: 4.999833333333333 sec instead of 5.0 sec\n",
      "  warnings.warn(error_msg)\n",
      "/opt/anaconda3/envs/opensoundscape_env/lib/python3.9/site-packages/opensoundscape/audio.py:1725: UserWarning: Audio object is shorter than requested duration: 4.999833333333333 sec instead of 5.0 sec\n",
      "  warnings.warn(error_msg)\n",
      "/opt/anaconda3/envs/opensoundscape_env/lib/python3.9/site-packages/opensoundscape/audio.py:1725: UserWarning: Audio object is shorter than requested duration: 4.999833333333333 sec instead of 5.0 sec\n",
      "  warnings.warn(error_msg)\n",
      "/opt/anaconda3/envs/opensoundscape_env/lib/python3.9/site-packages/opensoundscape/audio.py:1725: UserWarning: Audio object is shorter than requested duration: 4.999833333333333 sec instead of 5.0 sec\n",
      "  warnings.warn(error_msg)\n",
      "/opt/anaconda3/envs/opensoundscape_env/lib/python3.9/site-packages/opensoundscape/audio.py:1725: UserWarning: Audio object is shorter than requested duration: 4.999833333333333 sec instead of 5.0 sec\n",
      "  warnings.warn(error_msg)\n",
      "/opt/anaconda3/envs/opensoundscape_env/lib/python3.9/site-packages/opensoundscape/audio.py:1725: UserWarning: Audio object is shorter than requested duration: 4.999833333333333 sec instead of 5.0 sec\n",
      "  warnings.warn(error_msg)\n",
      "/opt/anaconda3/envs/opensoundscape_env/lib/python3.9/site-packages/opensoundscape/audio.py:1725: UserWarning: Audio object is shorter than requested duration: 4.999833333333333 sec instead of 5.0 sec\n",
      "  warnings.warn(error_msg)\n",
      "/opt/anaconda3/envs/opensoundscape_env/lib/python3.9/site-packages/opensoundscape/audio.py:1725: UserWarning: Audio object is shorter than requested duration: 4.999833333333333 sec instead of 5.0 sec\n",
      "  warnings.warn(error_msg)\n",
      "/opt/anaconda3/envs/opensoundscape_env/lib/python3.9/site-packages/opensoundscape/audio.py:1725: UserWarning: Audio object is shorter than requested duration: 4.999833333333333 sec instead of 5.0 sec\n",
      "  warnings.warn(error_msg)\n",
      "/opt/anaconda3/envs/opensoundscape_env/lib/python3.9/site-packages/opensoundscape/audio.py:1725: UserWarning: Audio object is shorter than requested duration: 4.999833333333333 sec instead of 5.0 sec\n",
      "  warnings.warn(error_msg)\n",
      "/opt/anaconda3/envs/opensoundscape_env/lib/python3.9/site-packages/opensoundscape/audio.py:1725: UserWarning: Audio object is shorter than requested duration: 4.999833333333333 sec instead of 5.0 sec\n",
      "  warnings.warn(error_msg)\n",
      "/opt/anaconda3/envs/opensoundscape_env/lib/python3.9/site-packages/opensoundscape/audio.py:1725: UserWarning: Audio object is shorter than requested duration: 4.999833333333333 sec instead of 5.0 sec\n",
      "  warnings.warn(error_msg)\n",
      "/opt/anaconda3/envs/opensoundscape_env/lib/python3.9/site-packages/opensoundscape/audio.py:1725: UserWarning: Audio object is shorter than requested duration: 4.999833333333333 sec instead of 5.0 sec\n",
      "  warnings.warn(error_msg)\n",
      "/opt/anaconda3/envs/opensoundscape_env/lib/python3.9/site-packages/opensoundscape/audio.py:1725: UserWarning: Audio object is shorter than requested duration: 4.999833333333333 sec instead of 5.0 sec\n",
      "  warnings.warn(error_msg)\n",
      "/opt/anaconda3/envs/opensoundscape_env/lib/python3.9/site-packages/opensoundscape/audio.py:1725: UserWarning: Audio object is shorter than requested duration: 4.999833333333333 sec instead of 5.0 sec\n",
      "  warnings.warn(error_msg)\n",
      "/opt/anaconda3/envs/opensoundscape_env/lib/python3.9/site-packages/opensoundscape/audio.py:1725: UserWarning: Audio object is shorter than requested duration: 4.999833333333333 sec instead of 5.0 sec\n",
      "  warnings.warn(error_msg)\n",
      "/opt/anaconda3/envs/opensoundscape_env/lib/python3.9/site-packages/opensoundscape/audio.py:1725: UserWarning: Audio object is shorter than requested duration: 4.999833333333333 sec instead of 5.0 sec\n",
      "  warnings.warn(error_msg)\n",
      "/opt/anaconda3/envs/opensoundscape_env/lib/python3.9/site-packages/opensoundscape/audio.py:1725: UserWarning: Audio object is shorter than requested duration: 4.999833333333333 sec instead of 5.0 sec\n",
      "  warnings.warn(error_msg)\n",
      "/opt/anaconda3/envs/opensoundscape_env/lib/python3.9/site-packages/opensoundscape/audio.py:1725: UserWarning: Audio object is shorter than requested duration: 4.999833333333333 sec instead of 5.0 sec\n",
      "  warnings.warn(error_msg)\n",
      "/opt/anaconda3/envs/opensoundscape_env/lib/python3.9/site-packages/opensoundscape/audio.py:1725: UserWarning: Audio object is shorter than requested duration: 4.999833333333333 sec instead of 5.0 sec\n",
      "  warnings.warn(error_msg)\n",
      "/opt/anaconda3/envs/opensoundscape_env/lib/python3.9/site-packages/opensoundscape/audio.py:1725: UserWarning: Audio object is shorter than requested duration: 4.999833333333333 sec instead of 5.0 sec\n",
      "  warnings.warn(error_msg)\n",
      "/opt/anaconda3/envs/opensoundscape_env/lib/python3.9/site-packages/opensoundscape/audio.py:1725: UserWarning: Audio object is shorter than requested duration: 4.999833333333333 sec instead of 5.0 sec\n",
      "  warnings.warn(error_msg)\n",
      "/opt/anaconda3/envs/opensoundscape_env/lib/python3.9/site-packages/opensoundscape/audio.py:1725: UserWarning: Audio object is shorter than requested duration: 4.999833333333333 sec instead of 5.0 sec\n",
      "  warnings.warn(error_msg)\n"
     ]
    }
   ],
   "source": [
    "emb_train_50 = model.embed(labels_trains['train_size_50'], return_dfs=False, batch_size=32, num_workers=0)"
   ]
  },
  {
   "cell_type": "code",
   "execution_count": 21,
   "metadata": {},
   "outputs": [
    {
     "data": {
      "application/vnd.jupyter.widget-view+json": {
       "model_id": "474852a9a54347e1b063d9c6f21c7aeb",
       "version_major": 2,
       "version_minor": 0
      },
      "text/plain": [
       "  0%|          | 0/5 [00:00<?, ?it/s]"
      ]
     },
     "metadata": {},
     "output_type": "display_data"
    },
    {
     "name": "stderr",
     "output_type": "stream",
     "text": [
      "/opt/anaconda3/envs/opensoundscape_env/lib/python3.9/site-packages/opensoundscape/audio.py:1725: UserWarning: Audio object is shorter than requested duration: 4.975 sec instead of 5.0 sec\n",
      "  warnings.warn(error_msg)\n",
      "/opt/anaconda3/envs/opensoundscape_env/lib/python3.9/site-packages/opensoundscape/audio.py:1713: UserWarning: audio object has zero samples\n",
      "  warnings.warn(error_msg)\n"
     ]
    }
   ],
   "source": [
    "emb_val = model.embed(labels_val, return_dfs=False, batch_size=32, num_workers=0)"
   ]
  },
  {
   "cell_type": "code",
   "execution_count": 22,
   "metadata": {},
   "outputs": [
    {
     "name": "stdout",
     "output_type": "stream",
     "text": [
      "Original shape of emb_train: torch.Size([100, 512])\n",
      "Reshaped emb_train_50: torch.Size([100, 1, 32, 16])\n"
     ]
    }
   ],
   "source": [
    "emb_train_50 = torch.tensor(emb_train_50, dtype=torch.float32)\n",
    "emb_val = torch.tensor(emb_val, dtype=torch.float32)\n",
    "# Check the shape of the embeddings\n",
    "print(f\"Original shape of emb_train: {emb_train_50.shape}\")\n",
    "\n",
    "# Reshape embeddings to [batch_size, channels, height, width]\n",
    "height, width = 32, 16  # Ensure height * width = 512\n",
    "emb_train_50 = emb_train_50.view(emb_train_50.shape[0], 1, height, width)\n",
    "emb_val = emb_val.view(emb_val.shape[0], 1, height, width)\n",
    "# Verify the reshaped embeddings\n",
    "print(f\"Reshaped emb_train_50: {emb_train_50.shape}\")"
   ]
  },
  {
   "cell_type": "code",
   "execution_count": 23,
   "metadata": {},
   "outputs": [],
   "source": [
    "import torch.nn as nn\n",
    "\n",
    "if isinstance(model.network, nn.Sequential):\n",
    "    first_layer = model.network[0]\n",
    "    if isinstance(first_layer, nn.Conv2d):\n",
    "        model.network[0] = nn.Conv2d(\n",
    "            in_channels=1,\n",
    "            out_channels=first_layer.out_channels,\n",
    "            kernel_size=first_layer.kernel_size,\n",
    "            stride=first_layer.stride,\n",
    "            padding=first_layer.padding\n",
    "        )"
   ]
  },
  {
   "cell_type": "code",
   "execution_count": 24,
   "metadata": {},
   "outputs": [],
   "source": [
    "emb_train_50 = emb_train_50.repeat(1, 3, 1, 1) \n",
    "emb_val = emb_val.repeat(1, 3, 1, 1)"
   ]
  },
  {
   "cell_type": "code",
   "execution_count": 25,
   "metadata": {},
   "outputs": [],
   "source": [
    "model.network.fc = nn.Linear(in_features=model.network.fc.in_features, out_features=1)"
   ]
  },
  {
   "cell_type": "code",
   "execution_count": 26,
   "metadata": {},
   "outputs": [],
   "source": [
    "# Create a mask for NaN values\n",
    "nan_mask = torch.isnan(emb_val)\n",
    "\n",
    "# Replace NaN values with 0\n",
    "emb_val[nan_mask] = 0.0"
   ]
  },
  {
   "cell_type": "code",
   "execution_count": 27,
   "metadata": {},
   "outputs": [
    {
     "name": "stderr",
     "output_type": "stream",
     "text": [
      "/opt/anaconda3/envs/opensoundscape_env/lib/python3.9/site-packages/opensoundscape/ml/shallow_classifier.py:110: UserWarning: To copy construct from a tensor, it is recommended to use sourceTensor.clone().detach() or sourceTensor.clone().detach().requires_grad_(True), rather than torch.tensor(sourceTensor).\n",
      "  train_features = torch.tensor(train_features, dtype=torch.float32, device=device)\n",
      "/opt/anaconda3/envs/opensoundscape_env/lib/python3.9/site-packages/opensoundscape/ml/shallow_classifier.py:115: UserWarning: To copy construct from a tensor, it is recommended to use sourceTensor.clone().detach() or sourceTensor.clone().detach().requires_grad_(True), rather than torch.tensor(sourceTensor).\n",
      "  validation_features = torch.tensor(\n"
     ]
    },
    {
     "name": "stdout",
     "output_type": "stream",
     "text": [
      "Epoch 100/1000, Loss: 6.607418617932126e-05, Val Loss: 3.9200174808502197\n",
      "val AU ROC: 0.616\n",
      "val MAP: 0.616\n",
      "Epoch 200/1000, Loss: 4.051028372487053e-05, Val Loss: 3.994278907775879\n",
      "val AU ROC: 0.613\n",
      "val MAP: 0.613\n",
      "Epoch 300/1000, Loss: 2.855987986549735e-05, Val Loss: 4.057531356811523\n",
      "val AU ROC: 0.605\n",
      "val MAP: 0.605\n",
      "Epoch 400/1000, Loss: 2.15993986785179e-05, Val Loss: 4.1064934730529785\n",
      "val AU ROC: 0.601\n",
      "val MAP: 0.601\n",
      "Epoch 500/1000, Loss: 1.7060099708032794e-05, Val Loss: 4.155646324157715\n",
      "val AU ROC: 0.596\n",
      "val MAP: 0.596\n",
      "Epoch 600/1000, Loss: 1.3860350009053946e-05, Val Loss: 4.201499938964844\n",
      "val AU ROC: 0.592\n",
      "val MAP: 0.592\n",
      "Epoch 700/1000, Loss: 1.1545008419489022e-05, Val Loss: 4.24437952041626\n",
      "val AU ROC: 0.591\n",
      "val MAP: 0.591\n",
      "Epoch 800/1000, Loss: 9.771939403435681e-06, Val Loss: 4.2834930419921875\n",
      "val AU ROC: 0.588\n",
      "val MAP: 0.588\n",
      "Epoch 900/1000, Loss: 8.332173820235766e-06, Val Loss: 4.319417476654053\n",
      "val AU ROC: 0.588\n",
      "val MAP: 0.588\n",
      "Epoch 1000/1000, Loss: 7.205793735920452e-06, Val Loss: 4.352710247039795\n",
      "val AU ROC: 0.589\n",
      "val MAP: 0.589\n",
      "Training complete\n"
     ]
    }
   ],
   "source": [
    "quick_fit(model.network, emb_train_50, labels_trains['train_size_50'].values, emb_val, labels_val.values, steps=1000)"
   ]
  },
  {
   "cell_type": "code",
   "execution_count": 28,
   "metadata": {},
   "outputs": [
    {
     "name": "stderr",
     "output_type": "stream",
     "text": [
      "/var/folders/v4/chwhws6x79ncg51bwr5778b00000gn/T/ipykernel_4790/2687331274.py:2: UserWarning: To copy construct from a tensor, it is recommended to use sourceTensor.clone().detach() or sourceTensor.clone().detach().requires_grad_(True), rather than torch.tensor(sourceTensor).\n",
      "  preds = model.network(torch.tensor(emb_val).float()).detach().numpy()\n"
     ]
    },
    {
     "data": {
      "text/plain": [
       "0.5662222222222222"
      ]
     },
     "execution_count": 28,
     "metadata": {},
     "output_type": "execute_result"
    },
    {
     "data": {
      "image/png": "[encoded data removed]",
      "text/plain": [
       "<Figure size 1500x500 with 1 Axes>"
      ]
     },
     "metadata": {
      "image/png": {
       "height": 428,
       "width": 1223
      }
     },
     "output_type": "display_data"
    }
   ],
   "source": [
    "# make predictions by passing the embeddings through the classifier\n",
    "preds = model.network(torch.tensor(emb_val).float()).detach().numpy()\n",
    "\n",
    "# plot histogram of scores for positive and negative clips\n",
    "plt.hist(preds[labels_val==True],bins=20,alpha=0.5,label='positives')\n",
    "plt.hist(preds[labels_val==False],bins=20,alpha=0.5,label='negatives')\n",
    "plt.legend()\n",
    "\n",
    "# calculate the area under the ROC score\n",
    "roc_auc_score_50 = roc_auc_score(labels_val.values,preds,average=None)\n",
    "roc_auc_score_50"
   ]
  },
  {
   "cell_type": "markdown",
   "metadata": {},
   "source": [
    "Training size 75"
   ]
  },
  {
   "cell_type": "code",
   "execution_count": 29,
   "metadata": {},
   "outputs": [
    {
     "name": "stderr",
     "output_type": "stream",
     "text": [
      "Using cache found in /Users/yifeitao/.cache/torch/hub/kitzeslab_bioacoustics-model-zoo_main\n"
     ]
    }
   ],
   "source": [
    "model = torch.hub.load('kitzeslab/bioacoustics-model-zoo','rana_sierrae_cnn',trust_repo=True)"
   ]
  },
  {
   "cell_type": "code",
   "execution_count": 30,
   "metadata": {},
   "outputs": [
    {
     "data": {
      "application/vnd.jupyter.widget-view+json": {
       "model_id": "bf057b74289f4a5cb7d362188e83db3f",
       "version_major": 2,
       "version_minor": 0
      },
      "text/plain": [
       "  0%|          | 0/5 [00:00<?, ?it/s]"
      ]
     },
     "metadata": {},
     "output_type": "display_data"
    },
    {
     "name": "stderr",
     "output_type": "stream",
     "text": [
      "/opt/anaconda3/envs/opensoundscape_env/lib/python3.9/site-packages/opensoundscape/audio.py:1725: UserWarning: Audio object is shorter than requested duration: 4.999833333333333 sec instead of 5.0 sec\n",
      "  warnings.warn(error_msg)\n",
      "/opt/anaconda3/envs/opensoundscape_env/lib/python3.9/site-packages/opensoundscape/audio.py:1725: UserWarning: Audio object is shorter than requested duration: 4.999833333333333 sec instead of 5.0 sec\n",
      "  warnings.warn(error_msg)\n",
      "/opt/anaconda3/envs/opensoundscape_env/lib/python3.9/site-packages/opensoundscape/audio.py:1725: UserWarning: Audio object is shorter than requested duration: 4.999833333333333 sec instead of 5.0 sec\n",
      "  warnings.warn(error_msg)\n",
      "/opt/anaconda3/envs/opensoundscape_env/lib/python3.9/site-packages/opensoundscape/audio.py:1725: UserWarning: Audio object is shorter than requested duration: 4.999833333333333 sec instead of 5.0 sec\n",
      "  warnings.warn(error_msg)\n",
      "/opt/anaconda3/envs/opensoundscape_env/lib/python3.9/site-packages/opensoundscape/audio.py:1725: UserWarning: Audio object is shorter than requested duration: 4.999833333333333 sec instead of 5.0 sec\n",
      "  warnings.warn(error_msg)\n",
      "/opt/anaconda3/envs/opensoundscape_env/lib/python3.9/site-packages/opensoundscape/audio.py:1725: UserWarning: Audio object is shorter than requested duration: 4.999833333333333 sec instead of 5.0 sec\n",
      "  warnings.warn(error_msg)\n",
      "/opt/anaconda3/envs/opensoundscape_env/lib/python3.9/site-packages/opensoundscape/audio.py:1725: UserWarning: Audio object is shorter than requested duration: 4.999833333333333 sec instead of 5.0 sec\n",
      "  warnings.warn(error_msg)\n",
      "/opt/anaconda3/envs/opensoundscape_env/lib/python3.9/site-packages/opensoundscape/audio.py:1725: UserWarning: Audio object is shorter than requested duration: 4.999833333333333 sec instead of 5.0 sec\n",
      "  warnings.warn(error_msg)\n",
      "/opt/anaconda3/envs/opensoundscape_env/lib/python3.9/site-packages/opensoundscape/audio.py:1725: UserWarning: Audio object is shorter than requested duration: 4.999833333333333 sec instead of 5.0 sec\n",
      "  warnings.warn(error_msg)\n",
      "/opt/anaconda3/envs/opensoundscape_env/lib/python3.9/site-packages/opensoundscape/audio.py:1725: UserWarning: Audio object is shorter than requested duration: 4.999833333333333 sec instead of 5.0 sec\n",
      "  warnings.warn(error_msg)\n",
      "/opt/anaconda3/envs/opensoundscape_env/lib/python3.9/site-packages/opensoundscape/audio.py:1725: UserWarning: Audio object is shorter than requested duration: 4.999833333333333 sec instead of 5.0 sec\n",
      "  warnings.warn(error_msg)\n",
      "/opt/anaconda3/envs/opensoundscape_env/lib/python3.9/site-packages/opensoundscape/audio.py:1725: UserWarning: Audio object is shorter than requested duration: 4.999833333333333 sec instead of 5.0 sec\n",
      "  warnings.warn(error_msg)\n",
      "/opt/anaconda3/envs/opensoundscape_env/lib/python3.9/site-packages/opensoundscape/audio.py:1725: UserWarning: Audio object is shorter than requested duration: 4.999833333333333 sec instead of 5.0 sec\n",
      "  warnings.warn(error_msg)\n",
      "/opt/anaconda3/envs/opensoundscape_env/lib/python3.9/site-packages/opensoundscape/audio.py:1725: UserWarning: Audio object is shorter than requested duration: 4.999833333333333 sec instead of 5.0 sec\n",
      "  warnings.warn(error_msg)\n",
      "/opt/anaconda3/envs/opensoundscape_env/lib/python3.9/site-packages/opensoundscape/audio.py:1725: UserWarning: Audio object is shorter than requested duration: 4.999833333333333 sec instead of 5.0 sec\n",
      "  warnings.warn(error_msg)\n",
      "/opt/anaconda3/envs/opensoundscape_env/lib/python3.9/site-packages/opensoundscape/audio.py:1725: UserWarning: Audio object is shorter than requested duration: 4.999833333333333 sec instead of 5.0 sec\n",
      "  warnings.warn(error_msg)\n",
      "/opt/anaconda3/envs/opensoundscape_env/lib/python3.9/site-packages/opensoundscape/audio.py:1725: UserWarning: Audio object is shorter than requested duration: 4.999833333333333 sec instead of 5.0 sec\n",
      "  warnings.warn(error_msg)\n",
      "/opt/anaconda3/envs/opensoundscape_env/lib/python3.9/site-packages/opensoundscape/audio.py:1725: UserWarning: Audio object is shorter than requested duration: 4.999833333333333 sec instead of 5.0 sec\n",
      "  warnings.warn(error_msg)\n",
      "/opt/anaconda3/envs/opensoundscape_env/lib/python3.9/site-packages/opensoundscape/audio.py:1725: UserWarning: Audio object is shorter than requested duration: 4.999833333333333 sec instead of 5.0 sec\n",
      "  warnings.warn(error_msg)\n",
      "/opt/anaconda3/envs/opensoundscape_env/lib/python3.9/site-packages/opensoundscape/audio.py:1725: UserWarning: Audio object is shorter than requested duration: 4.999833333333333 sec instead of 5.0 sec\n",
      "  warnings.warn(error_msg)\n",
      "/opt/anaconda3/envs/opensoundscape_env/lib/python3.9/site-packages/opensoundscape/audio.py:1725: UserWarning: Audio object is shorter than requested duration: 4.999833333333333 sec instead of 5.0 sec\n",
      "  warnings.warn(error_msg)\n",
      "/opt/anaconda3/envs/opensoundscape_env/lib/python3.9/site-packages/opensoundscape/audio.py:1725: UserWarning: Audio object is shorter than requested duration: 4.999833333333333 sec instead of 5.0 sec\n",
      "  warnings.warn(error_msg)\n",
      "/opt/anaconda3/envs/opensoundscape_env/lib/python3.9/site-packages/opensoundscape/audio.py:1725: UserWarning: Audio object is shorter than requested duration: 4.999833333333333 sec instead of 5.0 sec\n",
      "  warnings.warn(error_msg)\n",
      "/opt/anaconda3/envs/opensoundscape_env/lib/python3.9/site-packages/opensoundscape/audio.py:1725: UserWarning: Audio object is shorter than requested duration: 4.999833333333333 sec instead of 5.0 sec\n",
      "  warnings.warn(error_msg)\n",
      "/opt/anaconda3/envs/opensoundscape_env/lib/python3.9/site-packages/opensoundscape/audio.py:1725: UserWarning: Audio object is shorter than requested duration: 4.999833333333333 sec instead of 5.0 sec\n",
      "  warnings.warn(error_msg)\n",
      "/opt/anaconda3/envs/opensoundscape_env/lib/python3.9/site-packages/opensoundscape/audio.py:1725: UserWarning: Audio object is shorter than requested duration: 4.999833333333333 sec instead of 5.0 sec\n",
      "  warnings.warn(error_msg)\n",
      "/opt/anaconda3/envs/opensoundscape_env/lib/python3.9/site-packages/opensoundscape/audio.py:1725: UserWarning: Audio object is shorter than requested duration: 4.999833333333333 sec instead of 5.0 sec\n",
      "  warnings.warn(error_msg)\n",
      "/opt/anaconda3/envs/opensoundscape_env/lib/python3.9/site-packages/opensoundscape/audio.py:1725: UserWarning: Audio object is shorter than requested duration: 4.999833333333333 sec instead of 5.0 sec\n",
      "  warnings.warn(error_msg)\n",
      "/opt/anaconda3/envs/opensoundscape_env/lib/python3.9/site-packages/opensoundscape/audio.py:1725: UserWarning: Audio object is shorter than requested duration: 4.999833333333333 sec instead of 5.0 sec\n",
      "  warnings.warn(error_msg)\n",
      "/opt/anaconda3/envs/opensoundscape_env/lib/python3.9/site-packages/opensoundscape/audio.py:1725: UserWarning: Audio object is shorter than requested duration: 4.999833333333333 sec instead of 5.0 sec\n",
      "  warnings.warn(error_msg)\n",
      "/opt/anaconda3/envs/opensoundscape_env/lib/python3.9/site-packages/opensoundscape/audio.py:1725: UserWarning: Audio object is shorter than requested duration: 4.999833333333333 sec instead of 5.0 sec\n",
      "  warnings.warn(error_msg)\n",
      "/opt/anaconda3/envs/opensoundscape_env/lib/python3.9/site-packages/opensoundscape/audio.py:1725: UserWarning: Audio object is shorter than requested duration: 4.999833333333333 sec instead of 5.0 sec\n",
      "  warnings.warn(error_msg)\n",
      "/opt/anaconda3/envs/opensoundscape_env/lib/python3.9/site-packages/opensoundscape/audio.py:1725: UserWarning: Audio object is shorter than requested duration: 4.999833333333333 sec instead of 5.0 sec\n",
      "  warnings.warn(error_msg)\n",
      "/opt/anaconda3/envs/opensoundscape_env/lib/python3.9/site-packages/opensoundscape/audio.py:1725: UserWarning: Audio object is shorter than requested duration: 4.999833333333333 sec instead of 5.0 sec\n",
      "  warnings.warn(error_msg)\n",
      "/opt/anaconda3/envs/opensoundscape_env/lib/python3.9/site-packages/opensoundscape/audio.py:1725: UserWarning: Audio object is shorter than requested duration: 4.999833333333333 sec instead of 5.0 sec\n",
      "  warnings.warn(error_msg)\n",
      "/opt/anaconda3/envs/opensoundscape_env/lib/python3.9/site-packages/opensoundscape/audio.py:1725: UserWarning: Audio object is shorter than requested duration: 4.999833333333333 sec instead of 5.0 sec\n",
      "  warnings.warn(error_msg)\n",
      "/opt/anaconda3/envs/opensoundscape_env/lib/python3.9/site-packages/opensoundscape/audio.py:1725: UserWarning: Audio object is shorter than requested duration: 4.999833333333333 sec instead of 5.0 sec\n",
      "  warnings.warn(error_msg)\n",
      "/opt/anaconda3/envs/opensoundscape_env/lib/python3.9/site-packages/opensoundscape/audio.py:1725: UserWarning: Audio object is shorter than requested duration: 4.999833333333333 sec instead of 5.0 sec\n",
      "  warnings.warn(error_msg)\n",
      "/opt/anaconda3/envs/opensoundscape_env/lib/python3.9/site-packages/opensoundscape/audio.py:1725: UserWarning: Audio object is shorter than requested duration: 4.999833333333333 sec instead of 5.0 sec\n",
      "  warnings.warn(error_msg)\n",
      "/opt/anaconda3/envs/opensoundscape_env/lib/python3.9/site-packages/opensoundscape/audio.py:1725: UserWarning: Audio object is shorter than requested duration: 4.999833333333333 sec instead of 5.0 sec\n",
      "  warnings.warn(error_msg)\n",
      "/opt/anaconda3/envs/opensoundscape_env/lib/python3.9/site-packages/opensoundscape/audio.py:1725: UserWarning: Audio object is shorter than requested duration: 4.999833333333333 sec instead of 5.0 sec\n",
      "  warnings.warn(error_msg)\n",
      "/opt/anaconda3/envs/opensoundscape_env/lib/python3.9/site-packages/opensoundscape/audio.py:1725: UserWarning: Audio object is shorter than requested duration: 4.999833333333333 sec instead of 5.0 sec\n",
      "  warnings.warn(error_msg)\n",
      "/opt/anaconda3/envs/opensoundscape_env/lib/python3.9/site-packages/opensoundscape/audio.py:1725: UserWarning: Audio object is shorter than requested duration: 4.999833333333333 sec instead of 5.0 sec\n",
      "  warnings.warn(error_msg)\n",
      "/opt/anaconda3/envs/opensoundscape_env/lib/python3.9/site-packages/opensoundscape/audio.py:1725: UserWarning: Audio object is shorter than requested duration: 4.999833333333333 sec instead of 5.0 sec\n",
      "  warnings.warn(error_msg)\n",
      "/opt/anaconda3/envs/opensoundscape_env/lib/python3.9/site-packages/opensoundscape/audio.py:1725: UserWarning: Audio object is shorter than requested duration: 4.999833333333333 sec instead of 5.0 sec\n",
      "  warnings.warn(error_msg)\n",
      "/opt/anaconda3/envs/opensoundscape_env/lib/python3.9/site-packages/opensoundscape/audio.py:1725: UserWarning: Audio object is shorter than requested duration: 4.999833333333333 sec instead of 5.0 sec\n",
      "  warnings.warn(error_msg)\n",
      "/opt/anaconda3/envs/opensoundscape_env/lib/python3.9/site-packages/opensoundscape/audio.py:1725: UserWarning: Audio object is shorter than requested duration: 4.999833333333333 sec instead of 5.0 sec\n",
      "  warnings.warn(error_msg)\n",
      "/opt/anaconda3/envs/opensoundscape_env/lib/python3.9/site-packages/opensoundscape/audio.py:1725: UserWarning: Audio object is shorter than requested duration: 4.999833333333333 sec instead of 5.0 sec\n",
      "  warnings.warn(error_msg)\n",
      "/opt/anaconda3/envs/opensoundscape_env/lib/python3.9/site-packages/opensoundscape/audio.py:1725: UserWarning: Audio object is shorter than requested duration: 4.999833333333333 sec instead of 5.0 sec\n",
      "  warnings.warn(error_msg)\n",
      "/opt/anaconda3/envs/opensoundscape_env/lib/python3.9/site-packages/opensoundscape/audio.py:1725: UserWarning: Audio object is shorter than requested duration: 4.999833333333333 sec instead of 5.0 sec\n",
      "  warnings.warn(error_msg)\n",
      "/opt/anaconda3/envs/opensoundscape_env/lib/python3.9/site-packages/opensoundscape/audio.py:1725: UserWarning: Audio object is shorter than requested duration: 4.999833333333333 sec instead of 5.0 sec\n",
      "  warnings.warn(error_msg)\n",
      "/opt/anaconda3/envs/opensoundscape_env/lib/python3.9/site-packages/opensoundscape/audio.py:1725: UserWarning: Audio object is shorter than requested duration: 4.999833333333333 sec instead of 5.0 sec\n",
      "  warnings.warn(error_msg)\n",
      "/opt/anaconda3/envs/opensoundscape_env/lib/python3.9/site-packages/opensoundscape/audio.py:1725: UserWarning: Audio object is shorter than requested duration: 4.999833333333333 sec instead of 5.0 sec\n",
      "  warnings.warn(error_msg)\n",
      "/opt/anaconda3/envs/opensoundscape_env/lib/python3.9/site-packages/opensoundscape/audio.py:1725: UserWarning: Audio object is shorter than requested duration: 4.999833333333333 sec instead of 5.0 sec\n",
      "  warnings.warn(error_msg)\n",
      "/opt/anaconda3/envs/opensoundscape_env/lib/python3.9/site-packages/opensoundscape/audio.py:1725: UserWarning: Audio object is shorter than requested duration: 4.999833333333333 sec instead of 5.0 sec\n",
      "  warnings.warn(error_msg)\n",
      "/opt/anaconda3/envs/opensoundscape_env/lib/python3.9/site-packages/opensoundscape/audio.py:1725: UserWarning: Audio object is shorter than requested duration: 4.999833333333333 sec instead of 5.0 sec\n",
      "  warnings.warn(error_msg)\n",
      "/opt/anaconda3/envs/opensoundscape_env/lib/python3.9/site-packages/opensoundscape/audio.py:1725: UserWarning: Audio object is shorter than requested duration: 4.999833333333333 sec instead of 5.0 sec\n",
      "  warnings.warn(error_msg)\n",
      "/opt/anaconda3/envs/opensoundscape_env/lib/python3.9/site-packages/opensoundscape/audio.py:1725: UserWarning: Audio object is shorter than requested duration: 4.999833333333333 sec instead of 5.0 sec\n",
      "  warnings.warn(error_msg)\n",
      "/opt/anaconda3/envs/opensoundscape_env/lib/python3.9/site-packages/opensoundscape/audio.py:1725: UserWarning: Audio object is shorter than requested duration: 4.999833333333333 sec instead of 5.0 sec\n",
      "  warnings.warn(error_msg)\n",
      "/opt/anaconda3/envs/opensoundscape_env/lib/python3.9/site-packages/opensoundscape/audio.py:1725: UserWarning: Audio object is shorter than requested duration: 4.999833333333333 sec instead of 5.0 sec\n",
      "  warnings.warn(error_msg)\n",
      "/opt/anaconda3/envs/opensoundscape_env/lib/python3.9/site-packages/opensoundscape/audio.py:1725: UserWarning: Audio object is shorter than requested duration: 4.999833333333333 sec instead of 5.0 sec\n",
      "  warnings.warn(error_msg)\n",
      "/opt/anaconda3/envs/opensoundscape_env/lib/python3.9/site-packages/opensoundscape/audio.py:1725: UserWarning: Audio object is shorter than requested duration: 4.999833333333333 sec instead of 5.0 sec\n",
      "  warnings.warn(error_msg)\n",
      "/opt/anaconda3/envs/opensoundscape_env/lib/python3.9/site-packages/opensoundscape/audio.py:1725: UserWarning: Audio object is shorter than requested duration: 4.999833333333333 sec instead of 5.0 sec\n",
      "  warnings.warn(error_msg)\n",
      "/opt/anaconda3/envs/opensoundscape_env/lib/python3.9/site-packages/opensoundscape/audio.py:1725: UserWarning: Audio object is shorter than requested duration: 4.999833333333333 sec instead of 5.0 sec\n",
      "  warnings.warn(error_msg)\n",
      "/opt/anaconda3/envs/opensoundscape_env/lib/python3.9/site-packages/opensoundscape/audio.py:1725: UserWarning: Audio object is shorter than requested duration: 4.999833333333333 sec instead of 5.0 sec\n",
      "  warnings.warn(error_msg)\n",
      "/opt/anaconda3/envs/opensoundscape_env/lib/python3.9/site-packages/opensoundscape/audio.py:1725: UserWarning: Audio object is shorter than requested duration: 4.999833333333333 sec instead of 5.0 sec\n",
      "  warnings.warn(error_msg)\n",
      "/opt/anaconda3/envs/opensoundscape_env/lib/python3.9/site-packages/opensoundscape/audio.py:1725: UserWarning: Audio object is shorter than requested duration: 4.999833333333333 sec instead of 5.0 sec\n",
      "  warnings.warn(error_msg)\n",
      "/opt/anaconda3/envs/opensoundscape_env/lib/python3.9/site-packages/opensoundscape/audio.py:1725: UserWarning: Audio object is shorter than requested duration: 4.999833333333333 sec instead of 5.0 sec\n",
      "  warnings.warn(error_msg)\n",
      "/opt/anaconda3/envs/opensoundscape_env/lib/python3.9/site-packages/opensoundscape/audio.py:1725: UserWarning: Audio object is shorter than requested duration: 4.999833333333333 sec instead of 5.0 sec\n",
      "  warnings.warn(error_msg)\n",
      "/opt/anaconda3/envs/opensoundscape_env/lib/python3.9/site-packages/opensoundscape/audio.py:1725: UserWarning: Audio object is shorter than requested duration: 4.999833333333333 sec instead of 5.0 sec\n",
      "  warnings.warn(error_msg)\n",
      "/opt/anaconda3/envs/opensoundscape_env/lib/python3.9/site-packages/opensoundscape/audio.py:1725: UserWarning: Audio object is shorter than requested duration: 4.999833333333333 sec instead of 5.0 sec\n",
      "  warnings.warn(error_msg)\n",
      "/opt/anaconda3/envs/opensoundscape_env/lib/python3.9/site-packages/opensoundscape/audio.py:1725: UserWarning: Audio object is shorter than requested duration: 4.999833333333333 sec instead of 5.0 sec\n",
      "  warnings.warn(error_msg)\n",
      "/opt/anaconda3/envs/opensoundscape_env/lib/python3.9/site-packages/opensoundscape/audio.py:1725: UserWarning: Audio object is shorter than requested duration: 4.999833333333333 sec instead of 5.0 sec\n",
      "  warnings.warn(error_msg)\n",
      "/opt/anaconda3/envs/opensoundscape_env/lib/python3.9/site-packages/opensoundscape/audio.py:1725: UserWarning: Audio object is shorter than requested duration: 4.999833333333333 sec instead of 5.0 sec\n",
      "  warnings.warn(error_msg)\n",
      "/opt/anaconda3/envs/opensoundscape_env/lib/python3.9/site-packages/opensoundscape/audio.py:1725: UserWarning: Audio object is shorter than requested duration: 4.999833333333333 sec instead of 5.0 sec\n",
      "  warnings.warn(error_msg)\n",
      "/opt/anaconda3/envs/opensoundscape_env/lib/python3.9/site-packages/opensoundscape/audio.py:1725: UserWarning: Audio object is shorter than requested duration: 4.999833333333333 sec instead of 5.0 sec\n",
      "  warnings.warn(error_msg)\n",
      "/opt/anaconda3/envs/opensoundscape_env/lib/python3.9/site-packages/opensoundscape/audio.py:1725: UserWarning: Audio object is shorter than requested duration: 4.999833333333333 sec instead of 5.0 sec\n",
      "  warnings.warn(error_msg)\n",
      "/opt/anaconda3/envs/opensoundscape_env/lib/python3.9/site-packages/opensoundscape/audio.py:1725: UserWarning: Audio object is shorter than requested duration: 4.999833333333333 sec instead of 5.0 sec\n",
      "  warnings.warn(error_msg)\n",
      "/opt/anaconda3/envs/opensoundscape_env/lib/python3.9/site-packages/opensoundscape/audio.py:1725: UserWarning: Audio object is shorter than requested duration: 4.999833333333333 sec instead of 5.0 sec\n",
      "  warnings.warn(error_msg)\n",
      "/opt/anaconda3/envs/opensoundscape_env/lib/python3.9/site-packages/opensoundscape/audio.py:1725: UserWarning: Audio object is shorter than requested duration: 4.999833333333333 sec instead of 5.0 sec\n",
      "  warnings.warn(error_msg)\n",
      "/opt/anaconda3/envs/opensoundscape_env/lib/python3.9/site-packages/opensoundscape/audio.py:1725: UserWarning: Audio object is shorter than requested duration: 4.999833333333333 sec instead of 5.0 sec\n",
      "  warnings.warn(error_msg)\n",
      "/opt/anaconda3/envs/opensoundscape_env/lib/python3.9/site-packages/opensoundscape/audio.py:1725: UserWarning: Audio object is shorter than requested duration: 4.999833333333333 sec instead of 5.0 sec\n",
      "  warnings.warn(error_msg)\n",
      "/opt/anaconda3/envs/opensoundscape_env/lib/python3.9/site-packages/opensoundscape/audio.py:1725: UserWarning: Audio object is shorter than requested duration: 4.999833333333333 sec instead of 5.0 sec\n",
      "  warnings.warn(error_msg)\n",
      "/opt/anaconda3/envs/opensoundscape_env/lib/python3.9/site-packages/opensoundscape/audio.py:1725: UserWarning: Audio object is shorter than requested duration: 4.999833333333333 sec instead of 5.0 sec\n",
      "  warnings.warn(error_msg)\n",
      "/opt/anaconda3/envs/opensoundscape_env/lib/python3.9/site-packages/opensoundscape/audio.py:1725: UserWarning: Audio object is shorter than requested duration: 4.999833333333333 sec instead of 5.0 sec\n",
      "  warnings.warn(error_msg)\n",
      "/opt/anaconda3/envs/opensoundscape_env/lib/python3.9/site-packages/opensoundscape/audio.py:1725: UserWarning: Audio object is shorter than requested duration: 4.999833333333333 sec instead of 5.0 sec\n",
      "  warnings.warn(error_msg)\n",
      "/opt/anaconda3/envs/opensoundscape_env/lib/python3.9/site-packages/opensoundscape/audio.py:1725: UserWarning: Audio object is shorter than requested duration: 4.999833333333333 sec instead of 5.0 sec\n",
      "  warnings.warn(error_msg)\n",
      "/opt/anaconda3/envs/opensoundscape_env/lib/python3.9/site-packages/opensoundscape/audio.py:1725: UserWarning: Audio object is shorter than requested duration: 4.999833333333333 sec instead of 5.0 sec\n",
      "  warnings.warn(error_msg)\n",
      "/opt/anaconda3/envs/opensoundscape_env/lib/python3.9/site-packages/opensoundscape/audio.py:1725: UserWarning: Audio object is shorter than requested duration: 4.999833333333333 sec instead of 5.0 sec\n",
      "  warnings.warn(error_msg)\n",
      "/opt/anaconda3/envs/opensoundscape_env/lib/python3.9/site-packages/opensoundscape/audio.py:1725: UserWarning: Audio object is shorter than requested duration: 4.999833333333333 sec instead of 5.0 sec\n",
      "  warnings.warn(error_msg)\n",
      "/opt/anaconda3/envs/opensoundscape_env/lib/python3.9/site-packages/opensoundscape/audio.py:1725: UserWarning: Audio object is shorter than requested duration: 4.999833333333333 sec instead of 5.0 sec\n",
      "  warnings.warn(error_msg)\n",
      "/opt/anaconda3/envs/opensoundscape_env/lib/python3.9/site-packages/opensoundscape/audio.py:1725: UserWarning: Audio object is shorter than requested duration: 4.999833333333333 sec instead of 5.0 sec\n",
      "  warnings.warn(error_msg)\n",
      "/opt/anaconda3/envs/opensoundscape_env/lib/python3.9/site-packages/opensoundscape/audio.py:1725: UserWarning: Audio object is shorter than requested duration: 4.999833333333333 sec instead of 5.0 sec\n",
      "  warnings.warn(error_msg)\n",
      "/opt/anaconda3/envs/opensoundscape_env/lib/python3.9/site-packages/opensoundscape/audio.py:1725: UserWarning: Audio object is shorter than requested duration: 4.999833333333333 sec instead of 5.0 sec\n",
      "  warnings.warn(error_msg)\n",
      "/opt/anaconda3/envs/opensoundscape_env/lib/python3.9/site-packages/opensoundscape/audio.py:1725: UserWarning: Audio object is shorter than requested duration: 4.999833333333333 sec instead of 5.0 sec\n",
      "  warnings.warn(error_msg)\n",
      "/opt/anaconda3/envs/opensoundscape_env/lib/python3.9/site-packages/opensoundscape/audio.py:1725: UserWarning: Audio object is shorter than requested duration: 4.999833333333333 sec instead of 5.0 sec\n",
      "  warnings.warn(error_msg)\n",
      "/opt/anaconda3/envs/opensoundscape_env/lib/python3.9/site-packages/opensoundscape/audio.py:1725: UserWarning: Audio object is shorter than requested duration: 4.999833333333333 sec instead of 5.0 sec\n",
      "  warnings.warn(error_msg)\n",
      "/opt/anaconda3/envs/opensoundscape_env/lib/python3.9/site-packages/opensoundscape/audio.py:1725: UserWarning: Audio object is shorter than requested duration: 4.999833333333333 sec instead of 5.0 sec\n",
      "  warnings.warn(error_msg)\n",
      "/opt/anaconda3/envs/opensoundscape_env/lib/python3.9/site-packages/opensoundscape/audio.py:1725: UserWarning: Audio object is shorter than requested duration: 4.999833333333333 sec instead of 5.0 sec\n",
      "  warnings.warn(error_msg)\n",
      "/opt/anaconda3/envs/opensoundscape_env/lib/python3.9/site-packages/opensoundscape/audio.py:1725: UserWarning: Audio object is shorter than requested duration: 4.999833333333333 sec instead of 5.0 sec\n",
      "  warnings.warn(error_msg)\n",
      "/opt/anaconda3/envs/opensoundscape_env/lib/python3.9/site-packages/opensoundscape/audio.py:1725: UserWarning: Audio object is shorter than requested duration: 4.999833333333333 sec instead of 5.0 sec\n",
      "  warnings.warn(error_msg)\n",
      "/opt/anaconda3/envs/opensoundscape_env/lib/python3.9/site-packages/opensoundscape/audio.py:1725: UserWarning: Audio object is shorter than requested duration: 4.999833333333333 sec instead of 5.0 sec\n",
      "  warnings.warn(error_msg)\n",
      "/opt/anaconda3/envs/opensoundscape_env/lib/python3.9/site-packages/opensoundscape/audio.py:1725: UserWarning: Audio object is shorter than requested duration: 4.999833333333333 sec instead of 5.0 sec\n",
      "  warnings.warn(error_msg)\n",
      "/opt/anaconda3/envs/opensoundscape_env/lib/python3.9/site-packages/opensoundscape/audio.py:1725: UserWarning: Audio object is shorter than requested duration: 4.999833333333333 sec instead of 5.0 sec\n",
      "  warnings.warn(error_msg)\n",
      "/opt/anaconda3/envs/opensoundscape_env/lib/python3.9/site-packages/opensoundscape/audio.py:1725: UserWarning: Audio object is shorter than requested duration: 4.999833333333333 sec instead of 5.0 sec\n",
      "  warnings.warn(error_msg)\n",
      "/opt/anaconda3/envs/opensoundscape_env/lib/python3.9/site-packages/opensoundscape/audio.py:1725: UserWarning: Audio object is shorter than requested duration: 4.999833333333333 sec instead of 5.0 sec\n",
      "  warnings.warn(error_msg)\n",
      "/opt/anaconda3/envs/opensoundscape_env/lib/python3.9/site-packages/opensoundscape/audio.py:1725: UserWarning: Audio object is shorter than requested duration: 4.999833333333333 sec instead of 5.0 sec\n",
      "  warnings.warn(error_msg)\n",
      "/opt/anaconda3/envs/opensoundscape_env/lib/python3.9/site-packages/opensoundscape/audio.py:1725: UserWarning: Audio object is shorter than requested duration: 4.999833333333333 sec instead of 5.0 sec\n",
      "  warnings.warn(error_msg)\n",
      "/opt/anaconda3/envs/opensoundscape_env/lib/python3.9/site-packages/opensoundscape/audio.py:1725: UserWarning: Audio object is shorter than requested duration: 4.999833333333333 sec instead of 5.0 sec\n",
      "  warnings.warn(error_msg)\n",
      "/opt/anaconda3/envs/opensoundscape_env/lib/python3.9/site-packages/opensoundscape/audio.py:1725: UserWarning: Audio object is shorter than requested duration: 4.999833333333333 sec instead of 5.0 sec\n",
      "  warnings.warn(error_msg)\n",
      "/opt/anaconda3/envs/opensoundscape_env/lib/python3.9/site-packages/opensoundscape/audio.py:1725: UserWarning: Audio object is shorter than requested duration: 4.999833333333333 sec instead of 5.0 sec\n",
      "  warnings.warn(error_msg)\n",
      "/opt/anaconda3/envs/opensoundscape_env/lib/python3.9/site-packages/opensoundscape/audio.py:1725: UserWarning: Audio object is shorter than requested duration: 4.999833333333333 sec instead of 5.0 sec\n",
      "  warnings.warn(error_msg)\n",
      "/opt/anaconda3/envs/opensoundscape_env/lib/python3.9/site-packages/opensoundscape/audio.py:1725: UserWarning: Audio object is shorter than requested duration: 4.999833333333333 sec instead of 5.0 sec\n",
      "  warnings.warn(error_msg)\n",
      "/opt/anaconda3/envs/opensoundscape_env/lib/python3.9/site-packages/opensoundscape/audio.py:1725: UserWarning: Audio object is shorter than requested duration: 4.999833333333333 sec instead of 5.0 sec\n",
      "  warnings.warn(error_msg)\n",
      "/opt/anaconda3/envs/opensoundscape_env/lib/python3.9/site-packages/opensoundscape/audio.py:1725: UserWarning: Audio object is shorter than requested duration: 4.999833333333333 sec instead of 5.0 sec\n",
      "  warnings.warn(error_msg)\n",
      "/opt/anaconda3/envs/opensoundscape_env/lib/python3.9/site-packages/opensoundscape/audio.py:1725: UserWarning: Audio object is shorter than requested duration: 4.999833333333333 sec instead of 5.0 sec\n",
      "  warnings.warn(error_msg)\n",
      "/opt/anaconda3/envs/opensoundscape_env/lib/python3.9/site-packages/opensoundscape/audio.py:1725: UserWarning: Audio object is shorter than requested duration: 4.999833333333333 sec instead of 5.0 sec\n",
      "  warnings.warn(error_msg)\n",
      "/opt/anaconda3/envs/opensoundscape_env/lib/python3.9/site-packages/opensoundscape/audio.py:1725: UserWarning: Audio object is shorter than requested duration: 4.999833333333333 sec instead of 5.0 sec\n",
      "  warnings.warn(error_msg)\n",
      "/opt/anaconda3/envs/opensoundscape_env/lib/python3.9/site-packages/opensoundscape/audio.py:1725: UserWarning: Audio object is shorter than requested duration: 4.999833333333333 sec instead of 5.0 sec\n",
      "  warnings.warn(error_msg)\n",
      "/opt/anaconda3/envs/opensoundscape_env/lib/python3.9/site-packages/opensoundscape/audio.py:1725: UserWarning: Audio object is shorter than requested duration: 4.999833333333333 sec instead of 5.0 sec\n",
      "  warnings.warn(error_msg)\n",
      "/opt/anaconda3/envs/opensoundscape_env/lib/python3.9/site-packages/opensoundscape/audio.py:1725: UserWarning: Audio object is shorter than requested duration: 4.999833333333333 sec instead of 5.0 sec\n",
      "  warnings.warn(error_msg)\n",
      "/opt/anaconda3/envs/opensoundscape_env/lib/python3.9/site-packages/opensoundscape/audio.py:1725: UserWarning: Audio object is shorter than requested duration: 4.999833333333333 sec instead of 5.0 sec\n",
      "  warnings.warn(error_msg)\n",
      "/opt/anaconda3/envs/opensoundscape_env/lib/python3.9/site-packages/opensoundscape/audio.py:1725: UserWarning: Audio object is shorter than requested duration: 4.999833333333333 sec instead of 5.0 sec\n",
      "  warnings.warn(error_msg)\n",
      "/opt/anaconda3/envs/opensoundscape_env/lib/python3.9/site-packages/opensoundscape/audio.py:1725: UserWarning: Audio object is shorter than requested duration: 4.999833333333333 sec instead of 5.0 sec\n",
      "  warnings.warn(error_msg)\n",
      "/opt/anaconda3/envs/opensoundscape_env/lib/python3.9/site-packages/opensoundscape/audio.py:1725: UserWarning: Audio object is shorter than requested duration: 4.999833333333333 sec instead of 5.0 sec\n",
      "  warnings.warn(error_msg)\n",
      "/opt/anaconda3/envs/opensoundscape_env/lib/python3.9/site-packages/opensoundscape/audio.py:1725: UserWarning: Audio object is shorter than requested duration: 4.999833333333333 sec instead of 5.0 sec\n",
      "  warnings.warn(error_msg)\n",
      "/opt/anaconda3/envs/opensoundscape_env/lib/python3.9/site-packages/opensoundscape/audio.py:1725: UserWarning: Audio object is shorter than requested duration: 4.999833333333333 sec instead of 5.0 sec\n",
      "  warnings.warn(error_msg)\n",
      "/opt/anaconda3/envs/opensoundscape_env/lib/python3.9/site-packages/opensoundscape/audio.py:1725: UserWarning: Audio object is shorter than requested duration: 4.999833333333333 sec instead of 5.0 sec\n",
      "  warnings.warn(error_msg)\n",
      "/opt/anaconda3/envs/opensoundscape_env/lib/python3.9/site-packages/opensoundscape/audio.py:1725: UserWarning: Audio object is shorter than requested duration: 4.999833333333333 sec instead of 5.0 sec\n",
      "  warnings.warn(error_msg)\n",
      "/opt/anaconda3/envs/opensoundscape_env/lib/python3.9/site-packages/opensoundscape/audio.py:1725: UserWarning: Audio object is shorter than requested duration: 4.999833333333333 sec instead of 5.0 sec\n",
      "  warnings.warn(error_msg)\n",
      "/opt/anaconda3/envs/opensoundscape_env/lib/python3.9/site-packages/opensoundscape/audio.py:1725: UserWarning: Audio object is shorter than requested duration: 4.999833333333333 sec instead of 5.0 sec\n",
      "  warnings.warn(error_msg)\n",
      "/opt/anaconda3/envs/opensoundscape_env/lib/python3.9/site-packages/opensoundscape/audio.py:1725: UserWarning: Audio object is shorter than requested duration: 4.999833333333333 sec instead of 5.0 sec\n",
      "  warnings.warn(error_msg)\n",
      "/opt/anaconda3/envs/opensoundscape_env/lib/python3.9/site-packages/opensoundscape/audio.py:1725: UserWarning: Audio object is shorter than requested duration: 4.999833333333333 sec instead of 5.0 sec\n",
      "  warnings.warn(error_msg)\n",
      "/opt/anaconda3/envs/opensoundscape_env/lib/python3.9/site-packages/opensoundscape/audio.py:1725: UserWarning: Audio object is shorter than requested duration: 4.999833333333333 sec instead of 5.0 sec\n",
      "  warnings.warn(error_msg)\n",
      "/opt/anaconda3/envs/opensoundscape_env/lib/python3.9/site-packages/opensoundscape/audio.py:1725: UserWarning: Audio object is shorter than requested duration: 4.999833333333333 sec instead of 5.0 sec\n",
      "  warnings.warn(error_msg)\n",
      "/opt/anaconda3/envs/opensoundscape_env/lib/python3.9/site-packages/opensoundscape/audio.py:1725: UserWarning: Audio object is shorter than requested duration: 4.999833333333333 sec instead of 5.0 sec\n",
      "  warnings.warn(error_msg)\n",
      "/opt/anaconda3/envs/opensoundscape_env/lib/python3.9/site-packages/opensoundscape/audio.py:1725: UserWarning: Audio object is shorter than requested duration: 4.999833333333333 sec instead of 5.0 sec\n",
      "  warnings.warn(error_msg)\n",
      "/opt/anaconda3/envs/opensoundscape_env/lib/python3.9/site-packages/opensoundscape/audio.py:1725: UserWarning: Audio object is shorter than requested duration: 4.999833333333333 sec instead of 5.0 sec\n",
      "  warnings.warn(error_msg)\n",
      "/opt/anaconda3/envs/opensoundscape_env/lib/python3.9/site-packages/opensoundscape/audio.py:1725: UserWarning: Audio object is shorter than requested duration: 4.999833333333333 sec instead of 5.0 sec\n",
      "  warnings.warn(error_msg)\n",
      "/opt/anaconda3/envs/opensoundscape_env/lib/python3.9/site-packages/opensoundscape/audio.py:1725: UserWarning: Audio object is shorter than requested duration: 4.999833333333333 sec instead of 5.0 sec\n",
      "  warnings.warn(error_msg)\n",
      "/opt/anaconda3/envs/opensoundscape_env/lib/python3.9/site-packages/opensoundscape/audio.py:1725: UserWarning: Audio object is shorter than requested duration: 4.999833333333333 sec instead of 5.0 sec\n",
      "  warnings.warn(error_msg)\n",
      "/opt/anaconda3/envs/opensoundscape_env/lib/python3.9/site-packages/opensoundscape/audio.py:1725: UserWarning: Audio object is shorter than requested duration: 4.999833333333333 sec instead of 5.0 sec\n",
      "  warnings.warn(error_msg)\n",
      "/opt/anaconda3/envs/opensoundscape_env/lib/python3.9/site-packages/opensoundscape/audio.py:1725: UserWarning: Audio object is shorter than requested duration: 4.999833333333333 sec instead of 5.0 sec\n",
      "  warnings.warn(error_msg)\n",
      "/opt/anaconda3/envs/opensoundscape_env/lib/python3.9/site-packages/opensoundscape/audio.py:1725: UserWarning: Audio object is shorter than requested duration: 4.999833333333333 sec instead of 5.0 sec\n",
      "  warnings.warn(error_msg)\n",
      "/opt/anaconda3/envs/opensoundscape_env/lib/python3.9/site-packages/opensoundscape/audio.py:1725: UserWarning: Audio object is shorter than requested duration: 4.999833333333333 sec instead of 5.0 sec\n",
      "  warnings.warn(error_msg)\n",
      "/opt/anaconda3/envs/opensoundscape_env/lib/python3.9/site-packages/opensoundscape/audio.py:1725: UserWarning: Audio object is shorter than requested duration: 4.999833333333333 sec instead of 5.0 sec\n",
      "  warnings.warn(error_msg)\n",
      "/opt/anaconda3/envs/opensoundscape_env/lib/python3.9/site-packages/opensoundscape/audio.py:1725: UserWarning: Audio object is shorter than requested duration: 4.999833333333333 sec instead of 5.0 sec\n",
      "  warnings.warn(error_msg)\n",
      "/opt/anaconda3/envs/opensoundscape_env/lib/python3.9/site-packages/opensoundscape/audio.py:1725: UserWarning: Audio object is shorter than requested duration: 4.999833333333333 sec instead of 5.0 sec\n",
      "  warnings.warn(error_msg)\n",
      "/opt/anaconda3/envs/opensoundscape_env/lib/python3.9/site-packages/opensoundscape/audio.py:1725: UserWarning: Audio object is shorter than requested duration: 4.999833333333333 sec instead of 5.0 sec\n",
      "  warnings.warn(error_msg)\n",
      "/opt/anaconda3/envs/opensoundscape_env/lib/python3.9/site-packages/opensoundscape/audio.py:1725: UserWarning: Audio object is shorter than requested duration: 4.999833333333333 sec instead of 5.0 sec\n",
      "  warnings.warn(error_msg)\n"
     ]
    }
   ],
   "source": [
    "emb_train_75 = model.embed(labels_trains['train_size_75'], return_dfs=False, batch_size=32, num_workers=0)"
   ]
  },
  {
   "cell_type": "code",
   "execution_count": 31,
   "metadata": {},
   "outputs": [
    {
     "data": {
      "application/vnd.jupyter.widget-view+json": {
       "model_id": "814796f8d881483f9fb5d567b22d883d",
       "version_major": 2,
       "version_minor": 0
      },
      "text/plain": [
       "  0%|          | 0/5 [00:00<?, ?it/s]"
      ]
     },
     "metadata": {},
     "output_type": "display_data"
    },
    {
     "name": "stderr",
     "output_type": "stream",
     "text": [
      "/opt/anaconda3/envs/opensoundscape_env/lib/python3.9/site-packages/opensoundscape/audio.py:1725: UserWarning: Audio object is shorter than requested duration: 4.975 sec instead of 5.0 sec\n",
      "  warnings.warn(error_msg)\n",
      "/opt/anaconda3/envs/opensoundscape_env/lib/python3.9/site-packages/opensoundscape/audio.py:1713: UserWarning: audio object has zero samples\n",
      "  warnings.warn(error_msg)\n"
     ]
    }
   ],
   "source": [
    "emb_val = model.embed(labels_val, return_dfs=False, batch_size=32, num_workers=0)"
   ]
  },
  {
   "cell_type": "code",
   "execution_count": 32,
   "metadata": {},
   "outputs": [
    {
     "name": "stdout",
     "output_type": "stream",
     "text": [
      "Original shape of emb_train: torch.Size([150, 512])\n",
      "Reshaped emb_train_75: torch.Size([150, 1, 32, 16])\n"
     ]
    }
   ],
   "source": [
    "emb_train_75 = torch.tensor(emb_train_75, dtype=torch.float32)\n",
    "emb_val = torch.tensor(emb_val, dtype=torch.float32)\n",
    "# Check the shape of the embeddings\n",
    "print(f\"Original shape of emb_train: {emb_train_75.shape}\")\n",
    "\n",
    "# Reshape embeddings to [batch_size, channels, height, width]\n",
    "height, width = 32, 16  # Ensure height * width = 512\n",
    "emb_train_75 = emb_train_75.view(emb_train_75.shape[0], 1, height, width)\n",
    "emb_val = emb_val.view(emb_val.shape[0], 1, height, width)\n",
    "\n",
    "# Verify the reshaped embeddings\n",
    "print(f\"Reshaped emb_train_75: {emb_train_75.shape}\")"
   ]
  },
  {
   "cell_type": "code",
   "execution_count": 33,
   "metadata": {},
   "outputs": [],
   "source": [
    "if isinstance(model.network, nn.Sequential):\n",
    "    first_layer = model.network[0]\n",
    "    if isinstance(first_layer, nn.Conv2d):\n",
    "        model.network[0] = nn.Conv2d(\n",
    "            in_channels=1,\n",
    "            out_channels=first_layer.out_channels,\n",
    "            kernel_size=first_layer.kernel_size,\n",
    "            stride=first_layer.stride,\n",
    "            padding=first_layer.padding\n",
    "        )"
   ]
  },
  {
   "cell_type": "code",
   "execution_count": 34,
   "metadata": {},
   "outputs": [],
   "source": [
    "emb_train_75 = emb_train_75.repeat(1, 3, 1, 1) \n",
    "emb_val = emb_val.repeat(1, 3, 1, 1)"
   ]
  },
  {
   "cell_type": "code",
   "execution_count": 35,
   "metadata": {},
   "outputs": [],
   "source": [
    "model.network.fc = nn.Linear(in_features=model.network.fc.in_features, out_features=1)"
   ]
  },
  {
   "cell_type": "code",
   "execution_count": 36,
   "metadata": {},
   "outputs": [],
   "source": [
    "# Create a mask for NaN values\n",
    "nan_mask = torch.isnan(emb_val)\n",
    "\n",
    "# Replace NaN values with 0\n",
    "emb_val[nan_mask] = 0.0"
   ]
  },
  {
   "cell_type": "code",
   "execution_count": 37,
   "metadata": {},
   "outputs": [
    {
     "name": "stderr",
     "output_type": "stream",
     "text": [
      "/opt/anaconda3/envs/opensoundscape_env/lib/python3.9/site-packages/opensoundscape/ml/shallow_classifier.py:110: UserWarning: To copy construct from a tensor, it is recommended to use sourceTensor.clone().detach() or sourceTensor.clone().detach().requires_grad_(True), rather than torch.tensor(sourceTensor).\n",
      "  train_features = torch.tensor(train_features, dtype=torch.float32, device=device)\n",
      "/opt/anaconda3/envs/opensoundscape_env/lib/python3.9/site-packages/opensoundscape/ml/shallow_classifier.py:115: UserWarning: To copy construct from a tensor, it is recommended to use sourceTensor.clone().detach() or sourceTensor.clone().detach().requires_grad_(True), rather than torch.tensor(sourceTensor).\n",
      "  validation_features = torch.tensor(\n"
     ]
    },
    {
     "name": "stdout",
     "output_type": "stream",
     "text": [
      "Epoch 100/1000, Loss: 5.115586827741936e-05, Val Loss: 4.404448986053467\n",
      "val AU ROC: 0.611\n",
      "val MAP: 0.611\n",
      "Epoch 200/1000, Loss: 3.2199557608691975e-05, Val Loss: 4.484011650085449\n",
      "val AU ROC: 0.608\n",
      "val MAP: 0.608\n",
      "Epoch 300/1000, Loss: 2.27580894716084e-05, Val Loss: 4.545475959777832\n",
      "val AU ROC: 0.608\n",
      "val MAP: 0.608\n",
      "Epoch 400/1000, Loss: 1.703498128335923e-05, Val Loss: 4.589665412902832\n",
      "val AU ROC: 0.612\n",
      "val MAP: 0.612\n",
      "Epoch 500/1000, Loss: 1.3285580280353315e-05, Val Loss: 4.626887798309326\n",
      "val AU ROC: 0.617\n",
      "val MAP: 0.617\n",
      "Epoch 600/1000, Loss: 1.0674794793885667e-05, Val Loss: 4.664400100708008\n",
      "val AU ROC: 0.620\n",
      "val MAP: 0.620\n",
      "Epoch 700/1000, Loss: 8.747532774577849e-06, Val Loss: 4.697035312652588\n",
      "val AU ROC: 0.623\n",
      "val MAP: 0.623\n",
      "Epoch 800/1000, Loss: 7.299235221580602e-06, Val Loss: 4.725468158721924\n",
      "val AU ROC: 0.624\n",
      "val MAP: 0.624\n",
      "Epoch 900/1000, Loss: 6.178625426400686e-06, Val Loss: 4.751963138580322\n",
      "val AU ROC: 0.625\n",
      "val MAP: 0.625\n",
      "Epoch 1000/1000, Loss: 5.287653493724065e-06, Val Loss: 4.778277397155762\n",
      "val AU ROC: 0.625\n",
      "val MAP: 0.625\n",
      "Training complete\n"
     ]
    }
   ],
   "source": [
    "quick_fit(model.network, emb_train_75, labels_trains['train_size_75'].values, emb_val, labels_val.values, steps=1000)"
   ]
  },
  {
   "cell_type": "code",
   "execution_count": 38,
   "metadata": {},
   "outputs": [
    {
     "name": "stderr",
     "output_type": "stream",
     "text": [
      "/var/folders/v4/chwhws6x79ncg51bwr5778b00000gn/T/ipykernel_4790/3191350587.py:2: UserWarning: To copy construct from a tensor, it is recommended to use sourceTensor.clone().detach() or sourceTensor.clone().detach().requires_grad_(True), rather than torch.tensor(sourceTensor).\n",
      "  preds = model.network(torch.tensor(emb_val).float()).detach().numpy()\n"
     ]
    },
    {
     "data": {
      "image/png": "[encoded data removed]",
      "text/plain": [
       "<Figure size 1500x500 with 1 Axes>"
      ]
     },
     "metadata": {
      "image/png": {
       "height": 428,
       "width": 1209
      }
     },
     "output_type": "display_data"
    }
   ],
   "source": [
    "# make predictions by passing the embeddings through the classifier\n",
    "preds = model.network(torch.tensor(emb_val).float()).detach().numpy()\n",
    "\n",
    "# plot histogram of scores for positive and negative clips\n",
    "plt.hist(preds[labels_val==True],bins=20,alpha=0.5,label='positives')\n",
    "plt.hist(preds[labels_val==False],bins=20,alpha=0.5,label='negatives')\n",
    "plt.legend()\n",
    "\n",
    "# calculate the area under the ROC score\n",
    "roc_auc_score_75 = roc_auc_score(labels_val.values,preds,average=None)"
   ]
  },
  {
   "cell_type": "code",
   "execution_count": 39,
   "metadata": {},
   "outputs": [
    {
     "data": {
      "text/plain": [
       "0.6042666666666666"
      ]
     },
     "execution_count": 39,
     "metadata": {},
     "output_type": "execute_result"
    }
   ],
   "source": [
    "roc_auc_score_75"
   ]
  },
  {
   "cell_type": "markdown",
   "metadata": {},
   "source": [
    "Training size 100"
   ]
  },
  {
   "cell_type": "code",
   "execution_count": null,
   "metadata": {},
   "outputs": [],
   "source": [
    "model = torch.hub.load('kitzeslab/bioacoustics-model-zoo','rana_sierrae_cnn',trust_repo=True)"
   ]
  },
  {
   "cell_type": "code",
   "execution_count": null,
   "metadata": {},
   "outputs": [],
   "source": [
    "emb_train_100 = model.embed(labels_trains['train_size_100'], return_dfs=False, batch_size=32, num_workers=0)"
   ]
  },
  {
   "cell_type": "code",
   "execution_count": null,
   "metadata": {},
   "outputs": [],
   "source": [
    "emb_val = model.embed(labels_val, return_dfs=False, batch_size=32, num_workers=0)"
   ]
  },
  {
   "cell_type": "code",
   "execution_count": null,
   "metadata": {},
   "outputs": [],
   "source": [
    "emb_train_100 = torch.tensor(emb_train_100, dtype=torch.float32)\n",
    "emb_val = torch.tensor(emb_val, dtype=torch.float32)\n",
    "# Check the shape of the embeddings\n",
    "print(f\"Original shape of emb_train: {emb_train_100.shape}\")\n",
    "\n",
    "# Reshape embeddings to [batch_size, channels, height, width]\n",
    "height, width = 32, 16  # Ensure height * width = 512\n",
    "emb_train_100 = emb_train_100.view(emb_train_100.shape[0], 1, height, width)\n",
    "emb_val = emb_val.view(emb_val.shape[0], 1, height, width)\n",
    "# Verify the reshaped embeddings\n",
    "print(f\"Reshaped emb_train_100: {emb_train_100.shape}\")"
   ]
  },
  {
   "cell_type": "code",
   "execution_count": null,
   "metadata": {},
   "outputs": [],
   "source": [
    "if isinstance(model.network, nn.Sequential):\n",
    "    first_layer = model.network[0]\n",
    "    if isinstance(first_layer, nn.Conv2d):\n",
    "        model.network[0] = nn.Conv2d(\n",
    "            in_channels=1,\n",
    "            out_channels=first_layer.out_channels,\n",
    "            kernel_size=first_layer.kernel_size,\n",
    "            stride=first_layer.stride,\n",
    "            padding=first_layer.padding\n",
    "        )"
   ]
  },
  {
   "cell_type": "code",
   "execution_count": null,
   "metadata": {},
   "outputs": [],
   "source": [
    "emb_train_100 = emb_train_100.repeat(1, 3, 1, 1) \n",
    "emb_val = emb_val.repeat(1, 3, 1, 1)"
   ]
  },
  {
   "cell_type": "code",
   "execution_count": null,
   "metadata": {},
   "outputs": [],
   "source": [
    "model.network.fc = nn.Linear(in_features=model.network.fc.in_features, out_features=1)"
   ]
  },
  {
   "cell_type": "code",
   "execution_count": null,
   "metadata": {},
   "outputs": [],
   "source": [
    "# Create a mask for NaN values\n",
    "nan_mask = torch.isnan(emb_val)\n",
    "\n",
    "# Replace NaN values with 0\n",
    "emb_val[nan_mask] = 0.0"
   ]
  },
  {
   "cell_type": "code",
   "execution_count": null,
   "metadata": {},
   "outputs": [],
   "source": [
    "quick_fit(model.network, emb_train_100, labels_trains['train_size_100'].values, emb_val, labels_val.values, steps=1000)"
   ]
  },
  {
   "cell_type": "code",
   "execution_count": null,
   "metadata": {},
   "outputs": [],
   "source": [
    "# make predictions by passing the embeddings through the classifier\n",
    "preds = model.network(torch.tensor(emb_val).float()).detach().numpy()\n",
    "\n",
    "# plot histogram of scores for positive and negative clips\n",
    "plt.hist(preds[labels_val==True],bins=20,alpha=0.5,label='positives')\n",
    "plt.hist(preds[labels_val==False],bins=20,alpha=0.5,label='negatives')\n",
    "plt.legend()\n",
    "\n",
    "# calculate the area under the ROC score\n",
    "roc_auc_score_100 = roc_auc_score(labels_val.values,preds,average=None)\n",
    "roc_auc_score_100"
   ]
  },
  {
   "cell_type": "markdown",
   "metadata": {},
   "source": [
    "Training size 125"
   ]
  },
  {
   "cell_type": "code",
   "execution_count": null,
   "metadata": {},
   "outputs": [],
   "source": [
    "model = torch.hub.load('kitzeslab/bioacoustics-model-zoo','rana_sierrae_cnn',trust_repo=True)"
   ]
  },
  {
   "cell_type": "code",
   "execution_count": null,
   "metadata": {},
   "outputs": [],
   "source": [
    "emb_train_125 = model.embed(labels_trains['train_size_125'], return_dfs=False, batch_size=32, num_workers=0)"
   ]
  },
  {
   "cell_type": "code",
   "execution_count": null,
   "metadata": {},
   "outputs": [],
   "source": [
    "emb_val = model.embed(labels_val, return_dfs=False, batch_size=32, num_workers=0)"
   ]
  },
  {
   "cell_type": "code",
   "execution_count": null,
   "metadata": {},
   "outputs": [],
   "source": [
    "emb_train_125 = torch.tensor(emb_train_125, dtype=torch.float32)\n",
    "# Check the shape of the embeddings\n",
    "emb_val = torch.tensor(emb_val, dtype=torch.float32)\n",
    "print(f\"Original shape of emb_train: {emb_train_125.shape}\")\n",
    "\n",
    "height, width = 32, 16  # Ensure height * width = 512\n",
    "emb_train_125 = emb_train_125.view(emb_train_125.shape[0], 1, height, width)\n",
    "emb_val = emb_val.view(emb_val.shape[0], 1, height, width)\n",
    "# Verify the reshaped embeddings\n",
    "print(f\"Reshaped emb_train_100: {emb_train_125.shape}\")"
   ]
  },
  {
   "cell_type": "code",
   "execution_count": null,
   "metadata": {},
   "outputs": [],
   "source": [
    "if isinstance(model.network, nn.Sequential):\n",
    "    first_layer = model.network[0]\n",
    "    if isinstance(first_layer, nn.Conv2d):\n",
    "        model.network[0] = nn.Conv2d(\n",
    "            in_channels=1,\n",
    "            out_channels=first_layer.out_channels,\n",
    "            kernel_size=first_layer.kernel_size,\n",
    "            stride=first_layer.stride,\n",
    "            padding=first_layer.padding\n",
    "        )"
   ]
  },
  {
   "cell_type": "code",
   "execution_count": null,
   "metadata": {},
   "outputs": [],
   "source": [
    "emb_train_125 = emb_train_125.repeat(1, 3, 1, 1) \n",
    "emb_val = emb_val.repeat(1, 3, 1, 1)"
   ]
  },
  {
   "cell_type": "code",
   "execution_count": null,
   "metadata": {},
   "outputs": [],
   "source": [
    "model.network.fc = nn.Linear(in_features=model.network.fc.in_features, out_features=1)"
   ]
  },
  {
   "cell_type": "code",
   "execution_count": null,
   "metadata": {},
   "outputs": [],
   "source": [
    "# Create a mask for NaN values\n",
    "nan_mask = torch.isnan(emb_val)\n",
    "\n",
    "# Replace NaN values with 0\n",
    "emb_val[nan_mask] = 0.0"
   ]
  },
  {
   "cell_type": "code",
   "execution_count": null,
   "metadata": {},
   "outputs": [],
   "source": [
    "quick_fit(model.network, emb_train_125, labels_trains['train_size_125'].values, emb_val, labels_val.values, steps=1000)"
   ]
  },
  {
   "cell_type": "code",
   "execution_count": null,
   "metadata": {},
   "outputs": [],
   "source": [
    "# make predictions by passing the embeddings through the classifier\n",
    "preds = model.network(torch.tensor(emb_val).float()).detach().numpy()\n",
    "\n",
    "# plot histogram of scores for positive and negative clips\n",
    "plt.hist(preds[labels_val==True],bins=20,alpha=0.5,label='positives')\n",
    "plt.hist(preds[labels_val==False],bins=20,alpha=0.5,label='negatives')\n",
    "plt.legend()\n",
    "\n",
    "# calculate the area under the ROC score\n",
    "roc_auc_score_125 = roc_auc_score(labels_val.values,preds,average=None)\n",
    "roc_auc_score_125"
   ]
  },
  {
   "cell_type": "markdown",
   "metadata": {},
   "source": [
    "Training size 150"
   ]
  },
  {
   "cell_type": "code",
   "execution_count": null,
   "metadata": {},
   "outputs": [],
   "source": [
    "emb_train_150 = model.embed(labels_trains['train_size_150'], return_dfs=False, batch_size=32, num_workers=0)"
   ]
  },
  {
   "cell_type": "code",
   "execution_count": null,
   "metadata": {},
   "outputs": [],
   "source": [
    "emb_train_150 = torch.tensor(emb_train_150, dtype=torch.float32)\n",
    "# Check the shape of the embeddings\n",
    "print(f\"Original shape of emb_train: {emb_train_150.shape}\")\n",
    "\n",
    "# Reshape embeddings to [batch_size, channels, height, width]\n",
    "height, width = 32, 16  # Ensure height * width = 512\n",
    "emb_train_150 = emb_train_150.view(emb_train_150.shape[0], 1, height, width)\n",
    "\n",
    "# Verify the reshaped embeddings\n",
    "print(f\"Reshaped emb_train_150: {emb_train_150.shape}\")"
   ]
  },
  {
   "cell_type": "code",
   "execution_count": null,
   "metadata": {},
   "outputs": [],
   "source": [
    "emb_train_150 = emb_train_150.repeat(1, 3, 1, 1) "
   ]
  },
  {
   "cell_type": "code",
   "execution_count": null,
   "metadata": {},
   "outputs": [],
   "source": [
    "quick_fit(model.network, emb_train_150, labels_trains['train_size_150'].values, emb_val, labels_val.values, steps=1000)"
   ]
  },
  {
   "cell_type": "code",
   "execution_count": null,
   "metadata": {},
   "outputs": [],
   "source": [
    "# make predictions by passing the embeddings through the classifier\n",
    "preds = model.network(torch.tensor(emb_val).float()).detach().numpy()\n",
    "\n",
    "# plot histogram of scores for positive and negative clips\n",
    "plt.hist(preds[labels_val==True],bins=20,alpha=0.5,label='positives')\n",
    "plt.hist(preds[labels_val==False],bins=20,alpha=0.5,label='negatives')\n",
    "plt.legend()\n",
    "\n",
    "# calculate the area under the ROC score\n",
    "roc_auc_score_150 = roc_auc_score(labels_val.values,preds,average=None)\n",
    "roc_auc_score_150"
   ]
  },
  {
   "cell_type": "markdown",
   "metadata": {},
   "source": [
    "Training size 175"
   ]
  },
  {
   "cell_type": "code",
   "execution_count": null,
   "metadata": {},
   "outputs": [],
   "source": [
    "emb_train_175 = model.embed(labels_trains['train_size_175'], return_dfs=False, batch_size=32, num_workers=0)"
   ]
  },
  {
   "cell_type": "code",
   "execution_count": null,
   "metadata": {},
   "outputs": [],
   "source": [
    "emb_train_175 = torch.tensor(emb_train_175, dtype=torch.float32)\n",
    "# Check the shape of the embeddings\n",
    "print(f\"Original shape of emb_train: {emb_train_175.shape}\")\n",
    "\n",
    "# Reshape embeddings to [batch_size, channels, height, width]\n",
    "height, width = 32, 16  # Ensure height * width = 512\n",
    "emb_train_175 = emb_train_175.view(emb_train_175.shape[0], 1, height, width)\n",
    "\n",
    "\n",
    "# Verify the reshaped embeddings\n",
    "print(f\"Reshaped emb_train_175: {emb_train_175.shape}\")"
   ]
  },
  {
   "cell_type": "code",
   "execution_count": null,
   "metadata": {},
   "outputs": [],
   "source": [
    "emb_train_175 = emb_train_175.repeat(1, 3, 1, 1) "
   ]
  },
  {
   "cell_type": "code",
   "execution_count": null,
   "metadata": {},
   "outputs": [],
   "source": [
    "quick_fit(model.network, emb_train_175, labels_trains['train_size_175'].values, emb_val, labels_val.values, steps=1000)"
   ]
  },
  {
   "cell_type": "code",
   "execution_count": null,
   "metadata": {},
   "outputs": [],
   "source": [
    "preds = model.network(torch.tensor(emb_val).float()).detach().numpy()\n",
    "\n",
    "# plot histogram of scores for positive and negative clips\n",
    "plt.hist(preds[labels_val==True],bins=20,alpha=0.5,label='positives')\n",
    "plt.hist(preds[labels_val==False],bins=20,alpha=0.5,label='negatives')\n",
    "plt.legend()\n",
    "\n",
    "# calculate the area under the ROC score\n",
    "roc_auc_score_175 = roc_auc_score(labels_val.values,preds,average=None)\n",
    "roc_auc_score_175"
   ]
  },
  {
   "cell_type": "markdown",
   "metadata": {},
   "source": [
    "Training size 200"
   ]
  },
  {
   "cell_type": "code",
   "execution_count": null,
   "metadata": {},
   "outputs": [],
   "source": [
    "model = torch.hub.load('kitzeslab/bioacoustics-model-zoo','rana_sierrae_cnn',trust_repo=True)"
   ]
  },
  {
   "cell_type": "code",
   "execution_count": null,
   "metadata": {},
   "outputs": [],
   "source": [
    "emb_val = model.embed(labels_val, return_dfs=False, batch_size=32, num_workers=0)"
   ]
  },
  {
   "cell_type": "code",
   "execution_count": null,
   "metadata": {},
   "outputs": [],
   "source": [
    "emb_train_200 = model.embed(labels_trains['train_size_200'], return_dfs=False, batch_size=32, num_workers=0)"
   ]
  },
  {
   "cell_type": "code",
   "execution_count": null,
   "metadata": {},
   "outputs": [],
   "source": [
    "emb_train_200 = torch.tensor(emb_train_200, dtype=torch.float32)\n",
    "emb_val = torch.tensor(emb_val, dtype=torch.float32)\n",
    "\n",
    "# Check the shape of the embeddings\n",
    "print(f\"Original shape of emb_train: {emb_train_200.shape}\")\n",
    "\n",
    "# Reshape embeddings to [batch_size, channels, height, width]\n",
    "height, width = 32, 16  # Ensure height * width = 512\n",
    "emb_train_200 = emb_train_200.view(emb_train_200.shape[0], 1, height, width)\n",
    "emb_val = emb_val.view(emb_val.shape[0], 1, height, width)\n",
    "\n",
    "# Verify the reshaped embeddings\n",
    "print(f\"Reshaped emb_train_200: {emb_train_200.shape}\")\n",
    "print(f\"Reshaped emb_val: {emb_val.shape}\")"
   ]
  },
  {
   "cell_type": "code",
   "execution_count": null,
   "metadata": {},
   "outputs": [],
   "source": [
    "if isinstance(model.network, nn.Sequential):\n",
    "    first_layer = model.network[0]\n",
    "    if isinstance(first_layer, nn.Conv2d):\n",
    "        model.network[0] = nn.Conv2d(\n",
    "            in_channels=1,\n",
    "            out_channels=first_layer.out_channels,\n",
    "            kernel_size=first_layer.kernel_size,\n",
    "            stride=first_layer.stride,\n",
    "            padding=first_layer.padding\n",
    "        )"
   ]
  },
  {
   "cell_type": "code",
   "execution_count": null,
   "metadata": {},
   "outputs": [],
   "source": [
    "emb_train_200 = emb_train_200.repeat(1, 3, 1, 1) \n",
    "emb_val = emb_val.repeat(1, 3, 1, 1)"
   ]
  },
  {
   "cell_type": "code",
   "execution_count": null,
   "metadata": {},
   "outputs": [],
   "source": [
    "model.network.fc = nn.Linear(in_features=model.network.fc.in_features, out_features=1)"
   ]
  },
  {
   "cell_type": "code",
   "execution_count": null,
   "metadata": {},
   "outputs": [],
   "source": [
    "quick_fit(model.network, emb_train_200, labels_trains['train_size_200'].values, emb_val, labels_val.values, steps=1000)"
   ]
  },
  {
   "cell_type": "code",
   "execution_count": null,
   "metadata": {},
   "outputs": [],
   "source": [
    "preds = model.network(torch.tensor(emb_val).float()).detach().numpy()\n",
    "\n",
    "# plot histogram of scores for positive and negative clips\n",
    "plt.hist(preds[labels_val==True],bins=20,alpha=0.5,label='positives')\n",
    "plt.hist(preds[labels_val==False],bins=20,alpha=0.5,label='negatives')\n",
    "plt.legend()\n",
    "\n",
    "# calculate the area under the ROC score\n",
    "roc_auc_score_200 = roc_auc_score(labels_val.values,preds,average=None)\n",
    "roc_auc_score_200"
   ]
  },
  {
   "cell_type": "markdown",
   "metadata": {},
   "source": [
    "Training size 225"
   ]
  },
  {
   "cell_type": "code",
   "execution_count": null,
   "metadata": {},
   "outputs": [],
   "source": [
    "model = torch.hub.load('kitzeslab/bioacoustics-model-zoo','rana_sierrae_cnn',trust_repo=True)"
   ]
  },
  {
   "cell_type": "code",
   "execution_count": null,
   "metadata": {},
   "outputs": [],
   "source": [
    "emb_val = model.embed(labels_val, return_dfs=False, batch_size=32, num_workers=0)"
   ]
  },
  {
   "cell_type": "code",
   "execution_count": null,
   "metadata": {},
   "outputs": [],
   "source": [
    "emb_train_225 = model.embed(labels_trains['train_size_225'], return_dfs=False, batch_size=32, num_workers=0)"
   ]
  },
  {
   "cell_type": "code",
   "execution_count": null,
   "metadata": {},
   "outputs": [],
   "source": [
    "emb_train_225 = torch.tensor(emb_train_225, dtype=torch.float32)\n",
    "emb_val = torch.tensor(emb_val, dtype=torch.float32)\n",
    "\n",
    "# Check the shape of the embeddings\n",
    "print(f\"Original shape of emb_train: {emb_train_225.shape}\")\n",
    "\n",
    "# Reshape embeddings to [batch_size, channels, height, width]\n",
    "height, width = 32, 16  # Ensure height * width = 512\n",
    "emb_train_225 = emb_train_225.view(emb_train_225.shape[0], 1, height, width)\n",
    "emb_val = emb_val.view(emb_val.shape[0], 1, height, width)\n",
    "\n",
    "# Verify the reshaped embeddings\n",
    "print(f\"Reshaped emb_train_225: {emb_train_225.shape}\")\n",
    "print(f\"Reshaped emb_val: {emb_val.shape}\")"
   ]
  },
  {
   "cell_type": "code",
   "execution_count": null,
   "metadata": {},
   "outputs": [],
   "source": [
    "if isinstance(model.network, nn.Sequential):\n",
    "    first_layer = model.network[0]\n",
    "    if isinstance(first_layer, nn.Conv2d):\n",
    "        model.network[0] = nn.Conv2d(\n",
    "            in_channels=1,\n",
    "            out_channels=first_layer.out_channels,\n",
    "            kernel_size=first_layer.kernel_size,\n",
    "            stride=first_layer.stride,\n",
    "            padding=first_layer.padding\n",
    "        )"
   ]
  },
  {
   "cell_type": "code",
   "execution_count": null,
   "metadata": {},
   "outputs": [],
   "source": [
    "emb_train_225 = emb_train_225.repeat(1, 3, 1, 1) \n",
    "emb_val = emb_val.repeat(1, 3, 1, 1)"
   ]
  },
  {
   "cell_type": "code",
   "execution_count": null,
   "metadata": {},
   "outputs": [],
   "source": [
    "model.network.fc = nn.Linear(in_features=model.network.fc.in_features, out_features=1)"
   ]
  },
  {
   "cell_type": "code",
   "execution_count": null,
   "metadata": {},
   "outputs": [],
   "source": [
    "quick_fit(model.network, emb_train_225, labels_trains['train_size_225'].values, emb_val, labels_val.values, steps=1000)"
   ]
  },
  {
   "cell_type": "code",
   "execution_count": null,
   "metadata": {},
   "outputs": [],
   "source": [
    "preds = model.network(torch.tensor(emb_val).float()).detach().numpy()\n",
    "\n",
    "# plot histogram of scores for positive and negative clips\n",
    "plt.hist(preds[labels_val==True],bins=20,alpha=0.5,label='positives')\n",
    "plt.hist(preds[labels_val==False],bins=20,alpha=0.5,label='negatives')\n",
    "plt.legend()\n",
    "\n",
    "# calculate the area under the ROC score\n",
    "roc_auc_score_225 = roc_auc_score(labels_val.values,preds,average=None)\n",
    "roc_auc_score_225"
   ]
  },
  {
   "cell_type": "markdown",
   "metadata": {},
   "source": [
    "Training size 250"
   ]
  },
  {
   "cell_type": "code",
   "execution_count": null,
   "metadata": {},
   "outputs": [],
   "source": [
    "model = torch.hub.load('kitzeslab/bioacoustics-model-zoo','rana_sierrae_cnn',trust_repo=True)"
   ]
  },
  {
   "cell_type": "code",
   "execution_count": null,
   "metadata": {},
   "outputs": [],
   "source": [
    "emb_train_250 = model.embed(labels_trains['train_size_250'], return_dfs=False, batch_size=32, num_workers=0)"
   ]
  },
  {
   "cell_type": "code",
   "execution_count": null,
   "metadata": {},
   "outputs": [],
   "source": [
    "emb_val = model.embed(labels_val, return_dfs=False, batch_size=32, num_workers=0)"
   ]
  },
  {
   "cell_type": "code",
   "execution_count": null,
   "metadata": {},
   "outputs": [],
   "source": [
    "emb_train_250 = torch.tensor(emb_train_250, dtype=torch.float32)\n",
    "emb_val = torch.tensor(emb_val, dtype=torch.float32)\n",
    "\n",
    "# Check the shape of the embeddings\n",
    "print(f\"Original shape of emb_train: {emb_train_250.shape}\")\n",
    "\n",
    "# Reshape embeddings to [batch_size, channels, height, width]\n",
    "height, width = 32, 16  # Ensure height * width = 512\n",
    "emb_train_250 = emb_train_250.view(emb_train_250.shape[0], 1, height, width)\n",
    "emb_val = emb_val.view(emb_val.shape[0], 1, height, width)\n",
    "\n",
    "# Verify the reshaped embeddings\n",
    "print(f\"Reshaped emb_train_250: {emb_train_250.shape}\")\n",
    "print(f\"Reshaped emb_val: {emb_val.shape}\")"
   ]
  },
  {
   "cell_type": "code",
   "execution_count": null,
   "metadata": {},
   "outputs": [],
   "source": [
    "if isinstance(model.network, nn.Sequential):\n",
    "    first_layer = model.network[0]\n",
    "    if isinstance(first_layer, nn.Conv2d):\n",
    "        model.network[0] = nn.Conv2d(\n",
    "            in_channels=1,\n",
    "            out_channels=first_layer.out_channels,\n",
    "            kernel_size=first_layer.kernel_size,\n",
    "            stride=first_layer.stride,\n",
    "            padding=first_layer.padding\n",
    "        )"
   ]
  },
  {
   "cell_type": "code",
   "execution_count": null,
   "metadata": {},
   "outputs": [],
   "source": [
    "emb_train_250 = emb_train_250.repeat(1, 3, 1, 1) \n",
    "emb_val = emb_val.repeat(1, 3, 1, 1)"
   ]
  },
  {
   "cell_type": "code",
   "execution_count": null,
   "metadata": {},
   "outputs": [],
   "source": [
    "model.network.fc = nn.Linear(in_features=model.network.fc.in_features, out_features=1)"
   ]
  },
  {
   "cell_type": "code",
   "execution_count": null,
   "metadata": {},
   "outputs": [],
   "source": [
    "quick_fit(model.network, emb_train_250, labels_trains['train_size_250'].values, emb_val, labels_val.values, steps=1000)"
   ]
  },
  {
   "cell_type": "code",
   "execution_count": null,
   "metadata": {},
   "outputs": [],
   "source": [
    "preds = model.network(torch.tensor(emb_val).float()).detach().numpy()\n",
    "\n",
    "# plot histogram of scores for positive and negative clips\n",
    "plt.hist(preds[labels_val==True],bins=20,alpha=0.5,label='positives')\n",
    "plt.hist(preds[labels_val==False],bins=20,alpha=0.5,label='negatives')\n",
    "plt.legend()\n",
    "\n",
    "# calculate the area under the ROC score\n",
    "roc_auc_score_250 = roc_auc_score(labels_val.values,preds,average=None)\n",
    "roc_auc_score_250"
   ]
  },
  {
   "cell_type": "markdown",
   "metadata": {},
   "source": [
    "Training size 275"
   ]
  },
  {
   "cell_type": "code",
   "execution_count": null,
   "metadata": {},
   "outputs": [],
   "source": [
    "model = torch.hub.load('kitzeslab/bioacoustics-model-zoo','rana_sierrae_cnn',trust_repo=True)"
   ]
  },
  {
   "cell_type": "code",
   "execution_count": null,
   "metadata": {},
   "outputs": [],
   "source": [
    "emb_train_275 = model.embed(labels_trains['train_size_275'], return_dfs=False, batch_size=32, num_workers=0)"
   ]
  },
  {
   "cell_type": "code",
   "execution_count": null,
   "metadata": {},
   "outputs": [],
   "source": [
    "emb_val = model.embed(labels_val, return_dfs=False, batch_size=32, num_workers=0)"
   ]
  },
  {
   "cell_type": "code",
   "execution_count": null,
   "metadata": {},
   "outputs": [],
   "source": [
    "emb_train_275 = torch.tensor(emb_train_275, dtype=torch.float32)\n",
    "emb_val = torch.tensor(emb_val, dtype=torch.float32)\n",
    "# Check the shape of the embeddings\n",
    "print(f\"Original shape of emb_train: {emb_train_275.shape}\")\n",
    "\n",
    "# Reshape embeddings to [batch_size, channels, height, width]\n",
    "height, width = 32, 16  # Ensure height * width = 512\n",
    "emb_train_275 = emb_train_275.view(emb_train_275.shape[0], 1, height, width)\n",
    "emb_val = emb_val.view(emb_val.shape[0], 1, height, width)\n",
    "\n",
    "# Verify the reshaped embeddings\n",
    "print(f\"Reshaped emb_train_275: {emb_train_275.shape}\")\n"
   ]
  },
  {
   "cell_type": "code",
   "execution_count": null,
   "metadata": {},
   "outputs": [],
   "source": [
    "if isinstance(model.network, nn.Sequential):\n",
    "    first_layer = model.network[0]\n",
    "    if isinstance(first_layer, nn.Conv2d):\n",
    "        model.network[0] = nn.Conv2d(\n",
    "            in_channels=1,\n",
    "            out_channels=first_layer.out_channels,\n",
    "            kernel_size=first_layer.kernel_size,\n",
    "            stride=first_layer.stride,\n",
    "            padding=first_layer.padding\n",
    "        )"
   ]
  },
  {
   "cell_type": "code",
   "execution_count": null,
   "metadata": {},
   "outputs": [],
   "source": [
    "emb_train_275 = emb_train_275.repeat(1, 3, 1, 1) \n",
    "emb_val = emb_val.repeat(1, 3, 1, 1)"
   ]
  },
  {
   "cell_type": "code",
   "execution_count": null,
   "metadata": {},
   "outputs": [],
   "source": [
    "model.network.fc = nn.Linear(in_features=model.network.fc.in_features, out_features=1)"
   ]
  },
  {
   "cell_type": "code",
   "execution_count": null,
   "metadata": {},
   "outputs": [],
   "source": [
    "quick_fit(model.network, emb_train_275, labels_trains['train_size_275'].values, emb_val, labels_val.values, steps=1000)"
   ]
  },
  {
   "cell_type": "code",
   "execution_count": null,
   "metadata": {},
   "outputs": [],
   "source": [
    "preds = model.network(torch.tensor(emb_val).float()).detach().numpy()\n",
    "\n",
    "# plot histogram of scores for positive and negative clips\n",
    "plt.hist(preds[labels_val==True],bins=20,alpha=0.5,label='positives')\n",
    "plt.hist(preds[labels_val==False],bins=20,alpha=0.5,label='negatives')\n",
    "plt.legend()\n",
    "\n",
    "# calculate the area under the ROC score\n",
    "roc_auc_score_275 = roc_auc_score(labels_val.values,preds,average=None)\n",
    "roc_auc_score_275"
   ]
  },
  {
   "cell_type": "markdown",
   "metadata": {},
   "source": [
    "Training size 300"
   ]
  },
  {
   "cell_type": "code",
   "execution_count": null,
   "metadata": {},
   "outputs": [],
   "source": [
    "model = torch.hub.load('kitzeslab/bioacoustics-model-zoo','rana_sierrae_cnn',trust_repo=True)"
   ]
  },
  {
   "cell_type": "code",
   "execution_count": null,
   "metadata": {},
   "outputs": [],
   "source": [
    "emb_train_300 = model.embed(labels_trains['train_size_300'], return_dfs=False, batch_size=32, num_workers=0)"
   ]
  },
  {
   "cell_type": "code",
   "execution_count": null,
   "metadata": {},
   "outputs": [],
   "source": [
    "emb_val = model.embed(labels_val, return_dfs=False, batch_size=32, num_workers=0)"
   ]
  },
  {
   "cell_type": "code",
   "execution_count": null,
   "metadata": {},
   "outputs": [],
   "source": [
    "emb_train_300 = torch.tensor(emb_train_300, dtype=torch.float32)\n",
    "emb_val = torch.tensor(emb_val, dtype=torch.float32)\n",
    "# Check the shape of the embeddings\n",
    "print(f\"Original shape of emb_train: {emb_train_300.shape}\")\n",
    "\n",
    "# Reshape embeddings to [batch_size, channels, height, width]\n",
    "height, width = 32, 16  # Ensure height * width = 512\n",
    "emb_train_300 = emb_train_300.view(emb_train_300.shape[0], 1, height, width)\n",
    "emb_val = emb_val.view(emb_val.shape[0], 1, height, width)\n",
    "\n",
    "# Verify the reshaped embeddings\n",
    "print(f\"Reshaped emb_train_300: {emb_train_300.shape}\")\n"
   ]
  },
  {
   "cell_type": "code",
   "execution_count": null,
   "metadata": {},
   "outputs": [],
   "source": [
    "if isinstance(model.network, nn.Sequential):\n",
    "    first_layer = model.network[0]\n",
    "    if isinstance(first_layer, nn.Conv2d):\n",
    "        model.network[0] = nn.Conv2d(\n",
    "            in_channels=1,\n",
    "            out_channels=first_layer.out_channels,\n",
    "            kernel_size=first_layer.kernel_size,\n",
    "            stride=first_layer.stride,\n",
    "            padding=first_layer.padding\n",
    "        )"
   ]
  },
  {
   "cell_type": "code",
   "execution_count": null,
   "metadata": {},
   "outputs": [],
   "source": [
    "emb_val = emb_val.repeat(1, 3, 1, 1)\n",
    "emb_train_300 = emb_train_300.repeat(1, 3, 1, 1) "
   ]
  },
  {
   "cell_type": "code",
   "execution_count": null,
   "metadata": {},
   "outputs": [],
   "source": [
    "model.network.fc = nn.Linear(in_features=model.network.fc.in_features, out_features=1)"
   ]
  },
  {
   "cell_type": "code",
   "execution_count": null,
   "metadata": {},
   "outputs": [],
   "source": [
    "quick_fit(model.network, emb_train_300, labels_trains['train_size_300'].values, emb_val, labels_val.values, steps=1000)"
   ]
  },
  {
   "cell_type": "code",
   "execution_count": null,
   "metadata": {},
   "outputs": [],
   "source": [
    "preds = model.network(torch.tensor(emb_val).float()).detach().numpy()\n",
    "\n",
    "# plot histogram of scores for positive and negative clips\n",
    "plt.hist(preds[labels_val==True],bins=20,alpha=0.5,label='positives')\n",
    "plt.hist(preds[labels_val==False],bins=20,alpha=0.5,label='negatives')\n",
    "plt.legend()\n",
    "\n",
    "# calculate the area under the ROC score\n",
    "roc_auc_score_300 = roc_auc_score(labels_val.values,preds,average=None)\n",
    "roc_auc_score_300"
   ]
  },
  {
   "cell_type": "code",
   "execution_count": null,
   "metadata": {},
   "outputs": [],
   "source": [
    "training_sizes = []\n",
    "roc_auc_scores = []\n",
    "\n",
    "# Iterate over training sizes and collect the scores\n",
    "for size in range(25, 301, 25):\n",
    "    score = eval(f\"roc_auc_score_{size}\")\n",
    "    training_sizes.append(size)\n",
    "    roc_auc_scores.append(score)\n",
    "\n",
    "# Create a DataFrame\n",
    "df = pd.DataFrame({\"Training Size\": training_sizes, \"ROC AUC Score\": roc_auc_scores})\n",
    "\n",
    "\n",
    "# Plot a line plot\n",
    "plt.figure(figsize=(8, 5))\n",
    "plt.plot(df[\"Training Size\"], df[\"ROC AUC Score\"], marker='o', linestyle='-')\n",
    "plt.title(\"ROC AUC Score vs. Training Size\")\n",
    "plt.xlabel(\"Training Size\")\n",
    "plt.ylabel(\"ROC AUC Score\")\n",
    "plt.grid(True)\n",
    "plt.show()"
   ]
  }
 ],
 "metadata": {
  "kernelspec": {
   "display_name": "opensoundscape_env",
   "language": "python",
   "name": "python3"
  },
  "language_info": {
   "codemirror_mode": {
    "name": "ipython",
    "version": 3
   },
   "file_extension": ".py",
   "mimetype": "text/x-python",
   "name": "python",
   "nbconvert_exporter": "python",
   "pygments_lexer": "ipython3",
   "version": "3.9.20"
  }
 },
 "nbformat": 4,
 "nbformat_minor": 2
}
