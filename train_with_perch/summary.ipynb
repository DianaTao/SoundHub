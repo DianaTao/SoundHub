{
 "cells": [
  {
   "cell_type": "code",
   "execution_count": 1,
   "metadata": {},
   "outputs": [],
   "source": [
    "import pandas as pd\n",
    "from pathlib import Path\n",
    "import numpy as np\n",
    "import pandas as pd\n",
    "\n"
   ]
  },
  {
   "cell_type": "code",
   "execution_count": 6,
   "metadata": {},
   "outputs": [
    {
     "data": {
      "text/plain": [
       "{25: 0.9511111111111111,\n",
       " 50: 0.9480888888888889,\n",
       " 75: 0.9415111111111111,\n",
       " 100: 0.9411555555555556,\n",
       " 125: 0.9715555555555556,\n",
       " 150: 0.9511111111111111,\n",
       " 175: 0.9612444444444445,\n",
       " 200: 0.9678222222222223,\n",
       " 225: 0.9480888888888889,\n",
       " 250: 0.9749333333333332,\n",
       " 275: 0.9616,\n",
       " 300: 0.948088888888889}"
      ]
     },
     "execution_count": 6,
     "metadata": {},
     "output_type": "execute_result"
    }
   ],
   "source": [
    "training_size_to_score_bullfrog = {}\n",
    "bullfrog_score =  [0.9511111111111111, 0.9480888888888889, 0.9415111111111111, 0.9411555555555556, 0.9715555555555556, 0.9511111111111111, 0.9612444444444445, 0.9678222222222223, 0.9480888888888889, 0.9749333333333332, 0.9616,0.948088888888889]\n",
    "\n",
    "j = 0\n",
    "for i in range(25, 301, 25):\n",
    "    training_size_to_score_bullfrog[i] = bullfrog_score[j]\n",
    "    j += 1\n",
    "\n",
    "training_size_to_score_bullfrog"
   ]
  },
  {
   "cell_type": "code",
   "execution_count": 7,
   "metadata": {},
   "outputs": [
    {
     "data": {
      "text/plain": [
       "{25: 0.9468000000000001,\n",
       " 50: 0.9808,\n",
       " 75: 0.9716,\n",
       " 100: 0.9724,\n",
       " 125: 0.9904,\n",
       " 150: 0.9803999999999999,\n",
       " 175: 0.9787999999999999,\n",
       " 200: 0.9768}"
      ]
     },
     "execution_count": 7,
     "metadata": {},
     "output_type": "execute_result"
    }
   ],
   "source": [
    "training_size_to_score_coyote = {}\n",
    "coyote_score = [0.9468000000000001, 0.9808, 0.9716, 0.9724, 0.9904, 0.9803999999999999, 0.9787999999999999, 0.9768]\n",
    "\n",
    "j = 0\n",
    "for i in range(25, 201, 25):\n",
    "    training_size_to_score_coyote[i] = coyote_score[j]\n",
    "    j += 1\n",
    "\n",
    "training_size_to_score_coyote"
   ]
  },
  {
   "cell_type": "code",
   "execution_count": 9,
   "metadata": {},
   "outputs": [
    {
     "data": {
      "text/plain": [
       "{25: 0.8400000000000001, 50: 0.8479999999999999, 75: 0.824, 100: 0.8896}"
      ]
     },
     "execution_count": 9,
     "metadata": {},
     "output_type": "execute_result"
    }
   ],
   "source": [
    "training_size_to_score_engine = {}\n",
    "engine_score = [0.8400000000000001, 0.8479999999999999, 0.824, 0.8896]\n",
    "j = 0\n",
    "for i in range(25, 101, 25):\n",
    "    training_size_to_score_engine[i] = engine_score[j]\n",
    "    j += 1\n",
    "\n",
    "training_size_to_score_engine"
   ]
  },
  {
   "cell_type": "code",
   "execution_count": 10,
   "metadata": {},
   "outputs": [
    {
     "data": {
      "text/plain": [
       "{25: 0.8622222222222222, 50: 0.8933333333333333, 60: 0.8977777777777778}"
      ]
     },
     "execution_count": 10,
     "metadata": {},
     "output_type": "execute_result"
    }
   ],
   "source": [
    "training_size_to_score_human_vocal = {}\n",
    "human_vocal = [0.8622222222222222, 0.8933333333333333, 0.8977777777777778]\n",
    "training_size_to_score_human_vocal[25] = human_vocal[0]\n",
    "training_size_to_score_human_vocal[50] = human_vocal[1]\n",
    "training_size_to_score_human_vocal[60] = human_vocal[2]\n",
    "training_size_to_score_human_vocal"
   ]
  },
  {
   "cell_type": "code",
   "execution_count": 13,
   "metadata": {},
   "outputs": [
    {
     "data": {
      "text/plain": [
       "{25: 0.9921777777777778,\n",
       " 50: 0.9994666666666667,\n",
       " 75: 1.0,\n",
       " 100: 1.0,\n",
       " 125: 1.0,\n",
       " 150: 0.9975111111111111,\n",
       " 175: 1.0,\n",
       " 200: 0.9811555555555556,\n",
       " 225: 1.0,\n",
       " 250: 1.0,\n",
       " 275: 1.0,\n",
       " 300: 0.9991111111111112}"
      ]
     },
     "execution_count": 13,
     "metadata": {},
     "output_type": "execute_result"
    }
   ],
   "source": [
    "training_size_to_score_WT = {}\n",
    "woodhouses_toad_score = [0.9921777777777778, 0.9994666666666667, 1.0, 1.0, 1.0, 0.9975111111111111, 1.0, 0.9811555555555556, 1.0, 1.0,1.0, 0.9991111111111112]\n",
    "len(woodhouses_toad_score)\n",
    "j = 0\n",
    "for i in range(25, 301, 25):\n",
    "    training_size_to_score_WT[i] = woodhouses_toad_score[j]\n",
    "    j += 1\n",
    "\n",
    "training_size_to_score_WT"
   ]
  },
  {
   "cell_type": "code",
   "execution_count": 15,
   "metadata": {},
   "outputs": [
    {
     "data": {
      "text/plain": [
       "{25: 0.5640888888888889,\n",
       " 50: 0.5662222222222222,\n",
       " 75: 0.6042666666666666,\n",
       " 100: 0.5447111111111111,\n",
       " 125: 0.5992888888888889,\n",
       " 150: 0.5685333333333333,\n",
       " 175: 0.5532444444444444,\n",
       " 200: 0.5564444444444444,\n",
       " 225: 0.5504,\n",
       " 250: 0.5534222222222223,\n",
       " 275: 0.5223111111111112,\n",
       " 300: 0.5221333333333333}"
      ]
     },
     "execution_count": 15,
     "metadata": {},
     "output_type": "execute_result"
    }
   ],
   "source": [
    "training_size_to_score_pcf = {}\n",
    "pcf_score = [0.5640888888888889, 0.5662222222222222, 0.6042666666666666, 0.5447111111111111, 0.5992888888888889, 0.5685333333333333, 0.5532444444444444, 0.5564444444444444, 0.5504 ,0.5534222222222223 ,0.5223111111111112, 0.5221333333333333]\n",
    "j = 0\n",
    "for i in range(25, 301, 25):\n",
    "    training_size_to_score_pcf[i] = pcf_score[j]\n",
    "    j += 1\n",
    "\n",
    "training_size_to_score_pcf"
   ]
  },
  {
   "cell_type": "code",
   "execution_count": 16,
   "metadata": {},
   "outputs": [
    {
     "data": {
      "text/plain": [
       "{25: 0.850864,\n",
       " 50: 0.796543,\n",
       " 75: 0.807407,\n",
       " 100: 0.815802,\n",
       " 125: 0.777778,\n",
       " 150: 0.83358}"
      ]
     },
     "execution_count": 16,
     "metadata": {},
     "output_type": "execute_result"
    }
   ],
   "source": [
    "training_size_to_score_field_cricket = {}\n",
    "field_cricket_score= [0.850864, 0.796543, 0.807407, 0.815802, 0.777778, 0.833580]\n",
    "j = 0\n",
    "for i in range(25, 151, 25):\n",
    "    training_size_to_score_field_cricket[i] = field_cricket_score[j]\n",
    "    j += 1\n",
    "\n",
    "training_size_to_score_field_cricket"
   ]
  },
  {
   "cell_type": "code",
   "execution_count": null,
   "metadata": {},
   "outputs": [],
   "source": []
  }
 ],
 "metadata": {
  "kernelspec": {
   "display_name": "opensoundscape_env",
   "language": "python",
   "name": "python3"
  },
  "language_info": {
   "codemirror_mode": {
    "name": "ipython",
    "version": 3
   },
   "file_extension": ".py",
   "mimetype": "text/x-python",
   "name": "python",
   "nbconvert_exporter": "python",
   "pygments_lexer": "ipython3",
   "version": "3.9.20"
  }
 },
 "nbformat": 4,
 "nbformat_minor": 2
}
