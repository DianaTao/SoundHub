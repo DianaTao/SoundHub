{
 "cells": [
  {
   "cell_type": "code",
   "execution_count": 1,
   "metadata": {},
   "outputs": [
    {
     "name": "stderr",
     "output_type": "stream",
     "text": [
      "/var/folders/v4/chwhws6x79ncg51bwr5778b00000gn/T/ipykernel_3947/3533495058.py:10: TqdmExperimentalWarning: Using `tqdm.autonotebook.tqdm` in notebook mode. Use `tqdm.tqdm` instead to force console mode (e.g. in jupyter console)\n",
      "  from tqdm.autonotebook import tqdm\n"
     ]
    }
   ],
   "source": [
    "import torch\n",
    "import pandas as pd\n",
    "from pathlib import Path\n",
    "import numpy as np\n",
    "import pandas as pd\n",
    "import random \n",
    "from glob import glob\n",
    "import sklearn\n",
    "\n",
    "from tqdm.autonotebook import tqdm\n",
    "from sklearn.metrics import average_precision_score, roc_auc_score\n",
    "from pathlib import Path\n",
    "\n",
    "#set up plotting\n",
    "from matplotlib import pyplot as plt\n",
    "plt.rcParams['figure.figsize']=[15,5] #for large visuals\n",
    "%config InlineBackend.figure_format = 'retina'\n",
    "\n",
    "# opensoundscape transfer learning tools\n",
    "from opensoundscape.ml.shallow_classifier import MLPClassifier, quick_fit, fit_classifier_on_embeddings\n",
    "import os\n",
    "from pathlib import Path\n",
    "from pydub import AudioSegment"
   ]
  },
  {
   "cell_type": "code",
   "execution_count": 2,
   "metadata": {},
   "outputs": [],
   "source": [
    "torch.manual_seed(0)\n",
    "random.seed(0)\n",
    "np.random.seed(0)"
   ]
  },
  {
   "cell_type": "code",
   "execution_count": 4,
   "metadata": {},
   "outputs": [
    {
     "name": "stdout",
     "output_type": "stream",
     "text": [
      "DataFrame saved for training size train_size_150: /Users/yifeitao/Desktop/SoundHub/SoundHub/train_with_perch/coyotes_5sec/labels_trains_train_size_150.csv\n",
      "DataFrame saved for training size train_size_25: /Users/yifeitao/Desktop/SoundHub/SoundHub/train_with_perch/coyotes_5sec/labels_trains_train_size_25.csv\n",
      "DataFrame saved for training size train_size_175: /Users/yifeitao/Desktop/SoundHub/SoundHub/train_with_perch/coyotes_5sec/labels_trains_train_size_175.csv\n",
      "DataFrame saved for training size train_size_75: /Users/yifeitao/Desktop/SoundHub/SoundHub/train_with_perch/coyotes_5sec/labels_trains_train_size_75.csv\n",
      "DataFrame saved for training size train_size_100: /Users/yifeitao/Desktop/SoundHub/SoundHub/train_with_perch/coyotes_5sec/labels_trains_train_size_100.csv\n",
      "DataFrame saved for training size train_size_200: /Users/yifeitao/Desktop/SoundHub/SoundHub/train_with_perch/coyotes_5sec/labels_trains_train_size_200.csv\n",
      "DataFrame saved for training size train_size_50: /Users/yifeitao/Desktop/SoundHub/SoundHub/train_with_perch/coyotes_5sec/labels_trains_train_size_50.csv\n",
      "DataFrame saved for training size train_size_125: /Users/yifeitao/Desktop/SoundHub/SoundHub/train_with_perch/coyotes_5sec/labels_trains_train_size_125.csv\n",
      "\n",
      "DataFrame for training size train_size_150:\n",
      "                                                                        A\n",
      "file                                               start_time end_time   \n",
      "/Users/yifeitao/Desktop/SoundHub/SoundHub/train... 0.0        5.0       1\n",
      "/Users/yifeitao/Desktop/SoundHub/SoundHub/train... 0.0        5.0       1\n",
      "/Users/yifeitao/Desktop/SoundHub/SoundHub/train... 0.0        5.0       1\n",
      "/Users/yifeitao/Desktop/SoundHub/SoundHub/train... 0.0        5.0       1\n",
      "/Users/yifeitao/Desktop/SoundHub/SoundHub/train... 0.0        5.0       1\n",
      "\n",
      "DataFrame for training size train_size_25:\n",
      "                                                                        A\n",
      "file                                               start_time end_time   \n",
      "/Users/yifeitao/Desktop/SoundHub/SoundHub/train... 0.0        5.0       1\n",
      "/Users/yifeitao/Desktop/SoundHub/SoundHub/train... 0.0        5.0       1\n",
      "/Users/yifeitao/Desktop/SoundHub/SoundHub/train... 0.0        5.0       1\n",
      "/Users/yifeitao/Desktop/SoundHub/SoundHub/train... 0.0        5.0       1\n",
      "/Users/yifeitao/Desktop/SoundHub/SoundHub/train... 0.0        5.0       1\n",
      "\n",
      "DataFrame for training size train_size_175:\n",
      "                                                                        A\n",
      "file                                               start_time end_time   \n",
      "/Users/yifeitao/Desktop/SoundHub/SoundHub/train... 0.0        5.0       1\n",
      "/Users/yifeitao/Desktop/SoundHub/SoundHub/train... 0.0        5.0       1\n",
      "/Users/yifeitao/Desktop/SoundHub/SoundHub/train... 0.0        5.0       1\n",
      "/Users/yifeitao/Desktop/SoundHub/SoundHub/train... 0.0        5.0       1\n",
      "/Users/yifeitao/Desktop/SoundHub/SoundHub/train... 0.0        5.0       1\n",
      "\n",
      "DataFrame for training size train_size_75:\n",
      "                                                                        A\n",
      "file                                               start_time end_time   \n",
      "/Users/yifeitao/Desktop/SoundHub/SoundHub/train... 0.0        5.0       1\n",
      "/Users/yifeitao/Desktop/SoundHub/SoundHub/train... 0.0        5.0       1\n",
      "/Users/yifeitao/Desktop/SoundHub/SoundHub/train... 0.0        5.0       1\n",
      "/Users/yifeitao/Desktop/SoundHub/SoundHub/train... 0.0        5.0       1\n",
      "/Users/yifeitao/Desktop/SoundHub/SoundHub/train... 0.0        5.0       1\n",
      "\n",
      "DataFrame for training size train_size_100:\n",
      "                                                                        A\n",
      "file                                               start_time end_time   \n",
      "/Users/yifeitao/Desktop/SoundHub/SoundHub/train... 0.0        5.0       1\n",
      "/Users/yifeitao/Desktop/SoundHub/SoundHub/train... 0.0        5.0       1\n",
      "/Users/yifeitao/Desktop/SoundHub/SoundHub/train... 0.0        5.0       1\n",
      "/Users/yifeitao/Desktop/SoundHub/SoundHub/train... 0.0        5.0       1\n",
      "/Users/yifeitao/Desktop/SoundHub/SoundHub/train... 0.0        5.0       1\n",
      "\n",
      "DataFrame for training size train_size_200:\n",
      "                                                                        A\n",
      "file                                               start_time end_time   \n",
      "/Users/yifeitao/Desktop/SoundHub/SoundHub/train... 0.0        5.0       1\n",
      "/Users/yifeitao/Desktop/SoundHub/SoundHub/train... 0.0        5.0       1\n",
      "/Users/yifeitao/Desktop/SoundHub/SoundHub/train... 0.0        5.0       1\n",
      "/Users/yifeitao/Desktop/SoundHub/SoundHub/train... 0.0        5.0       1\n",
      "/Users/yifeitao/Desktop/SoundHub/SoundHub/train... 0.0        5.0       1\n",
      "\n",
      "DataFrame for training size train_size_50:\n",
      "                                                                        A\n",
      "file                                               start_time end_time   \n",
      "/Users/yifeitao/Desktop/SoundHub/SoundHub/train... 0.0        5.0       1\n",
      "/Users/yifeitao/Desktop/SoundHub/SoundHub/train... 0.0        5.0       1\n",
      "/Users/yifeitao/Desktop/SoundHub/SoundHub/train... 0.0        5.0       1\n",
      "/Users/yifeitao/Desktop/SoundHub/SoundHub/train... 0.0        5.0       1\n",
      "/Users/yifeitao/Desktop/SoundHub/SoundHub/train... 0.0        5.0       1\n",
      "\n",
      "DataFrame for training size train_size_125:\n",
      "                                                                        A\n",
      "file                                               start_time end_time   \n",
      "/Users/yifeitao/Desktop/SoundHub/SoundHub/train... 0.0        5.0       1\n",
      "/Users/yifeitao/Desktop/SoundHub/SoundHub/train... 0.0        5.0       1\n",
      "/Users/yifeitao/Desktop/SoundHub/SoundHub/train... 0.0        5.0       1\n",
      "/Users/yifeitao/Desktop/SoundHub/SoundHub/train... 0.0        5.0       1\n",
      "/Users/yifeitao/Desktop/SoundHub/SoundHub/train... 0.0        5.0       1\n"
     ]
    }
   ],
   "source": [
    "import os\n",
    "from pathlib import Path\n",
    "import pandas as pd\n",
    "\n",
    "# Define dataset path\n",
    "dataset_path = Path(\"/Users/yifeitao/Desktop/SoundHub/SoundHub/train_with_perch/coyotes_5sec/\")\n",
    "train_path = dataset_path / \"train_5sec\"\n",
    "\n",
    "# Function to traverse directories and map file information to labels\n",
    "def traverse_and_map(directory, label):\n",
    "    audio_files = []\n",
    "    labels = []\n",
    "    start_times = []\n",
    "    end_times = []\n",
    "    \n",
    "    if not directory.exists():\n",
    "        print(f\"Directory does not exist: {directory}\")\n",
    "        return pd.DataFrame()  # Return empty DataFrame if directory doesn't exist\n",
    "    \n",
    "    for root, _, files in os.walk(directory):\n",
    "        for file in files:\n",
    "            if file.endswith(\".mp3\"):\n",
    "                # Prepend full dataset path to the file path\n",
    "                audio_path = dataset_path / Path(root).relative_to(dataset_path) / file\n",
    "                audio_files.append(str(audio_path))\n",
    "                labels.append(label)\n",
    "                start_times.append(0.0)  # Fixed start time\n",
    "                end_times.append(5.0)   # Fixed end time\n",
    "\n",
    "    # Create DataFrame for the current directory\n",
    "    data = {\n",
    "        \"file\": audio_files,\n",
    "        \"start_time\": start_times,\n",
    "        \"end_time\": end_times,\n",
    "        \"A\": labels\n",
    "    }\n",
    "    return pd.DataFrame(data)\n",
    "\n",
    "# Initialize a dictionary to hold DataFrames for each training size\n",
    "labels_trains = {}\n",
    "\n",
    "# Iterate over each train size folder\n",
    "if train_path.exists():\n",
    "    for train_size_dir in train_path.iterdir():\n",
    "        if train_size_dir.is_dir():  # Ensure it's a directory\n",
    "            training_size = train_size_dir.name  # Get the name of the training size directory\n",
    "\n",
    "            # Process `pos` and `neg` subdirectories\n",
    "            pos_dir = train_size_dir / \"pos\"\n",
    "            neg_dir = train_size_dir / \"neg\"\n",
    "            df_pos = traverse_and_map(pos_dir, 1)  # 1 for \"pos\" files\n",
    "            df_neg = traverse_and_map(neg_dir, 0)  # 0 for \"negative\" files\n",
    "\n",
    "            # Combine the DataFrames for `pos` and `neg`\n",
    "            combined_df = pd.concat([df_pos, df_neg], ignore_index=True)\n",
    "\n",
    "            # Set MultiIndex with 'file', 'start_time', and 'end_time'\n",
    "            combined_df.set_index([\"file\", \"start_time\", \"end_time\"], inplace=True)\n",
    "\n",
    "            # Rename the only column to \"A\"\n",
    "            combined_df.columns = ['A']\n",
    "\n",
    "            # Store the DataFrame in the dictionary\n",
    "            labels_trains[training_size] = combined_df\n",
    "\n",
    "            # Optionally, save each DataFrame to a CSV file\n",
    "            output_path = dataset_path / f\"labels_trains_{training_size}.csv\"\n",
    "            combined_df.to_csv(output_path)\n",
    "            print(f\"DataFrame saved for training size {training_size}: {output_path}\")\n",
    "else:\n",
    "    print(f\"Train path does not exist: {train_path}\")\n",
    "\n",
    "# Display the DataFrames for verification\n",
    "for training_size, df in labels_trains.items():\n",
    "    print(f\"\\nDataFrame for training size {training_size}:\")\n",
    "    print(df.head())\n"
   ]
  },
  {
   "cell_type": "markdown",
   "metadata": {},
   "source": [
    "Processing data for training set"
   ]
  },
  {
   "cell_type": "code",
   "execution_count": 5,
   "metadata": {},
   "outputs": [
    {
     "data": {
      "text/html": [
       "<div>\n",
       "<style scoped>\n",
       "    .dataframe tbody tr th:only-of-type {\n",
       "        vertical-align: middle;\n",
       "    }\n",
       "\n",
       "    .dataframe tbody tr th {\n",
       "        vertical-align: top;\n",
       "    }\n",
       "\n",
       "    .dataframe thead th {\n",
       "        text-align: right;\n",
       "    }\n",
       "</style>\n",
       "<table border=\"1\" class=\"dataframe\">\n",
       "  <thead>\n",
       "    <tr style=\"text-align: right;\">\n",
       "      <th></th>\n",
       "      <th></th>\n",
       "      <th></th>\n",
       "      <th>A</th>\n",
       "    </tr>\n",
       "    <tr>\n",
       "      <th>file</th>\n",
       "      <th>start_time</th>\n",
       "      <th>end_time</th>\n",
       "      <th></th>\n",
       "    </tr>\n",
       "  </thead>\n",
       "  <tbody>\n",
       "    <tr>\n",
       "      <th>/Users/yifeitao/Desktop/SoundHub/SoundHub/train_with_perch/coyotes_5sec/train_5sec/train_size_150/pos/t-11031961_309_9sec_2_a.mp3</th>\n",
       "      <th>0.0</th>\n",
       "      <th>5.0</th>\n",
       "      <td>1</td>\n",
       "    </tr>\n",
       "    <tr>\n",
       "      <th>/Users/yifeitao/Desktop/SoundHub/SoundHub/train_with_perch/coyotes_5sec/train_5sec/train_size_150/pos/t-11031961_194_9sec_1_a.mp3</th>\n",
       "      <th>0.0</th>\n",
       "      <th>5.0</th>\n",
       "      <td>1</td>\n",
       "    </tr>\n",
       "    <tr>\n",
       "      <th>/Users/yifeitao/Desktop/SoundHub/SoundHub/train_with_perch/coyotes_5sec/train_5sec/train_size_150/pos/t-11031961_156_9sec_2_a.mp3</th>\n",
       "      <th>0.0</th>\n",
       "      <th>5.0</th>\n",
       "      <td>1</td>\n",
       "    </tr>\n",
       "    <tr>\n",
       "      <th>/Users/yifeitao/Desktop/SoundHub/SoundHub/train_with_perch/coyotes_5sec/train_5sec/train_size_150/pos/t-11031961_193_9sec_1_a.mp3</th>\n",
       "      <th>0.0</th>\n",
       "      <th>5.0</th>\n",
       "      <td>1</td>\n",
       "    </tr>\n",
       "    <tr>\n",
       "      <th>/Users/yifeitao/Desktop/SoundHub/SoundHub/train_with_perch/coyotes_5sec/train_5sec/train_size_150/pos/t-11031961_310_9sec_3_a.mp3</th>\n",
       "      <th>0.0</th>\n",
       "      <th>5.0</th>\n",
       "      <td>1</td>\n",
       "    </tr>\n",
       "    <tr>\n",
       "      <th>/Users/yifeitao/Desktop/SoundHub/SoundHub/train_with_perch/coyotes_5sec/train_5sec/train_size_150/pos/t-11031961_138_9sec_1_f.mp3</th>\n",
       "      <th>0.0</th>\n",
       "      <th>5.0</th>\n",
       "      <td>1</td>\n",
       "    </tr>\n",
       "    <tr>\n",
       "      <th>/Users/yifeitao/Desktop/SoundHub/SoundHub/train_with_perch/coyotes_5sec/train_5sec/train_size_150/pos/t-11031961_132_9sec_2_a.mp3</th>\n",
       "      <th>0.0</th>\n",
       "      <th>5.0</th>\n",
       "      <td>1</td>\n",
       "    </tr>\n",
       "    <tr>\n",
       "      <th>/Users/yifeitao/Desktop/SoundHub/SoundHub/train_with_perch/coyotes_5sec/train_5sec/train_size_150/pos/t-11031961_186_9sec_1_b.mp3</th>\n",
       "      <th>0.0</th>\n",
       "      <th>5.0</th>\n",
       "      <td>1</td>\n",
       "    </tr>\n",
       "    <tr>\n",
       "      <th>/Users/yifeitao/Desktop/SoundHub/SoundHub/train_with_perch/coyotes_5sec/train_5sec/train_size_150/pos/t-11031961_179_9sec_1_b.mp3</th>\n",
       "      <th>0.0</th>\n",
       "      <th>5.0</th>\n",
       "      <td>1</td>\n",
       "    </tr>\n",
       "    <tr>\n",
       "      <th>/Users/yifeitao/Desktop/SoundHub/SoundHub/train_with_perch/coyotes_5sec/train_5sec/train_size_150/pos/t-11031961_135_9sec_2_a.mp3</th>\n",
       "      <th>0.0</th>\n",
       "      <th>5.0</th>\n",
       "      <td>1</td>\n",
       "    </tr>\n",
       "    <tr>\n",
       "      <th>/Users/yifeitao/Desktop/SoundHub/SoundHub/train_with_perch/coyotes_5sec/train_5sec/train_size_150/pos/t-11031961_204_9sec_1_c.mp3</th>\n",
       "      <th>0.0</th>\n",
       "      <th>5.0</th>\n",
       "      <td>1</td>\n",
       "    </tr>\n",
       "    <tr>\n",
       "      <th>/Users/yifeitao/Desktop/SoundHub/SoundHub/train_with_perch/coyotes_5sec/train_5sec/train_size_150/pos/t-11031961_216_9sec_1_b.mp3</th>\n",
       "      <th>0.0</th>\n",
       "      <th>5.0</th>\n",
       "      <td>1</td>\n",
       "    </tr>\n",
       "    <tr>\n",
       "      <th>/Users/yifeitao/Desktop/SoundHub/SoundHub/train_with_perch/coyotes_5sec/train_5sec/train_size_150/pos/t-11031961_26_9sec_1_a.mp3</th>\n",
       "      <th>0.0</th>\n",
       "      <th>5.0</th>\n",
       "      <td>1</td>\n",
       "    </tr>\n",
       "    <tr>\n",
       "      <th>/Users/yifeitao/Desktop/SoundHub/SoundHub/train_with_perch/coyotes_5sec/train_5sec/train_size_150/pos/t-11031961_310_9sec_1_a.mp3</th>\n",
       "      <th>0.0</th>\n",
       "      <th>5.0</th>\n",
       "      <td>1</td>\n",
       "    </tr>\n",
       "    <tr>\n",
       "      <th>/Users/yifeitao/Desktop/SoundHub/SoundHub/train_with_perch/coyotes_5sec/train_5sec/train_size_150/pos/t-11031961_216_9sec_1_c.mp3</th>\n",
       "      <th>0.0</th>\n",
       "      <th>5.0</th>\n",
       "      <td>1</td>\n",
       "    </tr>\n",
       "    <tr>\n",
       "      <th>/Users/yifeitao/Desktop/SoundHub/SoundHub/train_with_perch/coyotes_5sec/train_5sec/train_size_150/pos/t-11031961_166_9sec_4_a.mp3</th>\n",
       "      <th>0.0</th>\n",
       "      <th>5.0</th>\n",
       "      <td>1</td>\n",
       "    </tr>\n",
       "    <tr>\n",
       "      <th>/Users/yifeitao/Desktop/SoundHub/SoundHub/train_with_perch/coyotes_5sec/train_5sec/train_size_150/pos/t-11031961_186_9sec_1_c.mp3</th>\n",
       "      <th>0.0</th>\n",
       "      <th>5.0</th>\n",
       "      <td>1</td>\n",
       "    </tr>\n",
       "    <tr>\n",
       "      <th>/Users/yifeitao/Desktop/SoundHub/SoundHub/train_with_perch/coyotes_5sec/train_5sec/train_size_150/pos/t-11031961_192_9sec_1_a.mp3</th>\n",
       "      <th>0.0</th>\n",
       "      <th>5.0</th>\n",
       "      <td>1</td>\n",
       "    </tr>\n",
       "    <tr>\n",
       "      <th>/Users/yifeitao/Desktop/SoundHub/SoundHub/train_with_perch/coyotes_5sec/train_5sec/train_size_150/pos/t-11031961_195_9sec_1_a.mp3</th>\n",
       "      <th>0.0</th>\n",
       "      <th>5.0</th>\n",
       "      <td>1</td>\n",
       "    </tr>\n",
       "    <tr>\n",
       "      <th>/Users/yifeitao/Desktop/SoundHub/SoundHub/train_with_perch/coyotes_5sec/train_5sec/train_size_150/pos/t-11031961_320_9sec_1_a.mp3</th>\n",
       "      <th>0.0</th>\n",
       "      <th>5.0</th>\n",
       "      <td>1</td>\n",
       "    </tr>\n",
       "  </tbody>\n",
       "</table>\n",
       "</div>"
      ],
      "text/plain": [
       "                                                                        A\n",
       "file                                               start_time end_time   \n",
       "/Users/yifeitao/Desktop/SoundHub/SoundHub/train... 0.0        5.0       1\n",
       "/Users/yifeitao/Desktop/SoundHub/SoundHub/train... 0.0        5.0       1\n",
       "/Users/yifeitao/Desktop/SoundHub/SoundHub/train... 0.0        5.0       1\n",
       "/Users/yifeitao/Desktop/SoundHub/SoundHub/train... 0.0        5.0       1\n",
       "/Users/yifeitao/Desktop/SoundHub/SoundHub/train... 0.0        5.0       1\n",
       "/Users/yifeitao/Desktop/SoundHub/SoundHub/train... 0.0        5.0       1\n",
       "/Users/yifeitao/Desktop/SoundHub/SoundHub/train... 0.0        5.0       1\n",
       "/Users/yifeitao/Desktop/SoundHub/SoundHub/train... 0.0        5.0       1\n",
       "/Users/yifeitao/Desktop/SoundHub/SoundHub/train... 0.0        5.0       1\n",
       "/Users/yifeitao/Desktop/SoundHub/SoundHub/train... 0.0        5.0       1\n",
       "/Users/yifeitao/Desktop/SoundHub/SoundHub/train... 0.0        5.0       1\n",
       "/Users/yifeitao/Desktop/SoundHub/SoundHub/train... 0.0        5.0       1\n",
       "/Users/yifeitao/Desktop/SoundHub/SoundHub/train... 0.0        5.0       1\n",
       "/Users/yifeitao/Desktop/SoundHub/SoundHub/train... 0.0        5.0       1\n",
       "/Users/yifeitao/Desktop/SoundHub/SoundHub/train... 0.0        5.0       1\n",
       "/Users/yifeitao/Desktop/SoundHub/SoundHub/train... 0.0        5.0       1\n",
       "/Users/yifeitao/Desktop/SoundHub/SoundHub/train... 0.0        5.0       1\n",
       "/Users/yifeitao/Desktop/SoundHub/SoundHub/train... 0.0        5.0       1\n",
       "/Users/yifeitao/Desktop/SoundHub/SoundHub/train... 0.0        5.0       1\n",
       "/Users/yifeitao/Desktop/SoundHub/SoundHub/train... 0.0        5.0       1"
      ]
     },
     "execution_count": 5,
     "metadata": {},
     "output_type": "execute_result"
    }
   ],
   "source": [
    "labels_trains['train_size_150'].head(20)"
   ]
  },
  {
   "cell_type": "markdown",
   "metadata": {},
   "source": [
    "Prepare audio Data"
   ]
  },
  {
   "cell_type": "markdown",
   "metadata": {},
   "source": [
    "Step 1: Train shallow classifier on Perch embeddings"
   ]
  },
  {
   "cell_type": "code",
   "execution_count": 6,
   "metadata": {},
   "outputs": [
    {
     "name": "stderr",
     "output_type": "stream",
     "text": [
      "Using cache found in /Users/yifeitao/.cache/torch/hub/kitzeslab_bioacoustics-model-zoo_main\n"
     ]
    }
   ],
   "source": [
    "model = torch.hub.load('kitzeslab/bioacoustics-model-zoo','rana_sierrae_cnn',trust_repo=True)"
   ]
  },
  {
   "cell_type": "markdown",
   "metadata": {},
   "source": [
    "Step 2: Generate embeddings on the training and validation data"
   ]
  },
  {
   "cell_type": "markdown",
   "metadata": {},
   "source": [
    "Training size 25"
   ]
  },
  {
   "cell_type": "code",
   "execution_count": 7,
   "metadata": {},
   "outputs": [
    {
     "data": {
      "application/vnd.jupyter.widget-view+json": {
       "model_id": "7ae62091bdf04759a113b833d730e8ec",
       "version_major": 2,
       "version_minor": 0
      },
      "text/plain": [
       "  0%|          | 0/2 [00:00<?, ?it/s]"
      ]
     },
     "metadata": {},
     "output_type": "display_data"
    },
    {
     "name": "stderr",
     "output_type": "stream",
     "text": [
      "/opt/anaconda3/envs/opensoundscape_env/lib/python3.9/site-packages/opensoundscape/audio.py:1725: UserWarning: Audio object is shorter than requested duration: 4.9996875 sec instead of 5.0 sec\n",
      "  warnings.warn(error_msg)\n",
      "/opt/anaconda3/envs/opensoundscape_env/lib/python3.9/site-packages/opensoundscape/audio.py:1725: UserWarning: Audio object is shorter than requested duration: 4.999770833333334 sec instead of 5.0 sec\n",
      "  warnings.warn(error_msg)\n",
      "/opt/anaconda3/envs/opensoundscape_env/lib/python3.9/site-packages/opensoundscape/audio.py:1725: UserWarning: Audio object is shorter than requested duration: 4.999833333333333 sec instead of 5.0 sec\n",
      "  warnings.warn(error_msg)\n",
      "/opt/anaconda3/envs/opensoundscape_env/lib/python3.9/site-packages/opensoundscape/audio.py:1725: UserWarning: Audio object is shorter than requested duration: 4.999833333333333 sec instead of 5.0 sec\n",
      "  warnings.warn(error_msg)\n",
      "/opt/anaconda3/envs/opensoundscape_env/lib/python3.9/site-packages/opensoundscape/audio.py:1725: UserWarning: Audio object is shorter than requested duration: 4.999583333333334 sec instead of 5.0 sec\n",
      "  warnings.warn(error_msg)\n",
      "/opt/anaconda3/envs/opensoundscape_env/lib/python3.9/site-packages/opensoundscape/audio.py:1725: UserWarning: Audio object is shorter than requested duration: 4.999833333333333 sec instead of 5.0 sec\n",
      "  warnings.warn(error_msg)\n",
      "/opt/anaconda3/envs/opensoundscape_env/lib/python3.9/site-packages/opensoundscape/audio.py:1725: UserWarning: Audio object is shorter than requested duration: 4.999833333333333 sec instead of 5.0 sec\n",
      "  warnings.warn(error_msg)\n",
      "/opt/anaconda3/envs/opensoundscape_env/lib/python3.9/site-packages/opensoundscape/audio.py:1725: UserWarning: Audio object is shorter than requested duration: 4.999416666666667 sec instead of 5.0 sec\n",
      "  warnings.warn(error_msg)\n",
      "/opt/anaconda3/envs/opensoundscape_env/lib/python3.9/site-packages/opensoundscape/audio.py:1725: UserWarning: Audio object is shorter than requested duration: 4.999833333333333 sec instead of 5.0 sec\n",
      "  warnings.warn(error_msg)\n",
      "/opt/anaconda3/envs/opensoundscape_env/lib/python3.9/site-packages/opensoundscape/audio.py:1725: UserWarning: Audio object is shorter than requested duration: 4.999833333333333 sec instead of 5.0 sec\n",
      "  warnings.warn(error_msg)\n",
      "/opt/anaconda3/envs/opensoundscape_env/lib/python3.9/site-packages/opensoundscape/audio.py:1725: UserWarning: Audio object is shorter than requested duration: 4.999833333333333 sec instead of 5.0 sec\n",
      "  warnings.warn(error_msg)\n",
      "/opt/anaconda3/envs/opensoundscape_env/lib/python3.9/site-packages/opensoundscape/audio.py:1725: UserWarning: Audio object is shorter than requested duration: 4.999833333333333 sec instead of 5.0 sec\n",
      "  warnings.warn(error_msg)\n",
      "/opt/anaconda3/envs/opensoundscape_env/lib/python3.9/site-packages/opensoundscape/audio.py:1725: UserWarning: Audio object is shorter than requested duration: 4.999833333333333 sec instead of 5.0 sec\n",
      "  warnings.warn(error_msg)\n",
      "/opt/anaconda3/envs/opensoundscape_env/lib/python3.9/site-packages/opensoundscape/audio.py:1725: UserWarning: Audio object is shorter than requested duration: 4.999708333333333 sec instead of 5.0 sec\n",
      "  warnings.warn(error_msg)\n",
      "/opt/anaconda3/envs/opensoundscape_env/lib/python3.9/site-packages/opensoundscape/audio.py:1725: UserWarning: Audio object is shorter than requested duration: 4.999833333333333 sec instead of 5.0 sec\n",
      "  warnings.warn(error_msg)\n",
      "/opt/anaconda3/envs/opensoundscape_env/lib/python3.9/site-packages/opensoundscape/audio.py:1725: UserWarning: Audio object is shorter than requested duration: 4.999916666666667 sec instead of 5.0 sec\n",
      "  warnings.warn(error_msg)\n",
      "/opt/anaconda3/envs/opensoundscape_env/lib/python3.9/site-packages/opensoundscape/audio.py:1725: UserWarning: Audio object is shorter than requested duration: 4.999729166666667 sec instead of 5.0 sec\n",
      "  warnings.warn(error_msg)\n",
      "/opt/anaconda3/envs/opensoundscape_env/lib/python3.9/site-packages/opensoundscape/audio.py:1725: UserWarning: Audio object is shorter than requested duration: 4.999833333333333 sec instead of 5.0 sec\n",
      "  warnings.warn(error_msg)\n",
      "/opt/anaconda3/envs/opensoundscape_env/lib/python3.9/site-packages/opensoundscape/audio.py:1725: UserWarning: Audio object is shorter than requested duration: 4.9998125 sec instead of 5.0 sec\n",
      "  warnings.warn(error_msg)\n",
      "/opt/anaconda3/envs/opensoundscape_env/lib/python3.9/site-packages/opensoundscape/audio.py:1725: UserWarning: Audio object is shorter than requested duration: 4.9995416666666666 sec instead of 5.0 sec\n",
      "  warnings.warn(error_msg)\n",
      "/opt/anaconda3/envs/opensoundscape_env/lib/python3.9/site-packages/opensoundscape/audio.py:1725: UserWarning: Audio object is shorter than requested duration: 4.999833333333333 sec instead of 5.0 sec\n",
      "  warnings.warn(error_msg)\n",
      "/opt/anaconda3/envs/opensoundscape_env/lib/python3.9/site-packages/opensoundscape/audio.py:1725: UserWarning: Audio object is shorter than requested duration: 4.999833333333333 sec instead of 5.0 sec\n",
      "  warnings.warn(error_msg)\n",
      "/opt/anaconda3/envs/opensoundscape_env/lib/python3.9/site-packages/opensoundscape/audio.py:1725: UserWarning: Audio object is shorter than requested duration: 4.999833333333333 sec instead of 5.0 sec\n",
      "  warnings.warn(error_msg)\n",
      "/opt/anaconda3/envs/opensoundscape_env/lib/python3.9/site-packages/opensoundscape/audio.py:1725: UserWarning: Audio object is shorter than requested duration: 4.999833333333333 sec instead of 5.0 sec\n",
      "  warnings.warn(error_msg)\n",
      "/opt/anaconda3/envs/opensoundscape_env/lib/python3.9/site-packages/opensoundscape/audio.py:1725: UserWarning: Audio object is shorter than requested duration: 4.999833333333333 sec instead of 5.0 sec\n",
      "  warnings.warn(error_msg)\n",
      "/opt/anaconda3/envs/opensoundscape_env/lib/python3.9/site-packages/opensoundscape/audio.py:1725: UserWarning: Audio object is shorter than requested duration: 4.999833333333333 sec instead of 5.0 sec\n",
      "  warnings.warn(error_msg)\n",
      "/opt/anaconda3/envs/opensoundscape_env/lib/python3.9/site-packages/opensoundscape/audio.py:1725: UserWarning: Audio object is shorter than requested duration: 4.999833333333333 sec instead of 5.0 sec\n",
      "  warnings.warn(error_msg)\n",
      "/opt/anaconda3/envs/opensoundscape_env/lib/python3.9/site-packages/opensoundscape/audio.py:1725: UserWarning: Audio object is shorter than requested duration: 4.999833333333333 sec instead of 5.0 sec\n",
      "  warnings.warn(error_msg)\n",
      "/opt/anaconda3/envs/opensoundscape_env/lib/python3.9/site-packages/opensoundscape/audio.py:1725: UserWarning: Audio object is shorter than requested duration: 4.999833333333333 sec instead of 5.0 sec\n",
      "  warnings.warn(error_msg)\n",
      "/opt/anaconda3/envs/opensoundscape_env/lib/python3.9/site-packages/opensoundscape/audio.py:1725: UserWarning: Audio object is shorter than requested duration: 4.999833333333333 sec instead of 5.0 sec\n",
      "  warnings.warn(error_msg)\n",
      "/opt/anaconda3/envs/opensoundscape_env/lib/python3.9/site-packages/opensoundscape/audio.py:1725: UserWarning: Audio object is shorter than requested duration: 4.999833333333333 sec instead of 5.0 sec\n",
      "  warnings.warn(error_msg)\n",
      "/opt/anaconda3/envs/opensoundscape_env/lib/python3.9/site-packages/opensoundscape/audio.py:1725: UserWarning: Audio object is shorter than requested duration: 4.999833333333333 sec instead of 5.0 sec\n",
      "  warnings.warn(error_msg)\n",
      "/opt/anaconda3/envs/opensoundscape_env/lib/python3.9/site-packages/opensoundscape/audio.py:1725: UserWarning: Audio object is shorter than requested duration: 4.999833333333333 sec instead of 5.0 sec\n",
      "  warnings.warn(error_msg)\n",
      "/opt/anaconda3/envs/opensoundscape_env/lib/python3.9/site-packages/opensoundscape/audio.py:1725: UserWarning: Audio object is shorter than requested duration: 4.999833333333333 sec instead of 5.0 sec\n",
      "  warnings.warn(error_msg)\n",
      "/opt/anaconda3/envs/opensoundscape_env/lib/python3.9/site-packages/opensoundscape/audio.py:1725: UserWarning: Audio object is shorter than requested duration: 4.999833333333333 sec instead of 5.0 sec\n",
      "  warnings.warn(error_msg)\n",
      "/opt/anaconda3/envs/opensoundscape_env/lib/python3.9/site-packages/opensoundscape/audio.py:1725: UserWarning: Audio object is shorter than requested duration: 4.999833333333333 sec instead of 5.0 sec\n",
      "  warnings.warn(error_msg)\n",
      "/opt/anaconda3/envs/opensoundscape_env/lib/python3.9/site-packages/opensoundscape/audio.py:1725: UserWarning: Audio object is shorter than requested duration: 4.999833333333333 sec instead of 5.0 sec\n",
      "  warnings.warn(error_msg)\n",
      "/opt/anaconda3/envs/opensoundscape_env/lib/python3.9/site-packages/opensoundscape/audio.py:1725: UserWarning: Audio object is shorter than requested duration: 4.999833333333333 sec instead of 5.0 sec\n",
      "  warnings.warn(error_msg)\n",
      "/opt/anaconda3/envs/opensoundscape_env/lib/python3.9/site-packages/opensoundscape/audio.py:1725: UserWarning: Audio object is shorter than requested duration: 4.999833333333333 sec instead of 5.0 sec\n",
      "  warnings.warn(error_msg)\n",
      "/opt/anaconda3/envs/opensoundscape_env/lib/python3.9/site-packages/opensoundscape/audio.py:1725: UserWarning: Audio object is shorter than requested duration: 4.999833333333333 sec instead of 5.0 sec\n",
      "  warnings.warn(error_msg)\n",
      "/opt/anaconda3/envs/opensoundscape_env/lib/python3.9/site-packages/opensoundscape/audio.py:1725: UserWarning: Audio object is shorter than requested duration: 4.999833333333333 sec instead of 5.0 sec\n",
      "  warnings.warn(error_msg)\n",
      "/opt/anaconda3/envs/opensoundscape_env/lib/python3.9/site-packages/opensoundscape/audio.py:1725: UserWarning: Audio object is shorter than requested duration: 4.999833333333333 sec instead of 5.0 sec\n",
      "  warnings.warn(error_msg)\n",
      "/opt/anaconda3/envs/opensoundscape_env/lib/python3.9/site-packages/opensoundscape/audio.py:1725: UserWarning: Audio object is shorter than requested duration: 4.999833333333333 sec instead of 5.0 sec\n",
      "  warnings.warn(error_msg)\n",
      "/opt/anaconda3/envs/opensoundscape_env/lib/python3.9/site-packages/opensoundscape/audio.py:1725: UserWarning: Audio object is shorter than requested duration: 4.999833333333333 sec instead of 5.0 sec\n",
      "  warnings.warn(error_msg)\n",
      "/opt/anaconda3/envs/opensoundscape_env/lib/python3.9/site-packages/opensoundscape/audio.py:1725: UserWarning: Audio object is shorter than requested duration: 4.999833333333333 sec instead of 5.0 sec\n",
      "  warnings.warn(error_msg)\n"
     ]
    }
   ],
   "source": [
    "emb_train_25 = model.embed(labels_trains['train_size_25'], return_dfs=False, batch_size=32, num_workers=0)"
   ]
  },
  {
   "cell_type": "code",
   "execution_count": 8,
   "metadata": {},
   "outputs": [
    {
     "name": "stdout",
     "output_type": "stream",
     "text": [
      "Processed dataset saved to /Users/yifeitao/Desktop/SoundHub/SoundHub/train_with_perch/coyotes_5sec/test_5sec/processed_test_dataset_5sec.csv\n",
      "Audio clips saved to /Users/yifeitao/Desktop/SoundHub/SoundHub/train_with_perch/coyotes_5sec/test_5sec/clips\n",
      "                                                                        A\n",
      "file                                               start_time end_time   \n",
      "/Users/yifeitao/Desktop/SoundHub/SoundHub/train... 0.0        5.0       0\n",
      "/Users/yifeitao/Desktop/SoundHub/SoundHub/train... 0.0        5.0       0\n",
      "/Users/yifeitao/Desktop/SoundHub/SoundHub/train... 0.0        5.0       0\n",
      "/Users/yifeitao/Desktop/SoundHub/SoundHub/train... 0.0        5.0       1\n",
      "/Users/yifeitao/Desktop/SoundHub/SoundHub/train... 0.0        5.0       1\n"
     ]
    },
    {
     "name": "stderr",
     "output_type": "stream",
     "text": [
      "/var/folders/v4/chwhws6x79ncg51bwr5778b00000gn/T/ipykernel_3947/240471425.py:20: ResourceWarning: unclosed file <_io.BufferedReader name='/Users/yifeitao/Desktop/SoundHub/SoundHub/train_with_perch/coyotes_5sec/test_5sec/test_dataset_5sec.wav'>\n",
      "  audio = AudioSegment.from_file(audio_file_path)\n",
      "/var/folders/v4/chwhws6x79ncg51bwr5778b00000gn/T/ipykernel_3947/240471425.py:39: ResourceWarning: unclosed file <_io.BufferedRandom name='/Users/yifeitao/Desktop/SoundHub/SoundHub/train_with_perch/coyotes_5sec/test_5sec/clips/t-11031961_327_9sec_1_a.wav'>\n",
      "  clip.export(clip_path, format=\"wav\")\n",
      "/var/folders/v4/chwhws6x79ncg51bwr5778b00000gn/T/ipykernel_3947/240471425.py:39: ResourceWarning: unclosed file <_io.BufferedRandom name='/Users/yifeitao/Desktop/SoundHub/SoundHub/train_with_perch/coyotes_5sec/test_5sec/clips/t-11031961_8_9sec_1_a.wav'>\n",
      "  clip.export(clip_path, format=\"wav\")\n",
      "/var/folders/v4/chwhws6x79ncg51bwr5778b00000gn/T/ipykernel_3947/240471425.py:39: ResourceWarning: unclosed file <_io.BufferedRandom name='/Users/yifeitao/Desktop/SoundHub/SoundHub/train_with_perch/coyotes_5sec/test_5sec/clips/t-11031961_81_9sec_1_a.wav'>\n",
      "  clip.export(clip_path, format=\"wav\")\n",
      "/var/folders/v4/chwhws6x79ncg51bwr5778b00000gn/T/ipykernel_3947/240471425.py:39: ResourceWarning: unclosed file <_io.BufferedRandom name='/Users/yifeitao/Desktop/SoundHub/SoundHub/train_with_perch/coyotes_5sec/test_5sec/clips/t-11031961_212_9sec_1_c.wav'>\n",
      "  clip.export(clip_path, format=\"wav\")\n",
      "/var/folders/v4/chwhws6x79ncg51bwr5778b00000gn/T/ipykernel_3947/240471425.py:39: ResourceWarning: unclosed file <_io.BufferedRandom name='/Users/yifeitao/Desktop/SoundHub/SoundHub/train_with_perch/coyotes_5sec/test_5sec/clips/t-11031961_159_9sec_1_b.wav'>\n",
      "  clip.export(clip_path, format=\"wav\")\n",
      "/var/folders/v4/chwhws6x79ncg51bwr5778b00000gn/T/ipykernel_3947/240471425.py:39: ResourceWarning: unclosed file <_io.BufferedRandom name='/Users/yifeitao/Desktop/SoundHub/SoundHub/train_with_perch/coyotes_5sec/test_5sec/clips/t-11031961_175_9sec_1_a.wav'>\n",
      "  clip.export(clip_path, format=\"wav\")\n",
      "/var/folders/v4/chwhws6x79ncg51bwr5778b00000gn/T/ipykernel_3947/240471425.py:39: ResourceWarning: unclosed file <_io.BufferedRandom name='/Users/yifeitao/Desktop/SoundHub/SoundHub/train_with_perch/coyotes_5sec/test_5sec/clips/t-11031961_145_9sec_2_c.wav'>\n",
      "  clip.export(clip_path, format=\"wav\")\n",
      "/var/folders/v4/chwhws6x79ncg51bwr5778b00000gn/T/ipykernel_3947/240471425.py:39: ResourceWarning: unclosed file <_io.BufferedRandom name='/Users/yifeitao/Desktop/SoundHub/SoundHub/train_with_perch/coyotes_5sec/test_5sec/clips/t-11031961_378_9sec_1_a.wav'>\n",
      "  clip.export(clip_path, format=\"wav\")\n",
      "/var/folders/v4/chwhws6x79ncg51bwr5778b00000gn/T/ipykernel_3947/240471425.py:39: ResourceWarning: unclosed file <_io.BufferedRandom name='/Users/yifeitao/Desktop/SoundHub/SoundHub/train_with_perch/coyotes_5sec/test_5sec/clips/t-11031961_198_9sec_1_c.wav'>\n",
      "  clip.export(clip_path, format=\"wav\")\n",
      "/var/folders/v4/chwhws6x79ncg51bwr5778b00000gn/T/ipykernel_3947/240471425.py:39: ResourceWarning: unclosed file <_io.BufferedRandom name='/Users/yifeitao/Desktop/SoundHub/SoundHub/train_with_perch/coyotes_5sec/test_5sec/clips/t-11031961_136_9sec_2_b.wav'>\n",
      "  clip.export(clip_path, format=\"wav\")\n",
      "/var/folders/v4/chwhws6x79ncg51bwr5778b00000gn/T/ipykernel_3947/240471425.py:39: ResourceWarning: unclosed file <_io.BufferedRandom name='/Users/yifeitao/Desktop/SoundHub/SoundHub/train_with_perch/coyotes_5sec/test_5sec/clips/t-11031961_168_9sec_1_b.wav'>\n",
      "  clip.export(clip_path, format=\"wav\")\n",
      "/var/folders/v4/chwhws6x79ncg51bwr5778b00000gn/T/ipykernel_3947/240471425.py:39: ResourceWarning: unclosed file <_io.BufferedRandom name='/Users/yifeitao/Desktop/SoundHub/SoundHub/train_with_perch/coyotes_5sec/test_5sec/clips/t-11031961_172_9sec_2_a.wav'>\n",
      "  clip.export(clip_path, format=\"wav\")\n",
      "/var/folders/v4/chwhws6x79ncg51bwr5778b00000gn/T/ipykernel_3947/240471425.py:39: ResourceWarning: unclosed file <_io.BufferedRandom name='/Users/yifeitao/Desktop/SoundHub/SoundHub/train_with_perch/coyotes_5sec/test_5sec/clips/t-11031961_286_9sec_1_a.wav'>\n",
      "  clip.export(clip_path, format=\"wav\")\n",
      "/var/folders/v4/chwhws6x79ncg51bwr5778b00000gn/T/ipykernel_3947/240471425.py:39: ResourceWarning: unclosed file <_io.BufferedRandom name='/Users/yifeitao/Desktop/SoundHub/SoundHub/train_with_perch/coyotes_5sec/test_5sec/clips/t-11031961_217_9sec_1_a.wav'>\n",
      "  clip.export(clip_path, format=\"wav\")\n",
      "/var/folders/v4/chwhws6x79ncg51bwr5778b00000gn/T/ipykernel_3947/240471425.py:39: ResourceWarning: unclosed file <_io.BufferedRandom name='/Users/yifeitao/Desktop/SoundHub/SoundHub/train_with_perch/coyotes_5sec/test_5sec/clips/t-11031961_259_9sec_1_a.wav'>\n",
      "  clip.export(clip_path, format=\"wav\")\n",
      "/var/folders/v4/chwhws6x79ncg51bwr5778b00000gn/T/ipykernel_3947/240471425.py:39: ResourceWarning: unclosed file <_io.BufferedRandom name='/Users/yifeitao/Desktop/SoundHub/SoundHub/train_with_perch/coyotes_5sec/test_5sec/clips/t-11031961_205_9sec_1_a.wav'>\n",
      "  clip.export(clip_path, format=\"wav\")\n",
      "/var/folders/v4/chwhws6x79ncg51bwr5778b00000gn/T/ipykernel_3947/240471425.py:39: ResourceWarning: unclosed file <_io.BufferedRandom name='/Users/yifeitao/Desktop/SoundHub/SoundHub/train_with_perch/coyotes_5sec/test_5sec/clips/t-11031961_237_9sec_1_a.wav'>\n",
      "  clip.export(clip_path, format=\"wav\")\n",
      "/var/folders/v4/chwhws6x79ncg51bwr5778b00000gn/T/ipykernel_3947/240471425.py:39: ResourceWarning: unclosed file <_io.BufferedRandom name='/Users/yifeitao/Desktop/SoundHub/SoundHub/train_with_perch/coyotes_5sec/test_5sec/clips/t-11031961_357_9sec_1_a.wav'>\n",
      "  clip.export(clip_path, format=\"wav\")\n",
      "/var/folders/v4/chwhws6x79ncg51bwr5778b00000gn/T/ipykernel_3947/240471425.py:39: ResourceWarning: unclosed file <_io.BufferedRandom name='/Users/yifeitao/Desktop/SoundHub/SoundHub/train_with_perch/coyotes_5sec/test_5sec/clips/t-11031961_217_9sec_1_d.wav'>\n",
      "  clip.export(clip_path, format=\"wav\")\n",
      "/var/folders/v4/chwhws6x79ncg51bwr5778b00000gn/T/ipykernel_3947/240471425.py:39: ResourceWarning: unclosed file <_io.BufferedRandom name='/Users/yifeitao/Desktop/SoundHub/SoundHub/train_with_perch/coyotes_5sec/test_5sec/clips/t-11031961_156_9sec_1_a.wav'>\n",
      "  clip.export(clip_path, format=\"wav\")\n",
      "/var/folders/v4/chwhws6x79ncg51bwr5778b00000gn/T/ipykernel_3947/240471425.py:39: ResourceWarning: unclosed file <_io.BufferedRandom name='/Users/yifeitao/Desktop/SoundHub/SoundHub/train_with_perch/coyotes_5sec/test_5sec/clips/t-11031961_299_9sec_1_a.wav'>\n",
      "  clip.export(clip_path, format=\"wav\")\n",
      "/var/folders/v4/chwhws6x79ncg51bwr5778b00000gn/T/ipykernel_3947/240471425.py:39: ResourceWarning: unclosed file <_io.BufferedRandom name='/Users/yifeitao/Desktop/SoundHub/SoundHub/train_with_perch/coyotes_5sec/test_5sec/clips/t-11031961_99_9sec_1_a.wav'>\n",
      "  clip.export(clip_path, format=\"wav\")\n",
      "/var/folders/v4/chwhws6x79ncg51bwr5778b00000gn/T/ipykernel_3947/240471425.py:39: ResourceWarning: unclosed file <_io.BufferedRandom name='/Users/yifeitao/Desktop/SoundHub/SoundHub/train_with_perch/coyotes_5sec/test_5sec/clips/t-11031961_134_9sec_1_a.wav'>\n",
      "  clip.export(clip_path, format=\"wav\")\n",
      "/var/folders/v4/chwhws6x79ncg51bwr5778b00000gn/T/ipykernel_3947/240471425.py:39: ResourceWarning: unclosed file <_io.BufferedRandom name='/Users/yifeitao/Desktop/SoundHub/SoundHub/train_with_perch/coyotes_5sec/test_5sec/clips/t-11031961_309_9sec_3_a.wav'>\n",
      "  clip.export(clip_path, format=\"wav\")\n",
      "/var/folders/v4/chwhws6x79ncg51bwr5778b00000gn/T/ipykernel_3947/240471425.py:39: ResourceWarning: unclosed file <_io.BufferedRandom name='/Users/yifeitao/Desktop/SoundHub/SoundHub/train_with_perch/coyotes_5sec/test_5sec/clips/t-11031961_105_9sec_1_a.wav'>\n",
      "  clip.export(clip_path, format=\"wav\")\n",
      "/var/folders/v4/chwhws6x79ncg51bwr5778b00000gn/T/ipykernel_3947/240471425.py:39: ResourceWarning: unclosed file <_io.BufferedRandom name='/Users/yifeitao/Desktop/SoundHub/SoundHub/train_with_perch/coyotes_5sec/test_5sec/clips/t-11031961_204_9sec_1_b.wav'>\n",
      "  clip.export(clip_path, format=\"wav\")\n",
      "/var/folders/v4/chwhws6x79ncg51bwr5778b00000gn/T/ipykernel_3947/240471425.py:39: ResourceWarning: unclosed file <_io.BufferedRandom name='/Users/yifeitao/Desktop/SoundHub/SoundHub/train_with_perch/coyotes_5sec/test_5sec/clips/t-11031961_135_9sec_1_a.wav'>\n",
      "  clip.export(clip_path, format=\"wav\")\n",
      "/var/folders/v4/chwhws6x79ncg51bwr5778b00000gn/T/ipykernel_3947/240471425.py:39: ResourceWarning: unclosed file <_io.BufferedRandom name='/Users/yifeitao/Desktop/SoundHub/SoundHub/train_with_perch/coyotes_5sec/test_5sec/clips/t-11031961_86_9sec_1_a.wav'>\n",
      "  clip.export(clip_path, format=\"wav\")\n",
      "/var/folders/v4/chwhws6x79ncg51bwr5778b00000gn/T/ipykernel_3947/240471425.py:39: ResourceWarning: unclosed file <_io.BufferedRandom name='/Users/yifeitao/Desktop/SoundHub/SoundHub/train_with_perch/coyotes_5sec/test_5sec/clips/t-11031961_310_9sec_2_b.wav'>\n",
      "  clip.export(clip_path, format=\"wav\")\n",
      "/var/folders/v4/chwhws6x79ncg51bwr5778b00000gn/T/ipykernel_3947/240471425.py:39: ResourceWarning: unclosed file <_io.BufferedRandom name='/Users/yifeitao/Desktop/SoundHub/SoundHub/train_with_perch/coyotes_5sec/test_5sec/clips/t-11031961_392_9sec_1_a.wav'>\n",
      "  clip.export(clip_path, format=\"wav\")\n",
      "/var/folders/v4/chwhws6x79ncg51bwr5778b00000gn/T/ipykernel_3947/240471425.py:39: ResourceWarning: unclosed file <_io.BufferedRandom name='/Users/yifeitao/Desktop/SoundHub/SoundHub/train_with_perch/coyotes_5sec/test_5sec/clips/t-11031961_7_9sec_1_a.wav'>\n",
      "  clip.export(clip_path, format=\"wav\")\n",
      "/var/folders/v4/chwhws6x79ncg51bwr5778b00000gn/T/ipykernel_3947/240471425.py:39: ResourceWarning: unclosed file <_io.BufferedRandom name='/Users/yifeitao/Desktop/SoundHub/SoundHub/train_with_perch/coyotes_5sec/test_5sec/clips/t-11031961_210_9sec_1_b.wav'>\n",
      "  clip.export(clip_path, format=\"wav\")\n",
      "/var/folders/v4/chwhws6x79ncg51bwr5778b00000gn/T/ipykernel_3947/240471425.py:39: ResourceWarning: unclosed file <_io.BufferedRandom name='/Users/yifeitao/Desktop/SoundHub/SoundHub/train_with_perch/coyotes_5sec/test_5sec/clips/t-11031961_298_9sec_1_a.wav'>\n",
      "  clip.export(clip_path, format=\"wav\")\n",
      "/var/folders/v4/chwhws6x79ncg51bwr5778b00000gn/T/ipykernel_3947/240471425.py:39: ResourceWarning: unclosed file <_io.BufferedRandom name='/Users/yifeitao/Desktop/SoundHub/SoundHub/train_with_perch/coyotes_5sec/test_5sec/clips/t-11031961_171_9sec_1_a.wav'>\n",
      "  clip.export(clip_path, format=\"wav\")\n",
      "/var/folders/v4/chwhws6x79ncg51bwr5778b00000gn/T/ipykernel_3947/240471425.py:39: ResourceWarning: unclosed file <_io.BufferedRandom name='/Users/yifeitao/Desktop/SoundHub/SoundHub/train_with_perch/coyotes_5sec/test_5sec/clips/t-11031961_250_9sec_1_a.wav'>\n",
      "  clip.export(clip_path, format=\"wav\")\n",
      "/var/folders/v4/chwhws6x79ncg51bwr5778b00000gn/T/ipykernel_3947/240471425.py:39: ResourceWarning: unclosed file <_io.BufferedRandom name='/Users/yifeitao/Desktop/SoundHub/SoundHub/train_with_perch/coyotes_5sec/test_5sec/clips/t-11031961_183_9sec_1_a.wav'>\n",
      "  clip.export(clip_path, format=\"wav\")\n",
      "/var/folders/v4/chwhws6x79ncg51bwr5778b00000gn/T/ipykernel_3947/240471425.py:39: ResourceWarning: unclosed file <_io.BufferedRandom name='/Users/yifeitao/Desktop/SoundHub/SoundHub/train_with_perch/coyotes_5sec/test_5sec/clips/t-11031961_236_9sec_1_a.wav'>\n",
      "  clip.export(clip_path, format=\"wav\")\n",
      "/var/folders/v4/chwhws6x79ncg51bwr5778b00000gn/T/ipykernel_3947/240471425.py:39: ResourceWarning: unclosed file <_io.BufferedRandom name='/Users/yifeitao/Desktop/SoundHub/SoundHub/train_with_perch/coyotes_5sec/test_5sec/clips/t-11031961_398_9sec_1_a.wav'>\n",
      "  clip.export(clip_path, format=\"wav\")\n",
      "/var/folders/v4/chwhws6x79ncg51bwr5778b00000gn/T/ipykernel_3947/240471425.py:39: ResourceWarning: unclosed file <_io.BufferedRandom name='/Users/yifeitao/Desktop/SoundHub/SoundHub/train_with_perch/coyotes_5sec/test_5sec/clips/t-11031961_125_9sec_1_c.wav'>\n",
      "  clip.export(clip_path, format=\"wav\")\n",
      "/var/folders/v4/chwhws6x79ncg51bwr5778b00000gn/T/ipykernel_3947/240471425.py:39: ResourceWarning: unclosed file <_io.BufferedRandom name='/Users/yifeitao/Desktop/SoundHub/SoundHub/train_with_perch/coyotes_5sec/test_5sec/clips/t-11031961_217_9sec_1_c.wav'>\n",
      "  clip.export(clip_path, format=\"wav\")\n",
      "/var/folders/v4/chwhws6x79ncg51bwr5778b00000gn/T/ipykernel_3947/240471425.py:39: ResourceWarning: unclosed file <_io.BufferedRandom name='/Users/yifeitao/Desktop/SoundHub/SoundHub/train_with_perch/coyotes_5sec/test_5sec/clips/t-11031961_197_9sec_1_c.wav'>\n",
      "  clip.export(clip_path, format=\"wav\")\n",
      "/var/folders/v4/chwhws6x79ncg51bwr5778b00000gn/T/ipykernel_3947/240471425.py:39: ResourceWarning: unclosed file <_io.BufferedRandom name='/Users/yifeitao/Desktop/SoundHub/SoundHub/train_with_perch/coyotes_5sec/test_5sec/clips/t-11031961_313_9sec_2_a.wav'>\n",
      "  clip.export(clip_path, format=\"wav\")\n",
      "/var/folders/v4/chwhws6x79ncg51bwr5778b00000gn/T/ipykernel_3947/240471425.py:39: ResourceWarning: unclosed file <_io.BufferedRandom name='/Users/yifeitao/Desktop/SoundHub/SoundHub/train_with_perch/coyotes_5sec/test_5sec/clips/t-11031961_145_9sec_2_b.wav'>\n",
      "  clip.export(clip_path, format=\"wav\")\n",
      "/var/folders/v4/chwhws6x79ncg51bwr5778b00000gn/T/ipykernel_3947/240471425.py:39: ResourceWarning: unclosed file <_io.BufferedRandom name='/Users/yifeitao/Desktop/SoundHub/SoundHub/train_with_perch/coyotes_5sec/test_5sec/clips/t-11031961_350_9sec_1_a.wav'>\n",
      "  clip.export(clip_path, format=\"wav\")\n",
      "/var/folders/v4/chwhws6x79ncg51bwr5778b00000gn/T/ipykernel_3947/240471425.py:39: ResourceWarning: unclosed file <_io.BufferedRandom name='/Users/yifeitao/Desktop/SoundHub/SoundHub/train_with_perch/coyotes_5sec/test_5sec/clips/t-11031961_206_9sec_1_a.wav'>\n",
      "  clip.export(clip_path, format=\"wav\")\n",
      "/var/folders/v4/chwhws6x79ncg51bwr5778b00000gn/T/ipykernel_3947/240471425.py:39: ResourceWarning: unclosed file <_io.BufferedRandom name='/Users/yifeitao/Desktop/SoundHub/SoundHub/train_with_perch/coyotes_5sec/test_5sec/clips/t-11031961_152_9sec_1_a.wav'>\n",
      "  clip.export(clip_path, format=\"wav\")\n",
      "/var/folders/v4/chwhws6x79ncg51bwr5778b00000gn/T/ipykernel_3947/240471425.py:39: ResourceWarning: unclosed file <_io.BufferedRandom name='/Users/yifeitao/Desktop/SoundHub/SoundHub/train_with_perch/coyotes_5sec/test_5sec/clips/t-11031961_29_9sec_1_a.wav'>\n",
      "  clip.export(clip_path, format=\"wav\")\n",
      "/var/folders/v4/chwhws6x79ncg51bwr5778b00000gn/T/ipykernel_3947/240471425.py:39: ResourceWarning: unclosed file <_io.BufferedRandom name='/Users/yifeitao/Desktop/SoundHub/SoundHub/train_with_perch/coyotes_5sec/test_5sec/clips/t-11031961_126_9sec_2_b.wav'>\n",
      "  clip.export(clip_path, format=\"wav\")\n",
      "/var/folders/v4/chwhws6x79ncg51bwr5778b00000gn/T/ipykernel_3947/240471425.py:39: ResourceWarning: unclosed file <_io.BufferedRandom name='/Users/yifeitao/Desktop/SoundHub/SoundHub/train_with_perch/coyotes_5sec/test_5sec/clips/t-11031961_342_9sec_1_a.wav'>\n",
      "  clip.export(clip_path, format=\"wav\")\n",
      "/var/folders/v4/chwhws6x79ncg51bwr5778b00000gn/T/ipykernel_3947/240471425.py:39: ResourceWarning: unclosed file <_io.BufferedRandom name='/Users/yifeitao/Desktop/SoundHub/SoundHub/train_with_perch/coyotes_5sec/test_5sec/clips/t-11031961_160_9sec_1_b.wav'>\n",
      "  clip.export(clip_path, format=\"wav\")\n",
      "/var/folders/v4/chwhws6x79ncg51bwr5778b00000gn/T/ipykernel_3947/240471425.py:39: ResourceWarning: unclosed file <_io.BufferedRandom name='/Users/yifeitao/Desktop/SoundHub/SoundHub/train_with_perch/coyotes_5sec/test_5sec/clips/t-11031961_199_9sec_2_a.wav'>\n",
      "  clip.export(clip_path, format=\"wav\")\n",
      "/var/folders/v4/chwhws6x79ncg51bwr5778b00000gn/T/ipykernel_3947/240471425.py:39: ResourceWarning: unclosed file <_io.BufferedRandom name='/Users/yifeitao/Desktop/SoundHub/SoundHub/train_with_perch/coyotes_5sec/test_5sec/clips/t-11031961_178_9sec_2_a.wav'>\n",
      "  clip.export(clip_path, format=\"wav\")\n",
      "/var/folders/v4/chwhws6x79ncg51bwr5778b00000gn/T/ipykernel_3947/240471425.py:39: ResourceWarning: unclosed file <_io.BufferedRandom name='/Users/yifeitao/Desktop/SoundHub/SoundHub/train_with_perch/coyotes_5sec/test_5sec/clips/t-11031961_185_9sec_3_a.wav'>\n",
      "  clip.export(clip_path, format=\"wav\")\n",
      "/var/folders/v4/chwhws6x79ncg51bwr5778b00000gn/T/ipykernel_3947/240471425.py:39: ResourceWarning: unclosed file <_io.BufferedRandom name='/Users/yifeitao/Desktop/SoundHub/SoundHub/train_with_perch/coyotes_5sec/test_5sec/clips/t-11031961_175_9sec_1_b.wav'>\n",
      "  clip.export(clip_path, format=\"wav\")\n",
      "/var/folders/v4/chwhws6x79ncg51bwr5778b00000gn/T/ipykernel_3947/240471425.py:39: ResourceWarning: unclosed file <_io.BufferedRandom name='/Users/yifeitao/Desktop/SoundHub/SoundHub/train_with_perch/coyotes_5sec/test_5sec/clips/t-11031961_191_9sec_2_a.wav'>\n",
      "  clip.export(clip_path, format=\"wav\")\n",
      "/var/folders/v4/chwhws6x79ncg51bwr5778b00000gn/T/ipykernel_3947/240471425.py:39: ResourceWarning: unclosed file <_io.BufferedRandom name='/Users/yifeitao/Desktop/SoundHub/SoundHub/train_with_perch/coyotes_5sec/test_5sec/clips/t-11031961_83_9sec_1_a.wav'>\n",
      "  clip.export(clip_path, format=\"wav\")\n",
      "/var/folders/v4/chwhws6x79ncg51bwr5778b00000gn/T/ipykernel_3947/240471425.py:39: ResourceWarning: unclosed file <_io.BufferedRandom name='/Users/yifeitao/Desktop/SoundHub/SoundHub/train_with_perch/coyotes_5sec/test_5sec/clips/t-11031961_210_9sec_1_c.wav'>\n",
      "  clip.export(clip_path, format=\"wav\")\n",
      "/var/folders/v4/chwhws6x79ncg51bwr5778b00000gn/T/ipykernel_3947/240471425.py:39: ResourceWarning: unclosed file <_io.BufferedRandom name='/Users/yifeitao/Desktop/SoundHub/SoundHub/train_with_perch/coyotes_5sec/test_5sec/clips/t-11031961_289_9sec_1_a.wav'>\n",
      "  clip.export(clip_path, format=\"wav\")\n",
      "/var/folders/v4/chwhws6x79ncg51bwr5778b00000gn/T/ipykernel_3947/240471425.py:39: ResourceWarning: unclosed file <_io.BufferedRandom name='/Users/yifeitao/Desktop/SoundHub/SoundHub/train_with_perch/coyotes_5sec/test_5sec/clips/t-11031961_176_9sec_1_a.wav'>\n",
      "  clip.export(clip_path, format=\"wav\")\n",
      "/var/folders/v4/chwhws6x79ncg51bwr5778b00000gn/T/ipykernel_3947/240471425.py:39: ResourceWarning: unclosed file <_io.BufferedRandom name='/Users/yifeitao/Desktop/SoundHub/SoundHub/train_with_perch/coyotes_5sec/test_5sec/clips/t-11031961_98_9sec_1_a.wav'>\n",
      "  clip.export(clip_path, format=\"wav\")\n",
      "/var/folders/v4/chwhws6x79ncg51bwr5778b00000gn/T/ipykernel_3947/240471425.py:39: ResourceWarning: unclosed file <_io.BufferedRandom name='/Users/yifeitao/Desktop/SoundHub/SoundHub/train_with_perch/coyotes_5sec/test_5sec/clips/t-11031961_281_9sec_1_a.wav'>\n",
      "  clip.export(clip_path, format=\"wav\")\n",
      "/var/folders/v4/chwhws6x79ncg51bwr5778b00000gn/T/ipykernel_3947/240471425.py:39: ResourceWarning: unclosed file <_io.BufferedRandom name='/Users/yifeitao/Desktop/SoundHub/SoundHub/train_with_perch/coyotes_5sec/test_5sec/clips/t-11031961_120_9sec_1_a.wav'>\n",
      "  clip.export(clip_path, format=\"wav\")\n",
      "/var/folders/v4/chwhws6x79ncg51bwr5778b00000gn/T/ipykernel_3947/240471425.py:39: ResourceWarning: unclosed file <_io.BufferedRandom name='/Users/yifeitao/Desktop/SoundHub/SoundHub/train_with_perch/coyotes_5sec/test_5sec/clips/t-11031961_6_9sec_1_a.wav'>\n",
      "  clip.export(clip_path, format=\"wav\")\n",
      "/var/folders/v4/chwhws6x79ncg51bwr5778b00000gn/T/ipykernel_3947/240471425.py:39: ResourceWarning: unclosed file <_io.BufferedRandom name='/Users/yifeitao/Desktop/SoundHub/SoundHub/train_with_perch/coyotes_5sec/test_5sec/clips/t-11031961_132_9sec_1_a.wav'>\n",
      "  clip.export(clip_path, format=\"wav\")\n",
      "/var/folders/v4/chwhws6x79ncg51bwr5778b00000gn/T/ipykernel_3947/240471425.py:39: ResourceWarning: unclosed file <_io.BufferedRandom name='/Users/yifeitao/Desktop/SoundHub/SoundHub/train_with_perch/coyotes_5sec/test_5sec/clips/t-11031961_173_9sec_1_a.wav'>\n",
      "  clip.export(clip_path, format=\"wav\")\n",
      "/var/folders/v4/chwhws6x79ncg51bwr5778b00000gn/T/ipykernel_3947/240471425.py:39: ResourceWarning: unclosed file <_io.BufferedRandom name='/Users/yifeitao/Desktop/SoundHub/SoundHub/train_with_perch/coyotes_5sec/test_5sec/clips/t-11031961_361_9sec_1_a.wav'>\n",
      "  clip.export(clip_path, format=\"wav\")\n",
      "/var/folders/v4/chwhws6x79ncg51bwr5778b00000gn/T/ipykernel_3947/240471425.py:39: ResourceWarning: unclosed file <_io.BufferedRandom name='/Users/yifeitao/Desktop/SoundHub/SoundHub/train_with_perch/coyotes_5sec/test_5sec/clips/t-11031961_163_9sec_1_b.wav'>\n",
      "  clip.export(clip_path, format=\"wav\")\n",
      "/var/folders/v4/chwhws6x79ncg51bwr5778b00000gn/T/ipykernel_3947/240471425.py:39: ResourceWarning: unclosed file <_io.BufferedRandom name='/Users/yifeitao/Desktop/SoundHub/SoundHub/train_with_perch/coyotes_5sec/test_5sec/clips/t-11031961_384_9sec_1_a.wav'>\n",
      "  clip.export(clip_path, format=\"wav\")\n",
      "/var/folders/v4/chwhws6x79ncg51bwr5778b00000gn/T/ipykernel_3947/240471425.py:39: ResourceWarning: unclosed file <_io.BufferedRandom name='/Users/yifeitao/Desktop/SoundHub/SoundHub/train_with_perch/coyotes_5sec/test_5sec/clips/t-11031961_224_9sec_1_a.wav'>\n",
      "  clip.export(clip_path, format=\"wav\")\n",
      "/var/folders/v4/chwhws6x79ncg51bwr5778b00000gn/T/ipykernel_3947/240471425.py:39: ResourceWarning: unclosed file <_io.BufferedRandom name='/Users/yifeitao/Desktop/SoundHub/SoundHub/train_with_perch/coyotes_5sec/test_5sec/clips/t-11031961_370_9sec_1_a.wav'>\n",
      "  clip.export(clip_path, format=\"wav\")\n",
      "/var/folders/v4/chwhws6x79ncg51bwr5778b00000gn/T/ipykernel_3947/240471425.py:39: ResourceWarning: unclosed file <_io.BufferedRandom name='/Users/yifeitao/Desktop/SoundHub/SoundHub/train_with_perch/coyotes_5sec/test_5sec/clips/t-11031961_254_9sec_1_a.wav'>\n",
      "  clip.export(clip_path, format=\"wav\")\n",
      "/var/folders/v4/chwhws6x79ncg51bwr5778b00000gn/T/ipykernel_3947/240471425.py:39: ResourceWarning: unclosed file <_io.BufferedRandom name='/Users/yifeitao/Desktop/SoundHub/SoundHub/train_with_perch/coyotes_5sec/test_5sec/clips/t-11031961_177_9sec_1_c.wav'>\n",
      "  clip.export(clip_path, format=\"wav\")\n",
      "/var/folders/v4/chwhws6x79ncg51bwr5778b00000gn/T/ipykernel_3947/240471425.py:39: ResourceWarning: unclosed file <_io.BufferedRandom name='/Users/yifeitao/Desktop/SoundHub/SoundHub/train_with_perch/coyotes_5sec/test_5sec/clips/t-11031961_282_9sec_1_a.wav'>\n",
      "  clip.export(clip_path, format=\"wav\")\n",
      "/var/folders/v4/chwhws6x79ncg51bwr5778b00000gn/T/ipykernel_3947/240471425.py:39: ResourceWarning: unclosed file <_io.BufferedRandom name='/Users/yifeitao/Desktop/SoundHub/SoundHub/train_with_perch/coyotes_5sec/test_5sec/clips/t-11031961_165_9sec_1_a.wav'>\n",
      "  clip.export(clip_path, format=\"wav\")\n",
      "/var/folders/v4/chwhws6x79ncg51bwr5778b00000gn/T/ipykernel_3947/240471425.py:39: ResourceWarning: unclosed file <_io.BufferedRandom name='/Users/yifeitao/Desktop/SoundHub/SoundHub/train_with_perch/coyotes_5sec/test_5sec/clips/t-11031961_150_9sec_1_a.wav'>\n",
      "  clip.export(clip_path, format=\"wav\")\n",
      "/var/folders/v4/chwhws6x79ncg51bwr5778b00000gn/T/ipykernel_3947/240471425.py:39: ResourceWarning: unclosed file <_io.BufferedRandom name='/Users/yifeitao/Desktop/SoundHub/SoundHub/train_with_perch/coyotes_5sec/test_5sec/clips/t-11031961_380_9sec_1_a.wav'>\n",
      "  clip.export(clip_path, format=\"wav\")\n",
      "/var/folders/v4/chwhws6x79ncg51bwr5778b00000gn/T/ipykernel_3947/240471425.py:39: ResourceWarning: unclosed file <_io.BufferedRandom name='/Users/yifeitao/Desktop/SoundHub/SoundHub/train_with_perch/coyotes_5sec/test_5sec/clips/t-11031961_264_9sec_1_a.wav'>\n",
      "  clip.export(clip_path, format=\"wav\")\n",
      "/var/folders/v4/chwhws6x79ncg51bwr5778b00000gn/T/ipykernel_3947/240471425.py:39: ResourceWarning: unclosed file <_io.BufferedRandom name='/Users/yifeitao/Desktop/SoundHub/SoundHub/train_with_perch/coyotes_5sec/test_5sec/clips/t-11031961_185_9sec_2_a.wav'>\n",
      "  clip.export(clip_path, format=\"wav\")\n",
      "/var/folders/v4/chwhws6x79ncg51bwr5778b00000gn/T/ipykernel_3947/240471425.py:39: ResourceWarning: unclosed file <_io.BufferedRandom name='/Users/yifeitao/Desktop/SoundHub/SoundHub/train_with_perch/coyotes_5sec/test_5sec/clips/t-11031961_85_9sec_1_a.wav'>\n",
      "  clip.export(clip_path, format=\"wav\")\n",
      "/var/folders/v4/chwhws6x79ncg51bwr5778b00000gn/T/ipykernel_3947/240471425.py:39: ResourceWarning: unclosed file <_io.BufferedRandom name='/Users/yifeitao/Desktop/SoundHub/SoundHub/train_with_perch/coyotes_5sec/test_5sec/clips/t-11031961_21_9sec_1_a.wav'>\n",
      "  clip.export(clip_path, format=\"wav\")\n",
      "/var/folders/v4/chwhws6x79ncg51bwr5778b00000gn/T/ipykernel_3947/240471425.py:39: ResourceWarning: unclosed file <_io.BufferedRandom name='/Users/yifeitao/Desktop/SoundHub/SoundHub/train_with_perch/coyotes_5sec/test_5sec/clips/t-11031961_233_9sec_1_a.wav'>\n",
      "  clip.export(clip_path, format=\"wav\")\n",
      "/var/folders/v4/chwhws6x79ncg51bwr5778b00000gn/T/ipykernel_3947/240471425.py:39: ResourceWarning: unclosed file <_io.BufferedRandom name='/Users/yifeitao/Desktop/SoundHub/SoundHub/train_with_perch/coyotes_5sec/test_5sec/clips/t-11031961_222_9sec_1_a.wav'>\n",
      "  clip.export(clip_path, format=\"wav\")\n",
      "/var/folders/v4/chwhws6x79ncg51bwr5778b00000gn/T/ipykernel_3947/240471425.py:39: ResourceWarning: unclosed file <_io.BufferedRandom name='/Users/yifeitao/Desktop/SoundHub/SoundHub/train_with_perch/coyotes_5sec/test_5sec/clips/t-11031961_154_9sec_2_a.wav'>\n",
      "  clip.export(clip_path, format=\"wav\")\n",
      "/var/folders/v4/chwhws6x79ncg51bwr5778b00000gn/T/ipykernel_3947/240471425.py:39: ResourceWarning: unclosed file <_io.BufferedRandom name='/Users/yifeitao/Desktop/SoundHub/SoundHub/train_with_perch/coyotes_5sec/test_5sec/clips/t-11031961_134_9sec_2_b.wav'>\n",
      "  clip.export(clip_path, format=\"wav\")\n",
      "/var/folders/v4/chwhws6x79ncg51bwr5778b00000gn/T/ipykernel_3947/240471425.py:39: ResourceWarning: unclosed file <_io.BufferedRandom name='/Users/yifeitao/Desktop/SoundHub/SoundHub/train_with_perch/coyotes_5sec/test_5sec/clips/t-11031961_174_9sec_2_a.wav'>\n",
      "  clip.export(clip_path, format=\"wav\")\n",
      "/var/folders/v4/chwhws6x79ncg51bwr5778b00000gn/T/ipykernel_3947/240471425.py:39: ResourceWarning: unclosed file <_io.BufferedRandom name='/Users/yifeitao/Desktop/SoundHub/SoundHub/train_with_perch/coyotes_5sec/test_5sec/clips/t-11031961_326_9sec_1_a.wav'>\n",
      "  clip.export(clip_path, format=\"wav\")\n",
      "/var/folders/v4/chwhws6x79ncg51bwr5778b00000gn/T/ipykernel_3947/240471425.py:39: ResourceWarning: unclosed file <_io.BufferedRandom name='/Users/yifeitao/Desktop/SoundHub/SoundHub/train_with_perch/coyotes_5sec/test_5sec/clips/t-11031961_320_9sec_2_a.wav'>\n",
      "  clip.export(clip_path, format=\"wav\")\n",
      "/var/folders/v4/chwhws6x79ncg51bwr5778b00000gn/T/ipykernel_3947/240471425.py:39: ResourceWarning: unclosed file <_io.BufferedRandom name='/Users/yifeitao/Desktop/SoundHub/SoundHub/train_with_perch/coyotes_5sec/test_5sec/clips/t-11031961_159_9sec_2_b.wav'>\n",
      "  clip.export(clip_path, format=\"wav\")\n",
      "/var/folders/v4/chwhws6x79ncg51bwr5778b00000gn/T/ipykernel_3947/240471425.py:39: ResourceWarning: unclosed file <_io.BufferedRandom name='/Users/yifeitao/Desktop/SoundHub/SoundHub/train_with_perch/coyotes_5sec/test_5sec/clips/t-11031961_143_9sec_1_a.wav'>\n",
      "  clip.export(clip_path, format=\"wav\")\n",
      "/var/folders/v4/chwhws6x79ncg51bwr5778b00000gn/T/ipykernel_3947/240471425.py:39: ResourceWarning: unclosed file <_io.BufferedRandom name='/Users/yifeitao/Desktop/SoundHub/SoundHub/train_with_perch/coyotes_5sec/test_5sec/clips/t-11031961_391_9sec_1_a.wav'>\n",
      "  clip.export(clip_path, format=\"wav\")\n",
      "/var/folders/v4/chwhws6x79ncg51bwr5778b00000gn/T/ipykernel_3947/240471425.py:39: ResourceWarning: unclosed file <_io.BufferedRandom name='/Users/yifeitao/Desktop/SoundHub/SoundHub/train_with_perch/coyotes_5sec/test_5sec/clips/t-11031961_93_9sec_1_a.wav'>\n",
      "  clip.export(clip_path, format=\"wav\")\n",
      "/var/folders/v4/chwhws6x79ncg51bwr5778b00000gn/T/ipykernel_3947/240471425.py:39: ResourceWarning: unclosed file <_io.BufferedRandom name='/Users/yifeitao/Desktop/SoundHub/SoundHub/train_with_perch/coyotes_5sec/test_5sec/clips/t-11031961_80_9sec_1_a.wav'>\n",
      "  clip.export(clip_path, format=\"wav\")\n",
      "/var/folders/v4/chwhws6x79ncg51bwr5778b00000gn/T/ipykernel_3947/240471425.py:39: ResourceWarning: unclosed file <_io.BufferedRandom name='/Users/yifeitao/Desktop/SoundHub/SoundHub/train_with_perch/coyotes_5sec/test_5sec/clips/t-11031961_23_9sec_1_a.wav'>\n",
      "  clip.export(clip_path, format=\"wav\")\n",
      "/var/folders/v4/chwhws6x79ncg51bwr5778b00000gn/T/ipykernel_3947/240471425.py:39: ResourceWarning: unclosed file <_io.BufferedRandom name='/Users/yifeitao/Desktop/SoundHub/SoundHub/train_with_perch/coyotes_5sec/test_5sec/clips/t-11031961_72_9sec_1_a.wav'>\n",
      "  clip.export(clip_path, format=\"wav\")\n",
      "/var/folders/v4/chwhws6x79ncg51bwr5778b00000gn/T/ipykernel_3947/240471425.py:39: ResourceWarning: unclosed file <_io.BufferedRandom name='/Users/yifeitao/Desktop/SoundHub/SoundHub/train_with_perch/coyotes_5sec/test_5sec/clips/t-11031961_216_9sec_1_a.wav'>\n",
      "  clip.export(clip_path, format=\"wav\")\n",
      "/var/folders/v4/chwhws6x79ncg51bwr5778b00000gn/T/ipykernel_3947/240471425.py:39: ResourceWarning: unclosed file <_io.BufferedRandom name='/Users/yifeitao/Desktop/SoundHub/SoundHub/train_with_perch/coyotes_5sec/test_5sec/clips/t-11031961_257_9sec_1_a.wav'>\n",
      "  clip.export(clip_path, format=\"wav\")\n",
      "/var/folders/v4/chwhws6x79ncg51bwr5778b00000gn/T/ipykernel_3947/240471425.py:39: ResourceWarning: unclosed file <_io.BufferedRandom name='/Users/yifeitao/Desktop/SoundHub/SoundHub/train_with_perch/coyotes_5sec/test_5sec/clips/t-11031961_58_9sec_1_a.wav'>\n",
      "  clip.export(clip_path, format=\"wav\")\n",
      "/var/folders/v4/chwhws6x79ncg51bwr5778b00000gn/T/ipykernel_3947/240471425.py:39: ResourceWarning: unclosed file <_io.BufferedRandom name='/Users/yifeitao/Desktop/SoundHub/SoundHub/train_with_perch/coyotes_5sec/test_5sec/clips/t-11031961_192_9sec_2_d.wav'>\n",
      "  clip.export(clip_path, format=\"wav\")\n",
      "/var/folders/v4/chwhws6x79ncg51bwr5778b00000gn/T/ipykernel_3947/240471425.py:39: ResourceWarning: unclosed file <_io.BufferedRandom name='/Users/yifeitao/Desktop/SoundHub/SoundHub/train_with_perch/coyotes_5sec/test_5sec/clips/t-11031961_129_9sec_1_a.wav'>\n",
      "  clip.export(clip_path, format=\"wav\")\n",
      "/var/folders/v4/chwhws6x79ncg51bwr5778b00000gn/T/ipykernel_3947/240471425.py:39: ResourceWarning: unclosed file <_io.BufferedRandom name='/Users/yifeitao/Desktop/SoundHub/SoundHub/train_with_perch/coyotes_5sec/test_5sec/clips/t-11031961_109_9sec_1_a.wav'>\n",
      "  clip.export(clip_path, format=\"wav\")\n"
     ]
    }
   ],
   "source": [
    "csv_path = Path(\"/Users/yifeitao/Desktop/SoundHub/SoundHub/train_with_perch/coyotes_5sec/test_5sec/test_dataset_5sec.csv\")\n",
    "audio_file_path = Path(\"/Users/yifeitao/Desktop/SoundHub/SoundHub/train_with_perch/coyotes_5sec/test_5sec/test_dataset_5sec.wav\")\n",
    "output_folder = Path(\"/Users/yifeitao/Desktop/SoundHub/SoundHub/train_with_perch/coyotes_5sec/test_5sec/clips\")\n",
    "output_csv_dir = Path(\"/Users/yifeitao/Desktop/SoundHub/SoundHub/train_with_perch/coyotes_5sec/test_5sec/\")\n",
    "output_csv = output_csv_dir / \"processed_test_dataset_5sec.csv\"\n",
    "\n",
    "# Ensure the output directories exist\n",
    "output_folder.mkdir(parents=True, exist_ok=True)\n",
    "output_csv_dir.mkdir(parents=True, exist_ok=True)\n",
    "\n",
    "# Read the CSV file\n",
    "df_csv = pd.read_csv(csv_path)\n",
    "\n",
    "# Determine label based on conditions\n",
    "df_csv[\"A\"] = df_csv.apply(\n",
    "    lambda row: 1 if row[\"label\"] == 1 and row[\"Annotation\"] == \"COYOTE\" else 0, axis=1\n",
    ")\n",
    "\n",
    "# Load the audio file\n",
    "audio = AudioSegment.from_file(audio_file_path)\n",
    "\n",
    "# Initialize lists for DataFrame creation\n",
    "file_paths = []\n",
    "start_times = []\n",
    "end_times = []\n",
    "labels = []\n",
    "\n",
    "# Partition the audio file into 5-second clips based on CSV\n",
    "for index, row in df_csv.iterrows():\n",
    "    start_time = index * 5 * 1000  # in milliseconds\n",
    "    end_time = start_time + 5 * 1000  # 5 seconds later\n",
    "\n",
    "    # Extract clip\n",
    "    clip = audio[start_time:end_time]\n",
    "\n",
    "    # Save clip to the output folder\n",
    "    filename = row[\"filename\"]\n",
    "    clip_path = output_folder / filename\n",
    "    clip.export(clip_path, format=\"wav\")\n",
    "\n",
    "    # Add details to lists\n",
    "    file_paths.append(str(clip_path))\n",
    "    start_times.append(0.0)  \n",
    "    end_times.append(5.0)  \n",
    "    labels.append(row[\"A\"])\n",
    "\n",
    "# Create the DataFrame\n",
    "df_processed = pd.DataFrame({\n",
    "    \"file\": file_paths,\n",
    "    \"start_time\": start_times,\n",
    "    \"end_time\": end_times,\n",
    "    \"A\": labels\n",
    "})\n",
    "df_processed.set_index([\"file\", \"start_time\", \"end_time\"], inplace=True)\n",
    "df_processed.columns = ['A']\n",
    "# Save the DataFrame to a CSV file\n",
    "df_processed.to_csv(output_csv, index=False)\n",
    "\n",
    "print(f\"Processed dataset saved to {output_csv}\")\n",
    "print(f\"Audio clips saved to {output_folder}\")\n",
    "print(df_processed.head())"
   ]
  },
  {
   "cell_type": "code",
   "execution_count": 9,
   "metadata": {},
   "outputs": [],
   "source": [
    "labels_val = df_processed"
   ]
  },
  {
   "cell_type": "code",
   "execution_count": 10,
   "metadata": {},
   "outputs": [
    {
     "data": {
      "application/vnd.jupyter.widget-view+json": {
       "model_id": "df7abdd47a5f41b192d2031e815fe66a",
       "version_major": 2,
       "version_minor": 0
      },
      "text/plain": [
       "  0%|          | 0/4 [00:00<?, ?it/s]"
      ]
     },
     "metadata": {},
     "output_type": "display_data"
    },
    {
     "name": "stderr",
     "output_type": "stream",
     "text": [
      "/opt/anaconda3/envs/opensoundscape_env/lib/python3.9/site-packages/opensoundscape/audio.py:1725: UserWarning: Audio object is shorter than requested duration: 4.987 sec instead of 5.0 sec\n",
      "  warnings.warn(error_msg)\n"
     ]
    }
   ],
   "source": [
    "emb_val = model.embed(labels_val, return_dfs=False, batch_size=32, num_workers=0)"
   ]
  },
  {
   "cell_type": "code",
   "execution_count": 11,
   "metadata": {},
   "outputs": [
    {
     "name": "stdout",
     "output_type": "stream",
     "text": [
      "Original shape of emb_train: torch.Size([50, 512])\n",
      "Reshaped emb_train_25: torch.Size([50, 1, 32, 16])\n",
      "Reshaped emb_val: torch.Size([100, 1, 32, 16])\n"
     ]
    }
   ],
   "source": [
    "emb_train_25 = torch.tensor(emb_train_25, dtype=torch.float32)\n",
    "emb_val = torch.tensor(emb_val, dtype=torch.float32)\n",
    "\n",
    "# Check the shape of the embeddings\n",
    "print(f\"Original shape of emb_train: {emb_train_25.shape}\")\n",
    "\n",
    "# Reshape embeddings to [batch_size, channels, height, width]\n",
    "height, width = 32, 16  # Ensure height * width = 512\n",
    "emb_train_25 = emb_train_25.view(emb_train_25.shape[0], 1, height, width)\n",
    "emb_val = emb_val.view(emb_val.shape[0], 1, height, width)\n",
    "\n",
    "# Verify the reshaped embeddings\n",
    "print(f\"Reshaped emb_train_25: {emb_train_25.shape}\")\n",
    "print(f\"Reshaped emb_val: {emb_val.shape}\")"
   ]
  },
  {
   "cell_type": "code",
   "execution_count": 12,
   "metadata": {},
   "outputs": [],
   "source": [
    "import torch.nn as nn\n",
    "\n",
    "if isinstance(model.network, nn.Sequential):\n",
    "    first_layer = model.network[0]\n",
    "    if isinstance(first_layer, nn.Conv2d):\n",
    "        model.network[0] = nn.Conv2d(\n",
    "            in_channels=1,\n",
    "            out_channels=first_layer.out_channels,\n",
    "            kernel_size=first_layer.kernel_size,\n",
    "            stride=first_layer.stride,\n",
    "            padding=first_layer.padding\n",
    "        )"
   ]
  },
  {
   "cell_type": "code",
   "execution_count": 13,
   "metadata": {},
   "outputs": [],
   "source": [
    "emb_train_25 = emb_train_25.repeat(1, 3, 1, 1)  # Duplicate to 3 channels\n",
    "emb_val = emb_val.repeat(1, 3, 1, 1)"
   ]
  },
  {
   "cell_type": "code",
   "execution_count": 14,
   "metadata": {},
   "outputs": [],
   "source": [
    "import torch.nn as nn\n",
    "\n",
    "model.network.fc = nn.Linear(in_features=model.network.fc.in_features, out_features=1)"
   ]
  },
  {
   "cell_type": "code",
   "execution_count": 15,
   "metadata": {},
   "outputs": [
    {
     "name": "stderr",
     "output_type": "stream",
     "text": [
      "/opt/anaconda3/envs/opensoundscape_env/lib/python3.9/site-packages/opensoundscape/ml/shallow_classifier.py:110: UserWarning: To copy construct from a tensor, it is recommended to use sourceTensor.clone().detach() or sourceTensor.clone().detach().requires_grad_(True), rather than torch.tensor(sourceTensor).\n",
      "  train_features = torch.tensor(train_features, dtype=torch.float32, device=device)\n",
      "/opt/anaconda3/envs/opensoundscape_env/lib/python3.9/site-packages/opensoundscape/ml/shallow_classifier.py:115: UserWarning: To copy construct from a tensor, it is recommended to use sourceTensor.clone().detach() or sourceTensor.clone().detach().requires_grad_(True), rather than torch.tensor(sourceTensor).\n",
      "  validation_features = torch.tensor(\n"
     ]
    },
    {
     "name": "stdout",
     "output_type": "stream",
     "text": [
      "Epoch 100/1000, Loss: 4.696367614087649e-05, Val Loss: 0.45042601227760315\n",
      "val AU ROC: 0.870\n",
      "val MAP: 0.870\n",
      "Epoch 200/1000, Loss: 3.331392872496508e-05, Val Loss: 0.4591938257217407\n",
      "val AU ROC: 0.871\n",
      "val MAP: 0.871\n",
      "Epoch 300/1000, Loss: 2.6388528567622416e-05, Val Loss: 0.4653064012527466\n",
      "val AU ROC: 0.871\n",
      "val MAP: 0.871\n",
      "Epoch 400/1000, Loss: 2.146065526176244e-05, Val Loss: 0.4699302315711975\n",
      "val AU ROC: 0.870\n",
      "val MAP: 0.870\n",
      "Epoch 500/1000, Loss: 1.785276981536299e-05, Val Loss: 0.47741538286209106\n",
      "val AU ROC: 0.869\n",
      "val MAP: 0.869\n",
      "Epoch 600/1000, Loss: 1.5054414689075202e-05, Val Loss: 0.48703229427337646\n",
      "val AU ROC: 0.870\n",
      "val MAP: 0.870\n",
      "Epoch 700/1000, Loss: 1.282439916394651e-05, Val Loss: 0.49523448944091797\n",
      "val AU ROC: 0.869\n",
      "val MAP: 0.869\n",
      "Epoch 800/1000, Loss: 1.1113759683212265e-05, Val Loss: 0.5026193857192993\n",
      "val AU ROC: 0.870\n",
      "val MAP: 0.870\n",
      "Epoch 900/1000, Loss: 9.67748201219365e-06, Val Loss: 0.5096595883369446\n",
      "val AU ROC: 0.870\n",
      "val MAP: 0.870\n",
      "Epoch 1000/1000, Loss: 8.46039711177582e-06, Val Loss: 0.51563960313797\n",
      "val AU ROC: 0.869\n",
      "val MAP: 0.869\n",
      "Training complete\n"
     ]
    }
   ],
   "source": [
    "quick_fit(model.network, emb_train_25, labels_trains['train_size_25'].values, emb_val, labels_val.values, steps=1000)"
   ]
  },
  {
   "cell_type": "code",
   "execution_count": 16,
   "metadata": {},
   "outputs": [
    {
     "name": "stderr",
     "output_type": "stream",
     "text": [
      "/var/folders/v4/chwhws6x79ncg51bwr5778b00000gn/T/ipykernel_3947/1842857064.py:2: UserWarning: To copy construct from a tensor, it is recommended to use sourceTensor.clone().detach() or sourceTensor.clone().detach().requires_grad_(True), rather than torch.tensor(sourceTensor).\n",
      "  preds = model.network(torch.tensor(emb_val).float()).detach().numpy()\n",
      "/opt/anaconda3/envs/opensoundscape_env/lib/python3.9/site-packages/matplotlib_inline/config.py:68: DeprecationWarning: InlineBackend._figure_format_changed is deprecated in traitlets 4.1: use @observe and @unobserve instead.\n",
      "  def _figure_format_changed(self, name, old, new):\n"
     ]
    },
    {
     "data": {
      "text/plain": [
       "0.9468000000000001"
      ]
     },
     "execution_count": 16,
     "metadata": {},
     "output_type": "execute_result"
    },
    {
     "data": {
      "image/png": "[encoded data removed]",
      "text/plain": [
       "<Figure size 1500x500 with 1 Axes>"
      ]
     },
     "metadata": {
      "image/png": {
       "height": 428,
       "width": 1209
      }
     },
     "output_type": "display_data"
    }
   ],
   "source": [
    "# make predictions by passing the embeddings through the classifier\n",
    "preds = model.network(torch.tensor(emb_val).float()).detach().numpy()\n",
    "\n",
    "# plot histogram of scores for positive and negative clips\n",
    "plt.hist(preds[labels_val==True],bins=20,alpha=0.5,label='positives')\n",
    "plt.hist(preds[labels_val==False],bins=20,alpha=0.5,label='negatives')\n",
    "plt.legend()\n",
    "\n",
    "# calculate the area under the ROC score\n",
    "roc_auc_score_25 = roc_auc_score(labels_val.values,preds,average=None)\n",
    "roc_auc_score_25"
   ]
  },
  {
   "cell_type": "markdown",
   "metadata": {},
   "source": [
    "Training size 50"
   ]
  },
  {
   "cell_type": "code",
   "execution_count": null,
   "metadata": {},
   "outputs": [],
   "source": [
    "emb_train_50 = model.embed(labels_trains['train_size_50'], return_dfs=False, batch_size=32, num_workers=0)"
   ]
  },
  {
   "cell_type": "code",
   "execution_count": null,
   "metadata": {},
   "outputs": [],
   "source": [
    "emb_train_50 = torch.tensor(emb_train_50, dtype=torch.float32)\n",
    "\n",
    "# Check the shape of the embeddings\n",
    "print(f\"Original shape of emb_train: {emb_train_50.shape}\")\n",
    "\n",
    "# Reshape embeddings to [batch_size, channels, height, width]\n",
    "height, width = 32, 16  # Ensure height * width = 512\n",
    "emb_train_50 = emb_train_50.view(emb_train_50.shape[0], 1, height, width)\n",
    "\n",
    "# Verify the reshaped embeddings\n",
    "print(f\"Reshaped emb_train_50: {emb_train_50.shape}\")"
   ]
  },
  {
   "cell_type": "code",
   "execution_count": null,
   "metadata": {},
   "outputs": [],
   "source": [
    "emb_train_50 = emb_train_50.repeat(1, 3, 1, 1) "
   ]
  },
  {
   "cell_type": "code",
   "execution_count": null,
   "metadata": {},
   "outputs": [],
   "source": [
    "quick_fit(model.network, emb_train_50, labels_trains['train_size_50'].values, emb_val, labels_val.values, steps=1000)"
   ]
  },
  {
   "cell_type": "code",
   "execution_count": null,
   "metadata": {},
   "outputs": [],
   "source": [
    "# make predictions by passing the embeddings through the classifier\n",
    "preds = model.network(torch.tensor(emb_val).float()).detach().numpy()\n",
    "\n",
    "# plot histogram of scores for positive and negative clips\n",
    "plt.hist(preds[labels_val==True],bins=20,alpha=0.5,label='positives')\n",
    "plt.hist(preds[labels_val==False],bins=20,alpha=0.5,label='negatives')\n",
    "plt.legend()\n",
    "\n",
    "# calculate the area under the ROC score\n",
    "roc_auc_score_50 = roc_auc_score(labels_val.values,preds,average=None)\n",
    "roc_auc_score_50"
   ]
  },
  {
   "cell_type": "markdown",
   "metadata": {},
   "source": [
    "Training size 75"
   ]
  },
  {
   "cell_type": "code",
   "execution_count": null,
   "metadata": {},
   "outputs": [],
   "source": [
    "emb_train_75 = model.embed(labels_trains['train_size_75'], return_dfs=False, batch_size=32, num_workers=0)"
   ]
  },
  {
   "cell_type": "code",
   "execution_count": null,
   "metadata": {},
   "outputs": [],
   "source": [
    "emb_train_75 = torch.tensor(emb_train_75, dtype=torch.float32)\n",
    "\n",
    "# Check the shape of the embeddings\n",
    "print(f\"Original shape of emb_train: {emb_train_75.shape}\")\n",
    "\n",
    "# Reshape embeddings to [batch_size, channels, height, width]\n",
    "height, width = 32, 16  # Ensure height * width = 512\n",
    "emb_train_75 = emb_train_75.view(emb_train_75.shape[0], 1, height, width)\n",
    "\n",
    "\n",
    "# Verify the reshaped embeddings\n",
    "print(f\"Reshaped emb_train_75: {emb_train_75.shape}\")"
   ]
  },
  {
   "cell_type": "code",
   "execution_count": null,
   "metadata": {},
   "outputs": [],
   "source": [
    "emb_train_75 = emb_train_75.repeat(1, 3, 1, 1) "
   ]
  },
  {
   "cell_type": "code",
   "execution_count": null,
   "metadata": {},
   "outputs": [],
   "source": [
    "quick_fit(model.network, emb_train_75, labels_trains['train_size_75'].values, emb_val, labels_val.values, steps=1000)"
   ]
  },
  {
   "cell_type": "code",
   "execution_count": null,
   "metadata": {},
   "outputs": [],
   "source": [
    "# make predictions by passing the embeddings through the classifier\n",
    "preds = model.network(torch.tensor(emb_val).float()).detach().numpy()\n",
    "\n",
    "# plot histogram of scores for positive and negative clips\n",
    "plt.hist(preds[labels_val==True],bins=20,alpha=0.5,label='positives')\n",
    "plt.hist(preds[labels_val==False],bins=20,alpha=0.5,label='negatives')\n",
    "plt.legend()\n",
    "\n",
    "# calculate the area under the ROC score\n",
    "roc_auc_score(labels_val.values,preds,average=None)"
   ]
  },
  {
   "cell_type": "code",
   "execution_count": null,
   "metadata": {},
   "outputs": [],
   "source": [
    "roc_auc_score_75 = 0.571288888888"
   ]
  },
  {
   "cell_type": "markdown",
   "metadata": {},
   "source": [
    "Training size 100"
   ]
  },
  {
   "cell_type": "code",
   "execution_count": null,
   "metadata": {},
   "outputs": [],
   "source": [
    "emb_train_100 = model.embed(labels_trains['train_size_100'], return_dfs=False, batch_size=32, num_workers=0)"
   ]
  },
  {
   "cell_type": "code",
   "execution_count": null,
   "metadata": {},
   "outputs": [],
   "source": [
    "emb_train_100 = torch.tensor(emb_train_100, dtype=torch.float32)\n",
    "# Check the shape of the embeddings\n",
    "print(f\"Original shape of emb_train: {emb_train_100.shape}\")\n",
    "\n",
    "# Reshape embeddings to [batch_size, channels, height, width]\n",
    "height, width = 32, 16  # Ensure height * width = 512\n",
    "emb_train_100 = emb_train_100.view(emb_train_100.shape[0], 1, height, width)\n",
    "\n",
    "# Verify the reshaped embeddings\n",
    "print(f\"Reshaped emb_train_100: {emb_train_100.shape}\")"
   ]
  },
  {
   "cell_type": "code",
   "execution_count": null,
   "metadata": {},
   "outputs": [],
   "source": [
    "emb_train_100 = emb_train_100.repeat(1, 3, 1, 1) "
   ]
  },
  {
   "cell_type": "code",
   "execution_count": null,
   "metadata": {},
   "outputs": [],
   "source": [
    "quick_fit(model.network, emb_train_100, labels_trains['train_size_100'].values, emb_val, labels_val.values, steps=1000)"
   ]
  },
  {
   "cell_type": "code",
   "execution_count": null,
   "metadata": {},
   "outputs": [],
   "source": [
    "# make predictions by passing the embeddings through the classifier\n",
    "preds = model.network(torch.tensor(emb_val).float()).detach().numpy()\n",
    "\n",
    "# plot histogram of scores for positive and negative clips\n",
    "plt.hist(preds[labels_val==True],bins=20,alpha=0.5,label='positives')\n",
    "plt.hist(preds[labels_val==False],bins=20,alpha=0.5,label='negatives')\n",
    "plt.legend()\n",
    "\n",
    "# calculate the area under the ROC score\n",
    "roc_auc_score_100 = roc_auc_score(labels_val.values,preds,average=None)\n",
    "roc_auc_score_100"
   ]
  },
  {
   "cell_type": "markdown",
   "metadata": {},
   "source": [
    "Training size 125"
   ]
  },
  {
   "cell_type": "code",
   "execution_count": null,
   "metadata": {},
   "outputs": [],
   "source": [
    "emb_train_125 = model.embed(labels_trains['train_size_125'], return_dfs=False, batch_size=32, num_workers=0)"
   ]
  },
  {
   "cell_type": "code",
   "execution_count": null,
   "metadata": {},
   "outputs": [],
   "source": [
    "emb_train_125 = torch.tensor(emb_train_125, dtype=torch.float32)\n",
    "# Check the shape of the embeddings\n",
    "print(f\"Original shape of emb_train: {emb_train_125.shape}\")\n",
    "\n",
    "height, width = 32, 16  # Ensure height * width = 512\n",
    "emb_train_125 = emb_train_125.view(emb_train_125.shape[0], 1, height, width)\n",
    "\n",
    "# Verify the reshaped embeddings\n",
    "print(f\"Reshaped emb_train_100: {emb_train_125.shape}\")"
   ]
  },
  {
   "cell_type": "code",
   "execution_count": null,
   "metadata": {},
   "outputs": [],
   "source": [
    "emb_train_125 = emb_train_125.repeat(1, 3, 1, 1) "
   ]
  },
  {
   "cell_type": "code",
   "execution_count": null,
   "metadata": {},
   "outputs": [],
   "source": [
    "quick_fit(model.network, emb_train_125, labels_trains['train_size_125'].values, emb_val, labels_val.values, steps=1000)"
   ]
  },
  {
   "cell_type": "code",
   "execution_count": null,
   "metadata": {},
   "outputs": [],
   "source": [
    "# make predictions by passing the embeddings through the classifier\n",
    "preds = model.network(torch.tensor(emb_val).float()).detach().numpy()\n",
    "\n",
    "# plot histogram of scores for positive and negative clips\n",
    "plt.hist(preds[labels_val==True],bins=20,alpha=0.5,label='positives')\n",
    "plt.hist(preds[labels_val==False],bins=20,alpha=0.5,label='negatives')\n",
    "plt.legend()\n",
    "\n",
    "# calculate the area under the ROC score\n",
    "roc_auc_score_125 = roc_auc_score(labels_val.values,preds,average=None)\n",
    "roc_auc_score_125"
   ]
  },
  {
   "cell_type": "markdown",
   "metadata": {},
   "source": [
    "Training size 150"
   ]
  },
  {
   "cell_type": "code",
   "execution_count": null,
   "metadata": {},
   "outputs": [],
   "source": [
    "emb_train_150 = model.embed(labels_trains['train_size_150'], return_dfs=False, batch_size=32, num_workers=0)"
   ]
  },
  {
   "cell_type": "code",
   "execution_count": null,
   "metadata": {},
   "outputs": [],
   "source": [
    "emb_train_150 = torch.tensor(emb_train_150, dtype=torch.float32)\n",
    "# Check the shape of the embeddings\n",
    "print(f\"Original shape of emb_train: {emb_train_150.shape}\")\n",
    "\n",
    "# Reshape embeddings to [batch_size, channels, height, width]\n",
    "height, width = 32, 16  # Ensure height * width = 512\n",
    "emb_train_150 = emb_train_150.view(emb_train_150.shape[0], 1, height, width)\n",
    "\n",
    "# Verify the reshaped embeddings\n",
    "print(f\"Reshaped emb_train_150: {emb_train_150.shape}\")"
   ]
  },
  {
   "cell_type": "code",
   "execution_count": null,
   "metadata": {},
   "outputs": [],
   "source": [
    "emb_train_150 = emb_train_150.repeat(1, 3, 1, 1) "
   ]
  },
  {
   "cell_type": "code",
   "execution_count": null,
   "metadata": {},
   "outputs": [],
   "source": [
    "quick_fit(model.network, emb_train_150, labels_trains['train_size_150'].values, emb_val, labels_val.values, steps=1000)"
   ]
  },
  {
   "cell_type": "code",
   "execution_count": null,
   "metadata": {},
   "outputs": [],
   "source": [
    "# make predictions by passing the embeddings through the classifier\n",
    "preds = model.network(torch.tensor(emb_val).float()).detach().numpy()\n",
    "\n",
    "# plot histogram of scores for positive and negative clips\n",
    "plt.hist(preds[labels_val==True],bins=20,alpha=0.5,label='positives')\n",
    "plt.hist(preds[labels_val==False],bins=20,alpha=0.5,label='negatives')\n",
    "plt.legend()\n",
    "\n",
    "# calculate the area under the ROC score\n",
    "roc_auc_score_150 = roc_auc_score(labels_val.values,preds,average=None)\n",
    "roc_auc_score_150"
   ]
  },
  {
   "cell_type": "markdown",
   "metadata": {},
   "source": [
    "Training size 175"
   ]
  },
  {
   "cell_type": "code",
   "execution_count": null,
   "metadata": {},
   "outputs": [],
   "source": [
    "emb_train_175 = model.embed(labels_trains['train_size_175'], return_dfs=False, batch_size=32, num_workers=0)"
   ]
  },
  {
   "cell_type": "code",
   "execution_count": null,
   "metadata": {},
   "outputs": [],
   "source": [
    "emb_train_175 = torch.tensor(emb_train_175, dtype=torch.float32)\n",
    "# Check the shape of the embeddings\n",
    "print(f\"Original shape of emb_train: {emb_train_175.shape}\")\n",
    "\n",
    "# Reshape embeddings to [batch_size, channels, height, width]\n",
    "height, width = 32, 16  # Ensure height * width = 512\n",
    "emb_train_175 = emb_train_175.view(emb_train_175.shape[0], 1, height, width)\n",
    "\n",
    "\n",
    "# Verify the reshaped embeddings\n",
    "print(f\"Reshaped emb_train_175: {emb_train_175.shape}\")"
   ]
  },
  {
   "cell_type": "code",
   "execution_count": null,
   "metadata": {},
   "outputs": [],
   "source": [
    "emb_train_175 = emb_train_175.repeat(1, 3, 1, 1) "
   ]
  },
  {
   "cell_type": "code",
   "execution_count": null,
   "metadata": {},
   "outputs": [],
   "source": [
    "quick_fit(model.network, emb_train_175, labels_trains['train_size_175'].values, emb_val, labels_val.values, steps=1000)"
   ]
  },
  {
   "cell_type": "code",
   "execution_count": null,
   "metadata": {},
   "outputs": [],
   "source": [
    "preds = model.network(torch.tensor(emb_val).float()).detach().numpy()\n",
    "\n",
    "# plot histogram of scores for positive and negative clips\n",
    "plt.hist(preds[labels_val==True],bins=20,alpha=0.5,label='positives')\n",
    "plt.hist(preds[labels_val==False],bins=20,alpha=0.5,label='negatives')\n",
    "plt.legend()\n",
    "\n",
    "# calculate the area under the ROC score\n",
    "roc_auc_score_175 = roc_auc_score(labels_val.values,preds,average=None)\n",
    "roc_auc_score_175"
   ]
  },
  {
   "cell_type": "markdown",
   "metadata": {},
   "source": [
    "Training size 200"
   ]
  },
  {
   "cell_type": "code",
   "execution_count": null,
   "metadata": {},
   "outputs": [],
   "source": [
    "model = torch.hub.load('kitzeslab/bioacoustics-model-zoo','rana_sierrae_cnn',trust_repo=True)"
   ]
  },
  {
   "cell_type": "code",
   "execution_count": null,
   "metadata": {},
   "outputs": [],
   "source": [
    "emb_val = model.embed(labels_val, return_dfs=False, batch_size=32, num_workers=0)"
   ]
  },
  {
   "cell_type": "code",
   "execution_count": null,
   "metadata": {},
   "outputs": [],
   "source": [
    "emb_train_200 = model.embed(labels_trains['train_size_200'], return_dfs=False, batch_size=32, num_workers=0)"
   ]
  },
  {
   "cell_type": "code",
   "execution_count": null,
   "metadata": {},
   "outputs": [],
   "source": [
    "emb_train_200 = torch.tensor(emb_train_200, dtype=torch.float32)\n",
    "emb_val = torch.tensor(emb_val, dtype=torch.float32)\n",
    "\n",
    "# Check the shape of the embeddings\n",
    "print(f\"Original shape of emb_train: {emb_train_200.shape}\")\n",
    "\n",
    "# Reshape embeddings to [batch_size, channels, height, width]\n",
    "height, width = 32, 16  # Ensure height * width = 512\n",
    "emb_train_200 = emb_train_200.view(emb_train_200.shape[0], 1, height, width)\n",
    "emb_val = emb_val.view(emb_val.shape[0], 1, height, width)\n",
    "\n",
    "# Verify the reshaped embeddings\n",
    "print(f\"Reshaped emb_train_200: {emb_train_200.shape}\")\n",
    "print(f\"Reshaped emb_val: {emb_val.shape}\")"
   ]
  },
  {
   "cell_type": "code",
   "execution_count": null,
   "metadata": {},
   "outputs": [],
   "source": [
    "if isinstance(model.network, nn.Sequential):\n",
    "    first_layer = model.network[0]\n",
    "    if isinstance(first_layer, nn.Conv2d):\n",
    "        model.network[0] = nn.Conv2d(\n",
    "            in_channels=1,\n",
    "            out_channels=first_layer.out_channels,\n",
    "            kernel_size=first_layer.kernel_size,\n",
    "            stride=first_layer.stride,\n",
    "            padding=first_layer.padding\n",
    "        )"
   ]
  },
  {
   "cell_type": "code",
   "execution_count": null,
   "metadata": {},
   "outputs": [],
   "source": [
    "emb_train_200 = emb_train_200.repeat(1, 3, 1, 1) \n",
    "emb_val = emb_val.repeat(1, 3, 1, 1)"
   ]
  },
  {
   "cell_type": "code",
   "execution_count": null,
   "metadata": {},
   "outputs": [],
   "source": [
    "model.network.fc = nn.Linear(in_features=model.network.fc.in_features, out_features=1)"
   ]
  },
  {
   "cell_type": "code",
   "execution_count": null,
   "metadata": {},
   "outputs": [],
   "source": [
    "quick_fit(model.network, emb_train_200, labels_trains['train_size_200'].values, emb_val, labels_val.values, steps=1000)"
   ]
  },
  {
   "cell_type": "code",
   "execution_count": null,
   "metadata": {},
   "outputs": [],
   "source": [
    "preds = model.network(torch.tensor(emb_val).float()).detach().numpy()\n",
    "\n",
    "# plot histogram of scores for positive and negative clips\n",
    "plt.hist(preds[labels_val==True],bins=20,alpha=0.5,label='positives')\n",
    "plt.hist(preds[labels_val==False],bins=20,alpha=0.5,label='negatives')\n",
    "plt.legend()\n",
    "\n",
    "# calculate the area under the ROC score\n",
    "roc_auc_score_200 = roc_auc_score(labels_val.values,preds,average=None)\n",
    "roc_auc_score_200"
   ]
  },
  {
   "cell_type": "markdown",
   "metadata": {},
   "source": [
    "Training size 225"
   ]
  },
  {
   "cell_type": "code",
   "execution_count": null,
   "metadata": {},
   "outputs": [],
   "source": [
    "model = torch.hub.load('kitzeslab/bioacoustics-model-zoo','rana_sierrae_cnn',trust_repo=True)"
   ]
  },
  {
   "cell_type": "code",
   "execution_count": null,
   "metadata": {},
   "outputs": [],
   "source": [
    "emb_val = model.embed(labels_val, return_dfs=False, batch_size=32, num_workers=0)"
   ]
  },
  {
   "cell_type": "code",
   "execution_count": null,
   "metadata": {},
   "outputs": [],
   "source": [
    "emb_train_225 = model.embed(labels_trains['train_size_225'], return_dfs=False, batch_size=32, num_workers=0)"
   ]
  },
  {
   "cell_type": "code",
   "execution_count": null,
   "metadata": {},
   "outputs": [],
   "source": [
    "emb_train_225 = torch.tensor(emb_train_225, dtype=torch.float32)\n",
    "emb_val = torch.tensor(emb_val, dtype=torch.float32)\n",
    "\n",
    "# Check the shape of the embeddings\n",
    "print(f\"Original shape of emb_train: {emb_train_225.shape}\")\n",
    "\n",
    "# Reshape embeddings to [batch_size, channels, height, width]\n",
    "height, width = 32, 16  # Ensure height * width = 512\n",
    "emb_train_225 = emb_train_225.view(emb_train_225.shape[0], 1, height, width)\n",
    "emb_val = emb_val.view(emb_val.shape[0], 1, height, width)\n",
    "\n",
    "# Verify the reshaped embeddings\n",
    "print(f\"Reshaped emb_train_225: {emb_train_225.shape}\")\n",
    "print(f\"Reshaped emb_val: {emb_val.shape}\")"
   ]
  },
  {
   "cell_type": "code",
   "execution_count": null,
   "metadata": {},
   "outputs": [],
   "source": [
    "if isinstance(model.network, nn.Sequential):\n",
    "    first_layer = model.network[0]\n",
    "    if isinstance(first_layer, nn.Conv2d):\n",
    "        model.network[0] = nn.Conv2d(\n",
    "            in_channels=1,\n",
    "            out_channels=first_layer.out_channels,\n",
    "            kernel_size=first_layer.kernel_size,\n",
    "            stride=first_layer.stride,\n",
    "            padding=first_layer.padding\n",
    "        )"
   ]
  },
  {
   "cell_type": "code",
   "execution_count": null,
   "metadata": {},
   "outputs": [],
   "source": [
    "emb_train_225 = emb_train_225.repeat(1, 3, 1, 1) \n",
    "emb_val = emb_val.repeat(1, 3, 1, 1)"
   ]
  },
  {
   "cell_type": "code",
   "execution_count": null,
   "metadata": {},
   "outputs": [],
   "source": [
    "model.network.fc = nn.Linear(in_features=model.network.fc.in_features, out_features=1)"
   ]
  },
  {
   "cell_type": "code",
   "execution_count": null,
   "metadata": {},
   "outputs": [],
   "source": [
    "quick_fit(model.network, emb_train_225, labels_trains['train_size_225'].values, emb_val, labels_val.values, steps=1000)"
   ]
  },
  {
   "cell_type": "code",
   "execution_count": null,
   "metadata": {},
   "outputs": [],
   "source": [
    "preds = model.network(torch.tensor(emb_val).float()).detach().numpy()\n",
    "\n",
    "# plot histogram of scores for positive and negative clips\n",
    "plt.hist(preds[labels_val==True],bins=20,alpha=0.5,label='positives')\n",
    "plt.hist(preds[labels_val==False],bins=20,alpha=0.5,label='negatives')\n",
    "plt.legend()\n",
    "\n",
    "# calculate the area under the ROC score\n",
    "roc_auc_score_225 = roc_auc_score(labels_val.values,preds,average=None)\n",
    "roc_auc_score_225"
   ]
  },
  {
   "cell_type": "markdown",
   "metadata": {},
   "source": [
    "Training size 250"
   ]
  },
  {
   "cell_type": "code",
   "execution_count": null,
   "metadata": {},
   "outputs": [],
   "source": [
    "model = torch.hub.load('kitzeslab/bioacoustics-model-zoo','rana_sierrae_cnn',trust_repo=True)"
   ]
  },
  {
   "cell_type": "code",
   "execution_count": null,
   "metadata": {},
   "outputs": [],
   "source": [
    "emb_train_250 = model.embed(labels_trains['train_size_250'], return_dfs=False, batch_size=32, num_workers=0)"
   ]
  },
  {
   "cell_type": "code",
   "execution_count": null,
   "metadata": {},
   "outputs": [],
   "source": [
    "emb_val = model.embed(labels_val, return_dfs=False, batch_size=32, num_workers=0)"
   ]
  },
  {
   "cell_type": "code",
   "execution_count": null,
   "metadata": {},
   "outputs": [],
   "source": [
    "emb_train_250 = torch.tensor(emb_train_250, dtype=torch.float32)\n",
    "emb_val = torch.tensor(emb_val, dtype=torch.float32)\n",
    "\n",
    "# Check the shape of the embeddings\n",
    "print(f\"Original shape of emb_train: {emb_train_250.shape}\")\n",
    "\n",
    "# Reshape embeddings to [batch_size, channels, height, width]\n",
    "height, width = 32, 16  # Ensure height * width = 512\n",
    "emb_train_250 = emb_train_250.view(emb_train_250.shape[0], 1, height, width)\n",
    "emb_val = emb_val.view(emb_val.shape[0], 1, height, width)\n",
    "\n",
    "# Verify the reshaped embeddings\n",
    "print(f\"Reshaped emb_train_250: {emb_train_250.shape}\")\n",
    "print(f\"Reshaped emb_val: {emb_val.shape}\")"
   ]
  },
  {
   "cell_type": "code",
   "execution_count": null,
   "metadata": {},
   "outputs": [],
   "source": [
    "if isinstance(model.network, nn.Sequential):\n",
    "    first_layer = model.network[0]\n",
    "    if isinstance(first_layer, nn.Conv2d):\n",
    "        model.network[0] = nn.Conv2d(\n",
    "            in_channels=1,\n",
    "            out_channels=first_layer.out_channels,\n",
    "            kernel_size=first_layer.kernel_size,\n",
    "            stride=first_layer.stride,\n",
    "            padding=first_layer.padding\n",
    "        )"
   ]
  },
  {
   "cell_type": "code",
   "execution_count": null,
   "metadata": {},
   "outputs": [],
   "source": [
    "emb_train_250 = emb_train_250.repeat(1, 3, 1, 1) \n",
    "emb_val = emb_val.repeat(1, 3, 1, 1)"
   ]
  },
  {
   "cell_type": "code",
   "execution_count": null,
   "metadata": {},
   "outputs": [],
   "source": [
    "model.network.fc = nn.Linear(in_features=model.network.fc.in_features, out_features=1)"
   ]
  },
  {
   "cell_type": "code",
   "execution_count": null,
   "metadata": {},
   "outputs": [],
   "source": [
    "quick_fit(model.network, emb_train_250, labels_trains['train_size_250'].values, emb_val, labels_val.values, steps=1000)"
   ]
  },
  {
   "cell_type": "code",
   "execution_count": null,
   "metadata": {},
   "outputs": [],
   "source": [
    "preds = model.network(torch.tensor(emb_val).float()).detach().numpy()\n",
    "\n",
    "# plot histogram of scores for positive and negative clips\n",
    "plt.hist(preds[labels_val==True],bins=20,alpha=0.5,label='positives')\n",
    "plt.hist(preds[labels_val==False],bins=20,alpha=0.5,label='negatives')\n",
    "plt.legend()\n",
    "\n",
    "# calculate the area under the ROC score\n",
    "roc_auc_score_250 = roc_auc_score(labels_val.values,preds,average=None)\n",
    "roc_auc_score_250"
   ]
  },
  {
   "cell_type": "markdown",
   "metadata": {},
   "source": [
    "Training size 275"
   ]
  },
  {
   "cell_type": "code",
   "execution_count": null,
   "metadata": {},
   "outputs": [],
   "source": [
    "model = torch.hub.load('kitzeslab/bioacoustics-model-zoo','rana_sierrae_cnn',trust_repo=True)"
   ]
  },
  {
   "cell_type": "code",
   "execution_count": null,
   "metadata": {},
   "outputs": [],
   "source": [
    "emb_train_275 = model.embed(labels_trains['train_size_275'], return_dfs=False, batch_size=32, num_workers=0)"
   ]
  },
  {
   "cell_type": "code",
   "execution_count": null,
   "metadata": {},
   "outputs": [],
   "source": [
    "emb_val = model.embed(labels_val, return_dfs=False, batch_size=32, num_workers=0)"
   ]
  },
  {
   "cell_type": "code",
   "execution_count": null,
   "metadata": {},
   "outputs": [],
   "source": [
    "emb_train_275 = torch.tensor(emb_train_275, dtype=torch.float32)\n",
    "emb_val = torch.tensor(emb_val, dtype=torch.float32)\n",
    "# Check the shape of the embeddings\n",
    "print(f\"Original shape of emb_train: {emb_train_275.shape}\")\n",
    "\n",
    "# Reshape embeddings to [batch_size, channels, height, width]\n",
    "height, width = 32, 16  # Ensure height * width = 512\n",
    "emb_train_275 = emb_train_275.view(emb_train_275.shape[0], 1, height, width)\n",
    "emb_val = emb_val.view(emb_val.shape[0], 1, height, width)\n",
    "\n",
    "# Verify the reshaped embeddings\n",
    "print(f\"Reshaped emb_train_275: {emb_train_275.shape}\")\n"
   ]
  },
  {
   "cell_type": "code",
   "execution_count": null,
   "metadata": {},
   "outputs": [],
   "source": [
    "if isinstance(model.network, nn.Sequential):\n",
    "    first_layer = model.network[0]\n",
    "    if isinstance(first_layer, nn.Conv2d):\n",
    "        model.network[0] = nn.Conv2d(\n",
    "            in_channels=1,\n",
    "            out_channels=first_layer.out_channels,\n",
    "            kernel_size=first_layer.kernel_size,\n",
    "            stride=first_layer.stride,\n",
    "            padding=first_layer.padding\n",
    "        )"
   ]
  },
  {
   "cell_type": "code",
   "execution_count": null,
   "metadata": {},
   "outputs": [],
   "source": [
    "emb_train_275 = emb_train_275.repeat(1, 3, 1, 1) \n",
    "emb_val = emb_val.repeat(1, 3, 1, 1)"
   ]
  },
  {
   "cell_type": "code",
   "execution_count": null,
   "metadata": {},
   "outputs": [],
   "source": [
    "model.network.fc = nn.Linear(in_features=model.network.fc.in_features, out_features=1)"
   ]
  },
  {
   "cell_type": "code",
   "execution_count": null,
   "metadata": {},
   "outputs": [],
   "source": [
    "quick_fit(model.network, emb_train_275, labels_trains['train_size_275'].values, emb_val, labels_val.values, steps=1000)"
   ]
  },
  {
   "cell_type": "code",
   "execution_count": null,
   "metadata": {},
   "outputs": [],
   "source": [
    "preds = model.network(torch.tensor(emb_val).float()).detach().numpy()\n",
    "\n",
    "# plot histogram of scores for positive and negative clips\n",
    "plt.hist(preds[labels_val==True],bins=20,alpha=0.5,label='positives')\n",
    "plt.hist(preds[labels_val==False],bins=20,alpha=0.5,label='negatives')\n",
    "plt.legend()\n",
    "\n",
    "# calculate the area under the ROC score\n",
    "roc_auc_score_275 = roc_auc_score(labels_val.values,preds,average=None)\n",
    "roc_auc_score_275"
   ]
  },
  {
   "cell_type": "markdown",
   "metadata": {},
   "source": [
    "Training size 300"
   ]
  },
  {
   "cell_type": "code",
   "execution_count": null,
   "metadata": {},
   "outputs": [],
   "source": [
    "model = torch.hub.load('kitzeslab/bioacoustics-model-zoo','rana_sierrae_cnn',trust_repo=True)"
   ]
  },
  {
   "cell_type": "code",
   "execution_count": null,
   "metadata": {},
   "outputs": [],
   "source": [
    "emb_train_300 = model.embed(labels_trains['train_size_300'], return_dfs=False, batch_size=32, num_workers=0)"
   ]
  },
  {
   "cell_type": "code",
   "execution_count": null,
   "metadata": {},
   "outputs": [],
   "source": [
    "emb_val = model.embed(labels_val, return_dfs=False, batch_size=32, num_workers=0)"
   ]
  },
  {
   "cell_type": "code",
   "execution_count": null,
   "metadata": {},
   "outputs": [],
   "source": [
    "emb_train_300 = torch.tensor(emb_train_300, dtype=torch.float32)\n",
    "emb_val = torch.tensor(emb_val, dtype=torch.float32)\n",
    "# Check the shape of the embeddings\n",
    "print(f\"Original shape of emb_train: {emb_train_300.shape}\")\n",
    "\n",
    "# Reshape embeddings to [batch_size, channels, height, width]\n",
    "height, width = 32, 16  # Ensure height * width = 512\n",
    "emb_train_300 = emb_train_300.view(emb_train_300.shape[0], 1, height, width)\n",
    "emb_val = emb_val.view(emb_val.shape[0], 1, height, width)\n",
    "\n",
    "# Verify the reshaped embeddings\n",
    "print(f\"Reshaped emb_train_300: {emb_train_300.shape}\")\n"
   ]
  },
  {
   "cell_type": "code",
   "execution_count": null,
   "metadata": {},
   "outputs": [],
   "source": [
    "if isinstance(model.network, nn.Sequential):\n",
    "    first_layer = model.network[0]\n",
    "    if isinstance(first_layer, nn.Conv2d):\n",
    "        model.network[0] = nn.Conv2d(\n",
    "            in_channels=1,\n",
    "            out_channels=first_layer.out_channels,\n",
    "            kernel_size=first_layer.kernel_size,\n",
    "            stride=first_layer.stride,\n",
    "            padding=first_layer.padding\n",
    "        )"
   ]
  },
  {
   "cell_type": "code",
   "execution_count": null,
   "metadata": {},
   "outputs": [],
   "source": [
    "emb_val = emb_val.repeat(1, 3, 1, 1)\n",
    "emb_train_300 = emb_train_300.repeat(1, 3, 1, 1) "
   ]
  },
  {
   "cell_type": "code",
   "execution_count": null,
   "metadata": {},
   "outputs": [],
   "source": [
    "model.network.fc = nn.Linear(in_features=model.network.fc.in_features, out_features=1)"
   ]
  },
  {
   "cell_type": "code",
   "execution_count": null,
   "metadata": {},
   "outputs": [],
   "source": [
    "quick_fit(model.network, emb_train_300, labels_trains['train_size_300'].values, emb_val, labels_val.values, steps=1000)"
   ]
  },
  {
   "cell_type": "code",
   "execution_count": null,
   "metadata": {},
   "outputs": [],
   "source": [
    "preds = model.network(torch.tensor(emb_val).float()).detach().numpy()\n",
    "\n",
    "# plot histogram of scores for positive and negative clips\n",
    "plt.hist(preds[labels_val==True],bins=20,alpha=0.5,label='positives')\n",
    "plt.hist(preds[labels_val==False],bins=20,alpha=0.5,label='negatives')\n",
    "plt.legend()\n",
    "\n",
    "# calculate the area under the ROC score\n",
    "roc_auc_score_300 = roc_auc_score(labels_val.values,preds,average=None)\n",
    "roc_auc_score_300"
   ]
  },
  {
   "cell_type": "code",
   "execution_count": null,
   "metadata": {},
   "outputs": [],
   "source": [
    "training_sizes = []\n",
    "roc_auc_scores = []\n",
    "\n",
    "# Iterate over training sizes and collect the scores\n",
    "for size in range(25, 301, 25):\n",
    "    score = eval(f\"roc_auc_score_{size}\")\n",
    "    training_sizes.append(size)\n",
    "    roc_auc_scores.append(score)\n",
    "\n",
    "# Create a DataFrame\n",
    "df = pd.DataFrame({\"Training Size\": training_sizes, \"ROC AUC Score\": roc_auc_scores})\n",
    "\n",
    "\n",
    "# Plot a line plot\n",
    "plt.figure(figsize=(8, 5))\n",
    "plt.plot(df[\"Training Size\"], df[\"ROC AUC Score\"], marker='o', linestyle='-')\n",
    "plt.title(\"ROC AUC Score vs. Training Size\")\n",
    "plt.xlabel(\"Training Size\")\n",
    "plt.ylabel(\"ROC AUC Score\")\n",
    "plt.grid(True)\n",
    "plt.show()"
   ]
  }
 ],
 "metadata": {
  "kernelspec": {
   "display_name": "opensoundscape_env",
   "language": "python",
   "name": "python3"
  },
  "language_info": {
   "codemirror_mode": {
    "name": "ipython",
    "version": 3
   },
   "file_extension": ".py",
   "mimetype": "text/x-python",
   "name": "python",
   "nbconvert_exporter": "python",
   "pygments_lexer": "ipython3",
   "version": "3.9.20"
  }
 },
 "nbformat": 4,
 "nbformat_minor": 2
}
