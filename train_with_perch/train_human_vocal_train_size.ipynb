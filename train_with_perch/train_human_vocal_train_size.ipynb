{
 "cells": [
  {
   "cell_type": "code",
   "execution_count": 1,
   "metadata": {},
   "outputs": [],
   "source": [
    "import torch\n",
    "import pandas as pd\n",
    "from pathlib import Path\n",
    "import numpy as np\n",
    "import pandas as pd\n",
    "import random \n",
    "from glob import glob\n",
    "import sklearn\n",
    "\n",
    "from tqdm.autonotebook import tqdm\n",
    "from sklearn.metrics import average_precision_score, roc_auc_score\n",
    "from pathlib import Path\n",
    "\n",
    "#set up plotting\n",
    "from matplotlib import pyplot as plt\n",
    "plt.rcParams['figure.figsize']=[15,5] #for large visuals\n",
    "%config InlineBackend.figure_format = 'retina'\n",
    "\n",
    "# opensoundscape transfer learning tools\n",
    "from opensoundscape.ml.shallow_classifier import MLPClassifier, quick_fit, fit_classifier_on_embeddings\n",
    "import os\n",
    "from pathlib import Path\n",
    "from pydub import AudioSegment"
   ]
  },
  {
   "cell_type": "code",
   "execution_count": 2,
   "metadata": {},
   "outputs": [],
   "source": [
    "torch.manual_seed(0)\n",
    "random.seed(0)\n",
    "np.random.seed(0)"
   ]
  },
  {
   "cell_type": "code",
   "execution_count": 3,
   "metadata": {},
   "outputs": [
    {
     "name": "stdout",
     "output_type": "stream",
     "text": [
      "DataFrame saved for training size train_size_25: /Users/yifeitao/Desktop/SoundHub/SoundHub/train_with_perch/human_vocal_5sec/labels_trains_train_size_25.csv\n",
      "DataFrame saved for training size train_size_50: /Users/yifeitao/Desktop/SoundHub/SoundHub/train_with_perch/human_vocal_5sec/labels_trains_train_size_50.csv\n",
      "DataFrame saved for training size train_size_60: /Users/yifeitao/Desktop/SoundHub/SoundHub/train_with_perch/human_vocal_5sec/labels_trains_train_size_60.csv\n",
      "\n",
      "DataFrame for training size train_size_25:\n",
      "                                                                        A\n",
      "file                                               start_time end_time   \n",
      "/Users/yifeitao/Desktop/SoundHub/SoundHub/train... 0.0        5.0       1\n",
      "/Users/yifeitao/Desktop/SoundHub/SoundHub/train... 0.0        5.0       1\n",
      "/Users/yifeitao/Desktop/SoundHub/SoundHub/train... 0.0        5.0       1\n",
      "/Users/yifeitao/Desktop/SoundHub/SoundHub/train... 0.0        5.0       1\n",
      "/Users/yifeitao/Desktop/SoundHub/SoundHub/train... 0.0        5.0       1\n",
      "\n",
      "DataFrame for training size train_size_50:\n",
      "                                                                        A\n",
      "file                                               start_time end_time   \n",
      "/Users/yifeitao/Desktop/SoundHub/SoundHub/train... 0.0        5.0       1\n",
      "/Users/yifeitao/Desktop/SoundHub/SoundHub/train... 0.0        5.0       1\n",
      "/Users/yifeitao/Desktop/SoundHub/SoundHub/train... 0.0        5.0       1\n",
      "/Users/yifeitao/Desktop/SoundHub/SoundHub/train... 0.0        5.0       1\n",
      "/Users/yifeitao/Desktop/SoundHub/SoundHub/train... 0.0        5.0       1\n",
      "\n",
      "DataFrame for training size train_size_60:\n",
      "                                                                        A\n",
      "file                                               start_time end_time   \n",
      "/Users/yifeitao/Desktop/SoundHub/SoundHub/train... 0.0        5.0       1\n",
      "/Users/yifeitao/Desktop/SoundHub/SoundHub/train... 0.0        5.0       1\n",
      "/Users/yifeitao/Desktop/SoundHub/SoundHub/train... 0.0        5.0       1\n",
      "/Users/yifeitao/Desktop/SoundHub/SoundHub/train... 0.0        5.0       1\n",
      "/Users/yifeitao/Desktop/SoundHub/SoundHub/train... 0.0        5.0       1\n"
     ]
    }
   ],
   "source": [
    "import os\n",
    "from pathlib import Path\n",
    "import pandas as pd\n",
    "\n",
    "# Define dataset path\n",
    "dataset_path = Path(\"/Users/yifeitao/Desktop/SoundHub/SoundHub/train_with_perch/human_vocal_5sec/\")\n",
    "train_path = dataset_path / \"train_5sec\"\n",
    "\n",
    "# Function to traverse directories and map file information to labels\n",
    "def traverse_and_map(directory, label):\n",
    "    audio_files = []\n",
    "    labels = []\n",
    "    start_times = []\n",
    "    end_times = []\n",
    "    \n",
    "    if not directory.exists():\n",
    "        print(f\"Directory does not exist: {directory}\")\n",
    "        return pd.DataFrame()  # Return empty DataFrame if directory doesn't exist\n",
    "    \n",
    "    for root, _, files in os.walk(directory):\n",
    "        for file in files:\n",
    "            if file.endswith(\".wav\"):\n",
    "                # Prepend full dataset path to the file path\n",
    "                audio_path = dataset_path / Path(root).relative_to(dataset_path) / file\n",
    "                audio_files.append(str(audio_path))\n",
    "                labels.append(label)\n",
    "                start_times.append(0.0)  # Fixed start time\n",
    "                end_times.append(5.0)   # Fixed end time\n",
    "\n",
    "    # Create DataFrame for the current directory\n",
    "    data = {\n",
    "        \"file\": audio_files,\n",
    "        \"start_time\": start_times,\n",
    "        \"end_time\": end_times,\n",
    "        \"A\": labels\n",
    "    }\n",
    "    return pd.DataFrame(data)\n",
    "\n",
    "# Initialize a dictionary to hold DataFrames for each training size\n",
    "labels_trains = {}\n",
    "\n",
    "# Iterate over each train size folder\n",
    "if train_path.exists():\n",
    "    for train_size_dir in train_path.iterdir():\n",
    "        if train_size_dir.is_dir():  # Ensure it's a directory\n",
    "            training_size = train_size_dir.name  # Get the name of the training size directory\n",
    "\n",
    "            # Process `pos` and `neg` subdirectories\n",
    "            pos_dir = train_size_dir / \"pos\"\n",
    "            neg_dir = train_size_dir / \"neg\"\n",
    "            df_pos = traverse_and_map(pos_dir, 1)  # 1 for \"pos\" files\n",
    "            df_neg = traverse_and_map(neg_dir, 0)  # 0 for \"negative\" files\n",
    "\n",
    "            # Combine the DataFrames for `pos` and `neg`\n",
    "            combined_df = pd.concat([df_pos, df_neg], ignore_index=True)\n",
    "\n",
    "            # Set MultiIndex with 'file', 'start_time', and 'end_time'\n",
    "            combined_df.set_index([\"file\", \"start_time\", \"end_time\"], inplace=True)\n",
    "\n",
    "            # Rename the only column to \"A\"\n",
    "            combined_df.columns = ['A']\n",
    "\n",
    "            # Store the DataFrame in the dictionary\n",
    "            labels_trains[training_size] = combined_df\n",
    "\n",
    "            # Optionally, save each DataFrame to a CSV file\n",
    "            output_path = dataset_path / f\"labels_trains_{training_size}.csv\"\n",
    "            combined_df.to_csv(output_path)\n",
    "            print(f\"DataFrame saved for training size {training_size}: {output_path}\")\n",
    "else:\n",
    "    print(f\"Train path does not exist: {train_path}\")\n",
    "\n",
    "# Display the DataFrames for verification\n",
    "for training_size, df in labels_trains.items():\n",
    "    print(f\"\\nDataFrame for training size {training_size}:\")\n",
    "    print(df.head())\n"
   ]
  },
  {
   "cell_type": "markdown",
   "metadata": {},
   "source": [
    "Processing data for training set"
   ]
  },
  {
   "cell_type": "code",
   "execution_count": 4,
   "metadata": {},
   "outputs": [
    {
     "data": {
      "text/html": [
       "<div>\n",
       "<style scoped>\n",
       "    .dataframe tbody tr th:only-of-type {\n",
       "        vertical-align: middle;\n",
       "    }\n",
       "\n",
       "    .dataframe tbody tr th {\n",
       "        vertical-align: top;\n",
       "    }\n",
       "\n",
       "    .dataframe thead th {\n",
       "        text-align: right;\n",
       "    }\n",
       "</style>\n",
       "<table border=\"1\" class=\"dataframe\">\n",
       "  <thead>\n",
       "    <tr style=\"text-align: right;\">\n",
       "      <th></th>\n",
       "      <th></th>\n",
       "      <th></th>\n",
       "      <th>A</th>\n",
       "    </tr>\n",
       "    <tr>\n",
       "      <th>file</th>\n",
       "      <th>start_time</th>\n",
       "      <th>end_time</th>\n",
       "      <th></th>\n",
       "    </tr>\n",
       "  </thead>\n",
       "  <tbody>\n",
       "    <tr>\n",
       "      <th>/Users/yifeitao/Desktop/SoundHub/SoundHub/train_with_perch/human_vocal_5sec/train_5sec/train_size_60/pos/humvoc_215.wav</th>\n",
       "      <th>0.0</th>\n",
       "      <th>5.0</th>\n",
       "      <td>1</td>\n",
       "    </tr>\n",
       "    <tr>\n",
       "      <th>/Users/yifeitao/Desktop/SoundHub/SoundHub/train_with_perch/human_vocal_5sec/train_5sec/train_size_60/pos/humvoc_203.wav</th>\n",
       "      <th>0.0</th>\n",
       "      <th>5.0</th>\n",
       "      <td>1</td>\n",
       "    </tr>\n",
       "    <tr>\n",
       "      <th>/Users/yifeitao/Desktop/SoundHub/SoundHub/train_with_perch/human_vocal_5sec/train_5sec/train_size_60/pos/humvoc_559.wav</th>\n",
       "      <th>0.0</th>\n",
       "      <th>5.0</th>\n",
       "      <td>1</td>\n",
       "    </tr>\n",
       "    <tr>\n",
       "      <th>/Users/yifeitao/Desktop/SoundHub/SoundHub/train_with_perch/human_vocal_5sec/train_5sec/train_size_60/pos/humvoc_558.wav</th>\n",
       "      <th>0.0</th>\n",
       "      <th>5.0</th>\n",
       "      <td>1</td>\n",
       "    </tr>\n",
       "    <tr>\n",
       "      <th>/Users/yifeitao/Desktop/SoundHub/SoundHub/train_with_perch/human_vocal_5sec/train_5sec/train_size_60/pos/humvoc_560.wav</th>\n",
       "      <th>0.0</th>\n",
       "      <th>5.0</th>\n",
       "      <td>1</td>\n",
       "    </tr>\n",
       "    <tr>\n",
       "      <th>/Users/yifeitao/Desktop/SoundHub/SoundHub/train_with_perch/human_vocal_5sec/train_5sec/train_size_60/pos/humvoc_561.wav</th>\n",
       "      <th>0.0</th>\n",
       "      <th>5.0</th>\n",
       "      <td>1</td>\n",
       "    </tr>\n",
       "    <tr>\n",
       "      <th>/Users/yifeitao/Desktop/SoundHub/SoundHub/train_with_perch/human_vocal_5sec/train_5sec/train_size_60/pos/humvoc_549.wav</th>\n",
       "      <th>0.0</th>\n",
       "      <th>5.0</th>\n",
       "      <td>1</td>\n",
       "    </tr>\n",
       "    <tr>\n",
       "      <th>/Users/yifeitao/Desktop/SoundHub/SoundHub/train_with_perch/human_vocal_5sec/train_5sec/train_size_60/pos/humvoc_198.wav</th>\n",
       "      <th>0.0</th>\n",
       "      <th>5.0</th>\n",
       "      <td>1</td>\n",
       "    </tr>\n",
       "    <tr>\n",
       "      <th>/Users/yifeitao/Desktop/SoundHub/SoundHub/train_with_perch/human_vocal_5sec/train_5sec/train_size_60/pos/humvoc_211.wav</th>\n",
       "      <th>0.0</th>\n",
       "      <th>5.0</th>\n",
       "      <td>1</td>\n",
       "    </tr>\n",
       "    <tr>\n",
       "      <th>/Users/yifeitao/Desktop/SoundHub/SoundHub/train_with_perch/human_vocal_5sec/train_5sec/train_size_60/pos/humvoc_210.wav</th>\n",
       "      <th>0.0</th>\n",
       "      <th>5.0</th>\n",
       "      <td>1</td>\n",
       "    </tr>\n",
       "    <tr>\n",
       "      <th>/Users/yifeitao/Desktop/SoundHub/SoundHub/train_with_perch/human_vocal_5sec/train_5sec/train_size_60/pos/humvoc_199.wav</th>\n",
       "      <th>0.0</th>\n",
       "      <th>5.0</th>\n",
       "      <td>1</td>\n",
       "    </tr>\n",
       "    <tr>\n",
       "      <th>/Users/yifeitao/Desktop/SoundHub/SoundHub/train_with_perch/human_vocal_5sec/train_5sec/train_size_60/pos/humvoc_511.wav</th>\n",
       "      <th>0.0</th>\n",
       "      <th>5.0</th>\n",
       "      <td>1</td>\n",
       "    </tr>\n",
       "    <tr>\n",
       "      <th>/Users/yifeitao/Desktop/SoundHub/SoundHub/train_with_perch/human_vocal_5sec/train_5sec/train_size_60/pos/humvoc_539.wav</th>\n",
       "      <th>0.0</th>\n",
       "      <th>5.0</th>\n",
       "      <td>1</td>\n",
       "    </tr>\n",
       "    <tr>\n",
       "      <th>/Users/yifeitao/Desktop/SoundHub/SoundHub/train_with_perch/human_vocal_5sec/train_5sec/train_size_60/pos/humvoc_538.wav</th>\n",
       "      <th>0.0</th>\n",
       "      <th>5.0</th>\n",
       "      <td>1</td>\n",
       "    </tr>\n",
       "    <tr>\n",
       "      <th>/Users/yifeitao/Desktop/SoundHub/SoundHub/train_with_perch/human_vocal_5sec/train_5sec/train_size_60/pos/humvoc_510.wav</th>\n",
       "      <th>0.0</th>\n",
       "      <th>5.0</th>\n",
       "      <td>1</td>\n",
       "    </tr>\n",
       "    <tr>\n",
       "      <th>/Users/yifeitao/Desktop/SoundHub/SoundHub/train_with_perch/human_vocal_5sec/train_5sec/train_size_60/pos/humvoc_499.wav</th>\n",
       "      <th>0.0</th>\n",
       "      <th>5.0</th>\n",
       "      <td>1</td>\n",
       "    </tr>\n",
       "    <tr>\n",
       "      <th>/Users/yifeitao/Desktop/SoundHub/SoundHub/train_with_perch/human_vocal_5sec/train_5sec/train_size_60/pos/humvoc_506.wav</th>\n",
       "      <th>0.0</th>\n",
       "      <th>5.0</th>\n",
       "      <td>1</td>\n",
       "    </tr>\n",
       "    <tr>\n",
       "      <th>/Users/yifeitao/Desktop/SoundHub/SoundHub/train_with_perch/human_vocal_5sec/train_5sec/train_size_60/pos/humvoc_507.wav</th>\n",
       "      <th>0.0</th>\n",
       "      <th>5.0</th>\n",
       "      <td>1</td>\n",
       "    </tr>\n",
       "    <tr>\n",
       "      <th>/Users/yifeitao/Desktop/SoundHub/SoundHub/train_with_perch/human_vocal_5sec/train_5sec/train_size_60/pos/humvoc_513.wav</th>\n",
       "      <th>0.0</th>\n",
       "      <th>5.0</th>\n",
       "      <td>1</td>\n",
       "    </tr>\n",
       "    <tr>\n",
       "      <th>/Users/yifeitao/Desktop/SoundHub/SoundHub/train_with_perch/human_vocal_5sec/train_5sec/train_size_60/pos/humvoc_498.wav</th>\n",
       "      <th>0.0</th>\n",
       "      <th>5.0</th>\n",
       "      <td>1</td>\n",
       "    </tr>\n",
       "  </tbody>\n",
       "</table>\n",
       "</div>"
      ],
      "text/plain": [
       "                                                                        A\n",
       "file                                               start_time end_time   \n",
       "/Users/yifeitao/Desktop/SoundHub/SoundHub/train... 0.0        5.0       1\n",
       "/Users/yifeitao/Desktop/SoundHub/SoundHub/train... 0.0        5.0       1\n",
       "/Users/yifeitao/Desktop/SoundHub/SoundHub/train... 0.0        5.0       1\n",
       "/Users/yifeitao/Desktop/SoundHub/SoundHub/train... 0.0        5.0       1\n",
       "/Users/yifeitao/Desktop/SoundHub/SoundHub/train... 0.0        5.0       1\n",
       "/Users/yifeitao/Desktop/SoundHub/SoundHub/train... 0.0        5.0       1\n",
       "/Users/yifeitao/Desktop/SoundHub/SoundHub/train... 0.0        5.0       1\n",
       "/Users/yifeitao/Desktop/SoundHub/SoundHub/train... 0.0        5.0       1\n",
       "/Users/yifeitao/Desktop/SoundHub/SoundHub/train... 0.0        5.0       1\n",
       "/Users/yifeitao/Desktop/SoundHub/SoundHub/train... 0.0        5.0       1\n",
       "/Users/yifeitao/Desktop/SoundHub/SoundHub/train... 0.0        5.0       1\n",
       "/Users/yifeitao/Desktop/SoundHub/SoundHub/train... 0.0        5.0       1\n",
       "/Users/yifeitao/Desktop/SoundHub/SoundHub/train... 0.0        5.0       1\n",
       "/Users/yifeitao/Desktop/SoundHub/SoundHub/train... 0.0        5.0       1\n",
       "/Users/yifeitao/Desktop/SoundHub/SoundHub/train... 0.0        5.0       1\n",
       "/Users/yifeitao/Desktop/SoundHub/SoundHub/train... 0.0        5.0       1\n",
       "/Users/yifeitao/Desktop/SoundHub/SoundHub/train... 0.0        5.0       1\n",
       "/Users/yifeitao/Desktop/SoundHub/SoundHub/train... 0.0        5.0       1\n",
       "/Users/yifeitao/Desktop/SoundHub/SoundHub/train... 0.0        5.0       1\n",
       "/Users/yifeitao/Desktop/SoundHub/SoundHub/train... 0.0        5.0       1"
      ]
     },
     "execution_count": 4,
     "metadata": {},
     "output_type": "execute_result"
    }
   ],
   "source": [
    "labels_trains['train_size_60'].head(20)"
   ]
  },
  {
   "cell_type": "markdown",
   "metadata": {},
   "source": [
    "Prepare audio Data"
   ]
  },
  {
   "cell_type": "markdown",
   "metadata": {},
   "source": [
    "Step 1: Train shallow classifier on Perch embeddings"
   ]
  },
  {
   "cell_type": "code",
   "execution_count": 5,
   "metadata": {},
   "outputs": [
    {
     "name": "stderr",
     "output_type": "stream",
     "text": [
      "Using cache found in /Users/yifeitao/.cache/torch/hub/kitzeslab_bioacoustics-model-zoo_main\n"
     ]
    }
   ],
   "source": [
    "model = torch.hub.load('kitzeslab/bioacoustics-model-zoo','rana_sierrae_cnn',trust_repo=True)"
   ]
  },
  {
   "cell_type": "markdown",
   "metadata": {},
   "source": [
    "Step 2: Generate embeddings on the training and validation data"
   ]
  },
  {
   "cell_type": "markdown",
   "metadata": {},
   "source": [
    "Training size 25"
   ]
  },
  {
   "cell_type": "code",
   "execution_count": 6,
   "metadata": {},
   "outputs": [
    {
     "data": {
      "application/vnd.jupyter.widget-view+json": {
       "model_id": "aa60e27cc2d84e608c87458694ebabcf",
       "version_major": 2,
       "version_minor": 0
      },
      "text/plain": [
       "  0%|          | 0/2 [00:00<?, ?it/s]"
      ]
     },
     "metadata": {},
     "output_type": "display_data"
    },
    {
     "name": "stderr",
     "output_type": "stream",
     "text": [
      "/opt/anaconda3/envs/opensoundscape_env/lib/python3.9/site-packages/opensoundscape/audio.py:1725: UserWarning: Audio object is shorter than requested duration: 4.999833333333333 sec instead of 5.0 sec\n",
      "  warnings.warn(error_msg)\n",
      "/opt/anaconda3/envs/opensoundscape_env/lib/python3.9/site-packages/opensoundscape/audio.py:1725: UserWarning: Audio object is shorter than requested duration: 4.999833333333333 sec instead of 5.0 sec\n",
      "  warnings.warn(error_msg)\n",
      "/opt/anaconda3/envs/opensoundscape_env/lib/python3.9/site-packages/opensoundscape/audio.py:1725: UserWarning: Audio object is shorter than requested duration: 4.999833333333333 sec instead of 5.0 sec\n",
      "  warnings.warn(error_msg)\n",
      "/opt/anaconda3/envs/opensoundscape_env/lib/python3.9/site-packages/opensoundscape/audio.py:1725: UserWarning: Audio object is shorter than requested duration: 4.999833333333333 sec instead of 5.0 sec\n",
      "  warnings.warn(error_msg)\n",
      "/opt/anaconda3/envs/opensoundscape_env/lib/python3.9/site-packages/opensoundscape/audio.py:1725: UserWarning: Audio object is shorter than requested duration: 4.999833333333333 sec instead of 5.0 sec\n",
      "  warnings.warn(error_msg)\n",
      "/opt/anaconda3/envs/opensoundscape_env/lib/python3.9/site-packages/opensoundscape/audio.py:1725: UserWarning: Audio object is shorter than requested duration: 4.999833333333333 sec instead of 5.0 sec\n",
      "  warnings.warn(error_msg)\n",
      "/opt/anaconda3/envs/opensoundscape_env/lib/python3.9/site-packages/opensoundscape/audio.py:1725: UserWarning: Audio object is shorter than requested duration: 4.999833333333333 sec instead of 5.0 sec\n",
      "  warnings.warn(error_msg)\n",
      "/opt/anaconda3/envs/opensoundscape_env/lib/python3.9/site-packages/opensoundscape/audio.py:1725: UserWarning: Audio object is shorter than requested duration: 4.999833333333333 sec instead of 5.0 sec\n",
      "  warnings.warn(error_msg)\n",
      "/opt/anaconda3/envs/opensoundscape_env/lib/python3.9/site-packages/opensoundscape/audio.py:1725: UserWarning: Audio object is shorter than requested duration: 4.999833333333333 sec instead of 5.0 sec\n",
      "  warnings.warn(error_msg)\n",
      "/opt/anaconda3/envs/opensoundscape_env/lib/python3.9/site-packages/opensoundscape/audio.py:1725: UserWarning: Audio object is shorter than requested duration: 4.999833333333333 sec instead of 5.0 sec\n",
      "  warnings.warn(error_msg)\n",
      "/opt/anaconda3/envs/opensoundscape_env/lib/python3.9/site-packages/opensoundscape/audio.py:1725: UserWarning: Audio object is shorter than requested duration: 4.999833333333333 sec instead of 5.0 sec\n",
      "  warnings.warn(error_msg)\n",
      "/opt/anaconda3/envs/opensoundscape_env/lib/python3.9/site-packages/opensoundscape/audio.py:1725: UserWarning: Audio object is shorter than requested duration: 4.999833333333333 sec instead of 5.0 sec\n",
      "  warnings.warn(error_msg)\n",
      "/opt/anaconda3/envs/opensoundscape_env/lib/python3.9/site-packages/opensoundscape/audio.py:1725: UserWarning: Audio object is shorter than requested duration: 4.999833333333333 sec instead of 5.0 sec\n",
      "  warnings.warn(error_msg)\n",
      "/opt/anaconda3/envs/opensoundscape_env/lib/python3.9/site-packages/opensoundscape/audio.py:1725: UserWarning: Audio object is shorter than requested duration: 4.999833333333333 sec instead of 5.0 sec\n",
      "  warnings.warn(error_msg)\n",
      "/opt/anaconda3/envs/opensoundscape_env/lib/python3.9/site-packages/opensoundscape/audio.py:1725: UserWarning: Audio object is shorter than requested duration: 4.999833333333333 sec instead of 5.0 sec\n",
      "  warnings.warn(error_msg)\n",
      "/opt/anaconda3/envs/opensoundscape_env/lib/python3.9/site-packages/opensoundscape/audio.py:1725: UserWarning: Audio object is shorter than requested duration: 4.999833333333333 sec instead of 5.0 sec\n",
      "  warnings.warn(error_msg)\n",
      "/opt/anaconda3/envs/opensoundscape_env/lib/python3.9/site-packages/opensoundscape/audio.py:1725: UserWarning: Audio object is shorter than requested duration: 4.999833333333333 sec instead of 5.0 sec\n",
      "  warnings.warn(error_msg)\n",
      "/opt/anaconda3/envs/opensoundscape_env/lib/python3.9/site-packages/opensoundscape/audio.py:1725: UserWarning: Audio object is shorter than requested duration: 4.999833333333333 sec instead of 5.0 sec\n",
      "  warnings.warn(error_msg)\n",
      "/opt/anaconda3/envs/opensoundscape_env/lib/python3.9/site-packages/opensoundscape/audio.py:1725: UserWarning: Audio object is shorter than requested duration: 4.999833333333333 sec instead of 5.0 sec\n",
      "  warnings.warn(error_msg)\n",
      "/opt/anaconda3/envs/opensoundscape_env/lib/python3.9/site-packages/opensoundscape/audio.py:1725: UserWarning: Audio object is shorter than requested duration: 4.999833333333333 sec instead of 5.0 sec\n",
      "  warnings.warn(error_msg)\n",
      "/opt/anaconda3/envs/opensoundscape_env/lib/python3.9/site-packages/opensoundscape/audio.py:1725: UserWarning: Audio object is shorter than requested duration: 4.999833333333333 sec instead of 5.0 sec\n",
      "  warnings.warn(error_msg)\n",
      "/opt/anaconda3/envs/opensoundscape_env/lib/python3.9/site-packages/opensoundscape/audio.py:1725: UserWarning: Audio object is shorter than requested duration: 4.999833333333333 sec instead of 5.0 sec\n",
      "  warnings.warn(error_msg)\n",
      "/opt/anaconda3/envs/opensoundscape_env/lib/python3.9/site-packages/opensoundscape/audio.py:1725: UserWarning: Audio object is shorter than requested duration: 4.999833333333333 sec instead of 5.0 sec\n",
      "  warnings.warn(error_msg)\n",
      "/opt/anaconda3/envs/opensoundscape_env/lib/python3.9/site-packages/opensoundscape/audio.py:1725: UserWarning: Audio object is shorter than requested duration: 4.999833333333333 sec instead of 5.0 sec\n",
      "  warnings.warn(error_msg)\n",
      "/opt/anaconda3/envs/opensoundscape_env/lib/python3.9/site-packages/opensoundscape/audio.py:1725: UserWarning: Audio object is shorter than requested duration: 4.999833333333333 sec instead of 5.0 sec\n",
      "  warnings.warn(error_msg)\n",
      "/opt/anaconda3/envs/opensoundscape_env/lib/python3.9/site-packages/opensoundscape/audio.py:1725: UserWarning: Audio object is shorter than requested duration: 4.999833333333333 sec instead of 5.0 sec\n",
      "  warnings.warn(error_msg)\n",
      "/opt/anaconda3/envs/opensoundscape_env/lib/python3.9/site-packages/opensoundscape/audio.py:1725: UserWarning: Audio object is shorter than requested duration: 4.999833333333333 sec instead of 5.0 sec\n",
      "  warnings.warn(error_msg)\n",
      "/opt/anaconda3/envs/opensoundscape_env/lib/python3.9/site-packages/opensoundscape/audio.py:1725: UserWarning: Audio object is shorter than requested duration: 4.999833333333333 sec instead of 5.0 sec\n",
      "  warnings.warn(error_msg)\n",
      "/opt/anaconda3/envs/opensoundscape_env/lib/python3.9/site-packages/opensoundscape/audio.py:1725: UserWarning: Audio object is shorter than requested duration: 4.999833333333333 sec instead of 5.0 sec\n",
      "  warnings.warn(error_msg)\n",
      "/opt/anaconda3/envs/opensoundscape_env/lib/python3.9/site-packages/opensoundscape/audio.py:1725: UserWarning: Audio object is shorter than requested duration: 4.999833333333333 sec instead of 5.0 sec\n",
      "  warnings.warn(error_msg)\n",
      "/opt/anaconda3/envs/opensoundscape_env/lib/python3.9/site-packages/opensoundscape/audio.py:1725: UserWarning: Audio object is shorter than requested duration: 4.999833333333333 sec instead of 5.0 sec\n",
      "  warnings.warn(error_msg)\n",
      "/opt/anaconda3/envs/opensoundscape_env/lib/python3.9/site-packages/opensoundscape/audio.py:1725: UserWarning: Audio object is shorter than requested duration: 4.999833333333333 sec instead of 5.0 sec\n",
      "  warnings.warn(error_msg)\n",
      "/opt/anaconda3/envs/opensoundscape_env/lib/python3.9/site-packages/opensoundscape/audio.py:1725: UserWarning: Audio object is shorter than requested duration: 4.999833333333333 sec instead of 5.0 sec\n",
      "  warnings.warn(error_msg)\n",
      "/opt/anaconda3/envs/opensoundscape_env/lib/python3.9/site-packages/opensoundscape/audio.py:1725: UserWarning: Audio object is shorter than requested duration: 4.999833333333333 sec instead of 5.0 sec\n",
      "  warnings.warn(error_msg)\n",
      "/opt/anaconda3/envs/opensoundscape_env/lib/python3.9/site-packages/opensoundscape/audio.py:1725: UserWarning: Audio object is shorter than requested duration: 4.999833333333333 sec instead of 5.0 sec\n",
      "  warnings.warn(error_msg)\n",
      "/opt/anaconda3/envs/opensoundscape_env/lib/python3.9/site-packages/opensoundscape/audio.py:1725: UserWarning: Audio object is shorter than requested duration: 4.999833333333333 sec instead of 5.0 sec\n",
      "  warnings.warn(error_msg)\n",
      "/opt/anaconda3/envs/opensoundscape_env/lib/python3.9/site-packages/opensoundscape/audio.py:1725: UserWarning: Audio object is shorter than requested duration: 4.999833333333333 sec instead of 5.0 sec\n",
      "  warnings.warn(error_msg)\n",
      "/opt/anaconda3/envs/opensoundscape_env/lib/python3.9/site-packages/opensoundscape/audio.py:1725: UserWarning: Audio object is shorter than requested duration: 4.999833333333333 sec instead of 5.0 sec\n",
      "  warnings.warn(error_msg)\n",
      "/opt/anaconda3/envs/opensoundscape_env/lib/python3.9/site-packages/opensoundscape/audio.py:1725: UserWarning: Audio object is shorter than requested duration: 4.999833333333333 sec instead of 5.0 sec\n",
      "  warnings.warn(error_msg)\n",
      "/opt/anaconda3/envs/opensoundscape_env/lib/python3.9/site-packages/opensoundscape/audio.py:1725: UserWarning: Audio object is shorter than requested duration: 4.999833333333333 sec instead of 5.0 sec\n",
      "  warnings.warn(error_msg)\n",
      "/opt/anaconda3/envs/opensoundscape_env/lib/python3.9/site-packages/opensoundscape/audio.py:1725: UserWarning: Audio object is shorter than requested duration: 4.999833333333333 sec instead of 5.0 sec\n",
      "  warnings.warn(error_msg)\n",
      "/opt/anaconda3/envs/opensoundscape_env/lib/python3.9/site-packages/opensoundscape/audio.py:1725: UserWarning: Audio object is shorter than requested duration: 4.999833333333333 sec instead of 5.0 sec\n",
      "  warnings.warn(error_msg)\n",
      "/opt/anaconda3/envs/opensoundscape_env/lib/python3.9/site-packages/opensoundscape/audio.py:1725: UserWarning: Audio object is shorter than requested duration: 4.999833333333333 sec instead of 5.0 sec\n",
      "  warnings.warn(error_msg)\n",
      "/opt/anaconda3/envs/opensoundscape_env/lib/python3.9/site-packages/opensoundscape/audio.py:1725: UserWarning: Audio object is shorter than requested duration: 4.999833333333333 sec instead of 5.0 sec\n",
      "  warnings.warn(error_msg)\n",
      "/opt/anaconda3/envs/opensoundscape_env/lib/python3.9/site-packages/opensoundscape/audio.py:1725: UserWarning: Audio object is shorter than requested duration: 4.999833333333333 sec instead of 5.0 sec\n",
      "  warnings.warn(error_msg)\n",
      "/opt/anaconda3/envs/opensoundscape_env/lib/python3.9/site-packages/opensoundscape/audio.py:1725: UserWarning: Audio object is shorter than requested duration: 4.999833333333333 sec instead of 5.0 sec\n",
      "  warnings.warn(error_msg)\n",
      "/opt/anaconda3/envs/opensoundscape_env/lib/python3.9/site-packages/opensoundscape/audio.py:1725: UserWarning: Audio object is shorter than requested duration: 4.999833333333333 sec instead of 5.0 sec\n",
      "  warnings.warn(error_msg)\n",
      "/opt/anaconda3/envs/opensoundscape_env/lib/python3.9/site-packages/opensoundscape/audio.py:1725: UserWarning: Audio object is shorter than requested duration: 4.999833333333333 sec instead of 5.0 sec\n",
      "  warnings.warn(error_msg)\n",
      "/opt/anaconda3/envs/opensoundscape_env/lib/python3.9/site-packages/opensoundscape/audio.py:1725: UserWarning: Audio object is shorter than requested duration: 4.999833333333333 sec instead of 5.0 sec\n",
      "  warnings.warn(error_msg)\n",
      "/opt/anaconda3/envs/opensoundscape_env/lib/python3.9/site-packages/opensoundscape/audio.py:1725: UserWarning: Audio object is shorter than requested duration: 4.999833333333333 sec instead of 5.0 sec\n",
      "  warnings.warn(error_msg)\n"
     ]
    }
   ],
   "source": [
    "emb_train_25 = model.embed(labels_trains['train_size_25'], return_dfs=False, batch_size=32, num_workers=0)"
   ]
  },
  {
   "cell_type": "code",
   "execution_count": 7,
   "metadata": {},
   "outputs": [
    {
     "name": "stdout",
     "output_type": "stream",
     "text": [
      "Processed dataset saved to /Users/yifeitao/Desktop/SoundHub/SoundHub/train_with_perch/human_vocal_5sec/test_5sec/processed_test_dataset_5sec.csv\n",
      "Audio clips saved to /Users/yifeitao/Desktop/SoundHub/SoundHub/train_with_perch/human_vocal_5sec/test_5sec/clips\n",
      "                                                                        A\n",
      "file                                               start_time end_time   \n",
      "/Users/yifeitao/Desktop/SoundHub/SoundHub/train... 0.0        5.0       0\n",
      "/Users/yifeitao/Desktop/SoundHub/SoundHub/train... 0.0        5.0       0\n",
      "/Users/yifeitao/Desktop/SoundHub/SoundHub/train... 0.0        5.0       0\n",
      "/Users/yifeitao/Desktop/SoundHub/SoundHub/train... 0.0        5.0       0\n",
      "/Users/yifeitao/Desktop/SoundHub/SoundHub/train... 0.0        5.0       1\n"
     ]
    },
    {
     "name": "stderr",
     "output_type": "stream",
     "text": [
      "/var/folders/v4/chwhws6x79ncg51bwr5778b00000gn/T/ipykernel_56015/4169929129.py:20: ResourceWarning: unclosed file <_io.BufferedReader name='/Users/yifeitao/Desktop/SoundHub/SoundHub/train_with_perch/human_vocal_5sec/test_5sec/test_dataset_5sec.wav'>\n",
      "  audio = AudioSegment.from_file(audio_file_path)\n",
      "/var/folders/v4/chwhws6x79ncg51bwr5778b00000gn/T/ipykernel_56015/4169929129.py:39: ResourceWarning: unclosed file <_io.BufferedRandom name='/Users/yifeitao/Desktop/SoundHub/SoundHub/train_with_perch/human_vocal_5sec/test_5sec/clips/humvoc_169.wav'>\n",
      "  clip.export(clip_path, format=\"wav\")\n",
      "/var/folders/v4/chwhws6x79ncg51bwr5778b00000gn/T/ipykernel_56015/4169929129.py:39: ResourceWarning: unclosed file <_io.BufferedRandom name='/Users/yifeitao/Desktop/SoundHub/SoundHub/train_with_perch/human_vocal_5sec/test_5sec/clips/humvoc_236.wav'>\n",
      "  clip.export(clip_path, format=\"wav\")\n",
      "/var/folders/v4/chwhws6x79ncg51bwr5778b00000gn/T/ipykernel_56015/4169929129.py:39: ResourceWarning: unclosed file <_io.BufferedRandom name='/Users/yifeitao/Desktop/SoundHub/SoundHub/train_with_perch/human_vocal_5sec/test_5sec/clips/humvoc_93.wav'>\n",
      "  clip.export(clip_path, format=\"wav\")\n",
      "/var/folders/v4/chwhws6x79ncg51bwr5778b00000gn/T/ipykernel_56015/4169929129.py:39: ResourceWarning: unclosed file <_io.BufferedRandom name='/Users/yifeitao/Desktop/SoundHub/SoundHub/train_with_perch/human_vocal_5sec/test_5sec/clips/humvoc_104.wav'>\n",
      "  clip.export(clip_path, format=\"wav\")\n",
      "/var/folders/v4/chwhws6x79ncg51bwr5778b00000gn/T/ipykernel_56015/4169929129.py:39: ResourceWarning: unclosed file <_io.BufferedRandom name='/Users/yifeitao/Desktop/SoundHub/SoundHub/train_with_perch/human_vocal_5sec/test_5sec/clips/humvoc_556.wav'>\n",
      "  clip.export(clip_path, format=\"wav\")\n",
      "/var/folders/v4/chwhws6x79ncg51bwr5778b00000gn/T/ipykernel_56015/4169929129.py:39: ResourceWarning: unclosed file <_io.BufferedRandom name='/Users/yifeitao/Desktop/SoundHub/SoundHub/train_with_perch/human_vocal_5sec/test_5sec/clips/humvoc_551.wav'>\n",
      "  clip.export(clip_path, format=\"wav\")\n",
      "/var/folders/v4/chwhws6x79ncg51bwr5778b00000gn/T/ipykernel_56015/4169929129.py:39: ResourceWarning: unclosed file <_io.BufferedRandom name='/Users/yifeitao/Desktop/SoundHub/SoundHub/train_with_perch/human_vocal_5sec/test_5sec/clips/humvoc_381.wav'>\n",
      "  clip.export(clip_path, format=\"wav\")\n",
      "/var/folders/v4/chwhws6x79ncg51bwr5778b00000gn/T/ipykernel_56015/4169929129.py:39: ResourceWarning: unclosed file <_io.BufferedRandom name='/Users/yifeitao/Desktop/SoundHub/SoundHub/train_with_perch/human_vocal_5sec/test_5sec/clips/humvoc_190.wav'>\n",
      "  clip.export(clip_path, format=\"wav\")\n",
      "/var/folders/v4/chwhws6x79ncg51bwr5778b00000gn/T/ipykernel_56015/4169929129.py:39: ResourceWarning: unclosed file <_io.BufferedRandom name='/Users/yifeitao/Desktop/SoundHub/SoundHub/train_with_perch/human_vocal_5sec/test_5sec/clips/humvoc_532.wav'>\n",
      "  clip.export(clip_path, format=\"wav\")\n",
      "/var/folders/v4/chwhws6x79ncg51bwr5778b00000gn/T/ipykernel_56015/4169929129.py:39: ResourceWarning: unclosed file <_io.BufferedRandom name='/Users/yifeitao/Desktop/SoundHub/SoundHub/train_with_perch/human_vocal_5sec/test_5sec/clips/humvoc_205.wav'>\n",
      "  clip.export(clip_path, format=\"wav\")\n",
      "/var/folders/v4/chwhws6x79ncg51bwr5778b00000gn/T/ipykernel_56015/4169929129.py:39: ResourceWarning: unclosed file <_io.BufferedRandom name='/Users/yifeitao/Desktop/SoundHub/SoundHub/train_with_perch/human_vocal_5sec/test_5sec/clips/humvoc_517.wav'>\n",
      "  clip.export(clip_path, format=\"wav\")\n",
      "/var/folders/v4/chwhws6x79ncg51bwr5778b00000gn/T/ipykernel_56015/4169929129.py:39: ResourceWarning: unclosed file <_io.BufferedRandom name='/Users/yifeitao/Desktop/SoundHub/SoundHub/train_with_perch/human_vocal_5sec/test_5sec/clips/humvoc_470.wav'>\n",
      "  clip.export(clip_path, format=\"wav\")\n",
      "/var/folders/v4/chwhws6x79ncg51bwr5778b00000gn/T/ipykernel_56015/4169929129.py:39: ResourceWarning: unclosed file <_io.BufferedRandom name='/Users/yifeitao/Desktop/SoundHub/SoundHub/train_with_perch/human_vocal_5sec/test_5sec/clips/humvoc_547.wav'>\n",
      "  clip.export(clip_path, format=\"wav\")\n",
      "/var/folders/v4/chwhws6x79ncg51bwr5778b00000gn/T/ipykernel_56015/4169929129.py:39: ResourceWarning: unclosed file <_io.BufferedRandom name='/Users/yifeitao/Desktop/SoundHub/SoundHub/train_with_perch/human_vocal_5sec/test_5sec/clips/humvoc_496.wav'>\n",
      "  clip.export(clip_path, format=\"wav\")\n",
      "/var/folders/v4/chwhws6x79ncg51bwr5778b00000gn/T/ipykernel_56015/4169929129.py:39: ResourceWarning: unclosed file <_io.BufferedRandom name='/Users/yifeitao/Desktop/SoundHub/SoundHub/train_with_perch/human_vocal_5sec/test_5sec/clips/humvoc_525.wav'>\n",
      "  clip.export(clip_path, format=\"wav\")\n",
      "/var/folders/v4/chwhws6x79ncg51bwr5778b00000gn/T/ipykernel_56015/4169929129.py:39: ResourceWarning: unclosed file <_io.BufferedRandom name='/Users/yifeitao/Desktop/SoundHub/SoundHub/train_with_perch/human_vocal_5sec/test_5sec/clips/humvoc_69.wav'>\n",
      "  clip.export(clip_path, format=\"wav\")\n",
      "/var/folders/v4/chwhws6x79ncg51bwr5778b00000gn/T/ipykernel_56015/4169929129.py:39: ResourceWarning: unclosed file <_io.BufferedRandom name='/Users/yifeitao/Desktop/SoundHub/SoundHub/train_with_perch/human_vocal_5sec/test_5sec/clips/humvoc_550.wav'>\n",
      "  clip.export(clip_path, format=\"wav\")\n",
      "/var/folders/v4/chwhws6x79ncg51bwr5778b00000gn/T/ipykernel_56015/4169929129.py:39: ResourceWarning: unclosed file <_io.BufferedRandom name='/Users/yifeitao/Desktop/SoundHub/SoundHub/train_with_perch/human_vocal_5sec/test_5sec/clips/humvoc_217.wav'>\n",
      "  clip.export(clip_path, format=\"wav\")\n",
      "/var/folders/v4/chwhws6x79ncg51bwr5778b00000gn/T/ipykernel_56015/4169929129.py:39: ResourceWarning: unclosed file <_io.BufferedRandom name='/Users/yifeitao/Desktop/SoundHub/SoundHub/train_with_perch/human_vocal_5sec/test_5sec/clips/humvoc_108.wav'>\n",
      "  clip.export(clip_path, format=\"wav\")\n",
      "/var/folders/v4/chwhws6x79ncg51bwr5778b00000gn/T/ipykernel_56015/4169929129.py:39: ResourceWarning: unclosed file <_io.BufferedRandom name='/Users/yifeitao/Desktop/SoundHub/SoundHub/train_with_perch/human_vocal_5sec/test_5sec/clips/humvoc_191.wav'>\n",
      "  clip.export(clip_path, format=\"wav\")\n",
      "/var/folders/v4/chwhws6x79ncg51bwr5778b00000gn/T/ipykernel_56015/4169929129.py:39: ResourceWarning: unclosed file <_io.BufferedRandom name='/Users/yifeitao/Desktop/SoundHub/SoundHub/train_with_perch/human_vocal_5sec/test_5sec/clips/humvoc_312.wav'>\n",
      "  clip.export(clip_path, format=\"wav\")\n",
      "/var/folders/v4/chwhws6x79ncg51bwr5778b00000gn/T/ipykernel_56015/4169929129.py:39: ResourceWarning: unclosed file <_io.BufferedRandom name='/Users/yifeitao/Desktop/SoundHub/SoundHub/train_with_perch/human_vocal_5sec/test_5sec/clips/humvoc_99.wav'>\n",
      "  clip.export(clip_path, format=\"wav\")\n",
      "/var/folders/v4/chwhws6x79ncg51bwr5778b00000gn/T/ipykernel_56015/4169929129.py:39: ResourceWarning: unclosed file <_io.BufferedRandom name='/Users/yifeitao/Desktop/SoundHub/SoundHub/train_with_perch/human_vocal_5sec/test_5sec/clips/humvoc_412.wav'>\n",
      "  clip.export(clip_path, format=\"wav\")\n",
      "/var/folders/v4/chwhws6x79ncg51bwr5778b00000gn/T/ipykernel_56015/4169929129.py:39: ResourceWarning: unclosed file <_io.BufferedRandom name='/Users/yifeitao/Desktop/SoundHub/SoundHub/train_with_perch/human_vocal_5sec/test_5sec/clips/humvoc_399.wav'>\n",
      "  clip.export(clip_path, format=\"wav\")\n",
      "/var/folders/v4/chwhws6x79ncg51bwr5778b00000gn/T/ipykernel_56015/4169929129.py:39: ResourceWarning: unclosed file <_io.BufferedRandom name='/Users/yifeitao/Desktop/SoundHub/SoundHub/train_with_perch/human_vocal_5sec/test_5sec/clips/humvoc_173.wav'>\n",
      "  clip.export(clip_path, format=\"wav\")\n",
      "/var/folders/v4/chwhws6x79ncg51bwr5778b00000gn/T/ipykernel_56015/4169929129.py:39: ResourceWarning: unclosed file <_io.BufferedRandom name='/Users/yifeitao/Desktop/SoundHub/SoundHub/train_with_perch/human_vocal_5sec/test_5sec/clips/humvoc_369.wav'>\n",
      "  clip.export(clip_path, format=\"wav\")\n",
      "/var/folders/v4/chwhws6x79ncg51bwr5778b00000gn/T/ipykernel_56015/4169929129.py:39: ResourceWarning: unclosed file <_io.BufferedRandom name='/Users/yifeitao/Desktop/SoundHub/SoundHub/train_with_perch/human_vocal_5sec/test_5sec/clips/humvoc_516.wav'>\n",
      "  clip.export(clip_path, format=\"wav\")\n",
      "/var/folders/v4/chwhws6x79ncg51bwr5778b00000gn/T/ipykernel_56015/4169929129.py:39: ResourceWarning: unclosed file <_io.BufferedRandom name='/Users/yifeitao/Desktop/SoundHub/SoundHub/train_with_perch/human_vocal_5sec/test_5sec/clips/humvoc_216.wav'>\n",
      "  clip.export(clip_path, format=\"wav\")\n",
      "/var/folders/v4/chwhws6x79ncg51bwr5778b00000gn/T/ipykernel_56015/4169929129.py:39: ResourceWarning: unclosed file <_io.BufferedRandom name='/Users/yifeitao/Desktop/SoundHub/SoundHub/train_with_perch/human_vocal_5sec/test_5sec/clips/humvoc_401.wav'>\n",
      "  clip.export(clip_path, format=\"wav\")\n",
      "/var/folders/v4/chwhws6x79ncg51bwr5778b00000gn/T/ipykernel_56015/4169929129.py:39: ResourceWarning: unclosed file <_io.BufferedRandom name='/Users/yifeitao/Desktop/SoundHub/SoundHub/train_with_perch/human_vocal_5sec/test_5sec/clips/humvoc_509.wav'>\n",
      "  clip.export(clip_path, format=\"wav\")\n"
     ]
    }
   ],
   "source": [
    "csv_path = Path(\"/Users/yifeitao/Desktop/SoundHub/SoundHub/train_with_perch/human_vocal_5sec/test_5sec/test_dataset_5sec.csv\")\n",
    "audio_file_path = Path(\"/Users/yifeitao/Desktop/SoundHub/SoundHub/train_with_perch/human_vocal_5sec/test_5sec/test_dataset_5sec.wav\")\n",
    "output_folder = Path(\"/Users/yifeitao/Desktop/SoundHub/SoundHub/train_with_perch/human_vocal_5sec/test_5sec/clips\")\n",
    "output_csv_dir = Path(\"/Users/yifeitao/Desktop/SoundHub/SoundHub/train_with_perch/human_vocal_5sec/test_5sec/\")\n",
    "output_csv = output_csv_dir / \"processed_test_dataset_5sec.csv\"\n",
    "\n",
    "# Ensure the output directories exist\n",
    "output_folder.mkdir(parents=True, exist_ok=True)\n",
    "output_csv_dir.mkdir(parents=True, exist_ok=True)\n",
    "\n",
    "# Read the CSV file\n",
    "df_csv = pd.read_csv(csv_path)\n",
    "\n",
    "# Determine label based on conditions\n",
    "df_csv[\"A\"] = df_csv.apply(\n",
    "    lambda row: 1 if row[\"label\"] == 1 and row[\"Annotation\"] == \"HUMAN\" else 0, axis=1\n",
    ")\n",
    "\n",
    "# Load the audio file\n",
    "audio = AudioSegment.from_file(audio_file_path)\n",
    "\n",
    "# Initialize lists for DataFrame creation\n",
    "file_paths = []\n",
    "start_times = []\n",
    "end_times = []\n",
    "labels = []\n",
    "\n",
    "# Partition the audio file into 5-second clips based on CSV\n",
    "for index, row in df_csv.iterrows():\n",
    "    start_time = index * 5 * 1000  # in milliseconds\n",
    "    end_time = start_time + 5 * 1000  \n",
    "\n",
    "    # Extract clip\n",
    "    clip = audio[start_time:end_time]\n",
    "\n",
    "    # Save clip to the output folder\n",
    "    filename = row[\"sample_id\"]\n",
    "    clip_path = output_folder / filename\n",
    "    clip.export(clip_path, format=\"wav\")\n",
    "\n",
    "    # Add details to lists\n",
    "    file_paths.append(str(clip_path))\n",
    "    start_times.append(0.0)  \n",
    "    end_times.append(5.0)  \n",
    "    labels.append(row[\"A\"])\n",
    "\n",
    "# Create the DataFrame\n",
    "df_processed = pd.DataFrame({\n",
    "    \"file\": file_paths,\n",
    "    \"start_time\": start_times,\n",
    "    \"end_time\": end_times,\n",
    "    \"A\": labels\n",
    "})\n",
    "df_processed.set_index([\"file\", \"start_time\", \"end_time\"], inplace=True)\n",
    "df_processed.columns = ['A']\n",
    "# Save the DataFrame to a CSV file\n",
    "df_processed.to_csv(output_csv, index=False)\n",
    "\n",
    "print(f\"Processed dataset saved to {output_csv}\")\n",
    "print(f\"Audio clips saved to {output_folder}\")\n",
    "print(df_processed.head())"
   ]
  },
  {
   "cell_type": "code",
   "execution_count": 8,
   "metadata": {},
   "outputs": [],
   "source": [
    "labels_val = df_processed"
   ]
  },
  {
   "cell_type": "code",
   "execution_count": 9,
   "metadata": {},
   "outputs": [
    {
     "data": {
      "application/vnd.jupyter.widget-view+json": {
       "model_id": "cb4f32aabc0f434d8a423c5f3d5a299f",
       "version_major": 2,
       "version_minor": 0
      },
      "text/plain": [
       "  0%|          | 0/1 [00:00<?, ?it/s]"
      ]
     },
     "metadata": {},
     "output_type": "display_data"
    },
    {
     "name": "stderr",
     "output_type": "stream",
     "text": [
      "/opt/anaconda3/envs/opensoundscape_env/lib/python3.9/site-packages/opensoundscape/audio.py:1725: UserWarning: Audio object is shorter than requested duration: 4.995 sec instead of 5.0 sec\n",
      "  warnings.warn(error_msg)\n"
     ]
    }
   ],
   "source": [
    "emb_val = model.embed(labels_val, return_dfs=False, batch_size=32, num_workers=0)"
   ]
  },
  {
   "cell_type": "code",
   "execution_count": 10,
   "metadata": {},
   "outputs": [
    {
     "name": "stdout",
     "output_type": "stream",
     "text": [
      "Original shape of emb_train: torch.Size([50, 512])\n",
      "Reshaped emb_train_25: torch.Size([50, 1, 32, 16])\n",
      "Reshaped emb_val: torch.Size([30, 1, 32, 16])\n"
     ]
    }
   ],
   "source": [
    "emb_train_25 = torch.tensor(emb_train_25, dtype=torch.float32)\n",
    "emb_val = torch.tensor(emb_val, dtype=torch.float32)\n",
    "\n",
    "# Check the shape of the embeddings\n",
    "print(f\"Original shape of emb_train: {emb_train_25.shape}\")\n",
    "\n",
    "# Reshape embeddings to [batch_size, channels, height, width]\n",
    "height, width = 32, 16  # Ensure height * width = 512\n",
    "emb_train_25 = emb_train_25.view(emb_train_25.shape[0], 1, height, width)\n",
    "emb_val = emb_val.view(emb_val.shape[0], 1, height, width)\n",
    "\n",
    "# Verify the reshaped embeddings\n",
    "print(f\"Reshaped emb_train_25: {emb_train_25.shape}\")\n",
    "print(f\"Reshaped emb_val: {emb_val.shape}\")"
   ]
  },
  {
   "cell_type": "code",
   "execution_count": 11,
   "metadata": {},
   "outputs": [],
   "source": [
    "import torch.nn as nn\n",
    "\n",
    "if isinstance(model.network, nn.Sequential):\n",
    "    first_layer = model.network[0]\n",
    "    if isinstance(first_layer, nn.Conv2d):\n",
    "        model.network[0] = nn.Conv2d(\n",
    "            in_channels=1,\n",
    "            out_channels=first_layer.out_channels,\n",
    "            kernel_size=first_layer.kernel_size,\n",
    "            stride=first_layer.stride,\n",
    "            padding=first_layer.padding\n",
    "        )"
   ]
  },
  {
   "cell_type": "code",
   "execution_count": 12,
   "metadata": {},
   "outputs": [],
   "source": [
    "emb_train_25 = emb_train_25.repeat(1, 3, 1, 1)  # Duplicate to 3 channels\n",
    "emb_val = emb_val.repeat(1, 3, 1, 1)"
   ]
  },
  {
   "cell_type": "code",
   "execution_count": 13,
   "metadata": {},
   "outputs": [],
   "source": [
    "import torch.nn as nn\n",
    "\n",
    "model.network.fc = nn.Linear(in_features=model.network.fc.in_features, out_features=1)"
   ]
  },
  {
   "cell_type": "code",
   "execution_count": 14,
   "metadata": {},
   "outputs": [
    {
     "name": "stderr",
     "output_type": "stream",
     "text": [
      "/opt/anaconda3/envs/opensoundscape_env/lib/python3.9/site-packages/opensoundscape/ml/shallow_classifier.py:110: UserWarning: To copy construct from a tensor, it is recommended to use sourceTensor.clone().detach() or sourceTensor.clone().detach().requires_grad_(True), rather than torch.tensor(sourceTensor).\n",
      "  train_features = torch.tensor(train_features, dtype=torch.float32, device=device)\n",
      "/opt/anaconda3/envs/opensoundscape_env/lib/python3.9/site-packages/opensoundscape/ml/shallow_classifier.py:115: UserWarning: To copy construct from a tensor, it is recommended to use sourceTensor.clone().detach() or sourceTensor.clone().detach().requires_grad_(True), rather than torch.tensor(sourceTensor).\n",
      "  validation_features = torch.tensor(\n"
     ]
    },
    {
     "name": "stdout",
     "output_type": "stream",
     "text": [
      "Epoch 100/1000, Loss: 1.9157268980052322e-05, Val Loss: 1.5514657497406006\n",
      "val AU ROC: 0.858\n",
      "val MAP: 0.858\n",
      "Epoch 200/1000, Loss: 1.3737883818976115e-05, Val Loss: 1.6178593635559082\n",
      "val AU ROC: 0.858\n",
      "val MAP: 0.858\n",
      "Epoch 300/1000, Loss: 1.1260597602813505e-05, Val Loss: 1.6641461849212646\n",
      "val AU ROC: 0.856\n",
      "val MAP: 0.856\n",
      "Epoch 400/1000, Loss: 9.614037480787374e-06, Val Loss: 1.6917284727096558\n",
      "val AU ROC: 0.856\n",
      "val MAP: 0.856\n",
      "Epoch 500/1000, Loss: 8.468149644613732e-06, Val Loss: 1.722364902496338\n",
      "val AU ROC: 0.858\n",
      "val MAP: 0.858\n",
      "Epoch 600/1000, Loss: 7.4351764851599e-06, Val Loss: 1.7431190013885498\n",
      "val AU ROC: 0.861\n",
      "val MAP: 0.861\n",
      "Epoch 700/1000, Loss: 6.657790891040349e-06, Val Loss: 1.7570053339004517\n",
      "val AU ROC: 0.861\n",
      "val MAP: 0.861\n",
      "Epoch 800/1000, Loss: 5.966386652289657e-06, Val Loss: 1.7752106189727783\n",
      "val AU ROC: 0.861\n",
      "val MAP: 0.861\n",
      "Epoch 900/1000, Loss: 5.413587587099755e-06, Val Loss: 1.7890535593032837\n",
      "val AU ROC: 0.861\n",
      "val MAP: 0.861\n",
      "Epoch 1000/1000, Loss: 4.883421752310824e-06, Val Loss: 1.8095543384552002\n",
      "val AU ROC: 0.861\n",
      "val MAP: 0.861\n",
      "Training complete\n"
     ]
    }
   ],
   "source": [
    "quick_fit(model.network, emb_train_25, labels_trains['train_size_25'].values, emb_val, labels_val.values, steps=1000)"
   ]
  },
  {
   "cell_type": "code",
   "execution_count": 15,
   "metadata": {},
   "outputs": [
    {
     "name": "stderr",
     "output_type": "stream",
     "text": [
      "/var/folders/v4/chwhws6x79ncg51bwr5778b00000gn/T/ipykernel_56015/1842857064.py:2: UserWarning: To copy construct from a tensor, it is recommended to use sourceTensor.clone().detach() or sourceTensor.clone().detach().requires_grad_(True), rather than torch.tensor(sourceTensor).\n",
      "  preds = model.network(torch.tensor(emb_val).float()).detach().numpy()\n",
      "/opt/anaconda3/envs/opensoundscape_env/lib/python3.9/site-packages/matplotlib_inline/config.py:68: DeprecationWarning: InlineBackend._figure_format_changed is deprecated in traitlets 4.1: use @observe and @unobserve instead.\n",
      "  def _figure_format_changed(self, name, old, new):\n"
     ]
    },
    {
     "data": {
      "text/plain": [
       "0.8622222222222222"
      ]
     },
     "execution_count": 15,
     "metadata": {},
     "output_type": "execute_result"
    },
    {
     "data": {
      "image/png": "[encoded data removed]",
      "text/plain": [
       "<Figure size 1500x500 with 1 Axes>"
      ]
     },
     "metadata": {
      "image/png": {
       "height": 428,
       "width": 1201
      }
     },
     "output_type": "display_data"
    }
   ],
   "source": [
    "# make predictions by passing the embeddings through the classifier\n",
    "preds = model.network(torch.tensor(emb_val).float()).detach().numpy()\n",
    "\n",
    "# plot histogram of scores for positive and negative clips\n",
    "plt.hist(preds[labels_val==True],bins=20,alpha=0.5,label='positives')\n",
    "plt.hist(preds[labels_val==False],bins=20,alpha=0.5,label='negatives')\n",
    "plt.legend()\n",
    "\n",
    "# calculate the area under the ROC score\n",
    "roc_auc_score_25 = roc_auc_score(labels_val.values,preds,average=None)\n",
    "roc_auc_score_25"
   ]
  },
  {
   "cell_type": "markdown",
   "metadata": {},
   "source": [
    "Training size 50"
   ]
  },
  {
   "cell_type": "code",
   "execution_count": 16,
   "metadata": {},
   "outputs": [
    {
     "name": "stderr",
     "output_type": "stream",
     "text": [
      "Using cache found in /Users/yifeitao/.cache/torch/hub/kitzeslab_bioacoustics-model-zoo_main\n"
     ]
    }
   ],
   "source": [
    "model = torch.hub.load('kitzeslab/bioacoustics-model-zoo','rana_sierrae_cnn',trust_repo=True)"
   ]
  },
  {
   "cell_type": "code",
   "execution_count": 17,
   "metadata": {},
   "outputs": [
    {
     "data": {
      "application/vnd.jupyter.widget-view+json": {
       "model_id": "8357aad54440420f93e57554855018fd",
       "version_major": 2,
       "version_minor": 0
      },
      "text/plain": [
       "  0%|          | 0/1 [00:00<?, ?it/s]"
      ]
     },
     "metadata": {},
     "output_type": "display_data"
    },
    {
     "name": "stderr",
     "output_type": "stream",
     "text": [
      "/opt/anaconda3/envs/opensoundscape_env/lib/python3.9/site-packages/opensoundscape/audio.py:1725: UserWarning: Audio object is shorter than requested duration: 4.995 sec instead of 5.0 sec\n",
      "  warnings.warn(error_msg)\n"
     ]
    }
   ],
   "source": [
    "emb_val = model.embed(labels_val, return_dfs=False, batch_size=32, num_workers=0)"
   ]
  },
  {
   "cell_type": "code",
   "execution_count": 18,
   "metadata": {},
   "outputs": [
    {
     "data": {
      "application/vnd.jupyter.widget-view+json": {
       "model_id": "d86a03597e0e497187046c8bfe95895d",
       "version_major": 2,
       "version_minor": 0
      },
      "text/plain": [
       "  0%|          | 0/4 [00:00<?, ?it/s]"
      ]
     },
     "metadata": {},
     "output_type": "display_data"
    },
    {
     "name": "stderr",
     "output_type": "stream",
     "text": [
      "/opt/anaconda3/envs/opensoundscape_env/lib/python3.9/site-packages/opensoundscape/audio.py:1725: UserWarning: Audio object is shorter than requested duration: 4.999833333333333 sec instead of 5.0 sec\n",
      "  warnings.warn(error_msg)\n",
      "/opt/anaconda3/envs/opensoundscape_env/lib/python3.9/site-packages/opensoundscape/audio.py:1725: UserWarning: Audio object is shorter than requested duration: 4.999833333333333 sec instead of 5.0 sec\n",
      "  warnings.warn(error_msg)\n",
      "/opt/anaconda3/envs/opensoundscape_env/lib/python3.9/site-packages/opensoundscape/audio.py:1725: UserWarning: Audio object is shorter than requested duration: 4.999833333333333 sec instead of 5.0 sec\n",
      "  warnings.warn(error_msg)\n",
      "/opt/anaconda3/envs/opensoundscape_env/lib/python3.9/site-packages/opensoundscape/audio.py:1725: UserWarning: Audio object is shorter than requested duration: 4.999833333333333 sec instead of 5.0 sec\n",
      "  warnings.warn(error_msg)\n",
      "/opt/anaconda3/envs/opensoundscape_env/lib/python3.9/site-packages/opensoundscape/audio.py:1725: UserWarning: Audio object is shorter than requested duration: 4.999833333333333 sec instead of 5.0 sec\n",
      "  warnings.warn(error_msg)\n",
      "/opt/anaconda3/envs/opensoundscape_env/lib/python3.9/site-packages/opensoundscape/audio.py:1725: UserWarning: Audio object is shorter than requested duration: 4.999833333333333 sec instead of 5.0 sec\n",
      "  warnings.warn(error_msg)\n",
      "/opt/anaconda3/envs/opensoundscape_env/lib/python3.9/site-packages/opensoundscape/audio.py:1725: UserWarning: Audio object is shorter than requested duration: 4.999833333333333 sec instead of 5.0 sec\n",
      "  warnings.warn(error_msg)\n",
      "/opt/anaconda3/envs/opensoundscape_env/lib/python3.9/site-packages/opensoundscape/audio.py:1725: UserWarning: Audio object is shorter than requested duration: 4.999833333333333 sec instead of 5.0 sec\n",
      "  warnings.warn(error_msg)\n",
      "/opt/anaconda3/envs/opensoundscape_env/lib/python3.9/site-packages/opensoundscape/audio.py:1725: UserWarning: Audio object is shorter than requested duration: 4.999833333333333 sec instead of 5.0 sec\n",
      "  warnings.warn(error_msg)\n",
      "/opt/anaconda3/envs/opensoundscape_env/lib/python3.9/site-packages/opensoundscape/audio.py:1725: UserWarning: Audio object is shorter than requested duration: 4.999833333333333 sec instead of 5.0 sec\n",
      "  warnings.warn(error_msg)\n",
      "/opt/anaconda3/envs/opensoundscape_env/lib/python3.9/site-packages/opensoundscape/audio.py:1725: UserWarning: Audio object is shorter than requested duration: 4.999833333333333 sec instead of 5.0 sec\n",
      "  warnings.warn(error_msg)\n",
      "/opt/anaconda3/envs/opensoundscape_env/lib/python3.9/site-packages/opensoundscape/audio.py:1725: UserWarning: Audio object is shorter than requested duration: 4.999833333333333 sec instead of 5.0 sec\n",
      "  warnings.warn(error_msg)\n",
      "/opt/anaconda3/envs/opensoundscape_env/lib/python3.9/site-packages/opensoundscape/audio.py:1725: UserWarning: Audio object is shorter than requested duration: 4.999833333333333 sec instead of 5.0 sec\n",
      "  warnings.warn(error_msg)\n",
      "/opt/anaconda3/envs/opensoundscape_env/lib/python3.9/site-packages/opensoundscape/audio.py:1725: UserWarning: Audio object is shorter than requested duration: 4.999833333333333 sec instead of 5.0 sec\n",
      "  warnings.warn(error_msg)\n",
      "/opt/anaconda3/envs/opensoundscape_env/lib/python3.9/site-packages/opensoundscape/audio.py:1725: UserWarning: Audio object is shorter than requested duration: 4.999833333333333 sec instead of 5.0 sec\n",
      "  warnings.warn(error_msg)\n",
      "/opt/anaconda3/envs/opensoundscape_env/lib/python3.9/site-packages/opensoundscape/audio.py:1725: UserWarning: Audio object is shorter than requested duration: 4.999833333333333 sec instead of 5.0 sec\n",
      "  warnings.warn(error_msg)\n",
      "/opt/anaconda3/envs/opensoundscape_env/lib/python3.9/site-packages/opensoundscape/audio.py:1725: UserWarning: Audio object is shorter than requested duration: 4.999833333333333 sec instead of 5.0 sec\n",
      "  warnings.warn(error_msg)\n",
      "/opt/anaconda3/envs/opensoundscape_env/lib/python3.9/site-packages/opensoundscape/audio.py:1725: UserWarning: Audio object is shorter than requested duration: 4.999833333333333 sec instead of 5.0 sec\n",
      "  warnings.warn(error_msg)\n",
      "/opt/anaconda3/envs/opensoundscape_env/lib/python3.9/site-packages/opensoundscape/audio.py:1725: UserWarning: Audio object is shorter than requested duration: 4.999833333333333 sec instead of 5.0 sec\n",
      "  warnings.warn(error_msg)\n",
      "/opt/anaconda3/envs/opensoundscape_env/lib/python3.9/site-packages/opensoundscape/audio.py:1725: UserWarning: Audio object is shorter than requested duration: 4.999833333333333 sec instead of 5.0 sec\n",
      "  warnings.warn(error_msg)\n",
      "/opt/anaconda3/envs/opensoundscape_env/lib/python3.9/site-packages/opensoundscape/audio.py:1725: UserWarning: Audio object is shorter than requested duration: 4.999833333333333 sec instead of 5.0 sec\n",
      "  warnings.warn(error_msg)\n",
      "/opt/anaconda3/envs/opensoundscape_env/lib/python3.9/site-packages/opensoundscape/audio.py:1725: UserWarning: Audio object is shorter than requested duration: 4.999833333333333 sec instead of 5.0 sec\n",
      "  warnings.warn(error_msg)\n",
      "/opt/anaconda3/envs/opensoundscape_env/lib/python3.9/site-packages/opensoundscape/audio.py:1725: UserWarning: Audio object is shorter than requested duration: 4.999833333333333 sec instead of 5.0 sec\n",
      "  warnings.warn(error_msg)\n",
      "/opt/anaconda3/envs/opensoundscape_env/lib/python3.9/site-packages/opensoundscape/audio.py:1725: UserWarning: Audio object is shorter than requested duration: 4.999833333333333 sec instead of 5.0 sec\n",
      "  warnings.warn(error_msg)\n",
      "/opt/anaconda3/envs/opensoundscape_env/lib/python3.9/site-packages/opensoundscape/audio.py:1725: UserWarning: Audio object is shorter than requested duration: 4.999833333333333 sec instead of 5.0 sec\n",
      "  warnings.warn(error_msg)\n",
      "/opt/anaconda3/envs/opensoundscape_env/lib/python3.9/site-packages/opensoundscape/audio.py:1725: UserWarning: Audio object is shorter than requested duration: 4.999833333333333 sec instead of 5.0 sec\n",
      "  warnings.warn(error_msg)\n",
      "/opt/anaconda3/envs/opensoundscape_env/lib/python3.9/site-packages/opensoundscape/audio.py:1725: UserWarning: Audio object is shorter than requested duration: 4.999833333333333 sec instead of 5.0 sec\n",
      "  warnings.warn(error_msg)\n",
      "/opt/anaconda3/envs/opensoundscape_env/lib/python3.9/site-packages/opensoundscape/audio.py:1725: UserWarning: Audio object is shorter than requested duration: 4.999833333333333 sec instead of 5.0 sec\n",
      "  warnings.warn(error_msg)\n",
      "/opt/anaconda3/envs/opensoundscape_env/lib/python3.9/site-packages/opensoundscape/audio.py:1725: UserWarning: Audio object is shorter than requested duration: 4.999833333333333 sec instead of 5.0 sec\n",
      "  warnings.warn(error_msg)\n",
      "/opt/anaconda3/envs/opensoundscape_env/lib/python3.9/site-packages/opensoundscape/audio.py:1725: UserWarning: Audio object is shorter than requested duration: 4.999833333333333 sec instead of 5.0 sec\n",
      "  warnings.warn(error_msg)\n",
      "/opt/anaconda3/envs/opensoundscape_env/lib/python3.9/site-packages/opensoundscape/audio.py:1725: UserWarning: Audio object is shorter than requested duration: 4.999833333333333 sec instead of 5.0 sec\n",
      "  warnings.warn(error_msg)\n",
      "/opt/anaconda3/envs/opensoundscape_env/lib/python3.9/site-packages/opensoundscape/audio.py:1725: UserWarning: Audio object is shorter than requested duration: 4.999833333333333 sec instead of 5.0 sec\n",
      "  warnings.warn(error_msg)\n",
      "/opt/anaconda3/envs/opensoundscape_env/lib/python3.9/site-packages/opensoundscape/audio.py:1725: UserWarning: Audio object is shorter than requested duration: 4.999833333333333 sec instead of 5.0 sec\n",
      "  warnings.warn(error_msg)\n",
      "/opt/anaconda3/envs/opensoundscape_env/lib/python3.9/site-packages/opensoundscape/audio.py:1725: UserWarning: Audio object is shorter than requested duration: 4.999833333333333 sec instead of 5.0 sec\n",
      "  warnings.warn(error_msg)\n",
      "/opt/anaconda3/envs/opensoundscape_env/lib/python3.9/site-packages/opensoundscape/audio.py:1725: UserWarning: Audio object is shorter than requested duration: 4.999833333333333 sec instead of 5.0 sec\n",
      "  warnings.warn(error_msg)\n",
      "/opt/anaconda3/envs/opensoundscape_env/lib/python3.9/site-packages/opensoundscape/audio.py:1725: UserWarning: Audio object is shorter than requested duration: 4.999833333333333 sec instead of 5.0 sec\n",
      "  warnings.warn(error_msg)\n",
      "/opt/anaconda3/envs/opensoundscape_env/lib/python3.9/site-packages/opensoundscape/audio.py:1725: UserWarning: Audio object is shorter than requested duration: 4.999833333333333 sec instead of 5.0 sec\n",
      "  warnings.warn(error_msg)\n",
      "/opt/anaconda3/envs/opensoundscape_env/lib/python3.9/site-packages/opensoundscape/audio.py:1725: UserWarning: Audio object is shorter than requested duration: 4.999833333333333 sec instead of 5.0 sec\n",
      "  warnings.warn(error_msg)\n",
      "/opt/anaconda3/envs/opensoundscape_env/lib/python3.9/site-packages/opensoundscape/audio.py:1725: UserWarning: Audio object is shorter than requested duration: 4.999833333333333 sec instead of 5.0 sec\n",
      "  warnings.warn(error_msg)\n",
      "/opt/anaconda3/envs/opensoundscape_env/lib/python3.9/site-packages/opensoundscape/audio.py:1725: UserWarning: Audio object is shorter than requested duration: 4.999833333333333 sec instead of 5.0 sec\n",
      "  warnings.warn(error_msg)\n",
      "/opt/anaconda3/envs/opensoundscape_env/lib/python3.9/site-packages/opensoundscape/audio.py:1725: UserWarning: Audio object is shorter than requested duration: 4.999833333333333 sec instead of 5.0 sec\n",
      "  warnings.warn(error_msg)\n",
      "/opt/anaconda3/envs/opensoundscape_env/lib/python3.9/site-packages/opensoundscape/audio.py:1725: UserWarning: Audio object is shorter than requested duration: 4.999833333333333 sec instead of 5.0 sec\n",
      "  warnings.warn(error_msg)\n",
      "/opt/anaconda3/envs/opensoundscape_env/lib/python3.9/site-packages/opensoundscape/audio.py:1725: UserWarning: Audio object is shorter than requested duration: 4.999833333333333 sec instead of 5.0 sec\n",
      "  warnings.warn(error_msg)\n",
      "/opt/anaconda3/envs/opensoundscape_env/lib/python3.9/site-packages/opensoundscape/audio.py:1725: UserWarning: Audio object is shorter than requested duration: 4.999833333333333 sec instead of 5.0 sec\n",
      "  warnings.warn(error_msg)\n",
      "/opt/anaconda3/envs/opensoundscape_env/lib/python3.9/site-packages/opensoundscape/audio.py:1725: UserWarning: Audio object is shorter than requested duration: 4.999833333333333 sec instead of 5.0 sec\n",
      "  warnings.warn(error_msg)\n",
      "/opt/anaconda3/envs/opensoundscape_env/lib/python3.9/site-packages/opensoundscape/audio.py:1725: UserWarning: Audio object is shorter than requested duration: 4.999833333333333 sec instead of 5.0 sec\n",
      "  warnings.warn(error_msg)\n",
      "/opt/anaconda3/envs/opensoundscape_env/lib/python3.9/site-packages/opensoundscape/audio.py:1725: UserWarning: Audio object is shorter than requested duration: 4.999833333333333 sec instead of 5.0 sec\n",
      "  warnings.warn(error_msg)\n",
      "/opt/anaconda3/envs/opensoundscape_env/lib/python3.9/site-packages/opensoundscape/audio.py:1725: UserWarning: Audio object is shorter than requested duration: 4.999833333333333 sec instead of 5.0 sec\n",
      "  warnings.warn(error_msg)\n",
      "/opt/anaconda3/envs/opensoundscape_env/lib/python3.9/site-packages/opensoundscape/audio.py:1725: UserWarning: Audio object is shorter than requested duration: 4.999833333333333 sec instead of 5.0 sec\n",
      "  warnings.warn(error_msg)\n",
      "/opt/anaconda3/envs/opensoundscape_env/lib/python3.9/site-packages/opensoundscape/audio.py:1725: UserWarning: Audio object is shorter than requested duration: 4.999833333333333 sec instead of 5.0 sec\n",
      "  warnings.warn(error_msg)\n",
      "/opt/anaconda3/envs/opensoundscape_env/lib/python3.9/site-packages/opensoundscape/audio.py:1725: UserWarning: Audio object is shorter than requested duration: 4.999833333333333 sec instead of 5.0 sec\n",
      "  warnings.warn(error_msg)\n",
      "/opt/anaconda3/envs/opensoundscape_env/lib/python3.9/site-packages/opensoundscape/audio.py:1725: UserWarning: Audio object is shorter than requested duration: 4.999833333333333 sec instead of 5.0 sec\n",
      "  warnings.warn(error_msg)\n",
      "/opt/anaconda3/envs/opensoundscape_env/lib/python3.9/site-packages/opensoundscape/audio.py:1725: UserWarning: Audio object is shorter than requested duration: 4.999833333333333 sec instead of 5.0 sec\n",
      "  warnings.warn(error_msg)\n",
      "/opt/anaconda3/envs/opensoundscape_env/lib/python3.9/site-packages/opensoundscape/audio.py:1725: UserWarning: Audio object is shorter than requested duration: 4.999833333333333 sec instead of 5.0 sec\n",
      "  warnings.warn(error_msg)\n",
      "/opt/anaconda3/envs/opensoundscape_env/lib/python3.9/site-packages/opensoundscape/audio.py:1725: UserWarning: Audio object is shorter than requested duration: 4.999833333333333 sec instead of 5.0 sec\n",
      "  warnings.warn(error_msg)\n",
      "/opt/anaconda3/envs/opensoundscape_env/lib/python3.9/site-packages/opensoundscape/audio.py:1725: UserWarning: Audio object is shorter than requested duration: 4.999833333333333 sec instead of 5.0 sec\n",
      "  warnings.warn(error_msg)\n",
      "/opt/anaconda3/envs/opensoundscape_env/lib/python3.9/site-packages/opensoundscape/audio.py:1725: UserWarning: Audio object is shorter than requested duration: 4.999833333333333 sec instead of 5.0 sec\n",
      "  warnings.warn(error_msg)\n",
      "/opt/anaconda3/envs/opensoundscape_env/lib/python3.9/site-packages/opensoundscape/audio.py:1725: UserWarning: Audio object is shorter than requested duration: 4.999833333333333 sec instead of 5.0 sec\n",
      "  warnings.warn(error_msg)\n",
      "/opt/anaconda3/envs/opensoundscape_env/lib/python3.9/site-packages/opensoundscape/audio.py:1725: UserWarning: Audio object is shorter than requested duration: 4.999833333333333 sec instead of 5.0 sec\n",
      "  warnings.warn(error_msg)\n",
      "/opt/anaconda3/envs/opensoundscape_env/lib/python3.9/site-packages/opensoundscape/audio.py:1725: UserWarning: Audio object is shorter than requested duration: 4.999833333333333 sec instead of 5.0 sec\n",
      "  warnings.warn(error_msg)\n",
      "/opt/anaconda3/envs/opensoundscape_env/lib/python3.9/site-packages/opensoundscape/audio.py:1725: UserWarning: Audio object is shorter than requested duration: 4.999833333333333 sec instead of 5.0 sec\n",
      "  warnings.warn(error_msg)\n",
      "/opt/anaconda3/envs/opensoundscape_env/lib/python3.9/site-packages/opensoundscape/audio.py:1725: UserWarning: Audio object is shorter than requested duration: 4.999833333333333 sec instead of 5.0 sec\n",
      "  warnings.warn(error_msg)\n",
      "/opt/anaconda3/envs/opensoundscape_env/lib/python3.9/site-packages/opensoundscape/audio.py:1725: UserWarning: Audio object is shorter than requested duration: 4.999833333333333 sec instead of 5.0 sec\n",
      "  warnings.warn(error_msg)\n",
      "/opt/anaconda3/envs/opensoundscape_env/lib/python3.9/site-packages/opensoundscape/audio.py:1725: UserWarning: Audio object is shorter than requested duration: 4.999833333333333 sec instead of 5.0 sec\n",
      "  warnings.warn(error_msg)\n",
      "/opt/anaconda3/envs/opensoundscape_env/lib/python3.9/site-packages/opensoundscape/audio.py:1725: UserWarning: Audio object is shorter than requested duration: 4.999833333333333 sec instead of 5.0 sec\n",
      "  warnings.warn(error_msg)\n",
      "/opt/anaconda3/envs/opensoundscape_env/lib/python3.9/site-packages/opensoundscape/audio.py:1725: UserWarning: Audio object is shorter than requested duration: 4.999833333333333 sec instead of 5.0 sec\n",
      "  warnings.warn(error_msg)\n",
      "/opt/anaconda3/envs/opensoundscape_env/lib/python3.9/site-packages/opensoundscape/audio.py:1725: UserWarning: Audio object is shorter than requested duration: 4.999833333333333 sec instead of 5.0 sec\n",
      "  warnings.warn(error_msg)\n",
      "/opt/anaconda3/envs/opensoundscape_env/lib/python3.9/site-packages/opensoundscape/audio.py:1725: UserWarning: Audio object is shorter than requested duration: 4.999833333333333 sec instead of 5.0 sec\n",
      "  warnings.warn(error_msg)\n",
      "/opt/anaconda3/envs/opensoundscape_env/lib/python3.9/site-packages/opensoundscape/audio.py:1725: UserWarning: Audio object is shorter than requested duration: 4.999833333333333 sec instead of 5.0 sec\n",
      "  warnings.warn(error_msg)\n",
      "/opt/anaconda3/envs/opensoundscape_env/lib/python3.9/site-packages/opensoundscape/audio.py:1725: UserWarning: Audio object is shorter than requested duration: 4.999833333333333 sec instead of 5.0 sec\n",
      "  warnings.warn(error_msg)\n",
      "/opt/anaconda3/envs/opensoundscape_env/lib/python3.9/site-packages/opensoundscape/audio.py:1725: UserWarning: Audio object is shorter than requested duration: 4.999833333333333 sec instead of 5.0 sec\n",
      "  warnings.warn(error_msg)\n",
      "/opt/anaconda3/envs/opensoundscape_env/lib/python3.9/site-packages/opensoundscape/audio.py:1725: UserWarning: Audio object is shorter than requested duration: 4.999833333333333 sec instead of 5.0 sec\n",
      "  warnings.warn(error_msg)\n",
      "/opt/anaconda3/envs/opensoundscape_env/lib/python3.9/site-packages/opensoundscape/audio.py:1725: UserWarning: Audio object is shorter than requested duration: 4.999833333333333 sec instead of 5.0 sec\n",
      "  warnings.warn(error_msg)\n",
      "/opt/anaconda3/envs/opensoundscape_env/lib/python3.9/site-packages/opensoundscape/audio.py:1725: UserWarning: Audio object is shorter than requested duration: 4.999833333333333 sec instead of 5.0 sec\n",
      "  warnings.warn(error_msg)\n",
      "/opt/anaconda3/envs/opensoundscape_env/lib/python3.9/site-packages/opensoundscape/audio.py:1725: UserWarning: Audio object is shorter than requested duration: 4.999833333333333 sec instead of 5.0 sec\n",
      "  warnings.warn(error_msg)\n",
      "/opt/anaconda3/envs/opensoundscape_env/lib/python3.9/site-packages/opensoundscape/audio.py:1725: UserWarning: Audio object is shorter than requested duration: 4.999833333333333 sec instead of 5.0 sec\n",
      "  warnings.warn(error_msg)\n",
      "/opt/anaconda3/envs/opensoundscape_env/lib/python3.9/site-packages/opensoundscape/audio.py:1725: UserWarning: Audio object is shorter than requested duration: 4.999833333333333 sec instead of 5.0 sec\n",
      "  warnings.warn(error_msg)\n",
      "/opt/anaconda3/envs/opensoundscape_env/lib/python3.9/site-packages/opensoundscape/audio.py:1725: UserWarning: Audio object is shorter than requested duration: 4.999833333333333 sec instead of 5.0 sec\n",
      "  warnings.warn(error_msg)\n",
      "/opt/anaconda3/envs/opensoundscape_env/lib/python3.9/site-packages/opensoundscape/audio.py:1725: UserWarning: Audio object is shorter than requested duration: 4.999833333333333 sec instead of 5.0 sec\n",
      "  warnings.warn(error_msg)\n",
      "/opt/anaconda3/envs/opensoundscape_env/lib/python3.9/site-packages/opensoundscape/audio.py:1725: UserWarning: Audio object is shorter than requested duration: 4.999833333333333 sec instead of 5.0 sec\n",
      "  warnings.warn(error_msg)\n",
      "/opt/anaconda3/envs/opensoundscape_env/lib/python3.9/site-packages/opensoundscape/audio.py:1725: UserWarning: Audio object is shorter than requested duration: 4.999833333333333 sec instead of 5.0 sec\n",
      "  warnings.warn(error_msg)\n",
      "/opt/anaconda3/envs/opensoundscape_env/lib/python3.9/site-packages/opensoundscape/audio.py:1725: UserWarning: Audio object is shorter than requested duration: 4.999833333333333 sec instead of 5.0 sec\n",
      "  warnings.warn(error_msg)\n",
      "/opt/anaconda3/envs/opensoundscape_env/lib/python3.9/site-packages/opensoundscape/audio.py:1725: UserWarning: Audio object is shorter than requested duration: 4.999833333333333 sec instead of 5.0 sec\n",
      "  warnings.warn(error_msg)\n",
      "/opt/anaconda3/envs/opensoundscape_env/lib/python3.9/site-packages/opensoundscape/audio.py:1725: UserWarning: Audio object is shorter than requested duration: 4.999833333333333 sec instead of 5.0 sec\n",
      "  warnings.warn(error_msg)\n",
      "/opt/anaconda3/envs/opensoundscape_env/lib/python3.9/site-packages/opensoundscape/audio.py:1725: UserWarning: Audio object is shorter than requested duration: 4.999833333333333 sec instead of 5.0 sec\n",
      "  warnings.warn(error_msg)\n",
      "/opt/anaconda3/envs/opensoundscape_env/lib/python3.9/site-packages/opensoundscape/audio.py:1725: UserWarning: Audio object is shorter than requested duration: 4.999833333333333 sec instead of 5.0 sec\n",
      "  warnings.warn(error_msg)\n",
      "/opt/anaconda3/envs/opensoundscape_env/lib/python3.9/site-packages/opensoundscape/audio.py:1725: UserWarning: Audio object is shorter than requested duration: 4.999833333333333 sec instead of 5.0 sec\n",
      "  warnings.warn(error_msg)\n",
      "/opt/anaconda3/envs/opensoundscape_env/lib/python3.9/site-packages/opensoundscape/audio.py:1725: UserWarning: Audio object is shorter than requested duration: 4.999833333333333 sec instead of 5.0 sec\n",
      "  warnings.warn(error_msg)\n",
      "/opt/anaconda3/envs/opensoundscape_env/lib/python3.9/site-packages/opensoundscape/audio.py:1725: UserWarning: Audio object is shorter than requested duration: 4.999833333333333 sec instead of 5.0 sec\n",
      "  warnings.warn(error_msg)\n",
      "/opt/anaconda3/envs/opensoundscape_env/lib/python3.9/site-packages/opensoundscape/audio.py:1725: UserWarning: Audio object is shorter than requested duration: 4.999833333333333 sec instead of 5.0 sec\n",
      "  warnings.warn(error_msg)\n",
      "/opt/anaconda3/envs/opensoundscape_env/lib/python3.9/site-packages/opensoundscape/audio.py:1725: UserWarning: Audio object is shorter than requested duration: 4.999833333333333 sec instead of 5.0 sec\n",
      "  warnings.warn(error_msg)\n",
      "/opt/anaconda3/envs/opensoundscape_env/lib/python3.9/site-packages/opensoundscape/audio.py:1725: UserWarning: Audio object is shorter than requested duration: 4.999833333333333 sec instead of 5.0 sec\n",
      "  warnings.warn(error_msg)\n",
      "/opt/anaconda3/envs/opensoundscape_env/lib/python3.9/site-packages/opensoundscape/audio.py:1725: UserWarning: Audio object is shorter than requested duration: 4.999833333333333 sec instead of 5.0 sec\n",
      "  warnings.warn(error_msg)\n",
      "/opt/anaconda3/envs/opensoundscape_env/lib/python3.9/site-packages/opensoundscape/audio.py:1725: UserWarning: Audio object is shorter than requested duration: 4.999833333333333 sec instead of 5.0 sec\n",
      "  warnings.warn(error_msg)\n",
      "/opt/anaconda3/envs/opensoundscape_env/lib/python3.9/site-packages/opensoundscape/audio.py:1725: UserWarning: Audio object is shorter than requested duration: 4.999833333333333 sec instead of 5.0 sec\n",
      "  warnings.warn(error_msg)\n",
      "/opt/anaconda3/envs/opensoundscape_env/lib/python3.9/site-packages/opensoundscape/audio.py:1725: UserWarning: Audio object is shorter than requested duration: 4.999833333333333 sec instead of 5.0 sec\n",
      "  warnings.warn(error_msg)\n",
      "/opt/anaconda3/envs/opensoundscape_env/lib/python3.9/site-packages/opensoundscape/audio.py:1725: UserWarning: Audio object is shorter than requested duration: 4.999833333333333 sec instead of 5.0 sec\n",
      "  warnings.warn(error_msg)\n",
      "/opt/anaconda3/envs/opensoundscape_env/lib/python3.9/site-packages/opensoundscape/audio.py:1725: UserWarning: Audio object is shorter than requested duration: 4.999833333333333 sec instead of 5.0 sec\n",
      "  warnings.warn(error_msg)\n",
      "/opt/anaconda3/envs/opensoundscape_env/lib/python3.9/site-packages/opensoundscape/audio.py:1725: UserWarning: Audio object is shorter than requested duration: 4.999833333333333 sec instead of 5.0 sec\n",
      "  warnings.warn(error_msg)\n",
      "/opt/anaconda3/envs/opensoundscape_env/lib/python3.9/site-packages/opensoundscape/audio.py:1725: UserWarning: Audio object is shorter than requested duration: 4.999833333333333 sec instead of 5.0 sec\n",
      "  warnings.warn(error_msg)\n"
     ]
    }
   ],
   "source": [
    "emb_train_50 = model.embed(labels_trains['train_size_50'], return_dfs=False, batch_size=32, num_workers=0)"
   ]
  },
  {
   "cell_type": "code",
   "execution_count": 19,
   "metadata": {},
   "outputs": [
    {
     "name": "stdout",
     "output_type": "stream",
     "text": [
      "Original shape of emb_train: torch.Size([100, 512])\n",
      "Reshaped emb_train_50: torch.Size([100, 1, 32, 16])\n"
     ]
    }
   ],
   "source": [
    "emb_train_50 = torch.tensor(emb_train_50, dtype=torch.float32)\n",
    "emb_val = torch.tensor(emb_val, dtype=torch.float32)\n",
    "\n",
    "# Check the shape of the embeddings\n",
    "print(f\"Original shape of emb_train: {emb_train_50.shape}\")\n",
    "\n",
    "# Reshape embeddings to [batch_size, channels, height, width]\n",
    "height, width = 32, 16  # Ensure height * width = 512\n",
    "emb_train_50 = emb_train_50.view(emb_train_50.shape[0], 1, height, width)\n",
    "emb_val = emb_val.view(emb_val.shape[0], 1, height, width)\n",
    "\n",
    "# Verify the reshaped embeddings\n",
    "print(f\"Reshaped emb_train_50: {emb_train_50.shape}\")"
   ]
  },
  {
   "cell_type": "code",
   "execution_count": 20,
   "metadata": {},
   "outputs": [],
   "source": [
    "import torch.nn as nn\n",
    "\n",
    "if isinstance(model.network, nn.Sequential):\n",
    "    first_layer = model.network[0]\n",
    "    if isinstance(first_layer, nn.Conv2d):\n",
    "        model.network[0] = nn.Conv2d(\n",
    "            in_channels=1,\n",
    "            out_channels=first_layer.out_channels,\n",
    "            kernel_size=first_layer.kernel_size,\n",
    "            stride=first_layer.stride,\n",
    "            padding=first_layer.padding\n",
    "        )"
   ]
  },
  {
   "cell_type": "code",
   "execution_count": 21,
   "metadata": {},
   "outputs": [],
   "source": [
    "emb_train_50 = emb_train_50.repeat(1, 3, 1, 1) \n",
    "emb_val = emb_val.repeat(1, 3, 1, 1)"
   ]
  },
  {
   "cell_type": "code",
   "execution_count": 22,
   "metadata": {},
   "outputs": [],
   "source": [
    "import torch.nn as nn\n",
    "\n",
    "model.network.fc = nn.Linear(in_features=model.network.fc.in_features, out_features=1)"
   ]
  },
  {
   "cell_type": "code",
   "execution_count": 23,
   "metadata": {},
   "outputs": [
    {
     "name": "stderr",
     "output_type": "stream",
     "text": [
      "/opt/anaconda3/envs/opensoundscape_env/lib/python3.9/site-packages/opensoundscape/ml/shallow_classifier.py:110: UserWarning: To copy construct from a tensor, it is recommended to use sourceTensor.clone().detach() or sourceTensor.clone().detach().requires_grad_(True), rather than torch.tensor(sourceTensor).\n",
      "  train_features = torch.tensor(train_features, dtype=torch.float32, device=device)\n",
      "/opt/anaconda3/envs/opensoundscape_env/lib/python3.9/site-packages/opensoundscape/ml/shallow_classifier.py:115: UserWarning: To copy construct from a tensor, it is recommended to use sourceTensor.clone().detach() or sourceTensor.clone().detach().requires_grad_(True), rather than torch.tensor(sourceTensor).\n",
      "  validation_features = torch.tensor(\n"
     ]
    },
    {
     "name": "stdout",
     "output_type": "stream",
     "text": [
      "Epoch 100/1000, Loss: 1.853957655839622e-05, Val Loss: 1.2656500339508057\n",
      "val AU ROC: 0.876\n",
      "val MAP: 0.876\n",
      "Epoch 200/1000, Loss: 1.3351242159842514e-05, Val Loss: 1.3099684715270996\n",
      "val AU ROC: 0.863\n",
      "val MAP: 0.863\n",
      "Epoch 300/1000, Loss: 1.0452913556946442e-05, Val Loss: 1.3369420766830444\n",
      "val AU ROC: 0.863\n",
      "val MAP: 0.863\n",
      "Epoch 400/1000, Loss: 8.440234523732215e-06, Val Loss: 1.355016827583313\n",
      "val AU ROC: 0.863\n",
      "val MAP: 0.863\n",
      "Epoch 500/1000, Loss: 6.958532594580902e-06, Val Loss: 1.3721652030944824\n",
      "val AU ROC: 0.863\n",
      "val MAP: 0.863\n",
      "Epoch 600/1000, Loss: 5.866300398338353e-06, Val Loss: 1.387205719947815\n",
      "val AU ROC: 0.863\n",
      "val MAP: 0.863\n",
      "Epoch 700/1000, Loss: 5.012728706788039e-06, Val Loss: 1.3985899686813354\n",
      "val AU ROC: 0.863\n",
      "val MAP: 0.863\n",
      "Epoch 800/1000, Loss: 4.394451480038697e-06, Val Loss: 1.4081701040267944\n",
      "val AU ROC: 0.860\n",
      "val MAP: 0.860\n",
      "Epoch 900/1000, Loss: 3.867174200422596e-06, Val Loss: 1.419147253036499\n",
      "val AU ROC: 0.860\n",
      "val MAP: 0.860\n",
      "Epoch 1000/1000, Loss: 3.4006925488938577e-06, Val Loss: 1.428274154663086\n",
      "val AU ROC: 0.860\n",
      "val MAP: 0.860\n",
      "Training complete\n"
     ]
    }
   ],
   "source": [
    "quick_fit(model.network, emb_train_50, labels_trains['train_size_50'].values, emb_val, labels_val.values, steps=1000)"
   ]
  },
  {
   "cell_type": "code",
   "execution_count": 24,
   "metadata": {},
   "outputs": [
    {
     "name": "stderr",
     "output_type": "stream",
     "text": [
      "/var/folders/v4/chwhws6x79ncg51bwr5778b00000gn/T/ipykernel_56015/2687331274.py:2: UserWarning: To copy construct from a tensor, it is recommended to use sourceTensor.clone().detach() or sourceTensor.clone().detach().requires_grad_(True), rather than torch.tensor(sourceTensor).\n",
      "  preds = model.network(torch.tensor(emb_val).float()).detach().numpy()\n"
     ]
    },
    {
     "data": {
      "text/plain": [
       "0.8933333333333333"
      ]
     },
     "execution_count": 24,
     "metadata": {},
     "output_type": "execute_result"
    },
    {
     "data": {
      "image/png": "[encoded data removed]",
      "text/plain": [
       "<Figure size 1500x500 with 1 Axes>"
      ]
     },
     "metadata": {
      "image/png": {
       "height": 428,
       "width": 1201
      }
     },
     "output_type": "display_data"
    }
   ],
   "source": [
    "# make predictions by passing the embeddings through the classifier\n",
    "preds = model.network(torch.tensor(emb_val).float()).detach().numpy()\n",
    "\n",
    "# plot histogram of scores for positive and negative clips\n",
    "plt.hist(preds[labels_val==True],bins=20,alpha=0.5,label='positives')\n",
    "plt.hist(preds[labels_val==False],bins=20,alpha=0.5,label='negatives')\n",
    "plt.legend()\n",
    "\n",
    "# calculate the area under the ROC score\n",
    "roc_auc_score_50 = roc_auc_score(labels_val.values,preds,average=None)\n",
    "roc_auc_score_50"
   ]
  },
  {
   "cell_type": "markdown",
   "metadata": {},
   "source": [
    "Training size 60"
   ]
  },
  {
   "cell_type": "code",
   "execution_count": 25,
   "metadata": {},
   "outputs": [
    {
     "name": "stderr",
     "output_type": "stream",
     "text": [
      "Using cache found in /Users/yifeitao/.cache/torch/hub/kitzeslab_bioacoustics-model-zoo_main\n"
     ]
    }
   ],
   "source": [
    "model = torch.hub.load('kitzeslab/bioacoustics-model-zoo','rana_sierrae_cnn',trust_repo=True)"
   ]
  },
  {
   "cell_type": "code",
   "execution_count": 26,
   "metadata": {},
   "outputs": [
    {
     "data": {
      "application/vnd.jupyter.widget-view+json": {
       "model_id": "6cc4487fb074406cb4b2d7a6cd39fbda",
       "version_major": 2,
       "version_minor": 0
      },
      "text/plain": [
       "  0%|          | 0/1 [00:00<?, ?it/s]"
      ]
     },
     "metadata": {},
     "output_type": "display_data"
    },
    {
     "name": "stderr",
     "output_type": "stream",
     "text": [
      "/opt/anaconda3/envs/opensoundscape_env/lib/python3.9/site-packages/opensoundscape/audio.py:1725: UserWarning: Audio object is shorter than requested duration: 4.995 sec instead of 5.0 sec\n",
      "  warnings.warn(error_msg)\n"
     ]
    }
   ],
   "source": [
    "emb_val = model.embed(labels_val, return_dfs=False, batch_size=32, num_workers=0)"
   ]
  },
  {
   "cell_type": "code",
   "execution_count": 27,
   "metadata": {},
   "outputs": [
    {
     "data": {
      "application/vnd.jupyter.widget-view+json": {
       "model_id": "2c87c8c98de34e2680c075b807592ef1",
       "version_major": 2,
       "version_minor": 0
      },
      "text/plain": [
       "  0%|          | 0/4 [00:00<?, ?it/s]"
      ]
     },
     "metadata": {},
     "output_type": "display_data"
    },
    {
     "name": "stderr",
     "output_type": "stream",
     "text": [
      "/opt/anaconda3/envs/opensoundscape_env/lib/python3.9/site-packages/opensoundscape/audio.py:1725: UserWarning: Audio object is shorter than requested duration: 4.999833333333333 sec instead of 5.0 sec\n",
      "  warnings.warn(error_msg)\n",
      "/opt/anaconda3/envs/opensoundscape_env/lib/python3.9/site-packages/opensoundscape/audio.py:1725: UserWarning: Audio object is shorter than requested duration: 4.999833333333333 sec instead of 5.0 sec\n",
      "  warnings.warn(error_msg)\n",
      "/opt/anaconda3/envs/opensoundscape_env/lib/python3.9/site-packages/opensoundscape/audio.py:1725: UserWarning: Audio object is shorter than requested duration: 4.999833333333333 sec instead of 5.0 sec\n",
      "  warnings.warn(error_msg)\n",
      "/opt/anaconda3/envs/opensoundscape_env/lib/python3.9/site-packages/opensoundscape/audio.py:1725: UserWarning: Audio object is shorter than requested duration: 4.999833333333333 sec instead of 5.0 sec\n",
      "  warnings.warn(error_msg)\n",
      "/opt/anaconda3/envs/opensoundscape_env/lib/python3.9/site-packages/opensoundscape/audio.py:1725: UserWarning: Audio object is shorter than requested duration: 4.999833333333333 sec instead of 5.0 sec\n",
      "  warnings.warn(error_msg)\n",
      "/opt/anaconda3/envs/opensoundscape_env/lib/python3.9/site-packages/opensoundscape/audio.py:1725: UserWarning: Audio object is shorter than requested duration: 4.999833333333333 sec instead of 5.0 sec\n",
      "  warnings.warn(error_msg)\n",
      "/opt/anaconda3/envs/opensoundscape_env/lib/python3.9/site-packages/opensoundscape/audio.py:1725: UserWarning: Audio object is shorter than requested duration: 4.999833333333333 sec instead of 5.0 sec\n",
      "  warnings.warn(error_msg)\n",
      "/opt/anaconda3/envs/opensoundscape_env/lib/python3.9/site-packages/opensoundscape/audio.py:1725: UserWarning: Audio object is shorter than requested duration: 4.999833333333333 sec instead of 5.0 sec\n",
      "  warnings.warn(error_msg)\n",
      "/opt/anaconda3/envs/opensoundscape_env/lib/python3.9/site-packages/opensoundscape/audio.py:1725: UserWarning: Audio object is shorter than requested duration: 4.999833333333333 sec instead of 5.0 sec\n",
      "  warnings.warn(error_msg)\n",
      "/opt/anaconda3/envs/opensoundscape_env/lib/python3.9/site-packages/opensoundscape/audio.py:1725: UserWarning: Audio object is shorter than requested duration: 4.999833333333333 sec instead of 5.0 sec\n",
      "  warnings.warn(error_msg)\n",
      "/opt/anaconda3/envs/opensoundscape_env/lib/python3.9/site-packages/opensoundscape/audio.py:1725: UserWarning: Audio object is shorter than requested duration: 4.999833333333333 sec instead of 5.0 sec\n",
      "  warnings.warn(error_msg)\n",
      "/opt/anaconda3/envs/opensoundscape_env/lib/python3.9/site-packages/opensoundscape/audio.py:1725: UserWarning: Audio object is shorter than requested duration: 4.999833333333333 sec instead of 5.0 sec\n",
      "  warnings.warn(error_msg)\n",
      "/opt/anaconda3/envs/opensoundscape_env/lib/python3.9/site-packages/opensoundscape/audio.py:1725: UserWarning: Audio object is shorter than requested duration: 4.999833333333333 sec instead of 5.0 sec\n",
      "  warnings.warn(error_msg)\n",
      "/opt/anaconda3/envs/opensoundscape_env/lib/python3.9/site-packages/opensoundscape/audio.py:1725: UserWarning: Audio object is shorter than requested duration: 4.999833333333333 sec instead of 5.0 sec\n",
      "  warnings.warn(error_msg)\n",
      "/opt/anaconda3/envs/opensoundscape_env/lib/python3.9/site-packages/opensoundscape/audio.py:1725: UserWarning: Audio object is shorter than requested duration: 4.999833333333333 sec instead of 5.0 sec\n",
      "  warnings.warn(error_msg)\n",
      "/opt/anaconda3/envs/opensoundscape_env/lib/python3.9/site-packages/opensoundscape/audio.py:1725: UserWarning: Audio object is shorter than requested duration: 4.999833333333333 sec instead of 5.0 sec\n",
      "  warnings.warn(error_msg)\n",
      "/opt/anaconda3/envs/opensoundscape_env/lib/python3.9/site-packages/opensoundscape/audio.py:1725: UserWarning: Audio object is shorter than requested duration: 4.999833333333333 sec instead of 5.0 sec\n",
      "  warnings.warn(error_msg)\n",
      "/opt/anaconda3/envs/opensoundscape_env/lib/python3.9/site-packages/opensoundscape/audio.py:1725: UserWarning: Audio object is shorter than requested duration: 4.999833333333333 sec instead of 5.0 sec\n",
      "  warnings.warn(error_msg)\n",
      "/opt/anaconda3/envs/opensoundscape_env/lib/python3.9/site-packages/opensoundscape/audio.py:1725: UserWarning: Audio object is shorter than requested duration: 4.999833333333333 sec instead of 5.0 sec\n",
      "  warnings.warn(error_msg)\n",
      "/opt/anaconda3/envs/opensoundscape_env/lib/python3.9/site-packages/opensoundscape/audio.py:1725: UserWarning: Audio object is shorter than requested duration: 4.999833333333333 sec instead of 5.0 sec\n",
      "  warnings.warn(error_msg)\n",
      "/opt/anaconda3/envs/opensoundscape_env/lib/python3.9/site-packages/opensoundscape/audio.py:1725: UserWarning: Audio object is shorter than requested duration: 4.999833333333333 sec instead of 5.0 sec\n",
      "  warnings.warn(error_msg)\n",
      "/opt/anaconda3/envs/opensoundscape_env/lib/python3.9/site-packages/opensoundscape/audio.py:1725: UserWarning: Audio object is shorter than requested duration: 4.999833333333333 sec instead of 5.0 sec\n",
      "  warnings.warn(error_msg)\n",
      "/opt/anaconda3/envs/opensoundscape_env/lib/python3.9/site-packages/opensoundscape/audio.py:1725: UserWarning: Audio object is shorter than requested duration: 4.999833333333333 sec instead of 5.0 sec\n",
      "  warnings.warn(error_msg)\n",
      "/opt/anaconda3/envs/opensoundscape_env/lib/python3.9/site-packages/opensoundscape/audio.py:1725: UserWarning: Audio object is shorter than requested duration: 4.999833333333333 sec instead of 5.0 sec\n",
      "  warnings.warn(error_msg)\n",
      "/opt/anaconda3/envs/opensoundscape_env/lib/python3.9/site-packages/opensoundscape/audio.py:1725: UserWarning: Audio object is shorter than requested duration: 4.999833333333333 sec instead of 5.0 sec\n",
      "  warnings.warn(error_msg)\n",
      "/opt/anaconda3/envs/opensoundscape_env/lib/python3.9/site-packages/opensoundscape/audio.py:1725: UserWarning: Audio object is shorter than requested duration: 4.999833333333333 sec instead of 5.0 sec\n",
      "  warnings.warn(error_msg)\n",
      "/opt/anaconda3/envs/opensoundscape_env/lib/python3.9/site-packages/opensoundscape/audio.py:1725: UserWarning: Audio object is shorter than requested duration: 4.999833333333333 sec instead of 5.0 sec\n",
      "  warnings.warn(error_msg)\n",
      "/opt/anaconda3/envs/opensoundscape_env/lib/python3.9/site-packages/opensoundscape/audio.py:1725: UserWarning: Audio object is shorter than requested duration: 4.999833333333333 sec instead of 5.0 sec\n",
      "  warnings.warn(error_msg)\n",
      "/opt/anaconda3/envs/opensoundscape_env/lib/python3.9/site-packages/opensoundscape/audio.py:1725: UserWarning: Audio object is shorter than requested duration: 4.999833333333333 sec instead of 5.0 sec\n",
      "  warnings.warn(error_msg)\n",
      "/opt/anaconda3/envs/opensoundscape_env/lib/python3.9/site-packages/opensoundscape/audio.py:1725: UserWarning: Audio object is shorter than requested duration: 4.999833333333333 sec instead of 5.0 sec\n",
      "  warnings.warn(error_msg)\n",
      "/opt/anaconda3/envs/opensoundscape_env/lib/python3.9/site-packages/opensoundscape/audio.py:1725: UserWarning: Audio object is shorter than requested duration: 4.999833333333333 sec instead of 5.0 sec\n",
      "  warnings.warn(error_msg)\n",
      "/opt/anaconda3/envs/opensoundscape_env/lib/python3.9/site-packages/opensoundscape/audio.py:1725: UserWarning: Audio object is shorter than requested duration: 4.999833333333333 sec instead of 5.0 sec\n",
      "  warnings.warn(error_msg)\n",
      "/opt/anaconda3/envs/opensoundscape_env/lib/python3.9/site-packages/opensoundscape/audio.py:1725: UserWarning: Audio object is shorter than requested duration: 4.999833333333333 sec instead of 5.0 sec\n",
      "  warnings.warn(error_msg)\n",
      "/opt/anaconda3/envs/opensoundscape_env/lib/python3.9/site-packages/opensoundscape/audio.py:1725: UserWarning: Audio object is shorter than requested duration: 4.999833333333333 sec instead of 5.0 sec\n",
      "  warnings.warn(error_msg)\n",
      "/opt/anaconda3/envs/opensoundscape_env/lib/python3.9/site-packages/opensoundscape/audio.py:1725: UserWarning: Audio object is shorter than requested duration: 4.999833333333333 sec instead of 5.0 sec\n",
      "  warnings.warn(error_msg)\n",
      "/opt/anaconda3/envs/opensoundscape_env/lib/python3.9/site-packages/opensoundscape/audio.py:1725: UserWarning: Audio object is shorter than requested duration: 4.999833333333333 sec instead of 5.0 sec\n",
      "  warnings.warn(error_msg)\n",
      "/opt/anaconda3/envs/opensoundscape_env/lib/python3.9/site-packages/opensoundscape/audio.py:1725: UserWarning: Audio object is shorter than requested duration: 4.999833333333333 sec instead of 5.0 sec\n",
      "  warnings.warn(error_msg)\n",
      "/opt/anaconda3/envs/opensoundscape_env/lib/python3.9/site-packages/opensoundscape/audio.py:1725: UserWarning: Audio object is shorter than requested duration: 4.999833333333333 sec instead of 5.0 sec\n",
      "  warnings.warn(error_msg)\n",
      "/opt/anaconda3/envs/opensoundscape_env/lib/python3.9/site-packages/opensoundscape/audio.py:1725: UserWarning: Audio object is shorter than requested duration: 4.999833333333333 sec instead of 5.0 sec\n",
      "  warnings.warn(error_msg)\n",
      "/opt/anaconda3/envs/opensoundscape_env/lib/python3.9/site-packages/opensoundscape/audio.py:1725: UserWarning: Audio object is shorter than requested duration: 4.999833333333333 sec instead of 5.0 sec\n",
      "  warnings.warn(error_msg)\n",
      "/opt/anaconda3/envs/opensoundscape_env/lib/python3.9/site-packages/opensoundscape/audio.py:1725: UserWarning: Audio object is shorter than requested duration: 4.999833333333333 sec instead of 5.0 sec\n",
      "  warnings.warn(error_msg)\n",
      "/opt/anaconda3/envs/opensoundscape_env/lib/python3.9/site-packages/opensoundscape/audio.py:1725: UserWarning: Audio object is shorter than requested duration: 4.999833333333333 sec instead of 5.0 sec\n",
      "  warnings.warn(error_msg)\n",
      "/opt/anaconda3/envs/opensoundscape_env/lib/python3.9/site-packages/opensoundscape/audio.py:1725: UserWarning: Audio object is shorter than requested duration: 4.999833333333333 sec instead of 5.0 sec\n",
      "  warnings.warn(error_msg)\n",
      "/opt/anaconda3/envs/opensoundscape_env/lib/python3.9/site-packages/opensoundscape/audio.py:1725: UserWarning: Audio object is shorter than requested duration: 4.999833333333333 sec instead of 5.0 sec\n",
      "  warnings.warn(error_msg)\n",
      "/opt/anaconda3/envs/opensoundscape_env/lib/python3.9/site-packages/opensoundscape/audio.py:1725: UserWarning: Audio object is shorter than requested duration: 4.999833333333333 sec instead of 5.0 sec\n",
      "  warnings.warn(error_msg)\n",
      "/opt/anaconda3/envs/opensoundscape_env/lib/python3.9/site-packages/opensoundscape/audio.py:1725: UserWarning: Audio object is shorter than requested duration: 4.999833333333333 sec instead of 5.0 sec\n",
      "  warnings.warn(error_msg)\n",
      "/opt/anaconda3/envs/opensoundscape_env/lib/python3.9/site-packages/opensoundscape/audio.py:1725: UserWarning: Audio object is shorter than requested duration: 4.999833333333333 sec instead of 5.0 sec\n",
      "  warnings.warn(error_msg)\n",
      "/opt/anaconda3/envs/opensoundscape_env/lib/python3.9/site-packages/opensoundscape/audio.py:1725: UserWarning: Audio object is shorter than requested duration: 4.999833333333333 sec instead of 5.0 sec\n",
      "  warnings.warn(error_msg)\n",
      "/opt/anaconda3/envs/opensoundscape_env/lib/python3.9/site-packages/opensoundscape/audio.py:1725: UserWarning: Audio object is shorter than requested duration: 4.999833333333333 sec instead of 5.0 sec\n",
      "  warnings.warn(error_msg)\n",
      "/opt/anaconda3/envs/opensoundscape_env/lib/python3.9/site-packages/opensoundscape/audio.py:1725: UserWarning: Audio object is shorter than requested duration: 4.999833333333333 sec instead of 5.0 sec\n",
      "  warnings.warn(error_msg)\n",
      "/opt/anaconda3/envs/opensoundscape_env/lib/python3.9/site-packages/opensoundscape/audio.py:1725: UserWarning: Audio object is shorter than requested duration: 4.999833333333333 sec instead of 5.0 sec\n",
      "  warnings.warn(error_msg)\n",
      "/opt/anaconda3/envs/opensoundscape_env/lib/python3.9/site-packages/opensoundscape/audio.py:1725: UserWarning: Audio object is shorter than requested duration: 4.999833333333333 sec instead of 5.0 sec\n",
      "  warnings.warn(error_msg)\n",
      "/opt/anaconda3/envs/opensoundscape_env/lib/python3.9/site-packages/opensoundscape/audio.py:1725: UserWarning: Audio object is shorter than requested duration: 4.999833333333333 sec instead of 5.0 sec\n",
      "  warnings.warn(error_msg)\n",
      "/opt/anaconda3/envs/opensoundscape_env/lib/python3.9/site-packages/opensoundscape/audio.py:1725: UserWarning: Audio object is shorter than requested duration: 4.999833333333333 sec instead of 5.0 sec\n",
      "  warnings.warn(error_msg)\n",
      "/opt/anaconda3/envs/opensoundscape_env/lib/python3.9/site-packages/opensoundscape/audio.py:1725: UserWarning: Audio object is shorter than requested duration: 4.999833333333333 sec instead of 5.0 sec\n",
      "  warnings.warn(error_msg)\n",
      "/opt/anaconda3/envs/opensoundscape_env/lib/python3.9/site-packages/opensoundscape/audio.py:1725: UserWarning: Audio object is shorter than requested duration: 4.999833333333333 sec instead of 5.0 sec\n",
      "  warnings.warn(error_msg)\n",
      "/opt/anaconda3/envs/opensoundscape_env/lib/python3.9/site-packages/opensoundscape/audio.py:1725: UserWarning: Audio object is shorter than requested duration: 4.999833333333333 sec instead of 5.0 sec\n",
      "  warnings.warn(error_msg)\n",
      "/opt/anaconda3/envs/opensoundscape_env/lib/python3.9/site-packages/opensoundscape/audio.py:1725: UserWarning: Audio object is shorter than requested duration: 4.999833333333333 sec instead of 5.0 sec\n",
      "  warnings.warn(error_msg)\n",
      "/opt/anaconda3/envs/opensoundscape_env/lib/python3.9/site-packages/opensoundscape/audio.py:1725: UserWarning: Audio object is shorter than requested duration: 4.999833333333333 sec instead of 5.0 sec\n",
      "  warnings.warn(error_msg)\n",
      "/opt/anaconda3/envs/opensoundscape_env/lib/python3.9/site-packages/opensoundscape/audio.py:1725: UserWarning: Audio object is shorter than requested duration: 4.999833333333333 sec instead of 5.0 sec\n",
      "  warnings.warn(error_msg)\n",
      "/opt/anaconda3/envs/opensoundscape_env/lib/python3.9/site-packages/opensoundscape/audio.py:1725: UserWarning: Audio object is shorter than requested duration: 4.999833333333333 sec instead of 5.0 sec\n",
      "  warnings.warn(error_msg)\n",
      "/opt/anaconda3/envs/opensoundscape_env/lib/python3.9/site-packages/opensoundscape/audio.py:1725: UserWarning: Audio object is shorter than requested duration: 4.999833333333333 sec instead of 5.0 sec\n",
      "  warnings.warn(error_msg)\n",
      "/opt/anaconda3/envs/opensoundscape_env/lib/python3.9/site-packages/opensoundscape/audio.py:1725: UserWarning: Audio object is shorter than requested duration: 4.999833333333333 sec instead of 5.0 sec\n",
      "  warnings.warn(error_msg)\n",
      "/opt/anaconda3/envs/opensoundscape_env/lib/python3.9/site-packages/opensoundscape/audio.py:1725: UserWarning: Audio object is shorter than requested duration: 4.999833333333333 sec instead of 5.0 sec\n",
      "  warnings.warn(error_msg)\n",
      "/opt/anaconda3/envs/opensoundscape_env/lib/python3.9/site-packages/opensoundscape/audio.py:1725: UserWarning: Audio object is shorter than requested duration: 4.999833333333333 sec instead of 5.0 sec\n",
      "  warnings.warn(error_msg)\n",
      "/opt/anaconda3/envs/opensoundscape_env/lib/python3.9/site-packages/opensoundscape/audio.py:1725: UserWarning: Audio object is shorter than requested duration: 4.999833333333333 sec instead of 5.0 sec\n",
      "  warnings.warn(error_msg)\n",
      "/opt/anaconda3/envs/opensoundscape_env/lib/python3.9/site-packages/opensoundscape/audio.py:1725: UserWarning: Audio object is shorter than requested duration: 4.999833333333333 sec instead of 5.0 sec\n",
      "  warnings.warn(error_msg)\n",
      "/opt/anaconda3/envs/opensoundscape_env/lib/python3.9/site-packages/opensoundscape/audio.py:1725: UserWarning: Audio object is shorter than requested duration: 4.999833333333333 sec instead of 5.0 sec\n",
      "  warnings.warn(error_msg)\n",
      "/opt/anaconda3/envs/opensoundscape_env/lib/python3.9/site-packages/opensoundscape/audio.py:1725: UserWarning: Audio object is shorter than requested duration: 4.999833333333333 sec instead of 5.0 sec\n",
      "  warnings.warn(error_msg)\n",
      "/opt/anaconda3/envs/opensoundscape_env/lib/python3.9/site-packages/opensoundscape/audio.py:1725: UserWarning: Audio object is shorter than requested duration: 4.999833333333333 sec instead of 5.0 sec\n",
      "  warnings.warn(error_msg)\n",
      "/opt/anaconda3/envs/opensoundscape_env/lib/python3.9/site-packages/opensoundscape/audio.py:1725: UserWarning: Audio object is shorter than requested duration: 4.999833333333333 sec instead of 5.0 sec\n",
      "  warnings.warn(error_msg)\n",
      "/opt/anaconda3/envs/opensoundscape_env/lib/python3.9/site-packages/opensoundscape/audio.py:1725: UserWarning: Audio object is shorter than requested duration: 4.999833333333333 sec instead of 5.0 sec\n",
      "  warnings.warn(error_msg)\n",
      "/opt/anaconda3/envs/opensoundscape_env/lib/python3.9/site-packages/opensoundscape/audio.py:1725: UserWarning: Audio object is shorter than requested duration: 4.999833333333333 sec instead of 5.0 sec\n",
      "  warnings.warn(error_msg)\n",
      "/opt/anaconda3/envs/opensoundscape_env/lib/python3.9/site-packages/opensoundscape/audio.py:1725: UserWarning: Audio object is shorter than requested duration: 4.999833333333333 sec instead of 5.0 sec\n",
      "  warnings.warn(error_msg)\n",
      "/opt/anaconda3/envs/opensoundscape_env/lib/python3.9/site-packages/opensoundscape/audio.py:1725: UserWarning: Audio object is shorter than requested duration: 4.999833333333333 sec instead of 5.0 sec\n",
      "  warnings.warn(error_msg)\n",
      "/opt/anaconda3/envs/opensoundscape_env/lib/python3.9/site-packages/opensoundscape/audio.py:1725: UserWarning: Audio object is shorter than requested duration: 4.999833333333333 sec instead of 5.0 sec\n",
      "  warnings.warn(error_msg)\n",
      "/opt/anaconda3/envs/opensoundscape_env/lib/python3.9/site-packages/opensoundscape/audio.py:1725: UserWarning: Audio object is shorter than requested duration: 4.999833333333333 sec instead of 5.0 sec\n",
      "  warnings.warn(error_msg)\n",
      "/opt/anaconda3/envs/opensoundscape_env/lib/python3.9/site-packages/opensoundscape/audio.py:1725: UserWarning: Audio object is shorter than requested duration: 4.999833333333333 sec instead of 5.0 sec\n",
      "  warnings.warn(error_msg)\n",
      "/opt/anaconda3/envs/opensoundscape_env/lib/python3.9/site-packages/opensoundscape/audio.py:1725: UserWarning: Audio object is shorter than requested duration: 4.999833333333333 sec instead of 5.0 sec\n",
      "  warnings.warn(error_msg)\n",
      "/opt/anaconda3/envs/opensoundscape_env/lib/python3.9/site-packages/opensoundscape/audio.py:1725: UserWarning: Audio object is shorter than requested duration: 4.999833333333333 sec instead of 5.0 sec\n",
      "  warnings.warn(error_msg)\n",
      "/opt/anaconda3/envs/opensoundscape_env/lib/python3.9/site-packages/opensoundscape/audio.py:1725: UserWarning: Audio object is shorter than requested duration: 4.999833333333333 sec instead of 5.0 sec\n",
      "  warnings.warn(error_msg)\n",
      "/opt/anaconda3/envs/opensoundscape_env/lib/python3.9/site-packages/opensoundscape/audio.py:1725: UserWarning: Audio object is shorter than requested duration: 4.999833333333333 sec instead of 5.0 sec\n",
      "  warnings.warn(error_msg)\n",
      "/opt/anaconda3/envs/opensoundscape_env/lib/python3.9/site-packages/opensoundscape/audio.py:1725: UserWarning: Audio object is shorter than requested duration: 4.999833333333333 sec instead of 5.0 sec\n",
      "  warnings.warn(error_msg)\n",
      "/opt/anaconda3/envs/opensoundscape_env/lib/python3.9/site-packages/opensoundscape/audio.py:1725: UserWarning: Audio object is shorter than requested duration: 4.999833333333333 sec instead of 5.0 sec\n",
      "  warnings.warn(error_msg)\n",
      "/opt/anaconda3/envs/opensoundscape_env/lib/python3.9/site-packages/opensoundscape/audio.py:1725: UserWarning: Audio object is shorter than requested duration: 4.999833333333333 sec instead of 5.0 sec\n",
      "  warnings.warn(error_msg)\n",
      "/opt/anaconda3/envs/opensoundscape_env/lib/python3.9/site-packages/opensoundscape/audio.py:1725: UserWarning: Audio object is shorter than requested duration: 4.999833333333333 sec instead of 5.0 sec\n",
      "  warnings.warn(error_msg)\n",
      "/opt/anaconda3/envs/opensoundscape_env/lib/python3.9/site-packages/opensoundscape/audio.py:1725: UserWarning: Audio object is shorter than requested duration: 4.999833333333333 sec instead of 5.0 sec\n",
      "  warnings.warn(error_msg)\n",
      "/opt/anaconda3/envs/opensoundscape_env/lib/python3.9/site-packages/opensoundscape/audio.py:1725: UserWarning: Audio object is shorter than requested duration: 4.999833333333333 sec instead of 5.0 sec\n",
      "  warnings.warn(error_msg)\n",
      "/opt/anaconda3/envs/opensoundscape_env/lib/python3.9/site-packages/opensoundscape/audio.py:1725: UserWarning: Audio object is shorter than requested duration: 4.999833333333333 sec instead of 5.0 sec\n",
      "  warnings.warn(error_msg)\n",
      "/opt/anaconda3/envs/opensoundscape_env/lib/python3.9/site-packages/opensoundscape/audio.py:1725: UserWarning: Audio object is shorter than requested duration: 4.999833333333333 sec instead of 5.0 sec\n",
      "  warnings.warn(error_msg)\n",
      "/opt/anaconda3/envs/opensoundscape_env/lib/python3.9/site-packages/opensoundscape/audio.py:1725: UserWarning: Audio object is shorter than requested duration: 4.999833333333333 sec instead of 5.0 sec\n",
      "  warnings.warn(error_msg)\n",
      "/opt/anaconda3/envs/opensoundscape_env/lib/python3.9/site-packages/opensoundscape/audio.py:1725: UserWarning: Audio object is shorter than requested duration: 4.999833333333333 sec instead of 5.0 sec\n",
      "  warnings.warn(error_msg)\n",
      "/opt/anaconda3/envs/opensoundscape_env/lib/python3.9/site-packages/opensoundscape/audio.py:1725: UserWarning: Audio object is shorter than requested duration: 4.999833333333333 sec instead of 5.0 sec\n",
      "  warnings.warn(error_msg)\n",
      "/opt/anaconda3/envs/opensoundscape_env/lib/python3.9/site-packages/opensoundscape/audio.py:1725: UserWarning: Audio object is shorter than requested duration: 4.999833333333333 sec instead of 5.0 sec\n",
      "  warnings.warn(error_msg)\n",
      "/opt/anaconda3/envs/opensoundscape_env/lib/python3.9/site-packages/opensoundscape/audio.py:1725: UserWarning: Audio object is shorter than requested duration: 4.999833333333333 sec instead of 5.0 sec\n",
      "  warnings.warn(error_msg)\n",
      "/opt/anaconda3/envs/opensoundscape_env/lib/python3.9/site-packages/opensoundscape/audio.py:1725: UserWarning: Audio object is shorter than requested duration: 4.999833333333333 sec instead of 5.0 sec\n",
      "  warnings.warn(error_msg)\n",
      "/opt/anaconda3/envs/opensoundscape_env/lib/python3.9/site-packages/opensoundscape/audio.py:1725: UserWarning: Audio object is shorter than requested duration: 4.999833333333333 sec instead of 5.0 sec\n",
      "  warnings.warn(error_msg)\n",
      "/opt/anaconda3/envs/opensoundscape_env/lib/python3.9/site-packages/opensoundscape/audio.py:1725: UserWarning: Audio object is shorter than requested duration: 4.999833333333333 sec instead of 5.0 sec\n",
      "  warnings.warn(error_msg)\n",
      "/opt/anaconda3/envs/opensoundscape_env/lib/python3.9/site-packages/opensoundscape/audio.py:1725: UserWarning: Audio object is shorter than requested duration: 4.999833333333333 sec instead of 5.0 sec\n",
      "  warnings.warn(error_msg)\n",
      "/opt/anaconda3/envs/opensoundscape_env/lib/python3.9/site-packages/opensoundscape/audio.py:1725: UserWarning: Audio object is shorter than requested duration: 4.999833333333333 sec instead of 5.0 sec\n",
      "  warnings.warn(error_msg)\n",
      "/opt/anaconda3/envs/opensoundscape_env/lib/python3.9/site-packages/opensoundscape/audio.py:1725: UserWarning: Audio object is shorter than requested duration: 4.999833333333333 sec instead of 5.0 sec\n",
      "  warnings.warn(error_msg)\n",
      "/opt/anaconda3/envs/opensoundscape_env/lib/python3.9/site-packages/opensoundscape/audio.py:1725: UserWarning: Audio object is shorter than requested duration: 4.999833333333333 sec instead of 5.0 sec\n",
      "  warnings.warn(error_msg)\n",
      "/opt/anaconda3/envs/opensoundscape_env/lib/python3.9/site-packages/opensoundscape/audio.py:1725: UserWarning: Audio object is shorter than requested duration: 4.999833333333333 sec instead of 5.0 sec\n",
      "  warnings.warn(error_msg)\n",
      "/opt/anaconda3/envs/opensoundscape_env/lib/python3.9/site-packages/opensoundscape/audio.py:1725: UserWarning: Audio object is shorter than requested duration: 4.999833333333333 sec instead of 5.0 sec\n",
      "  warnings.warn(error_msg)\n",
      "/opt/anaconda3/envs/opensoundscape_env/lib/python3.9/site-packages/opensoundscape/audio.py:1725: UserWarning: Audio object is shorter than requested duration: 4.999833333333333 sec instead of 5.0 sec\n",
      "  warnings.warn(error_msg)\n",
      "/opt/anaconda3/envs/opensoundscape_env/lib/python3.9/site-packages/opensoundscape/audio.py:1725: UserWarning: Audio object is shorter than requested duration: 4.999833333333333 sec instead of 5.0 sec\n",
      "  warnings.warn(error_msg)\n",
      "/opt/anaconda3/envs/opensoundscape_env/lib/python3.9/site-packages/opensoundscape/audio.py:1725: UserWarning: Audio object is shorter than requested duration: 4.999833333333333 sec instead of 5.0 sec\n",
      "  warnings.warn(error_msg)\n",
      "/opt/anaconda3/envs/opensoundscape_env/lib/python3.9/site-packages/opensoundscape/audio.py:1725: UserWarning: Audio object is shorter than requested duration: 4.999833333333333 sec instead of 5.0 sec\n",
      "  warnings.warn(error_msg)\n",
      "/opt/anaconda3/envs/opensoundscape_env/lib/python3.9/site-packages/opensoundscape/audio.py:1725: UserWarning: Audio object is shorter than requested duration: 4.999833333333333 sec instead of 5.0 sec\n",
      "  warnings.warn(error_msg)\n",
      "/opt/anaconda3/envs/opensoundscape_env/lib/python3.9/site-packages/opensoundscape/audio.py:1725: UserWarning: Audio object is shorter than requested duration: 4.999833333333333 sec instead of 5.0 sec\n",
      "  warnings.warn(error_msg)\n",
      "/opt/anaconda3/envs/opensoundscape_env/lib/python3.9/site-packages/opensoundscape/audio.py:1725: UserWarning: Audio object is shorter than requested duration: 4.999833333333333 sec instead of 5.0 sec\n",
      "  warnings.warn(error_msg)\n",
      "/opt/anaconda3/envs/opensoundscape_env/lib/python3.9/site-packages/opensoundscape/audio.py:1725: UserWarning: Audio object is shorter than requested duration: 4.999833333333333 sec instead of 5.0 sec\n",
      "  warnings.warn(error_msg)\n",
      "/opt/anaconda3/envs/opensoundscape_env/lib/python3.9/site-packages/opensoundscape/audio.py:1725: UserWarning: Audio object is shorter than requested duration: 4.999833333333333 sec instead of 5.0 sec\n",
      "  warnings.warn(error_msg)\n",
      "/opt/anaconda3/envs/opensoundscape_env/lib/python3.9/site-packages/opensoundscape/audio.py:1725: UserWarning: Audio object is shorter than requested duration: 4.999833333333333 sec instead of 5.0 sec\n",
      "  warnings.warn(error_msg)\n",
      "/opt/anaconda3/envs/opensoundscape_env/lib/python3.9/site-packages/opensoundscape/audio.py:1725: UserWarning: Audio object is shorter than requested duration: 4.999833333333333 sec instead of 5.0 sec\n",
      "  warnings.warn(error_msg)\n",
      "/opt/anaconda3/envs/opensoundscape_env/lib/python3.9/site-packages/opensoundscape/audio.py:1725: UserWarning: Audio object is shorter than requested duration: 4.999833333333333 sec instead of 5.0 sec\n",
      "  warnings.warn(error_msg)\n",
      "/opt/anaconda3/envs/opensoundscape_env/lib/python3.9/site-packages/opensoundscape/audio.py:1725: UserWarning: Audio object is shorter than requested duration: 4.999833333333333 sec instead of 5.0 sec\n",
      "  warnings.warn(error_msg)\n",
      "/opt/anaconda3/envs/opensoundscape_env/lib/python3.9/site-packages/opensoundscape/audio.py:1725: UserWarning: Audio object is shorter than requested duration: 4.999833333333333 sec instead of 5.0 sec\n",
      "  warnings.warn(error_msg)\n",
      "/opt/anaconda3/envs/opensoundscape_env/lib/python3.9/site-packages/opensoundscape/audio.py:1725: UserWarning: Audio object is shorter than requested duration: 4.999833333333333 sec instead of 5.0 sec\n",
      "  warnings.warn(error_msg)\n",
      "/opt/anaconda3/envs/opensoundscape_env/lib/python3.9/site-packages/opensoundscape/audio.py:1725: UserWarning: Audio object is shorter than requested duration: 4.999833333333333 sec instead of 5.0 sec\n",
      "  warnings.warn(error_msg)\n"
     ]
    }
   ],
   "source": [
    "emb_train_60 = model.embed(labels_trains['train_size_60'], return_dfs=False, batch_size=32, num_workers=0)"
   ]
  },
  {
   "cell_type": "code",
   "execution_count": 28,
   "metadata": {},
   "outputs": [
    {
     "name": "stdout",
     "output_type": "stream",
     "text": [
      "Original shape of emb_train: torch.Size([120, 512])\n",
      "Reshaped emb_train_75: torch.Size([120, 1, 32, 16])\n"
     ]
    }
   ],
   "source": [
    "emb_train_60 = torch.tensor(emb_train_60, dtype=torch.float32)\n",
    "emb_val = torch.tensor(emb_val, dtype=torch.float32)\n",
    "\n",
    "# Check the shape of the embeddings\n",
    "print(f\"Original shape of emb_train: {emb_train_60.shape}\")\n",
    "\n",
    "# Reshape embeddings to [batch_size, channels, height, width]\n",
    "height, width = 32, 16  # Ensure height * width = 512\n",
    "emb_train_60 = emb_train_60.view(emb_train_60.shape[0], 1, height, width)\n",
    "emb_val = emb_val.view(emb_val.shape[0], 1, height, width)\n",
    "\n",
    "# Verify the reshaped embeddings\n",
    "print(f\"Reshaped emb_train_75: {emb_train_60.shape}\")"
   ]
  },
  {
   "cell_type": "code",
   "execution_count": 29,
   "metadata": {},
   "outputs": [],
   "source": [
    "import torch.nn as nn\n",
    "\n",
    "if isinstance(model.network, nn.Sequential):\n",
    "    first_layer = model.network[0]\n",
    "    if isinstance(first_layer, nn.Conv2d):\n",
    "        model.network[0] = nn.Conv2d(\n",
    "            in_channels=1,\n",
    "            out_channels=first_layer.out_channels,\n",
    "            kernel_size=first_layer.kernel_size,\n",
    "            stride=first_layer.stride,\n",
    "            padding=first_layer.padding\n",
    "        )"
   ]
  },
  {
   "cell_type": "code",
   "execution_count": 30,
   "metadata": {},
   "outputs": [],
   "source": [
    "emb_train_60 = emb_train_60.repeat(1, 3, 1, 1) \n",
    "emb_val = emb_val.repeat(1, 3, 1, 1)"
   ]
  },
  {
   "cell_type": "code",
   "execution_count": 31,
   "metadata": {},
   "outputs": [],
   "source": [
    "model.network.fc = nn.Linear(in_features=model.network.fc.in_features, out_features=1)"
   ]
  },
  {
   "cell_type": "code",
   "execution_count": 32,
   "metadata": {},
   "outputs": [
    {
     "name": "stderr",
     "output_type": "stream",
     "text": [
      "/opt/anaconda3/envs/opensoundscape_env/lib/python3.9/site-packages/opensoundscape/ml/shallow_classifier.py:110: UserWarning: To copy construct from a tensor, it is recommended to use sourceTensor.clone().detach() or sourceTensor.clone().detach().requires_grad_(True), rather than torch.tensor(sourceTensor).\n",
      "  train_features = torch.tensor(train_features, dtype=torch.float32, device=device)\n",
      "/opt/anaconda3/envs/opensoundscape_env/lib/python3.9/site-packages/opensoundscape/ml/shallow_classifier.py:115: UserWarning: To copy construct from a tensor, it is recommended to use sourceTensor.clone().detach() or sourceTensor.clone().detach().requires_grad_(True), rather than torch.tensor(sourceTensor).\n",
      "  validation_features = torch.tensor(\n"
     ]
    },
    {
     "name": "stdout",
     "output_type": "stream",
     "text": [
      "Epoch 100/1000, Loss: 3.286932042101398e-05, Val Loss: 1.0396445989608765\n",
      "val AU ROC: 0.912\n",
      "val MAP: 0.912\n",
      "Epoch 200/1000, Loss: 2.1240612113615498e-05, Val Loss: 1.050959825515747\n",
      "val AU ROC: 0.912\n",
      "val MAP: 0.912\n",
      "Epoch 300/1000, Loss: 1.6152076568687335e-05, Val Loss: 1.0588812828063965\n",
      "val AU ROC: 0.918\n",
      "val MAP: 0.918\n",
      "Epoch 400/1000, Loss: 1.3047294487478212e-05, Val Loss: 1.0658270120620728\n",
      "val AU ROC: 0.912\n",
      "val MAP: 0.912\n",
      "Epoch 500/1000, Loss: 1.0925917194981594e-05, Val Loss: 1.06918203830719\n",
      "val AU ROC: 0.917\n",
      "val MAP: 0.917\n",
      "Epoch 600/1000, Loss: 9.26483244256815e-06, Val Loss: 1.0718841552734375\n",
      "val AU ROC: 0.917\n",
      "val MAP: 0.917\n",
      "Epoch 700/1000, Loss: 8.012965736270417e-06, Val Loss: 1.0755350589752197\n",
      "val AU ROC: 0.917\n",
      "val MAP: 0.917\n",
      "Epoch 800/1000, Loss: 7.01698172633769e-06, Val Loss: 1.0803407430648804\n",
      "val AU ROC: 0.917\n",
      "val MAP: 0.917\n",
      "Epoch 900/1000, Loss: 6.171637778606964e-06, Val Loss: 1.08567476272583\n",
      "val AU ROC: 0.917\n",
      "val MAP: 0.917\n",
      "Epoch 1000/1000, Loss: 5.475505076901754e-06, Val Loss: 1.091793417930603\n",
      "val AU ROC: 0.917\n",
      "val MAP: 0.917\n",
      "Training complete\n"
     ]
    }
   ],
   "source": [
    "quick_fit(model.network, emb_train_60, labels_trains['train_size_60'].values, emb_val, labels_val.values, steps=1000)"
   ]
  },
  {
   "cell_type": "code",
   "execution_count": 36,
   "metadata": {},
   "outputs": [
    {
     "name": "stderr",
     "output_type": "stream",
     "text": [
      "/var/folders/v4/chwhws6x79ncg51bwr5778b00000gn/T/ipykernel_56015/2177947806.py:2: UserWarning: To copy construct from a tensor, it is recommended to use sourceTensor.clone().detach() or sourceTensor.clone().detach().requires_grad_(True), rather than torch.tensor(sourceTensor).\n",
      "  preds = model.network(torch.tensor(emb_val).float()).detach().numpy()\n"
     ]
    },
    {
     "data": {
      "text/plain": [
       "0.8977777777777778"
      ]
     },
     "execution_count": 36,
     "metadata": {},
     "output_type": "execute_result"
    },
    {
     "data": {
      "image/png": "[encoded data removed]",
      "text/plain": [
       "<Figure size 1500x500 with 1 Axes>"
      ]
     },
     "metadata": {
      "image/png": {
       "height": 428,
       "width": 1201
      }
     },
     "output_type": "display_data"
    }
   ],
   "source": [
    "# make predictions by passing the embeddings through the classifier\n",
    "preds = model.network(torch.tensor(emb_val).float()).detach().numpy()\n",
    "\n",
    "# plot histogram of scores for positive and negative clips\n",
    "plt.hist(preds[labels_val==True],bins=20,alpha=0.5,label='positives')\n",
    "plt.hist(preds[labels_val==False],bins=20,alpha=0.5,label='negatives')\n",
    "plt.legend()\n",
    "\n",
    "# calculate the area under the ROC score\n",
    "roc_auc_score_60 = roc_auc_score(labels_val.values,preds,average=None)\n",
    "roc_auc_score_60"
   ]
  },
  {
   "cell_type": "code",
   "execution_count": 37,
   "metadata": {},
   "outputs": [
    {
     "data": {
      "image/png": "[encoded data removed]",
      "text/plain": [
       "<Figure size 800x500 with 1 Axes>"
      ]
     },
     "metadata": {
      "image/png": {
       "height": 469,
       "width": 709
      }
     },
     "output_type": "display_data"
    }
   ],
   "source": [
    "training_sizes = []\n",
    "roc_auc_scores = []\n",
    "\n",
    "# Iterate over training sizes and collect the scores\n",
    "for size in range(25, 51, 25):\n",
    "    score = eval(f\"roc_auc_score_{size}\")\n",
    "    training_sizes.append(size)\n",
    "    roc_auc_scores.append(score)\n",
    "training_sizes.append(60)\n",
    "roc_auc_scores.append(eval(f\"roc_auc_score_{60}\"))\n",
    "\n",
    "# Create a DataFrame\n",
    "df = pd.DataFrame({\"Training Size\": training_sizes, \"ROC AUC Score\": roc_auc_scores})\n",
    "\n",
    "\n",
    "# Plot a line plot\n",
    "plt.figure(figsize=(8, 5))\n",
    "plt.plot(df[\"Training Size\"], df[\"ROC AUC Score\"], marker='o', linestyle='-')\n",
    "plt.title(\"ROC AUC Score vs. Training Size\")\n",
    "plt.xlabel(\"Training Size\")\n",
    "plt.ylabel(\"ROC AUC Score\")\n",
    "plt.grid(True)\n",
    "plt.show()"
   ]
  }
 ],
 "metadata": {
  "kernelspec": {
   "display_name": "opensoundscape_env",
   "language": "python",
   "name": "python3"
  },
  "language_info": {
   "codemirror_mode": {
    "name": "ipython",
    "version": 3
   },
   "file_extension": ".py",
   "mimetype": "text/x-python",
   "name": "python",
   "nbconvert_exporter": "python",
   "pygments_lexer": "ipython3",
   "version": "3.9.20"
  }
 },
 "nbformat": 4,
 "nbformat_minor": 2
}
